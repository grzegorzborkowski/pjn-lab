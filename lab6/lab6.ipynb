{
 "cells": [
  {
   "cell_type": "code",
   "execution_count": 19,
   "metadata": {
    "collapsed": true
   },
   "outputs": [],
   "source": [
    "import tqdm, json, os, re, operator\n",
    "import string, pprint, itertools, seaborn, collections, numpy as np, csv, requests, nltk\n",
    "import JudgmentsProcessor\n",
    "import JudgmentsClassifier"
   ]
  },
  {
   "cell_type": "code",
   "execution_count": 20,
   "metadata": {
    "collapsed": true
   },
   "outputs": [],
   "source": [
    "def process_judgment(judgment):\n",
    "    data_to_query = (\",\").join(judgment)\n",
    "    r = requests.post(data=data_to_query.encode(\"utf-8\"), url=\"http://localhost:9200\")\n",
    "    response_text = r.text\n",
    "    splited_response = response_text.splitlines()\n",
    "    splited_response = [\" \".join(x.replace(\"\\t\", \" \").replace(\"none\", \"\")[1:].split(\":\")[:2][:1]).replace(\" \", \":\")\n",
    "                        for x in splited_response if \":\" in x]\n",
    "    splited_response = [x.split(\":\")[0] for x in splited_response]\n",
    "    return splited_response\n",
    "\n",
    "judgments = []\n",
    "signatures = []\n",
    "judgment_succeeded = []\n",
    "\n",
    "def read_file(file_path, is_transforming=False):\n",
    "   \n",
    "    print (\"Processing file\" + file_path)\n",
    "    with open (file_path) as file:\n",
    "        json_content = json.load(file)\n",
    "        item_count = 0\n",
    "        for item in tqdm.tqdm(json_content):\n",
    "            judgment = []\n",
    "            if item['courtType'] in ['COMMON', 'SUPREME']:\n",
    "                courtCases = item['courtCases']\n",
    "                signatures_for_judgment = []\n",
    "                for courtCase in courtCases:\n",
    "                    signature = courtCase['caseNumber']\n",
    "                    signatures_for_judgment.append(signature)\n",
    "                signatures.append(signatures_for_judgment)\n",
    "                item_count += 1\n",
    "                text_content = re.sub(\"<.*?>\", \"\", item[\"textContent\"])\n",
    "                text_content = text_content.replace('-\\n', '')\n",
    "                word_content = text_content.split()\n",
    "                topicSpecificPunctuation = '„”–§…«»'\n",
    "                translator = str.maketrans('', '', string.punctuation+topicSpecificPunctuation)\n",
    "\n",
    "                for word in word_content:\n",
    "                    word = word.translate(translator).lower()\n",
    "                    if len(word)>0:\n",
    "                        judgment.append(word)\n",
    "                if not is_transforming:\n",
    "                    judgments.append(judgment)\n",
    "                else:\n",
    "                    processed = process_judgment(judgment)\n",
    "                    judgments.append(processed)\n",
    "                    judgment_succeeded.append(len(judgment) > 0)"
   ]
  },
  {
   "cell_type": "code",
   "execution_count": 21,
   "metadata": {
    "collapsed": true
   },
   "outputs": [],
   "source": [
    "def read_all_judgments_from_2018(is_transforming=False):\n",
    "        for filename in os.listdir(\"../data_filtered_2/\"):\n",
    "            read_file(\"../data_filtered_2/\" + filename, is_transforming)"
   ]
  },
  {
   "cell_type": "code",
   "execution_count": 22,
   "metadata": {},
   "outputs": [
    {
     "name": "stderr",
     "output_type": "stream",
     "text": [
      "100%|██████████| 9/9 [00:00<00:00, 242.13it/s]\n",
      " 47%|████▋     | 47/100 [00:00<00:00, 431.51it/s]"
     ]
    },
    {
     "name": "stdout",
     "output_type": "stream",
     "text": [
      "Processing file../data_filtered_2/judgments-3163.json\n",
      "Processing file../data_filtered_2/judgments-3168.json\n"
     ]
    },
    {
     "name": "stderr",
     "output_type": "stream",
     "text": [
      "100%|██████████| 100/100 [00:00<00:00, 343.01it/s]\n",
      " 27%|██▋       | 27/100 [00:00<00:00, 264.42it/s]"
     ]
    },
    {
     "name": "stdout",
     "output_type": "stream",
     "text": [
      "Processing file../data_filtered_2/judgments-3164.json\n"
     ]
    },
    {
     "name": "stderr",
     "output_type": "stream",
     "text": [
      "100%|██████████| 100/100 [00:00<00:00, 279.05it/s]\n",
      " 39%|███▉      | 39/100 [00:00<00:00, 388.36it/s]"
     ]
    },
    {
     "name": "stdout",
     "output_type": "stream",
     "text": [
      "Processing file../data_filtered_2/judgments-3171.json\n"
     ]
    },
    {
     "name": "stderr",
     "output_type": "stream",
     "text": [
      "100%|██████████| 100/100 [00:00<00:00, 334.52it/s]\n",
      " 22%|██▏       | 22/100 [00:00<00:00, 218.37it/s]"
     ]
    },
    {
     "name": "stdout",
     "output_type": "stream",
     "text": [
      "Processing file../data_filtered_2/judgments-3165.json\n"
     ]
    },
    {
     "name": "stderr",
     "output_type": "stream",
     "text": [
      "100%|██████████| 100/100 [00:00<00:00, 245.20it/s]\n",
      " 31%|███       | 31/100 [00:00<00:00, 300.96it/s]"
     ]
    },
    {
     "name": "stdout",
     "output_type": "stream",
     "text": [
      "Processing file../data_filtered_2/judgments-3167.json\n"
     ]
    },
    {
     "name": "stderr",
     "output_type": "stream",
     "text": [
      "100%|██████████| 100/100 [00:00<00:00, 354.62it/s]\n",
      " 31%|███       | 31/100 [00:00<00:00, 288.83it/s]"
     ]
    },
    {
     "name": "stdout",
     "output_type": "stream",
     "text": [
      "Processing file../data_filtered_2/judgments-3169.json\n"
     ]
    },
    {
     "name": "stderr",
     "output_type": "stream",
     "text": [
      "100%|██████████| 100/100 [00:00<00:00, 282.34it/s]\n",
      " 42%|████▏     | 34/81 [00:00<00:00, 338.17it/s]"
     ]
    },
    {
     "name": "stdout",
     "output_type": "stream",
     "text": [
      "Processing file../data_filtered_2/judgments-3173.json\n"
     ]
    },
    {
     "name": "stderr",
     "output_type": "stream",
     "text": [
      "100%|██████████| 81/81 [00:00<00:00, 354.35it/s]\n",
      " 34%|███▍      | 34/100 [00:00<00:00, 336.45it/s]"
     ]
    },
    {
     "name": "stdout",
     "output_type": "stream",
     "text": [
      "Processing file../data_filtered_2/judgments-3172.json\n"
     ]
    },
    {
     "name": "stderr",
     "output_type": "stream",
     "text": [
      "100%|██████████| 100/100 [00:00<00:00, 341.44it/s]\n",
      " 36%|███▌      | 36/100 [00:00<00:00, 355.04it/s]"
     ]
    },
    {
     "name": "stdout",
     "output_type": "stream",
     "text": [
      "Processing file../data_filtered_2/judgments-3166.json\n"
     ]
    },
    {
     "name": "stderr",
     "output_type": "stream",
     "text": [
      "100%|██████████| 100/100 [00:00<00:00, 312.82it/s]\n",
      " 30%|███       | 30/100 [00:00<00:00, 298.81it/s]"
     ]
    },
    {
     "name": "stdout",
     "output_type": "stream",
     "text": [
      "Processing file../data_filtered_2/judgments-3170.json\n"
     ]
    },
    {
     "name": "stderr",
     "output_type": "stream",
     "text": [
      "100%|██████████| 100/100 [00:00<00:00, 279.62it/s]\n"
     ]
    }
   ],
   "source": [
    "read_all_judgments_from_2018()"
   ]
  },
  {
   "cell_type": "code",
   "execution_count": 23,
   "metadata": {
    "collapsed": true
   },
   "outputs": [],
   "source": [
    "lists = [False] * 775\n",
    "lists.append(True)\n",
    "lists.append(True)\n",
    "judge_processor = JudgmentsProcessor.JudgmentsProcessor(judgments, signatures, 'filteredRank.csv', lists)"
   ]
  },
  {
   "cell_type": "code",
   "execution_count": 24,
   "metadata": {},
   "outputs": [
    {
     "name": "stdout",
     "output_type": "stream",
     "text": [
      "['na', 'do', 'nie', 'że', 'dnia', 'się', 'art', 'od', 'przez', 'sąd', 'roku', 'pracy', 'za', 'jest', 'oraz', 'zł', 'tym', 'to', 'sądu', 'co']\n"
     ]
    }
   ],
   "source": [
    "X, Y, counter = judge_processor.process_judgments()"
   ]
  },
  {
   "cell_type": "code",
   "execution_count": 25,
   "metadata": {},
   "outputs": [
    {
     "name": "stdout",
     "output_type": "stream",
     "text": [
      "Counter({'sprawy z zakresu ubezpieczenia społecznego': 277,\n",
      "         'sprawy cywilne': 244,\n",
      "         'sprawy karne': 158,\n",
      "         'sprawy gospodarcze': 120,\n",
      "         'sprawy w zakresie prawa pracy': 76,\n",
      "         'sprawy w zakresie prawa rodzinnego': 46,\n",
      "         'sprawy o wykroczenia': 36,\n",
      "         'sprawy w zakresie prawa konkurencji': 5})\n"
     ]
    }
   ],
   "source": [
    "pprint.pprint (counter)"
   ]
  },
  {
   "cell_type": "code",
   "execution_count": 26,
   "metadata": {},
   "outputs": [
    {
     "name": "stdout",
     "output_type": "stream",
     "text": [
      "777\n",
      "777\n"
     ]
    }
   ],
   "source": [
    "print (len(X))\n",
    "print (len(Y))"
   ]
  },
  {
   "cell_type": "code",
   "execution_count": 27,
   "metadata": {},
   "outputs": [
    {
     "name": "stderr",
     "output_type": "stream",
     "text": [
      "/home/grzegorz/anaconda2/envs/py3/lib/python3.6/site-packages/sklearn/utils/validation.py:547: DataConversionWarning: A column-vector y was passed when a 1d array was expected. Please change the shape of y to (n_samples, ), for example using ravel().\n",
      "  y = column_or_1d(y, warn=True)\n",
      "/home/grzegorz/anaconda2/envs/py3/lib/python3.6/site-packages/sklearn/metrics/classification.py:1428: UserWarning: labels size, 7, does not match size of target_names, 8\n",
      "  .format(len(labels), len(target_names))\n"
     ]
    }
   ],
   "source": [
    "judgment_classifier = JudgmentsClassifier.JudgmentsClassifier(X, Y)\n",
    "result_dict, clf, hyper_params = judgment_classifier.transform_and_train_classifier()"
   ]
  },
  {
   "cell_type": "code",
   "execution_count": 28,
   "metadata": {},
   "outputs": [
    {
     "name": "stdout",
     "output_type": "stream",
     "text": [
      "{'C': 15000, 'gamma': 0.0001, 'kernel': 'rbf'}\n",
      "0.902564102564\n",
      "                                            precision    recall  f1-score   support\n",
      "\n",
      "                            sprawy cywilne       0.83      0.89      0.86        54\n",
      "sprawy z zakresu ubezpieczenia społecznego       1.00      1.00      1.00        57\n",
      "                              sprawy karne       0.93      0.93      0.93        30\n",
      "                        sprawy gospodarcze       0.67      0.80      0.73        15\n",
      "             sprawy w zakresie prawa pracy       1.00      0.71      0.83        14\n",
      "        sprawy w zakresie prawa rodzinnego       1.00      0.93      0.96        14\n",
      "                      sprawy o wykroczenia       0.89      0.73      0.80        11\n",
      "\n",
      "                               avg / total       0.91      0.90      0.90       195\n",
      "\n",
      "(0.90256410256410258, 0.90256410256410258, 0.90256410256410269, None)\n",
      "(0.90235358511220576, 0.85605029890744178, 0.87343503057788763, None)\n"
     ]
    }
   ],
   "source": [
    "print (hyper_params)\n",
    "print(result_dict['accuracy_score'])\n",
    "print(result_dict['classification_report'])\n",
    "print(result_dict['micro_report'])\n",
    "print(result_dict['macro_report'])"
   ]
  },
  {
   "cell_type": "code",
   "execution_count": 29,
   "metadata": {
    "collapsed": true
   },
   "outputs": [],
   "source": [
    "import pickle\n",
    "with open('judgments.pickle', 'rb') as handle:\n",
    "    judgments = pickle.load(handle)\n",
    "with open('signatures.pickle', 'rb') as handle:\n",
    "    signatures = pickle.load(handle)\n",
    "    \n",
    "    judge_processor = JudgmentsProcessor.JudgmentsProcessor(judgments, signatures, 'taggedRank.csv', lists)"
   ]
  },
  {
   "cell_type": "code",
   "execution_count": 30,
   "metadata": {},
   "outputs": [
    {
     "name": "stdout",
     "output_type": "stream",
     "text": [
      "['w', 'z', 'na', 'do', 'rok', 'być', 'dzień', 'on', 'sąd', 'praca', '1', 'ten', 'od', 'przez', 'który', 'o', 'art', 'k', 'sprawa', 'złoty']\n"
     ]
    }
   ],
   "source": [
    "X, Y, counter = judge_processor.process_judgments()"
   ]
  },
  {
   "cell_type": "code",
   "execution_count": 31,
   "metadata": {},
   "outputs": [
    {
     "name": "stderr",
     "output_type": "stream",
     "text": [
      "/home/grzegorz/anaconda2/envs/py3/lib/python3.6/site-packages/sklearn/utils/validation.py:547: DataConversionWarning: A column-vector y was passed when a 1d array was expected. Please change the shape of y to (n_samples, ), for example using ravel().\n",
      "  y = column_or_1d(y, warn=True)\n",
      "/home/grzegorz/anaconda2/envs/py3/lib/python3.6/site-packages/sklearn/metrics/classification.py:1428: UserWarning: labels size, 7, does not match size of target_names, 8\n",
      "  .format(len(labels), len(target_names))\n"
     ]
    }
   ],
   "source": [
    "judgment_classifier = JudgmentsClassifier.JudgmentsClassifier(X, Y)\n",
    "result_dict, clf, hyper_params = judgment_classifier.transform_and_train_classifier()"
   ]
  },
  {
   "cell_type": "code",
   "execution_count": 32,
   "metadata": {},
   "outputs": [
    {
     "name": "stdout",
     "output_type": "stream",
     "text": [
      "{'C': 100, 'gamma': 0.01, 'kernel': 'rbf'}\n",
      "0.913265306122\n",
      "                                            precision    recall  f1-score   support\n",
      "\n",
      "                            sprawy cywilne       0.81      0.90      0.85        49\n",
      "sprawy z zakresu ubezpieczenia społecznego       1.00      1.00      1.00        48\n",
      "                              sprawy karne       1.00      0.92      0.96        39\n",
      "                        sprawy gospodarcze       0.83      0.83      0.83        23\n",
      "             sprawy w zakresie prawa pracy       0.92      0.73      0.81        15\n",
      "        sprawy w zakresie prawa rodzinnego       1.00      1.00      1.00        14\n",
      "                      sprawy o wykroczenia       0.78      0.88      0.82         8\n",
      "\n",
      "                               avg / total       0.92      0.91      0.91       196\n",
      "\n",
      "(0.91326530612244894, 0.91326530612244894, 0.91326530612244894, None)\n",
      "(0.90504945939728554, 0.89363662808649502, 0.89697144502001347, None)\n"
     ]
    }
   ],
   "source": [
    "print (hyper_params)\n",
    "print(result_dict['accuracy_score'])\n",
    "print(result_dict['classification_report'])\n",
    "print(result_dict['micro_report'])\n",
    "print(result_dict['macro_report'])"
   ]
  },
  {
   "cell_type": "code",
   "execution_count": 33,
   "metadata": {
    "collapsed": true
   },
   "outputs": [],
   "source": [
    "# Remove from tagged dataset those where the tagger failed\n",
    "# Test non-tagged and tagged on the very same dataset (including random_state!)"
   ]
  }
 ],
 "metadata": {
  "kernelspec": {
   "display_name": "Python 3",
   "language": "python",
   "name": "python3"
  },
  "language_info": {
   "codemirror_mode": {
    "name": "ipython",
    "version": 3
   },
   "file_extension": ".py",
   "mimetype": "text/x-python",
   "name": "python",
   "nbconvert_exporter": "python",
   "pygments_lexer": "ipython3",
   "version": "3.6.1"
  }
 },
 "nbformat": 4,
 "nbformat_minor": 2
}
