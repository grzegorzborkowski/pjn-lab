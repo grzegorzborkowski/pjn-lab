{
 "cells": [
  {
   "cell_type": "code",
   "execution_count": 1,
   "metadata": {
    "collapsed": true
   },
   "outputs": [],
   "source": [
    "import tqdm, json, os, re, operator\n",
    "import string, pprint, itertools, seaborn, collections, numpy as np, csv, requests, nltk, random\n",
    "import JudgmentsProcessor\n",
    "import JudgmentsClassifier\n",
    "import pickle"
   ]
  },
  {
   "cell_type": "code",
   "execution_count": 2,
   "metadata": {
    "collapsed": true
   },
   "outputs": [],
   "source": [
    "judgments = []\n",
    "signatures = []\n",
    "\n",
    "\n",
    "def read_file(file_path):\n",
    "   \n",
    "    print (\"Processing file\" + file_path)\n",
    "    with open (file_path) as file:\n",
    "        json_content = json.load(file)\n",
    "        item_count = 0\n",
    "        for item in tqdm.tqdm(json_content):\n",
    "            judgment = []\n",
    "            if item['courtType'] in ['COMMON', 'SUPREME']:\n",
    "                courtCases = item['courtCases']\n",
    "                signatures_for_judgment = []\n",
    "                for courtCase in courtCases:\n",
    "                    signature = courtCase['caseNumber']\n",
    "                    signatures_for_judgment.append(signature)\n",
    "                signatures.append(signatures_for_judgment)\n",
    "                item_count += 1\n",
    "                text_content = re.sub(\"<.*?>\", \"\", item[\"textContent\"])\n",
    "                text_content = text_content.replace('-\\n', '')\n",
    "                word_content = text_content.split()\n",
    "                topicSpecificPunctuation = '„”–§…«»'\n",
    "                translator = str.maketrans('', '', string.punctuation+topicSpecificPunctuation)\n",
    "\n",
    "                for word in word_content:\n",
    "                    word = word.translate(translator).lower()\n",
    "                    if len(word)>0:\n",
    "                        judgment.append(word)\n",
    "            \n",
    "                judgments.append(judgment)"
   ]
  },
  {
   "cell_type": "code",
   "execution_count": 3,
   "metadata": {
    "collapsed": true
   },
   "outputs": [],
   "source": [
    "def read_all_judgments_from_2018():\n",
    "        for filename in os.listdir(\"../data_filtered_2/\"):\n",
    "            read_file(\"../data_filtered_2/\" + filename)"
   ]
  },
  {
   "cell_type": "code",
   "execution_count": 4,
   "metadata": {
    "scrolled": true
   },
   "outputs": [
    {
     "name": "stderr",
     "output_type": "stream",
     "text": [
      "100%|██████████| 9/9 [00:00<00:00, 193.52it/s]\n",
      " 47%|████▋     | 47/100 [00:00<00:00, 431.03it/s]"
     ]
    },
    {
     "name": "stdout",
     "output_type": "stream",
     "text": [
      "Processing file../data_filtered_2/judgments-3163.json\n",
      "Processing file../data_filtered_2/judgments-3168.json\n"
     ]
    },
    {
     "name": "stderr",
     "output_type": "stream",
     "text": [
      "100%|██████████| 100/100 [00:00<00:00, 346.81it/s]\n",
      " 26%|██▌       | 26/100 [00:00<00:00, 252.40it/s]"
     ]
    },
    {
     "name": "stdout",
     "output_type": "stream",
     "text": [
      "Processing file../data_filtered_2/judgments-3164.json\n"
     ]
    },
    {
     "name": "stderr",
     "output_type": "stream",
     "text": [
      "100%|██████████| 100/100 [00:00<00:00, 264.46it/s]\n",
      " 40%|████      | 40/100 [00:00<00:00, 395.63it/s]"
     ]
    },
    {
     "name": "stdout",
     "output_type": "stream",
     "text": [
      "Processing file../data_filtered_2/judgments-3171.json\n"
     ]
    },
    {
     "name": "stderr",
     "output_type": "stream",
     "text": [
      "100%|██████████| 100/100 [00:00<00:00, 298.87it/s]\n",
      " 22%|██▏       | 22/100 [00:00<00:00, 216.86it/s]"
     ]
    },
    {
     "name": "stdout",
     "output_type": "stream",
     "text": [
      "Processing file../data_filtered_2/judgments-3165.json\n"
     ]
    },
    {
     "name": "stderr",
     "output_type": "stream",
     "text": [
      "100%|██████████| 100/100 [00:00<00:00, 218.65it/s]\n",
      " 32%|███▏      | 32/100 [00:00<00:00, 317.66it/s]"
     ]
    },
    {
     "name": "stdout",
     "output_type": "stream",
     "text": [
      "Processing file../data_filtered_2/judgments-3167.json\n"
     ]
    },
    {
     "name": "stderr",
     "output_type": "stream",
     "text": [
      "100%|██████████| 100/100 [00:00<00:00, 369.67it/s]\n",
      " 31%|███       | 31/100 [00:00<00:00, 301.88it/s]"
     ]
    },
    {
     "name": "stdout",
     "output_type": "stream",
     "text": [
      "Processing file../data_filtered_2/judgments-3169.json\n"
     ]
    },
    {
     "name": "stderr",
     "output_type": "stream",
     "text": [
      "100%|██████████| 100/100 [00:00<00:00, 294.69it/s]\n",
      " 46%|████▌     | 37/81 [00:00<00:00, 363.52it/s]"
     ]
    },
    {
     "name": "stdout",
     "output_type": "stream",
     "text": [
      "Processing file../data_filtered_2/judgments-3173.json\n"
     ]
    },
    {
     "name": "stderr",
     "output_type": "stream",
     "text": [
      "100%|██████████| 81/81 [00:00<00:00, 366.21it/s]\n",
      " 34%|███▍      | 34/100 [00:00<00:00, 334.51it/s]"
     ]
    },
    {
     "name": "stdout",
     "output_type": "stream",
     "text": [
      "Processing file../data_filtered_2/judgments-3172.json\n"
     ]
    },
    {
     "name": "stderr",
     "output_type": "stream",
     "text": [
      "100%|██████████| 100/100 [00:00<00:00, 374.64it/s]\n",
      " 37%|███▋      | 37/100 [00:00<00:00, 350.15it/s]"
     ]
    },
    {
     "name": "stdout",
     "output_type": "stream",
     "text": [
      "Processing file../data_filtered_2/judgments-3166.json\n"
     ]
    },
    {
     "name": "stderr",
     "output_type": "stream",
     "text": [
      "100%|██████████| 100/100 [00:00<00:00, 317.31it/s]\n",
      " 31%|███       | 31/100 [00:00<00:00, 277.67it/s]"
     ]
    },
    {
     "name": "stdout",
     "output_type": "stream",
     "text": [
      "Processing file../data_filtered_2/judgments-3170.json\n"
     ]
    },
    {
     "name": "stderr",
     "output_type": "stream",
     "text": [
      "100%|██████████| 100/100 [00:00<00:00, 284.22it/s]\n"
     ]
    }
   ],
   "source": [
    "read_all_judgments_from_2018()"
   ]
  },
  {
   "cell_type": "code",
   "execution_count": 5,
   "metadata": {},
   "outputs": [
    {
     "data": {
      "text/plain": [
       "['VI Ca 651/17']"
      ]
     },
     "execution_count": 5,
     "metadata": {},
     "output_type": "execute_result"
    }
   ],
   "source": [
    "signatures[0]"
   ]
  },
  {
   "cell_type": "code",
   "execution_count": 9,
   "metadata": {
    "collapsed": true
   },
   "outputs": [],
   "source": [
    "test_idx = random.sample(range(0, 783), int(195))\n",
    "train_idx = list(range(0, 783))\n",
    "train_idx = [el for el in train_idx if el not in test_idx]"
   ]
  },
  {
   "cell_type": "code",
   "execution_count": 5,
   "metadata": {
    "collapsed": true
   },
   "outputs": [],
   "source": [
    "judge_processor = JudgmentsProcessor.JudgmentsProcessor(judgments, signatures, 'taggedRank.csv',\n",
    "                                                        'filteredRank.csv')"
   ]
  },
  {
   "cell_type": "code",
   "execution_count": null,
   "metadata": {
    "collapsed": true
   },
   "outputs": [],
   "source": [
    "    "
   ]
  },
  {
   "cell_type": "code",
   "execution_count": 6,
   "metadata": {},
   "outputs": [
    {
     "name": "stderr",
     "output_type": "stream",
     "text": [
      "\r",
      "  0%|          | 0/777 [00:00<?, ?it/s]"
     ]
    },
    {
     "name": "stdout",
     "output_type": "stream",
     "text": [
      "Before tagging:777\n"
     ]
    },
    {
     "name": "stderr",
     "output_type": "stream",
     "text": [
      "100%|██████████| 777/777 [39:27<00:00,  3.05s/it]\n"
     ]
    },
    {
     "name": "stdout",
     "output_type": "stream",
     "text": [
      "After tagging:777\n",
      "After tagging:777\n",
      "Saving judgments to files\n",
      "['w', 'z', 'na', 'do', 'rok', 'być', 'dzień', 'on', 'sąd', 'praca', '1', 'ten', 'od', 'przez', 'który', 'o', 'art', 'k', 'sprawa', 'złoty']\n",
      "['na', 'do', 'nie', 'że', 'dnia', 'się', 'art', 'od', 'przez', 'sąd', 'roku', 'pracy', 'za', 'jest', 'oraz', 'zł', 'tym', 'to', 'sądu', 'co']\n"
     ]
    }
   ],
   "source": [
    "X_tagged, Y_tagged, X_non_tagged, Y_non_tagged, judgments_categories_counter = judge_processor.process_judgments()"
   ]
  },
  {
   "cell_type": "code",
   "execution_count": 27,
   "metadata": {},
   "outputs": [
    {
     "name": "stdout",
     "output_type": "stream",
     "text": [
      "777\n",
      "777\n",
      "777\n",
      "777\n"
     ]
    }
   ],
   "source": [
    "print (len(X_tagged))\n",
    "print (len(X_non_tagged))\n",
    "print (len(Y_non_tagged))\n",
    "print (len(Y_tagged))"
   ]
  },
  {
   "cell_type": "code",
   "execution_count": 21,
   "metadata": {},
   "outputs": [
    {
     "name": "stdout",
     "output_type": "stream",
     "text": [
      "Counter({'sprawy z zakresu ubezpieczenia społecznego': 227,\n",
      "         'sprawy cywilne': 197,\n",
      "         'sprawy karne': 126,\n",
      "         'sprawy gospodarcze': 95,\n",
      "         'sprawy w zakresie prawa pracy': 63,\n",
      "         'sprawy w zakresie prawa rodzinnego': 39,\n",
      "         'sprawy o wykroczenia': 30})\n"
     ]
    }
   ],
   "source": [
    "pprint.pprint (judgments_categories_counter)"
   ]
  },
  {
   "cell_type": "code",
   "execution_count": 28,
   "metadata": {},
   "outputs": [
    {
     "name": "stderr",
     "output_type": "stream",
     "text": [
      "/home/grzegorz/anaconda2/envs/py3/lib/python3.6/site-packages/sklearn/utils/validation.py:547: DataConversionWarning: A column-vector y was passed when a 1d array was expected. Please change the shape of y to (n_samples, ), for example using ravel().\n",
      "  y = column_or_1d(y, warn=True)\n",
      "/home/grzegorz/anaconda2/envs/py3/lib/python3.6/site-packages/sklearn/metrics/classification.py:1428: UserWarning: labels size, 7, does not match size of target_names, 8\n",
      "  .format(len(labels), len(target_names))\n"
     ]
    }
   ],
   "source": [
    "judgment_classifier = JudgmentsClassifier.JudgmentsClassifier(X_tagged, Y_tagged)\n",
    "result_dict, clf, hyper_params = judgment_classifier.transform_and_train_classifier()"
   ]
  },
  {
   "cell_type": "code",
   "execution_count": 29,
   "metadata": {},
   "outputs": [
    {
     "name": "stdout",
     "output_type": "stream",
     "text": [
      "{'C': 1000, 'gamma': 0.001, 'kernel': 'rbf'}\n",
      "0.912820512821\n",
      "                                            precision    recall  f1-score   support\n",
      "\n",
      "                            sprawy cywilne       0.84      0.87      0.85        54\n",
      "sprawy z zakresu ubezpieczenia społecznego       1.00      1.00      1.00        57\n",
      "                              sprawy karne       1.00      0.93      0.97        30\n",
      "                        sprawy gospodarcze       0.65      0.87      0.74        15\n",
      "             sprawy w zakresie prawa pracy       1.00      0.71      0.83        14\n",
      "        sprawy w zakresie prawa rodzinnego       1.00      0.93      0.96        14\n",
      "                      sprawy o wykroczenia       0.91      0.91      0.91        11\n",
      "\n",
      "                               avg / total       0.92      0.91      0.91       195\n",
      "\n",
      "(0.9128205128205128, 0.9128205128205128, 0.9128205128205128, None)\n",
      "(0.91405380333951758, 0.88890263175977469, 0.89547243488130179, None)\n"
     ]
    }
   ],
   "source": [
    "print (hyper_params)\n",
    "print(result_dict['accuracy_score'])\n",
    "print(result_dict['classification_report'])\n",
    "print(result_dict['micro_report'])\n",
    "print(result_dict['macro_report'])"
   ]
  },
  {
   "cell_type": "code",
   "execution_count": 30,
   "metadata": {},
   "outputs": [
    {
     "name": "stderr",
     "output_type": "stream",
     "text": [
      "/home/grzegorz/anaconda2/envs/py3/lib/python3.6/site-packages/sklearn/utils/validation.py:547: DataConversionWarning: A column-vector y was passed when a 1d array was expected. Please change the shape of y to (n_samples, ), for example using ravel().\n",
      "  y = column_or_1d(y, warn=True)\n",
      "/home/grzegorz/anaconda2/envs/py3/lib/python3.6/site-packages/sklearn/metrics/classification.py:1428: UserWarning: labels size, 7, does not match size of target_names, 8\n",
      "  .format(len(labels), len(target_names))\n"
     ]
    }
   ],
   "source": [
    "judgment_classifier = JudgmentsClassifier.JudgmentsClassifier(X_non_tagged, Y_non_tagged)\n",
    "result_dict, clf, hyper_params = judgment_classifier.transform_and_train_classifier()"
   ]
  },
  {
   "cell_type": "code",
   "execution_count": 31,
   "metadata": {},
   "outputs": [
    {
     "name": "stdout",
     "output_type": "stream",
     "text": [
      "{'C': 15000, 'gamma': 0.0001, 'kernel': 'rbf'}\n",
      "0.902564102564\n",
      "                                            precision    recall  f1-score   support\n",
      "\n",
      "                            sprawy cywilne       0.83      0.89      0.86        54\n",
      "sprawy z zakresu ubezpieczenia społecznego       1.00      1.00      1.00        57\n",
      "                              sprawy karne       0.93      0.93      0.93        30\n",
      "                        sprawy gospodarcze       0.67      0.80      0.73        15\n",
      "             sprawy w zakresie prawa pracy       1.00      0.71      0.83        14\n",
      "        sprawy w zakresie prawa rodzinnego       1.00      0.93      0.96        14\n",
      "                      sprawy o wykroczenia       0.89      0.73      0.80        11\n",
      "\n",
      "                               avg / total       0.91      0.90      0.90       195\n",
      "\n",
      "(0.90256410256410258, 0.90256410256410258, 0.90256410256410269, None)\n",
      "(0.90235358511220576, 0.85605029890744178, 0.87343503057788763, None)\n"
     ]
    }
   ],
   "source": [
    "print (hyper_params)\n",
    "print(result_dict['accuracy_score'])\n",
    "print(result_dict['classification_report'])\n",
    "print(result_dict['micro_report'])\n",
    "print(result_dict['macro_report'])"
   ]
  },
  {
   "cell_type": "code",
   "execution_count": null,
   "metadata": {
    "collapsed": true
   },
   "outputs": [],
   "source": []
  }
 ],
 "metadata": {
  "kernelspec": {
   "display_name": "Python 3",
   "language": "python",
   "name": "python3"
  },
  "language_info": {
   "codemirror_mode": {
    "name": "ipython",
    "version": 3
   },
   "file_extension": ".py",
   "mimetype": "text/x-python",
   "name": "python",
   "nbconvert_exporter": "python",
   "pygments_lexer": "ipython3",
   "version": "3.6.1"
  }
 },
 "nbformat": 4,
 "nbformat_minor": 2
}
