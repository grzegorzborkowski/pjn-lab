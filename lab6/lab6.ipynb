{
 "cells": [
  {
   "cell_type": "code",
   "execution_count": 61,
   "metadata": {
    "collapsed": true
   },
   "outputs": [],
   "source": [
    "import tqdm, json, os, re, operator\n",
    "import string, pprint, itertools, seaborn, collections, numpy as np, csv, requests, nltk\n",
    "import JudgmentsProcessor\n",
    "import JudgmentsClassifier"
   ]
  },
  {
   "cell_type": "code",
   "execution_count": 62,
   "metadata": {
    "collapsed": true
   },
   "outputs": [],
   "source": [
    "def process_judgment(judgment):\n",
    "    data_to_query = (\",\").join(judgment)\n",
    "    r = requests.post(data=data_to_query.encode(\"utf-8\"), url=\"http://localhost:9200\")\n",
    "    response_text = r.text\n",
    "    splited_response = response_text.splitlines()\n",
    "    splited_response = [\" \".join(x.replace(\"\\t\", \" \").replace(\"none\", \"\")[1:].split(\":\")[:2][:1]).replace(\" \", \":\")\n",
    "                        for x in splited_response if \":\" in x]\n",
    "    splited_response = [x.split(\":\")[0] for x in splited_response]\n",
    "    return splited_response\n",
    "\n",
    "judgments = []\n",
    "signatures = []\n",
    "judgment_succeeded = []\n",
    "\n",
    "def read_file(file_path, is_transforming=False):\n",
    "   \n",
    "    print (\"Processing file\" + file_path)\n",
    "    with open (file_path) as file:\n",
    "        json_content = json.load(file)\n",
    "        item_count = 0\n",
    "        for item in tqdm.tqdm(json_content):\n",
    "            judgment = []\n",
    "            if item['courtType'] in ['COMMON', 'SUPREME']:\n",
    "                courtCases = item['courtCases']\n",
    "                signatures_for_judgment = []\n",
    "                for courtCase in courtCases:\n",
    "                    signature = courtCase['caseNumber']\n",
    "                    signatures_for_judgment.append(signature)\n",
    "                signatures.append(signatures_for_judgment)\n",
    "                item_count += 1\n",
    "                text_content = re.sub(\"<.*?>\", \"\", item[\"textContent\"])\n",
    "                text_content = text_content.replace('-\\n', '')\n",
    "                word_content = text_content.split()\n",
    "                topicSpecificPunctuation = '„”–§…«»'\n",
    "                translator = str.maketrans('', '', string.punctuation+topicSpecificPunctuation)\n",
    "\n",
    "                for word in word_content:\n",
    "                    word = word.translate(translator).lower()\n",
    "                    if len(word)>0:\n",
    "                        judgment.append(word)\n",
    "                if not is_transforming:\n",
    "                    judgments.append(judgment)\n",
    "                else:\n",
    "                    processed = process_judgment(judgment)\n",
    "                    judgments.append(processed)\n",
    "                    judgment_succeeded.append(len(judgment) > 0)"
   ]
  },
  {
   "cell_type": "code",
   "execution_count": 63,
   "metadata": {
    "collapsed": true
   },
   "outputs": [],
   "source": [
    "def read_all_judgments_from_2018(is_transforming=False):\n",
    "        for filename in os.listdir(\"../data_filtered_2/\"):\n",
    "            read_file(\"../data_filtered_2/\" + filename, is_transforming)"
   ]
  },
  {
   "cell_type": "code",
   "execution_count": 64,
   "metadata": {
    "scrolled": true
   },
   "outputs": [
    {
     "name": "stderr",
     "output_type": "stream",
     "text": [
      "100%|██████████| 9/9 [00:00<00:00, 111.15it/s]\n",
      "  0%|          | 0/100 [00:00<?, ?it/s]"
     ]
    },
    {
     "name": "stdout",
     "output_type": "stream",
     "text": [
      "Processing file../data_filtered_2/judgments-3163.json\n",
      "Processing file../data_filtered_2/judgments-3168.json\n"
     ]
    },
    {
     "name": "stderr",
     "output_type": "stream",
     "text": [
      "100%|██████████| 100/100 [00:00<00:00, 241.02it/s]\n",
      " 22%|██▏       | 22/100 [00:00<00:00, 209.63it/s]"
     ]
    },
    {
     "name": "stdout",
     "output_type": "stream",
     "text": [
      "Processing file../data_filtered_2/judgments-3164.json\n"
     ]
    },
    {
     "name": "stderr",
     "output_type": "stream",
     "text": [
      "100%|██████████| 100/100 [00:00<00:00, 190.61it/s]\n",
      " 19%|█▉        | 19/100 [00:00<00:00, 170.38it/s]"
     ]
    },
    {
     "name": "stdout",
     "output_type": "stream",
     "text": [
      "Processing file../data_filtered_2/judgments-3171.json\n"
     ]
    },
    {
     "name": "stderr",
     "output_type": "stream",
     "text": [
      "100%|██████████| 100/100 [00:00<00:00, 242.83it/s]\n",
      " 13%|█▎        | 13/100 [00:00<00:00, 128.80it/s]"
     ]
    },
    {
     "name": "stdout",
     "output_type": "stream",
     "text": [
      "Processing file../data_filtered_2/judgments-3165.json\n"
     ]
    },
    {
     "name": "stderr",
     "output_type": "stream",
     "text": [
      "100%|██████████| 100/100 [00:00<00:00, 195.59it/s]\n",
      " 13%|█▎        | 13/100 [00:00<00:00, 126.97it/s]"
     ]
    },
    {
     "name": "stdout",
     "output_type": "stream",
     "text": [
      "Processing file../data_filtered_2/judgments-3167.json\n"
     ]
    },
    {
     "name": "stderr",
     "output_type": "stream",
     "text": [
      "100%|██████████| 100/100 [00:00<00:00, 244.07it/s]\n",
      " 28%|██▊       | 28/100 [00:00<00:00, 279.38it/s]"
     ]
    },
    {
     "name": "stdout",
     "output_type": "stream",
     "text": [
      "Processing file../data_filtered_2/judgments-3169.json\n"
     ]
    },
    {
     "name": "stderr",
     "output_type": "stream",
     "text": [
      "100%|██████████| 100/100 [00:00<00:00, 249.90it/s]\n",
      " 26%|██▌       | 21/81 [00:00<00:00, 201.36it/s]"
     ]
    },
    {
     "name": "stdout",
     "output_type": "stream",
     "text": [
      "Processing file../data_filtered_2/judgments-3173.json\n"
     ]
    },
    {
     "name": "stderr",
     "output_type": "stream",
     "text": [
      "100%|██████████| 81/81 [00:00<00:00, 139.22it/s]\n",
      " 32%|███▏      | 32/100 [00:00<00:00, 302.34it/s]"
     ]
    },
    {
     "name": "stdout",
     "output_type": "stream",
     "text": [
      "Processing file../data_filtered_2/judgments-3172.json\n"
     ]
    },
    {
     "name": "stderr",
     "output_type": "stream",
     "text": [
      "100%|██████████| 100/100 [00:00<00:00, 299.25it/s]\n",
      " 25%|██▌       | 25/100 [00:00<00:00, 244.68it/s]"
     ]
    },
    {
     "name": "stdout",
     "output_type": "stream",
     "text": [
      "Processing file../data_filtered_2/judgments-3166.json\n"
     ]
    },
    {
     "name": "stderr",
     "output_type": "stream",
     "text": [
      "100%|██████████| 100/100 [00:00<00:00, 239.95it/s]\n",
      " 27%|██▋       | 27/100 [00:00<00:00, 267.05it/s]"
     ]
    },
    {
     "name": "stdout",
     "output_type": "stream",
     "text": [
      "Processing file../data_filtered_2/judgments-3170.json\n"
     ]
    },
    {
     "name": "stderr",
     "output_type": "stream",
     "text": [
      "100%|██████████| 100/100 [00:00<00:00, 233.90it/s]\n"
     ]
    }
   ],
   "source": [
    "read_all_judgments_from_2018()"
   ]
  },
  {
   "cell_type": "code",
   "execution_count": 65,
   "metadata": {
    "collapsed": true
   },
   "outputs": [],
   "source": [
    "with open('judgment_succeeded.pickle', 'rb') as handle:\n",
    "    judgment_succeeded = pickle.load(handle)"
   ]
  },
  {
   "cell_type": "code",
   "execution_count": 66,
   "metadata": {
    "collapsed": true
   },
   "outputs": [],
   "source": [
    "zipped = zip(judgments, signatures, judgment_succeeded)\n",
    "zipped_filtered = [triple[:2] for triple in list(zipped) if triple[2]]"
   ]
  },
  {
   "cell_type": "code",
   "execution_count": 67,
   "metadata": {},
   "outputs": [],
   "source": [
    "judgments, signatures = map(list, zip(*zipped_filtered))"
   ]
  },
  {
   "cell_type": "code",
   "execution_count": 68,
   "metadata": {},
   "outputs": [
    {
     "data": {
      "text/plain": [
       "['VI Ca 651/17']"
      ]
     },
     "execution_count": 68,
     "metadata": {},
     "output_type": "execute_result"
    }
   ],
   "source": [
    "signatures[0]"
   ]
  },
  {
   "cell_type": "code",
   "execution_count": 69,
   "metadata": {
    "collapsed": true
   },
   "outputs": [],
   "source": [
    "judge_processor = JudgmentsProcessor.JudgmentsProcessor(judgments, signatures, 'filteredRank.csv', lists)"
   ]
  },
  {
   "cell_type": "code",
   "execution_count": null,
   "metadata": {
    "collapsed": true
   },
   "outputs": [],
   "source": []
  },
  {
   "cell_type": "code",
   "execution_count": 70,
   "metadata": {},
   "outputs": [
    {
     "name": "stdout",
     "output_type": "stream",
     "text": [
      "['na', 'do', 'nie', 'że', 'dnia', 'się', 'art', 'od', 'przez', 'sąd', 'roku', 'pracy', 'za', 'jest', 'oraz', 'zł', 'tym', 'to', 'sądu', 'co']\n"
     ]
    }
   ],
   "source": [
    "X, Y, counter = judge_processor.process_judgments()"
   ]
  },
  {
   "cell_type": "code",
   "execution_count": 71,
   "metadata": {},
   "outputs": [
    {
     "name": "stdout",
     "output_type": "stream",
     "text": [
      "Counter({'sprawy z zakresu ubezpieczenia społecznego': 257,\n",
      "         'sprawy cywilne': 214,\n",
      "         'sprawy karne': 143,\n",
      "         'sprawy gospodarcze': 107,\n",
      "         'sprawy w zakresie prawa pracy': 72,\n",
      "         'sprawy w zakresie prawa rodzinnego': 42,\n",
      "         'sprawy o wykroczenia': 33,\n",
      "         'sprawy w zakresie prawa konkurencji': 5})\n"
     ]
    }
   ],
   "source": [
    "pprint.pprint (counter)"
   ]
  },
  {
   "cell_type": "code",
   "execution_count": null,
   "metadata": {},
   "outputs": [
    {
     "name": "stdout",
     "output_type": "stream",
     "text": [
      "777\n",
      "777\n"
     ]
    }
   ],
   "source": [
    "print (len(X))\n",
    "print (len(Y))"
   ]
  },
  {
   "cell_type": "code",
   "execution_count": null,
   "metadata": {},
   "outputs": [],
   "source": [
    "judgment_classifier = JudgmentsClassifier.JudgmentsClassifier(X, Y)\n",
    "result_dict, clf, hyper_params = judgment_classifier.transform_and_train_classifier()"
   ]
  },
  {
   "cell_type": "code",
   "execution_count": null,
   "metadata": {},
   "outputs": [],
   "source": [
    "print (hyper_params)\n",
    "print(result_dict['accuracy_score'])\n",
    "print(result_dict['classification_report'])\n",
    "print(result_dict['micro_report'])\n",
    "print(result_dict['macro_report'])"
   ]
  },
  {
   "cell_type": "code",
   "execution_count": 36,
   "metadata": {},
   "outputs": [],
   "source": [
    "import pickle\n",
    "with open('judgments.pickle', 'rb') as handle:\n",
    "    judgments = pickle.load(handle)\n",
    "with open('signatures.pickle', 'rb') as handle:\n",
    "    signatures = pickle.load(handle)\n",
    "    \n",
    "with open('judgment_succeeded.pickle', 'rb') as handle:\n",
    "    judgment_succeeded = pickle.load(handle)\n",
    "    \n"
   ]
  },
  {
   "cell_type": "code",
   "execution_count": 56,
   "metadata": {
    "collapsed": true
   },
   "outputs": [],
   "source": [
    "zipped = zip(judgments, signatures, judgment_succeeded)\n",
    "zipped_filtered = [triple[:2] for triple in list(zipped) if triple[2]]\n",
    "judgments, signatures = map(list, zip(*zipped_filtered))"
   ]
  },
  {
   "cell_type": "code",
   "execution_count": 57,
   "metadata": {
    "collapsed": true
   },
   "outputs": [],
   "source": [
    "judge_processor = JudgmentsProcessor.JudgmentsProcessor(judgments, signatures, 'taggedRank.csv', lists)"
   ]
  },
  {
   "cell_type": "code",
   "execution_count": 58,
   "metadata": {},
   "outputs": [
    {
     "name": "stdout",
     "output_type": "stream",
     "text": [
      "['w', 'z', 'na', 'do', 'rok', 'być', 'dzień', 'on', 'sąd', 'praca', '1', 'ten', 'od', 'przez', 'który', 'o', 'art', 'k', 'sprawa', 'złoty']\n"
     ]
    }
   ],
   "source": [
    "X, Y, counter = judge_processor.process_judgments()"
   ]
  },
  {
   "cell_type": "code",
   "execution_count": 59,
   "metadata": {},
   "outputs": [
    {
     "name": "stderr",
     "output_type": "stream",
     "text": [
      "/home/grzegorz/anaconda2/envs/py3/lib/python3.6/site-packages/sklearn/utils/validation.py:547: DataConversionWarning: A column-vector y was passed when a 1d array was expected. Please change the shape of y to (n_samples, ), for example using ravel().\n",
      "  y = column_or_1d(y, warn=True)\n",
      "/home/grzegorz/anaconda2/envs/py3/lib/python3.6/site-packages/sklearn/metrics/classification.py:1428: UserWarning: labels size, 7, does not match size of target_names, 8\n",
      "  .format(len(labels), len(target_names))\n"
     ]
    }
   ],
   "source": [
    "judgment_classifier = JudgmentsClassifier.JudgmentsClassifier(X, Y)\n",
    "result_dict, clf, hyper_params = judgment_classifier.transform_and_train_classifier()"
   ]
  },
  {
   "cell_type": "code",
   "execution_count": 60,
   "metadata": {},
   "outputs": [
    {
     "name": "stdout",
     "output_type": "stream",
     "text": [
      "{'C': 2000, 'gamma': 0.001, 'kernel': 'rbf'}\n",
      "0.920454545455\n",
      "                                            precision    recall  f1-score   support\n",
      "\n",
      "                            sprawy cywilne       0.84      0.93      0.88        41\n",
      "sprawy z zakresu ubezpieczenia społecznego       0.98      1.00      0.99        51\n",
      "                              sprawy karne       1.00      0.93      0.96        40\n",
      "                        sprawy gospodarcze       0.87      0.81      0.84        16\n",
      "             sprawy w zakresie prawa pracy       0.91      0.71      0.80        14\n",
      "        sprawy w zakresie prawa rodzinnego       1.00      1.00      1.00         6\n",
      "                      sprawy o wykroczenia       0.70      0.88      0.78         8\n",
      "\n",
      "                               avg / total       0.93      0.92      0.92       176\n",
      "\n",
      "(0.92045454545454541, 0.92045454545454541, 0.92045454545454553, None)\n",
      "(0.90013875013875011, 0.89337356893977105, 0.89307694408636773, None)\n"
     ]
    }
   ],
   "source": [
    "print (hyper_params)\n",
    "print(result_dict['accuracy_score'])\n",
    "print(result_dict['classification_report'])\n",
    "print(result_dict['micro_report'])\n",
    "print(result_dict['macro_report'])"
   ]
  },
  {
   "cell_type": "code",
   "execution_count": null,
   "metadata": {},
   "outputs": [],
   "source": []
  }
 ],
 "metadata": {
  "kernelspec": {
   "display_name": "Python 3",
   "language": "python",
   "name": "python3"
  },
  "language_info": {
   "codemirror_mode": {
    "name": "ipython",
    "version": 3
   },
   "file_extension": ".py",
   "mimetype": "text/x-python",
   "name": "python",
   "nbconvert_exporter": "python",
   "pygments_lexer": "ipython3",
   "version": "3.6.1"
  }
 },
 "nbformat": 4,
 "nbformat_minor": 2
}
