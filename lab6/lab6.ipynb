{
 "cells": [
  {
   "cell_type": "code",
   "execution_count": 1,
   "metadata": {
    "collapsed": true
   },
   "outputs": [],
   "source": [
    "import tqdm, json, os, re, operator\n",
    "import string, pprint, itertools, seaborn, collections, numpy as np, csv, requests, nltk, random\n",
    "import JudgmentsProcessor\n",
    "import JudgmentsClassifier\n",
    "import pickle"
   ]
  },
  {
   "cell_type": "code",
   "execution_count": 2,
   "metadata": {
    "collapsed": true
   },
   "outputs": [],
   "source": [
    "def process_judgment(judgment):\n",
    "    data_to_query = (\",\").join(judgment)\n",
    "    r = requests.post(data=data_to_query.encode(\"utf-8\"), url=\"http://localhost:9200\")\n",
    "    response_text = r.text\n",
    "    splited_response = response_text.splitlines()\n",
    "    splited_response = [\" \".join(x.replace(\"\\t\", \" \").replace(\"none\", \"\")[1:].split(\":\")[:2][:1]).replace(\" \", \":\")\n",
    "                        for x in splited_response if \":\" in x]\n",
    "    splited_response = [x.split(\":\")[0] for x in splited_response]\n",
    "    return splited_response\n",
    "\n",
    "judgments = []\n",
    "signatures = []\n",
    "judgment_succeeded = []\n",
    "\n",
    "def read_file(file_path, is_transforming=False):\n",
    "   \n",
    "    print (\"Processing file\" + file_path)\n",
    "    with open (file_path) as file:\n",
    "        json_content = json.load(file)\n",
    "        item_count = 0\n",
    "        for item in tqdm.tqdm(json_content):\n",
    "            judgment = []\n",
    "            if item['courtType'] in ['COMMON', 'SUPREME']:\n",
    "                courtCases = item['courtCases']\n",
    "                signatures_for_judgment = []\n",
    "                for courtCase in courtCases:\n",
    "                    signature = courtCase['caseNumber']\n",
    "                    signatures_for_judgment.append(signature)\n",
    "                signatures.append(signatures_for_judgment)\n",
    "                item_count += 1\n",
    "                text_content = re.sub(\"<.*?>\", \"\", item[\"textContent\"])\n",
    "                text_content = text_content.replace('-\\n', '')\n",
    "                word_content = text_content.split()\n",
    "                topicSpecificPunctuation = '„”–§…«»'\n",
    "                translator = str.maketrans('', '', string.punctuation+topicSpecificPunctuation)\n",
    "\n",
    "                for word in word_content:\n",
    "                    word = word.translate(translator).lower()\n",
    "                    if len(word)>0:\n",
    "                        judgment.append(word)\n",
    "                if not is_transforming:\n",
    "                    judgments.append(judgment)\n",
    "                else:\n",
    "                    processed = process_judgment(judgment)\n",
    "                    judgments.append(processed)\n",
    "                    judgment_succeeded.append(len(judgment) > 0)"
   ]
  },
  {
   "cell_type": "code",
   "execution_count": 3,
   "metadata": {
    "collapsed": true
   },
   "outputs": [],
   "source": [
    "def read_all_judgments_from_2018(is_transforming=False):\n",
    "        for filename in os.listdir(\"../data_filtered_2/\"):\n",
    "            read_file(\"../data_filtered_2/\" + filename, is_transforming)"
   ]
  },
  {
   "cell_type": "code",
   "execution_count": 4,
   "metadata": {
    "scrolled": true
   },
   "outputs": [
    {
     "name": "stderr",
     "output_type": "stream",
     "text": [
      "100%|██████████| 9/9 [00:00<00:00, 250.78it/s]\n",
      " 47%|████▋     | 47/100 [00:00<00:00, 445.63it/s]"
     ]
    },
    {
     "name": "stdout",
     "output_type": "stream",
     "text": [
      "Processing file../data_filtered_2/judgments-3163.json\n",
      "Processing file../data_filtered_2/judgments-3168.json\n"
     ]
    },
    {
     "name": "stderr",
     "output_type": "stream",
     "text": [
      "100%|██████████| 100/100 [00:00<00:00, 358.63it/s]\n",
      " 28%|██▊       | 28/100 [00:00<00:00, 276.24it/s]"
     ]
    },
    {
     "name": "stdout",
     "output_type": "stream",
     "text": [
      "Processing file../data_filtered_2/judgments-3164.json\n"
     ]
    },
    {
     "name": "stderr",
     "output_type": "stream",
     "text": [
      "100%|██████████| 100/100 [00:00<00:00, 277.07it/s]\n",
      " 40%|████      | 40/100 [00:00<00:00, 399.40it/s]"
     ]
    },
    {
     "name": "stdout",
     "output_type": "stream",
     "text": [
      "Processing file../data_filtered_2/judgments-3171.json\n"
     ]
    },
    {
     "name": "stderr",
     "output_type": "stream",
     "text": [
      "100%|██████████| 100/100 [00:00<00:00, 332.95it/s]\n",
      " 24%|██▍       | 24/100 [00:00<00:00, 239.62it/s]"
     ]
    },
    {
     "name": "stdout",
     "output_type": "stream",
     "text": [
      "Processing file../data_filtered_2/judgments-3165.json\n"
     ]
    },
    {
     "name": "stderr",
     "output_type": "stream",
     "text": [
      "100%|██████████| 100/100 [00:00<00:00, 253.30it/s]\n",
      " 30%|███       | 30/100 [00:00<00:00, 284.33it/s]"
     ]
    },
    {
     "name": "stdout",
     "output_type": "stream",
     "text": [
      "Processing file../data_filtered_2/judgments-3167.json\n"
     ]
    },
    {
     "name": "stderr",
     "output_type": "stream",
     "text": [
      "100%|██████████| 100/100 [00:00<00:00, 352.33it/s]\n",
      " 31%|███       | 31/100 [00:00<00:00, 289.61it/s]"
     ]
    },
    {
     "name": "stdout",
     "output_type": "stream",
     "text": [
      "Processing file../data_filtered_2/judgments-3169.json\n"
     ]
    },
    {
     "name": "stderr",
     "output_type": "stream",
     "text": [
      "100%|██████████| 100/100 [00:00<00:00, 270.26it/s]\n",
      " 42%|████▏     | 34/81 [00:00<00:00, 332.86it/s]"
     ]
    },
    {
     "name": "stdout",
     "output_type": "stream",
     "text": [
      "Processing file../data_filtered_2/judgments-3173.json\n"
     ]
    },
    {
     "name": "stderr",
     "output_type": "stream",
     "text": [
      "100%|██████████| 81/81 [00:00<00:00, 350.16it/s]\n",
      " 34%|███▍      | 34/100 [00:00<00:00, 337.95it/s]"
     ]
    },
    {
     "name": "stdout",
     "output_type": "stream",
     "text": [
      "Processing file../data_filtered_2/judgments-3172.json\n"
     ]
    },
    {
     "name": "stderr",
     "output_type": "stream",
     "text": [
      "100%|██████████| 100/100 [00:00<00:00, 372.89it/s]\n",
      " 36%|███▌      | 36/100 [00:00<00:00, 334.06it/s]"
     ]
    },
    {
     "name": "stdout",
     "output_type": "stream",
     "text": [
      "Processing file../data_filtered_2/judgments-3166.json\n"
     ]
    },
    {
     "name": "stderr",
     "output_type": "stream",
     "text": [
      "100%|██████████| 100/100 [00:00<00:00, 281.98it/s]\n",
      " 31%|███       | 31/100 [00:00<00:00, 277.09it/s]"
     ]
    },
    {
     "name": "stdout",
     "output_type": "stream",
     "text": [
      "Processing file../data_filtered_2/judgments-3170.json\n"
     ]
    },
    {
     "name": "stderr",
     "output_type": "stream",
     "text": [
      "100%|██████████| 100/100 [00:00<00:00, 282.72it/s]\n"
     ]
    }
   ],
   "source": [
    "read_all_judgments_from_2018()"
   ]
  },
  {
   "cell_type": "code",
   "execution_count": 5,
   "metadata": {
    "collapsed": true
   },
   "outputs": [],
   "source": [
    "with open('judgment_succeeded.pickle', 'rb') as handle:\n",
    "    judgment_succeeded = pickle.load(handle)"
   ]
  },
  {
   "cell_type": "code",
   "execution_count": 6,
   "metadata": {
    "collapsed": true
   },
   "outputs": [],
   "source": [
    "zipped = zip(judgments, signatures, judgment_succeeded)\n",
    "zipped_filtered = [triple[:2] for triple in list(zipped) if triple[2]]"
   ]
  },
  {
   "cell_type": "code",
   "execution_count": 7,
   "metadata": {
    "collapsed": true
   },
   "outputs": [],
   "source": [
    "judgments, signatures = map(list, zip(*zipped_filtered))"
   ]
  },
  {
   "cell_type": "code",
   "execution_count": 8,
   "metadata": {},
   "outputs": [
    {
     "data": {
      "text/plain": [
       "['VI Ca 651/17']"
      ]
     },
     "execution_count": 8,
     "metadata": {},
     "output_type": "execute_result"
    }
   ],
   "source": [
    "signatures[0]"
   ]
  },
  {
   "cell_type": "code",
   "execution_count": 23,
   "metadata": {
    "collapsed": true
   },
   "outputs": [],
   "source": [
    "test_idx = random.sample(range(0, 782), int(0.25*781.0))\n",
    "train_idx = list(range(0, 782))\n",
    "train_idx = [el for el in train_idx if el not in test_idx]"
   ]
  },
  {
   "cell_type": "code",
   "execution_count": 24,
   "metadata": {
    "collapsed": true
   },
   "outputs": [],
   "source": [
    "judge_processor = JudgmentsProcessor.JudgmentsProcessor(judgments, signatures, 'filteredRank.csv')"
   ]
  },
  {
   "cell_type": "code",
   "execution_count": null,
   "metadata": {
    "collapsed": true
   },
   "outputs": [],
   "source": []
  },
  {
   "cell_type": "code",
   "execution_count": 25,
   "metadata": {},
   "outputs": [
    {
     "name": "stdout",
     "output_type": "stream",
     "text": [
      "['na', 'do', 'nie', 'że', 'dnia', 'się', 'art', 'od', 'przez', 'sąd', 'roku', 'pracy', 'za', 'jest', 'oraz', 'zł', 'tym', 'to', 'sądu', 'co']\n"
     ]
    }
   ],
   "source": [
    "X, Y, counter = judge_processor.process_judgments()"
   ]
  },
  {
   "cell_type": "code",
   "execution_count": 26,
   "metadata": {},
   "outputs": [
    {
     "name": "stdout",
     "output_type": "stream",
     "text": [
      "Counter({'sprawy z zakresu ubezpieczenia społecznego': 257,\n",
      "         'sprawy cywilne': 214,\n",
      "         'sprawy karne': 143,\n",
      "         'sprawy gospodarcze': 107,\n",
      "         'sprawy w zakresie prawa pracy': 72,\n",
      "         'sprawy w zakresie prawa rodzinnego': 42,\n",
      "         'sprawy o wykroczenia': 33,\n",
      "         'sprawy w zakresie prawa konkurencji': 5})\n"
     ]
    }
   ],
   "source": [
    "pprint.pprint (counter)"
   ]
  },
  {
   "cell_type": "code",
   "execution_count": 27,
   "metadata": {},
   "outputs": [
    {
     "name": "stdout",
     "output_type": "stream",
     "text": [
      "781\n",
      "781\n"
     ]
    }
   ],
   "source": [
    "print (len(X))\n",
    "print (len(Y))"
   ]
  },
  {
   "cell_type": "code",
   "execution_count": null,
   "metadata": {
    "collapsed": true
   },
   "outputs": [],
   "source": []
  },
  {
   "cell_type": "code",
   "execution_count": 28,
   "metadata": {},
   "outputs": [
    {
     "name": "stderr",
     "output_type": "stream",
     "text": [
      "/home/grzegorz/anaconda2/envs/py3/lib/python3.6/site-packages/sklearn/utils/validation.py:547: DataConversionWarning: A column-vector y was passed when a 1d array was expected. Please change the shape of y to (n_samples, ), for example using ravel().\n",
      "  y = column_or_1d(y, warn=True)\n",
      "/home/grzegorz/anaconda2/envs/py3/lib/python3.6/site-packages/sklearn/metrics/classification.py:1428: UserWarning: labels size, 7, does not match size of target_names, 8\n",
      "  .format(len(labels), len(target_names))\n"
     ]
    }
   ],
   "source": [
    "judgment_classifier = JudgmentsClassifier.JudgmentsClassifier(X, Y, train_idx, test_idx)\n",
    "result_dict, clf, hyper_params = judgment_classifier.transform_and_train_classifier()"
   ]
  },
  {
   "cell_type": "code",
   "execution_count": 29,
   "metadata": {},
   "outputs": [
    {
     "name": "stdout",
     "output_type": "stream",
     "text": [
      "{'C': 100, 'gamma': 0.1, 'kernel': 'rbf'}\n",
      "0.912371134021\n",
      "                                            precision    recall  f1-score   support\n",
      "\n",
      "                            sprawy cywilne       0.79      0.91      0.85        45\n",
      "sprawy z zakresu ubezpieczenia społecznego       1.00      1.00      1.00        64\n",
      "                              sprawy karne       1.00      0.94      0.97        31\n",
      "                        sprawy gospodarcze       0.85      0.72      0.78        32\n",
      "             sprawy w zakresie prawa pracy       0.89      0.80      0.84        10\n",
      "        sprawy w zakresie prawa rodzinnego       1.00      1.00      1.00         8\n",
      "                      sprawy o wykroczenia       0.80      1.00      0.89         4\n",
      "\n",
      "                               avg / total       0.92      0.91      0.91       194\n",
      "\n",
      "(0.91237113402061853, 0.91237113402061853, 0.91237113402061853, None)\n",
      "(0.90417175417175411, 0.90933499743983615, 0.90324038005783869, None)\n"
     ]
    }
   ],
   "source": [
    "print (hyper_params)\n",
    "print(result_dict['accuracy_score'])\n",
    "print(result_dict['classification_report'])\n",
    "print(result_dict['micro_report'])\n",
    "print(result_dict['macro_report'])"
   ]
  },
  {
   "cell_type": "code",
   "execution_count": 30,
   "metadata": {
    "collapsed": true
   },
   "outputs": [],
   "source": [
    "import pickle\n",
    "with open('judgments.pickle', 'rb') as handle:\n",
    "    judgments = pickle.load(handle)\n",
    "with open('signatures.pickle', 'rb') as handle:\n",
    "    signatures = pickle.load(handle)\n",
    "    \n",
    "with open('judgment_succeeded.pickle', 'rb') as handle:\n",
    "    judgment_succeeded = pickle.load(handle)\n",
    "    \n"
   ]
  },
  {
   "cell_type": "code",
   "execution_count": 31,
   "metadata": {
    "collapsed": true
   },
   "outputs": [],
   "source": [
    "zipped = zip(judgments, signatures, judgment_succeeded)\n",
    "zipped_filtered = [triple[:2] for triple in list(zipped) if triple[2]]\n",
    "judgments, signatures = map(list, zip(*zipped_filtered))"
   ]
  },
  {
   "cell_type": "code",
   "execution_count": 32,
   "metadata": {
    "collapsed": true
   },
   "outputs": [],
   "source": [
    "judge_processor = JudgmentsProcessor.JudgmentsProcessor(judgments, signatures, 'taggedRank.csv')"
   ]
  },
  {
   "cell_type": "code",
   "execution_count": 33,
   "metadata": {},
   "outputs": [
    {
     "name": "stdout",
     "output_type": "stream",
     "text": [
      "['w', 'z', 'na', 'do', 'rok', 'być', 'dzień', 'on', 'sąd', 'praca', '1', 'ten', 'od', 'przez', 'który', 'o', 'art', 'k', 'sprawa', 'złoty']\n"
     ]
    }
   ],
   "source": [
    "X, Y, counter = judge_processor.process_judgments()"
   ]
  },
  {
   "cell_type": "code",
   "execution_count": 34,
   "metadata": {},
   "outputs": [
    {
     "name": "stdout",
     "output_type": "stream",
     "text": [
      "781\n"
     ]
    }
   ],
   "source": [
    "print (len(X))"
   ]
  },
  {
   "cell_type": "code",
   "execution_count": null,
   "metadata": {},
   "outputs": [],
   "source": [
    "judgment_classifier = JudgmentsClassifier.JudgmentsClassifier(X, Y, train_idx, test_idx)\n",
    "result_dict, clf, hyper_params = judgment_classifier.transform_and_train_classifier()"
   ]
  },
  {
   "cell_type": "code",
   "execution_count": 22,
   "metadata": {},
   "outputs": [
    {
     "name": "stdout",
     "output_type": "stream",
     "text": [
      "{'C': 100, 'gamma': 0.1, 'kernel': 'rbf'}\n",
      "0.907692307692\n",
      "                                            precision    recall  f1-score   support\n",
      "\n",
      "                            sprawy cywilne       0.87      0.87      0.87        55\n",
      "sprawy z zakresu ubezpieczenia społecznego       1.00      0.98      0.99        54\n",
      "                              sprawy karne       0.97      0.94      0.95        32\n",
      "                        sprawy gospodarcze       0.73      0.95      0.83        20\n",
      "             sprawy w zakresie prawa pracy       0.92      0.67      0.77        18\n",
      "        sprawy w zakresie prawa rodzinnego       1.00      1.00      1.00        11\n",
      "                      sprawy o wykroczenia       0.67      0.80      0.73         5\n",
      "\n",
      "                               avg / total       0.92      0.91      0.91       195\n",
      "\n",
      "(0.90769230769230769, 0.90769230769230769, 0.90769230769230758, None)\n",
      "(0.8801402898177092, 0.88691077441077437, 0.8776165232710379, None)\n"
     ]
    }
   ],
   "source": [
    "print (hyper_params)\n",
    "print(result_dict['accuracy_score'])\n",
    "print(result_dict['classification_report'])\n",
    "print(result_dict['micro_report'])\n",
    "print(result_dict['macro_report'])"
   ]
  },
  {
   "cell_type": "code",
   "execution_count": null,
   "metadata": {
    "collapsed": true
   },
   "outputs": [],
   "source": []
  }
 ],
 "metadata": {
  "kernelspec": {
   "display_name": "Python 3",
   "language": "python",
   "name": "python3"
  },
  "language_info": {
   "codemirror_mode": {
    "name": "ipython",
    "version": 3
   },
   "file_extension": ".py",
   "mimetype": "text/x-python",
   "name": "python",
   "nbconvert_exporter": "python",
   "pygments_lexer": "ipython3",
   "version": "3.6.1"
  }
 },
 "nbformat": 4,
 "nbformat_minor": 2
}
