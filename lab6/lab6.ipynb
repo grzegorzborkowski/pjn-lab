{
 "cells": [
  {
   "cell_type": "code",
   "execution_count": 1,
   "metadata": {
    "collapsed": true
   },
   "outputs": [],
   "source": [
    "import tqdm, json, os, re, string, pprint, itertools, seaborn, collections, numpy as np, csv, requests\n",
    "import matplotlib.pyplot as plt\n",
    "from sklearn.model_selection import train_test_split\n",
    "from sklearn.preprocessing import LabelBinarizer\n",
    "from sklearn.feature_extraction.text import TfidfVectorizer\n",
    "from sklearn import svm\n",
    "from sklearn.metrics import classification_report, accuracy_score, precision_recall_fscore_support\n",
    "\n",
    "from sklearn.model_selection import GridSearchCV\n",
    "import JudgmentsProcessor\n",
    "import JudgmentsClassifier"
   ]
  },
  {
   "cell_type": "code",
   "execution_count": 2,
   "metadata": {
    "collapsed": true
   },
   "outputs": [],
   "source": [
    "def process_judgment(judgment):\n",
    "    data_to_query = (\",\").join(judgment)\n",
    "    r = requests.post(data=data_to_query.encode(\"utf-8\"), url=\"http://localhost:9200\")\n",
    "    response_text = r.text\n",
    "    splited_response = response_text.splitlines()\n",
    "    splited_response = [\" \".join(x.replace(\"\\t\", \" \").replace(\"none\", \"\")[1:].split(\":\")[:2][:1]).replace(\" \", \":\")\n",
    "                        for x in splited_response if \":\" in x]\n",
    "    splited_response = [x.split(\":\")[0] for x in splited_response]\n",
    "    return splited_response\n",
    "\n",
    "judgments = []\n",
    "signatures = []\n",
    "judgment_succeeded = []\n",
    "\n",
    "def read_file(file_path, is_transforming=False):\n",
    "   \n",
    "    print (\"Processing file\" + file_path)\n",
    "    with open (file_path) as file:\n",
    "        json_content = json.load(file)\n",
    "        item_count = 0\n",
    "        for item in tqdm.tqdm(json_content):\n",
    "            judgment = []\n",
    "            if item['courtType'] in ['COMMON', 'SUPREME']:\n",
    "                courtCases = item['courtCases']\n",
    "                signatures_for_judgment = []\n",
    "                for courtCase in courtCases:\n",
    "                    signature = courtCase['caseNumber']\n",
    "                    signatures_for_judgment.append(signature)\n",
    "                signatures.append(signatures_for_judgment)\n",
    "                item_count += 1\n",
    "                text_content = re.sub(\"<.*?>\", \"\", item[\"textContent\"])\n",
    "                text_content = text_content.replace('-\\n', '')\n",
    "                word_content = text_content.split()\n",
    "                topicSpecificPunctuation = '„”–§…«»'\n",
    "                translator = str.maketrans('', '', string.punctuation+topicSpecificPunctuation)\n",
    "\n",
    "                for word in word_content:\n",
    "                    word = word.translate(translator).lower()\n",
    "                    if len(word)>0:\n",
    "                        judgment.append(word)\n",
    "                if not is_transforming:\n",
    "                    judgments.append(judgment)\n",
    "                else:\n",
    "                    processed = process_judgment(judgment)\n",
    "                    judgments.append(processed)\n",
    "                    judgment_succeeded.append(len(judgment) > 0)"
   ]
  },
  {
   "cell_type": "code",
   "execution_count": 3,
   "metadata": {
    "collapsed": true
   },
   "outputs": [],
   "source": [
    "def read_all_judgments_from_2018(is_transforming=False):\n",
    "        for filename in os.listdir(\"../data_filtered_2/\"):\n",
    "            read_file(\"../data_filtered_2/\" + filename, is_transforming)"
   ]
  },
  {
   "cell_type": "code",
   "execution_count": 4,
   "metadata": {},
   "outputs": [
    {
     "name": "stderr",
     "output_type": "stream",
     "text": [
      "100%|██████████| 9/9 [00:00<00:00, 228.57it/s]\n",
      " 47%|████▋     | 47/100 [00:00<00:00, 436.68it/s]"
     ]
    },
    {
     "name": "stdout",
     "output_type": "stream",
     "text": [
      "Processing file../data_filtered_2/judgments-3163.json\n",
      "Processing file../data_filtered_2/judgments-3168.json\n"
     ]
    },
    {
     "name": "stderr",
     "output_type": "stream",
     "text": [
      "100%|██████████| 100/100 [00:00<00:00, 354.72it/s]\n",
      " 25%|██▌       | 25/100 [00:00<00:00, 244.52it/s]"
     ]
    },
    {
     "name": "stdout",
     "output_type": "stream",
     "text": [
      "Processing file../data_filtered_2/judgments-3164.json\n"
     ]
    },
    {
     "name": "stderr",
     "output_type": "stream",
     "text": [
      "100%|██████████| 100/100 [00:00<00:00, 278.24it/s]\n",
      " 42%|████▏     | 42/100 [00:00<00:00, 397.03it/s]"
     ]
    },
    {
     "name": "stdout",
     "output_type": "stream",
     "text": [
      "Processing file../data_filtered_2/judgments-3171.json\n"
     ]
    },
    {
     "name": "stderr",
     "output_type": "stream",
     "text": [
      "100%|██████████| 100/100 [00:00<00:00, 346.76it/s]\n",
      " 25%|██▌       | 25/100 [00:00<00:00, 247.14it/s]"
     ]
    },
    {
     "name": "stdout",
     "output_type": "stream",
     "text": [
      "Processing file../data_filtered_2/judgments-3165.json\n"
     ]
    },
    {
     "name": "stderr",
     "output_type": "stream",
     "text": [
      "100%|██████████| 100/100 [00:00<00:00, 254.97it/s]\n",
      " 31%|███       | 31/100 [00:00<00:00, 301.98it/s]"
     ]
    },
    {
     "name": "stdout",
     "output_type": "stream",
     "text": [
      "Processing file../data_filtered_2/judgments-3167.json\n"
     ]
    },
    {
     "name": "stderr",
     "output_type": "stream",
     "text": [
      "100%|██████████| 100/100 [00:00<00:00, 363.80it/s]\n",
      " 31%|███       | 31/100 [00:00<00:00, 297.00it/s]"
     ]
    },
    {
     "name": "stdout",
     "output_type": "stream",
     "text": [
      "Processing file../data_filtered_2/judgments-3169.json\n"
     ]
    },
    {
     "name": "stderr",
     "output_type": "stream",
     "text": [
      "100%|██████████| 100/100 [00:00<00:00, 288.34it/s]\n",
      " 37%|███▋      | 30/81 [00:00<00:00, 297.83it/s]"
     ]
    },
    {
     "name": "stdout",
     "output_type": "stream",
     "text": [
      "Processing file../data_filtered_2/judgments-3173.json\n"
     ]
    },
    {
     "name": "stderr",
     "output_type": "stream",
     "text": [
      "100%|██████████| 81/81 [00:00<00:00, 323.96it/s]\n",
      " 36%|███▌      | 36/100 [00:00<00:00, 355.72it/s]"
     ]
    },
    {
     "name": "stdout",
     "output_type": "stream",
     "text": [
      "Processing file../data_filtered_2/judgments-3172.json\n"
     ]
    },
    {
     "name": "stderr",
     "output_type": "stream",
     "text": [
      "100%|██████████| 100/100 [00:00<00:00, 388.11it/s]\n",
      " 37%|███▋      | 37/100 [00:00<00:00, 362.83it/s]"
     ]
    },
    {
     "name": "stdout",
     "output_type": "stream",
     "text": [
      "Processing file../data_filtered_2/judgments-3166.json\n"
     ]
    },
    {
     "name": "stderr",
     "output_type": "stream",
     "text": [
      "100%|██████████| 100/100 [00:00<00:00, 333.45it/s]\n",
      " 31%|███       | 31/100 [00:00<00:00, 285.67it/s]"
     ]
    },
    {
     "name": "stdout",
     "output_type": "stream",
     "text": [
      "Processing file../data_filtered_2/judgments-3170.json\n"
     ]
    },
    {
     "name": "stderr",
     "output_type": "stream",
     "text": [
      "100%|██████████| 100/100 [00:00<00:00, 293.81it/s]\n"
     ]
    }
   ],
   "source": [
    "read_all_judgments_from_2018()"
   ]
  },
  {
   "cell_type": "code",
   "execution_count": 5,
   "metadata": {
    "collapsed": true
   },
   "outputs": [],
   "source": [
    "lists = [False] * 775\n",
    "lists.append(True)\n",
    "lists.append(True)\n",
    "judge_processor = JudgmentsProcessor.JudgmentsProcessor(judgments, signatures, 'filteredRank.csv', lists)"
   ]
  },
  {
   "cell_type": "code",
   "execution_count": 6,
   "metadata": {
    "collapsed": true
   },
   "outputs": [],
   "source": [
    "X, Y = judge_processor.process_judgments()"
   ]
  },
  {
   "cell_type": "code",
   "execution_count": 7,
   "metadata": {},
   "outputs": [
    {
     "name": "stdout",
     "output_type": "stream",
     "text": [
      "777\n",
      "777\n"
     ]
    }
   ],
   "source": [
    "print (len(X))\n",
    "print (len(Y))"
   ]
  },
  {
   "cell_type": "code",
   "execution_count": 8,
   "metadata": {},
   "outputs": [
    {
     "name": "stderr",
     "output_type": "stream",
     "text": [
      "/home/grzegorz/anaconda2/envs/py3/lib/python3.6/site-packages/sklearn/utils/validation.py:547: DataConversionWarning: A column-vector y was passed when a 1d array was expected. Please change the shape of y to (n_samples, ), for example using ravel().\n",
      "  y = column_or_1d(y, warn=True)\n"
     ]
    },
    {
     "name": "stdout",
     "output_type": "stream",
     "text": [
      "{'accuracy_score': 0.93846153846153846, 'classification_report': '                                            precision    recall  f1-score   support\\n\\n                            sprawy cywilne       0.81      0.98      0.88        43\\nsprawy z zakresu ubezpieczenia społecznego       1.00      0.99      0.99        68\\n                              sprawy karne       1.00      0.97      0.99        34\\n                        sprawy gospodarcze       0.93      0.67      0.78        21\\n             sprawy w zakresie prawa pracy       1.00      0.87      0.93        15\\n        sprawy w zakresie prawa rodzinnego       1.00      1.00      1.00         6\\n                      sprawy o wykroczenia       0.89      1.00      0.94         8\\n\\n                               avg / total       0.95      0.94      0.94       195\\n', 'micro_report': (0.93846153846153846, 0.93846153846153846, 0.93846153846153846, None), 'macro_report': (0.9471306471306471, 0.92370855318871736, 0.92991477467307082, None)} SVC(C=5000, cache_size=200, class_weight=None, coef0=0.0,\n",
      "  decision_function_shape='ovr', degree=3, gamma=0.001, kernel='rbf',\n",
      "  max_iter=-1, probability=False, random_state=None, shrinking=True,\n",
      "  tol=0.001, verbose=False) {'C': 5000, 'gamma': 0.001, 'kernel': 'rbf'}\n"
     ]
    },
    {
     "name": "stderr",
     "output_type": "stream",
     "text": [
      "/home/grzegorz/anaconda2/envs/py3/lib/python3.6/site-packages/sklearn/metrics/classification.py:1428: UserWarning: labels size, 7, does not match size of target_names, 8\n",
      "  .format(len(labels), len(target_names))\n"
     ]
    }
   ],
   "source": [
    "judgment_classifier = JudgmentsClassifier.JudgmentsClassifier(X, Y)\n",
    "result_dict, clf, hyper_params = judgment_classifier.transform_and_train_classifier()"
   ]
  },
  {
   "cell_type": "code",
   "execution_count": 14,
   "metadata": {},
   "outputs": [
    {
     "name": "stdout",
     "output_type": "stream",
     "text": [
      "{'C': 5000, 'gamma': 0.001, 'kernel': 'rbf'}\n",
      "0.938461538462\n",
      "                                            precision    recall  f1-score   support\n",
      "\n",
      "                            sprawy cywilne       0.81      0.98      0.88        43\n",
      "sprawy z zakresu ubezpieczenia społecznego       1.00      0.99      0.99        68\n",
      "                              sprawy karne       1.00      0.97      0.99        34\n",
      "                        sprawy gospodarcze       0.93      0.67      0.78        21\n",
      "             sprawy w zakresie prawa pracy       1.00      0.87      0.93        15\n",
      "        sprawy w zakresie prawa rodzinnego       1.00      1.00      1.00         6\n",
      "                      sprawy o wykroczenia       0.89      1.00      0.94         8\n",
      "\n",
      "                               avg / total       0.95      0.94      0.94       195\n",
      "\n",
      "(0.93846153846153846, 0.93846153846153846, 0.93846153846153846, None)\n",
      "(0.9471306471306471, 0.92370855318871736, 0.92991477467307082, None)\n"
     ]
    }
   ],
   "source": [
    "print (hyper_params)\n",
    "print(result_dict['accuracy_score'])\n",
    "print(result_dict['classification_report'])\n",
    "print(result_dict['micro_report'])\n",
    "print(result_dict['macro_report'])"
   ]
  },
  {
   "cell_type": "code",
   "execution_count": 17,
   "metadata": {},
   "outputs": [],
   "source": [
    "import pickle\n",
    "with open('judgments.pickle', 'rb') as handle:\n",
    "    judgments = pickle.load(handle)\n",
    "with open('signatures.pickle', 'rb') as handle:\n",
    "    signatures = pickle.load(handle)\n",
    "    \n",
    "judge_processor = JudgmentsProcessor.JudgmentsProcessor(judgments, signatures, 'filteredRank.csv', lists)"
   ]
  },
  {
   "cell_type": "code",
   "execution_count": 18,
   "metadata": {
    "collapsed": true
   },
   "outputs": [],
   "source": [
    "X, Y = judge_processor.process_judgments()"
   ]
  },
  {
   "cell_type": "code",
   "execution_count": 20,
   "metadata": {},
   "outputs": [
    {
     "name": "stderr",
     "output_type": "stream",
     "text": [
      "/home/grzegorz/anaconda2/envs/py3/lib/python3.6/site-packages/sklearn/utils/validation.py:547: DataConversionWarning: A column-vector y was passed when a 1d array was expected. Please change the shape of y to (n_samples, ), for example using ravel().\n",
      "  y = column_or_1d(y, warn=True)\n",
      "/home/grzegorz/anaconda2/envs/py3/lib/python3.6/site-packages/sklearn/metrics/classification.py:1428: UserWarning: labels size, 7, does not match size of target_names, 8\n",
      "  .format(len(labels), len(target_names))\n"
     ]
    }
   ],
   "source": [
    "judgment_classifier = JudgmentsClassifier.JudgmentsClassifier(X, Y)\n",
    "result_dict, clf, hyper_params = judgment_classifier.transform_and_train_classifier()"
   ]
  },
  {
   "cell_type": "code",
   "execution_count": 21,
   "metadata": {},
   "outputs": [
    {
     "name": "stdout",
     "output_type": "stream",
     "text": [
      "{'C': 5000, 'gamma': 0.001, 'kernel': 'rbf'}\n",
      "0.938775510204\n",
      "                                            precision    recall  f1-score   support\n",
      "\n",
      "                            sprawy cywilne       0.80      0.95      0.87        41\n",
      "sprawy z zakresu ubezpieczenia społecznego       1.00      1.00      1.00        56\n",
      "                              sprawy karne       1.00      0.97      0.99        35\n",
      "                        sprawy gospodarcze       0.90      0.72      0.80        25\n",
      "             sprawy w zakresie prawa pracy       1.00      0.89      0.94        19\n",
      "        sprawy w zakresie prawa rodzinnego       1.00      1.00      1.00        11\n",
      "                      sprawy o wykroczenia       1.00      1.00      1.00         9\n",
      "\n",
      "                               avg / total       0.94      0.94      0.94       196\n",
      "\n",
      "(0.93877551020408168, 0.93877551020408168, 0.93877551020408168, None)\n",
      "(0.95655976676384846, 0.93391213224699376, 0.94237405106970318, None)\n"
     ]
    }
   ],
   "source": [
    "print (hyper_params)\n",
    "print(result_dict['accuracy_score'])\n",
    "print(result_dict['classification_report'])\n",
    "print(result_dict['micro_report'])\n",
    "print(result_dict['macro_report'])"
   ]
  },
  {
   "cell_type": "code",
   "execution_count": null,
   "metadata": {
    "collapsed": true
   },
   "outputs": [],
   "source": [
    "# TODO: Increase the range of hyper-parameters\n",
    "# Remove from tagged dataset those where the tagger failed\n",
    "# Test non-tagged and tagged on the very same dataset (including random_state!)"
   ]
  }
 ],
 "metadata": {
  "kernelspec": {
   "display_name": "Python 3",
   "language": "python",
   "name": "python3"
  },
  "language_info": {
   "codemirror_mode": {
    "name": "ipython",
    "version": 3
   },
   "file_extension": ".py",
   "mimetype": "text/x-python",
   "name": "python",
   "nbconvert_exporter": "python",
   "pygments_lexer": "ipython3",
   "version": "3.6.1"
  }
 },
 "nbformat": 4,
 "nbformat_minor": 2
}
