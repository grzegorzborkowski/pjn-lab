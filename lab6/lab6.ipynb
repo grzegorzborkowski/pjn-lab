{
 "cells": [
  {
   "cell_type": "code",
   "execution_count": 116,
   "metadata": {
    "collapsed": true
   },
   "outputs": [],
   "source": [
    "import tqdm, json, os, re, string, pprint, itertools, seaborn, collections, numpy as np, csv\n",
    "import matplotlib.pyplot as plt\n",
    "from sklearn.model_selection import train_test_split\n",
    "from sklearn.preprocessing import LabelBinarizer\n",
    "from sklearn.feature_extraction.text import TfidfVectorizer\n",
    "from sklearn import svm\n",
    "from sklearn.metrics import classification_report, accuracy_score, precision_recall_fscore_support\n",
    "\n",
    "from sklearn.model_selection import GridSearchCV\n"
   ]
  },
  {
   "cell_type": "code",
   "execution_count": 68,
   "metadata": {
    "collapsed": true
   },
   "outputs": [],
   "source": [
    "judgments = []\n",
    "signatures = []\n",
    "\n",
    "def read_file(file_path):\n",
    "    print (\"Processing file\" + file_path)\n",
    "    with open (file_path) as file:\n",
    "        json_content = json.load(file)\n",
    "        item_count = 0\n",
    "        for item in tqdm.tqdm(json_content):\n",
    "            judgment = []\n",
    "            if item['courtType'] in ['COMMON', 'SUPREME']:\n",
    "                courtCases = item['courtCases']\n",
    "                signatures_for_judgment = []\n",
    "                for courtCase in courtCases:\n",
    "                    signature = courtCase['caseNumber']\n",
    "                    signatures_for_judgment.append(signature)\n",
    "                signatures.append(signatures_for_judgment)\n",
    "                item_count += 1\n",
    "                text_content = re.sub(\"<.*?>\", \"\", item[\"textContent\"])\n",
    "                text_content = text_content.replace('-\\n', '')\n",
    "                word_content = text_content.split()\n",
    "                topicSpecificPunctuation = '„”–§…«»'\n",
    "                translator = str.maketrans('', '', string.punctuation+topicSpecificPunctuation)\n",
    "\n",
    "                for word in word_content:\n",
    "                    word = word.translate(translator).lower()\n",
    "                    if len(word)>0:\n",
    "                        judgment.append(word)\n",
    "                judgments.append(judgment)"
   ]
  },
  {
   "cell_type": "code",
   "execution_count": 69,
   "metadata": {
    "collapsed": true
   },
   "outputs": [],
   "source": [
    "def read_all_judgments_from_2018():\n",
    "        for filename in os.listdir(\"../data_filtered_2/\"):\n",
    "            read_file(\"../data_filtered_2/\" + filename)"
   ]
  },
  {
   "cell_type": "code",
   "execution_count": 70,
   "metadata": {},
   "outputs": [
    {
     "name": "stderr",
     "output_type": "stream",
     "text": [
      "100%|██████████| 9/9 [00:00<00:00, 222.64it/s]\n",
      " 45%|████▌     | 45/100 [00:00<00:00, 447.34it/s]"
     ]
    },
    {
     "name": "stdout",
     "output_type": "stream",
     "text": [
      "Processing file../data_filtered_2/judgments-3163.json\n",
      "Processing file../data_filtered_2/judgments-3168.json\n"
     ]
    },
    {
     "name": "stderr",
     "output_type": "stream",
     "text": [
      "100%|██████████| 100/100 [00:00<00:00, 336.74it/s]\n",
      " 30%|███       | 30/100 [00:00<00:00, 288.06it/s]"
     ]
    },
    {
     "name": "stdout",
     "output_type": "stream",
     "text": [
      "Processing file../data_filtered_2/judgments-3164.json\n"
     ]
    },
    {
     "name": "stderr",
     "output_type": "stream",
     "text": [
      "100%|██████████| 100/100 [00:00<00:00, 294.64it/s]\n",
      " 39%|███▉      | 39/100 [00:00<00:00, 385.02it/s]"
     ]
    },
    {
     "name": "stdout",
     "output_type": "stream",
     "text": [
      "Processing file../data_filtered_2/judgments-3171.json\n"
     ]
    },
    {
     "name": "stderr",
     "output_type": "stream",
     "text": [
      "100%|██████████| 100/100 [00:00<00:00, 330.05it/s]\n",
      " 26%|██▌       | 26/100 [00:00<00:00, 253.45it/s]"
     ]
    },
    {
     "name": "stdout",
     "output_type": "stream",
     "text": [
      "Processing file../data_filtered_2/judgments-3165.json\n"
     ]
    },
    {
     "name": "stderr",
     "output_type": "stream",
     "text": [
      "100%|██████████| 100/100 [00:00<00:00, 246.98it/s]\n",
      " 31%|███       | 31/100 [00:00<00:00, 303.54it/s]"
     ]
    },
    {
     "name": "stdout",
     "output_type": "stream",
     "text": [
      "Processing file../data_filtered_2/judgments-3167.json\n"
     ]
    },
    {
     "name": "stderr",
     "output_type": "stream",
     "text": [
      "100%|██████████| 100/100 [00:00<00:00, 365.40it/s]\n",
      " 29%|██▉       | 29/100 [00:00<00:00, 287.73it/s]"
     ]
    },
    {
     "name": "stdout",
     "output_type": "stream",
     "text": [
      "Processing file../data_filtered_2/judgments-3169.json\n"
     ]
    },
    {
     "name": "stderr",
     "output_type": "stream",
     "text": [
      "100%|██████████| 100/100 [00:00<00:00, 278.06it/s]\n",
      " 42%|████▏     | 34/81 [00:00<00:00, 338.94it/s]"
     ]
    },
    {
     "name": "stdout",
     "output_type": "stream",
     "text": [
      "Processing file../data_filtered_2/judgments-3173.json\n"
     ]
    },
    {
     "name": "stderr",
     "output_type": "stream",
     "text": [
      "100%|██████████| 81/81 [00:00<00:00, 352.09it/s]\n",
      " 36%|███▌      | 36/100 [00:00<00:00, 351.98it/s]"
     ]
    },
    {
     "name": "stdout",
     "output_type": "stream",
     "text": [
      "Processing file../data_filtered_2/judgments-3172.json\n"
     ]
    },
    {
     "name": "stderr",
     "output_type": "stream",
     "text": [
      "100%|██████████| 100/100 [00:00<00:00, 354.27it/s]\n",
      " 37%|███▋      | 37/100 [00:00<00:00, 349.40it/s]"
     ]
    },
    {
     "name": "stdout",
     "output_type": "stream",
     "text": [
      "Processing file../data_filtered_2/judgments-3166.json\n"
     ]
    },
    {
     "name": "stderr",
     "output_type": "stream",
     "text": [
      "100%|██████████| 100/100 [00:00<00:00, 314.61it/s]\n",
      " 31%|███       | 31/100 [00:00<00:00, 281.66it/s]"
     ]
    },
    {
     "name": "stdout",
     "output_type": "stream",
     "text": [
      "Processing file../data_filtered_2/judgments-3170.json\n"
     ]
    },
    {
     "name": "stderr",
     "output_type": "stream",
     "text": [
      "100%|██████████| 100/100 [00:00<00:00, 268.91it/s]\n"
     ]
    }
   ],
   "source": [
    "read_all_judgments_from_2018()"
   ]
  },
  {
   "cell_type": "code",
   "execution_count": 71,
   "metadata": {},
   "outputs": [
    {
     "name": "stdout",
     "output_type": "stream",
     "text": [
      "['Ca', 'C', 'K', 'P', 'GC', 'GC', 'Gz', 'Gz', 'GC', 'Ga', 'C', 'AmE', 'AmE', 'U', 'U', 'U', 'U', 'C', 'K', 'K', 'U', 'U', 'K', 'GC', 'GC', 'GC', 'GC', 'Ka', 'AUa', 'AUa', 'P', 'Pa', 'W', 'GC', 'U', 'K', 'Ga', 'K', 'AKa', 'AUa', 'GC', 'C', 'C', 'K', 'C', 'Kp', 'U', 'U', 'Ca', 'Ca', 'K', 'Cz', 'Cz', 'RC', 'U', 'K', 'Ca', 'Pa', 'Pa', 'K', 'K', 'Ca', 'U', 'U', 'U', 'U', 'U', 'U', 'U', 'U', 'U', 'U', 'U', 'C', 'W', 'K', 'RCa', 'W', 'AUa', 'AUa', 'K', 'W', 'W', 'W', 'C', 'U', 'K', 'K', 'AUa', 'AUa', 'AUa', 'AUa', 'Gz', 'Gz', 'Gz', 'C', 'C', 'C', 'K', 'C', 'RC', 'Ca', 'RCa', 'Pa', 'Pa', 'Pa', 'C', 'C', 'C', 'Ga', 'P', 'C', 'Ns', 'K', 'Ka', 'Ka', 'C', 'K', 'P', 'Gz', 'Ns', 'Ns', 'K', 'Ns', 'P', 'P', 'APz', 'Gz', 'P', 'RCa', 'Pa', 'Pa', 'U', 'U', 'U', 'U', 'U', 'U', 'U', 'U', 'U', 'U', 'U', 'Ns', 'P', 'U', 'C', 'U', 'C', 'K', 'GC', 'W', 'Ka', 'U', 'C', 'AKa', 'C', 'K', 'K', 'GC', 'GC', 'K', 'P', 'P', 'Gz', 'U', 'U', 'U', 'Ga', 'Ca', 'U', 'U', 'P', 'C', 'P', 'U', 'U', 'U', 'K', 'P', 'P', 'P', 'U', 'GC', 'GC', 'C', 'Ns', 'AUa', 'ACz', 'C', 'K', 'K', 'K', 'U', 'AUa', 'AUa', 'AUa', 'Ca', 'U', 'U', 'U', 'K', 'K', 'K', 'AUa', 'Gz', 'RC', 'GC', 'Ga', 'C', 'Ga', 'C', 'C', 'U', 'GC', 'AUa', 'AUa', 'AUa', 'Ca', 'Ca', 'GC', 'C', 'Ka', 'RC', 'GC', 'K', 'Ka', 'Ka', 'Ua', 'Ua', 'Ua', 'U', 'C', 'C', 'APa', 'Ko', 'U', 'C', 'C', 'C', 'Gz', 'Ka', 'Cz', 'Cz', 'U', 'W', 'K', 'U', 'U', 'U', 'U', 'U', 'AUa', 'P', 'U', 'Ka', 'Ka', 'C', 'C', 'AUa', 'AUa', 'AUa', 'AUa', 'W', 'C', 'K', 'U', 'U', 'U', 'U', 'C', 'U', 'U', 'C', 'C', 'C', 'AUa', 'P', 'Ga', 'C', 'Ca', 'Ga', 'K', 'U', 'U', 'C', 'Ns', 'Pa', 'P', 'RNs', 'U', 'Ca', 'C', 'RC', 'Ka', 'U', 'C', 'U', 'W', 'RC', 'U', 'Ca', 'GC', 'K', 'P', 'P', 'C', 'P', 'P', 'U', 'W', 'Kz', 'Pa', 'Pa', 'U', 'U', 'ACa', 'ACa', 'Ca', 'C', 'ACa', 'Ka', 'Ka', 'C', 'Cz', 'C', 'C', 'C', 'Ga', 'W', 'C', 'C', 'Ka', 'Ka', 'U', 'U', 'U', 'U', 'U', 'U', 'U', 'P', 'Pa', 'U', 'C', 'GC', 'P', 'C', 'Ka', 'Ka', 'RC', 'C', 'Ns', 'K', 'U', 'Ga', 'Ns', 'Ca', 'Ga', 'U', 'Ka', 'Ka', 'Ka', 'Ka', 'C', 'C', 'Ca', 'AUa', 'Ka', 'Pa', 'U', 'U', 'U', 'U', 'U', 'C', 'K', 'C', 'Nsm', 'U', 'W', 'Ca', 'P', 'Ko', 'ACa', 'ACz', 'Ca', 'U', 'U', 'U', 'C', 'Ka', 'Ka', 'K', 'Cz', 'C', 'K', 'U', 'U', 'RC', 'RC', 'Gz', 'Ca', 'C', 'K', 'Ca', 'Ca', 'Ca', 'Ca', 'S', 'K', 'Ka', 'Ca', 'K', 'AUa', 'AUa', 'U', 'C', 'K', 'RC', 'Pa', 'ACa', 'ACa', 'RC', 'AUa', 'C', 'C', 'W', 'RC', 'Ca', 'Ga', 'K', 'Gz', 'Ga', 'C', 'Ca', 'W', 'Ga', 'C', 'K', 'K', 'U', 'Ka', 'Ka', 'Gz', 'Pa', 'Pa', 'U', 'C', 'C', 'C', 'C', 'C', 'C', 'C', 'C', 'Ns', 'Ca', 'RNs', 'RNs', 'P', 'U', 'U', 'U', 'U', 'U', 'U', 'U', 'U', 'U', 'C', 'C', 'GC', 'Ga', 'Ga', 'Pa', 'Ua', 'Ka', 'C', 'U', 'Ga', 'AUa', 'Ka', 'Ka', 'K', 'C', 'C', 'K', 'C', 'C', 'C', 'C', 'GC', 'C', 'K', 'K', 'Ka', 'Ka', 'Ka', 'U', 'Pa', 'Pa', 'Pa', 'U', 'U', 'U', 'U', 'U', 'U', 'Ca', 'AUa', 'W', 'RCa', 'Gz', 'U', 'Ka', 'U', 'U', 'U', 'U', 'U', 'Ga', 'C', 'AUa', 'Ca', 'RCa', 'AUa', 'AUa', 'AUa', 'P', 'Ga', 'Ca', 'GC', 'AUa', 'AUa', 'AUa', 'U', 'Ga', 'Ga', 'U', 'U', 'U', 'RC', 'U', 'U', 'Ko', 'U', 'Ko', 'Ca', 'AUa', 'Ca', 'C', 'GC', 'Ga', 'Ns', 'U', 'Ca', 'K', 'RC', 'Ka', 'U', 'Ka', 'C', 'C', 'AUa', 'AUa', 'U', 'U', 'Ca', 'U', 'U', 'U', 'GC', 'Ns', 'K', 'Ca', 'Ns', 'K', 'Ka', 'Ka', 'ACa', 'Ca', 'Ca', 'AUa', 'AUa', 'AUa', 'ACa', 'W', 'Ka', 'Ka', 'RC', 'U', 'K', 'W', 'C', 'C', 'K', 'Ka', 'U', 'U', 'U', 'U', 'C', 'Gz', 'Gz', 'C', 'AUa', 'P', 'Ga', 'Ka', 'U', 'Nsm', 'Ka', 'U', 'U', 'RC', 'Ka', 'RC', 'C', 'Ca', 'K', 'C', 'K', 'U', 'Gz', 'C', 'K', 'Gz', 'Ga', 'W', 'C', 'C', 'Gz', 'P', 'Ga', 'Ga', 'P', 'P', 'C', 'W', 'C', 'C', 'C', 'Pz', 'K', 'K', 'Ga', 'Ga', 'AUa', 'U', 'Ka', 'K', 'AUa', 'W', 'AUa', 'W', 'C', 'C', 'K', 'K', 'Ga', 'W', 'K', 'C', 'C', 'Cz', 'Gz', 'Gz', 'Gz', 'Gz', 'K', 'C', 'C', 'Ga', 'Ga', 'Gz', 'Gz', 'U', 'Gz', 'P', 'U', 'RC', 'Ga', 'Ca', 'U', 'W', 'Ga', 'Ga', 'C', 'C', 'K', 'K', 'Cz', 'U', 'U', 'U', 'Ca', 'Ca', 'P', 'K', 'Gz', 'Gz', 'W', 'C', 'C', 'AUz', 'Pa', 'Pa', 'Ns', 'Ns', 'U', 'U', 'U', 'U', 'U', 'Gz', 'K', 'Ca', 'C', 'C', 'Ns', 'GC', 'U', 'C', 'C', 'P', 'K', 'U', 'U', 'U', 'AUz', 'Gz', 'Gz', 'C', 'C', 'C', 'C', 'C', 'C', 'C', 'C', 'Ga', 'U', 'U', 'Ga', 'Gz', 'U', 'U', 'U', 'U', 'P', 'W', 'Ca', 'C', 'Ns', 'Ns', 'AUa', 'U', 'U', 'U', 'W', 'W', 'GC', 'C', 'Ca', 'P', 'Ca', 'Ca', 'U', 'Cz', 'K', 'P', 'U', 'Cz', 'U', 'Gz', 'Gz', 'C', 'Ns', 'AUa', 'AUa', 'AUa', 'U', 'U', 'Ga', 'U', 'C', 'K', 'AUa', 'Gz', 'K', 'K', 'RC', 'Ca', 'RCa', 'RCa', 'RCa', 'U', 'C', 'C', 'Nsm', 'RC', 'RNs', 'RNs', 'W', 'U', 'Ca', 'Ka', 'P', 'U', 'U', 'U', 'U', 'RC', 'RC', 'RC', 'RC', 'U', 'C', 'Ns', 'C', 'C', 'Ca', 'ACz', 'AUa', 'AUa', 'AUa', 'Ca', 'Gz', 'C', 'K', 'K', 'K', 'Ca', 'AUa', 'RC', 'U', 'U', 'RC', 'Ga', 'Ga', 'Gz', 'W', 'RC', 'Ga', 'Kz', 'C', 'C', 'W', 'Ga', 'C', 'Pa', 'Pa', 'Cz', 'K', 'C', 'C', 'AUa', 'AUa', 'Ka', 'Ka', 'Ka', 'U', 'U', 'U', 'U', 'U', 'U', 'GC', 'Ca', 'P', 'U', 'U', 'U', 'U', 'K', 'K', 'K', 'P', 'Pa', 'Pa', 'U', 'Pa', 'U', 'ACa', 'W', 'C', 'AKa', 'U', 'GC', 'Ga', 'Ga', 'U', 'P', 'C', 'C', 'U', 'U', 'GC', 'U', 'Co', 'C', 'K', 'RC', 'Ka', 'Ka', 'C', 'Ka', 'Ka', 'C', 'Ca', 'C', 'RC', 'W', 'Gz', 'Gz', 'K', 'K', 'Cz', 'C', 'Pa', 'Pa', 'Pa', 'AmE', 'AmE', 'Ca', 'K', 'GC', 'K', 'C', 'Ca', 'K', 'K', 'GC', 'Ka', 'AUa', 'AUa', 'RC', 'U', 'U', 'K', 'C', 'C', 'U', 'U', 'U', 'U', 'U', 'AKa', 'C', 'P', 'Ns', 'Ga', 'Gz', 'AmE', 'Cz', 'Cz', 'Nsm', 'Ns', 'C', 'K', 'U', 'P', 'U', 'AUa', 'RC', 'U', 'Ca', 'GC', 'K', 'C', 'C', 'K', 'C', 'K', 'Gz', 'Ga', 'Ga', 'Ns', 'RCa', 'C', 'W', 'W', 'C', 'W', 'Ca', 'RCa', 'C', 'C', 'C']\n"
     ]
    }
   ],
   "source": [
    "signatures_flatten = [item for sublist in signatures for item in sublist]\n",
    "signatures_categories = []\n",
    "for signature in signatures_flatten:\n",
    "    splited = signature.split(\" \")\n",
    "    signatures_categories.append(splited[1])\n",
    "print(signatures_categories)"
   ]
  },
  {
   "cell_type": "code",
   "execution_count": 72,
   "metadata": {},
   "outputs": [
    {
     "data": {
      "image/png": "[encoded data removed]",
      "text/plain": [
       "<matplotlib.figure.Figure at 0x7f31e08ffac8>"
      ]
     },
     "metadata": {},
     "output_type": "display_data"
    }
   ],
   "source": [
    "counter = collections.Counter(signatures_categories)\n",
    "\n",
    "def plot_histogram_from_counter(cnt, initial_values):\n",
    "    counter_len = len(cnt.keys())\n",
    "    plt.figure(figsize=(25,15))\n",
    "    plt.xlabel('Kod sygnatury')\n",
    "    plt.ylabel('Liczba wystąpień')\n",
    "    labels, values = zip(*collections.Counter(initial_values).items())\n",
    "    indexes = np.arange(counter_len)\n",
    "    width = 1\n",
    "\n",
    "    plt.bar(indexes, values, width)\n",
    "    plt.xticks(indexes + width * 0.5, labels)\n",
    "    plt.show()\n",
    "\n",
    "plot_histogram_from_counter(counter, signatures_categories)"
   ]
  },
  {
   "cell_type": "code",
   "execution_count": null,
   "metadata": {
    "collapsed": true
   },
   "outputs": [],
   "source": []
  },
  {
   "cell_type": "code",
   "execution_count": 73,
   "metadata": {},
   "outputs": [
    {
     "name": "stdout",
     "output_type": "stream",
     "text": [
      "(['sygn', 'akt', 'vi', 'gc', '43415', 'wyrok', 'w', 'imieniu', 'rzeczypospolitej', 'polskiej', 'dnia', '02', 'stycznia', '2018', 'roku', 'sąd', 'rejonowy', 'w', 'gdyni', 'vi', 'wydział', 'gospodarczy', 'w', 'składzie', 'przewodniczący', 'ssr', 'justyna', 'supińska', 'protokolant', 'sekr', 'sąd', 'natalia', 'freyer', 'po', 'rozpoznaniu', 'w', 'dniu', '18', 'grudnia', '2017', 'roku', 'w', 'gdyni', 'na', 'rozprawie', 'sprawy', 'z', 'powództwa', 'spółki', 'z', 'ograniczona', 'odpowiedzialnością', 'z', 'siedzibą', 'w', 'w', 'przeciwko', 'p', 'd', 'o', 'zapłatę', 'i', 'zasądza', 'od', 'pozwanego', 'p', 'd', 'na', 'rzecz', 'powoda', 'spółki', 'z', 'ograniczoną', 'odpowiedzialnością', 'z', 'siedzibą', 'w', 'w', 'kwotę', '64', '61010', 'złotych', 'sześćdziesiąt', 'cztery', 'tysiące', 'sześćset', 'dziesięć', 'złotych', 'dziesięć', 'groszy', 'wraz', 'z', 'odsetkami', 'ustawowymi', 'liczonymi', 'za', 'okres', 'od', 'dnia', '31', 'stycznia', '2012', 'roku', 'do', 'dnia', '31', 'grudnia', '2015', 'roku', 'odsetkami', 'ustawowymi', 'za', 'opóźnienie', 'liczonymi', 'za', 'okres', 'od', 'dnia', '01', 'stycznia', '2016', 'roku', 'do', 'dnia', 'zapłaty', 'ii', 'w', 'pozostałym', 'zakresie', 'oddala', 'powództwo', 'iii', 'zasądza', 'od', 'pozwanego', 'p', 'd', 'na', 'rzecz', 'powoda', 'spółki', 'z', 'ograniczoną', 'odpowiedzialnością', 'z', 'siedzibą', 'w', 'w', 'kwotę', '5', '92254', 'złotych', 'pięć', 'tysięcy', 'dziewięćset', 'dwadzieścia', 'dwa', 'złote', 'pięćdziesiąt', 'cztery', 'grosze', 'tytułem', 'zwrotu', 'kosztów', 'procesu', 'iv', 'nakazuje', 'ściągnąć', 'od', 'pozwanego', 'p', 'd', 'na', 'rzecz', 'skarbu', 'państwa', 'sądu', 'rejonowego', 'w', 'gdyni', 'kwotę', '2', '17756', 'złotych', 'dwa', 'tysiące', 'sto', 'siedemdziesiąt', 'siedem', 'złotych', 'pięćdziesiąt', 'sześć', 'groszy', 'tytułem', 'zwrotu', 'kosztów', 'sądowych', 'wypłaconych', 'tymczasowo', 'ze', 'skarbu', 'państwa', 'sądu', 'rejonowego', 'w', 'gdyni', 'v', 'kosztami', 'procesu', 'w', 'pozostałym', 'zakresie', 'obciąża', 'pozwanego', 'p', 'd', 'uznając', 'je', 'za', 'uiszczone', 'sygn', 'akt', 'vi', 'gc', '43415', 'uzasadnienie', 'pozwem', 'z', 'dnia', '24', 'lutego', '2014', 'roku', 'złożonym', 'w', 'elektronicznym', 'postępowaniu', 'upominawczym', 'powód', 'spółka', 'z', 'ograniczoną', 'odpowiedzialnością', 'z', 'siedzibą', 'w', 'w', 'domagał', 'się', 'zasądzenia', 'od', 'pozwanego', 'p', 'd', 'kwoty', '64', '61010', 'złotych', 'wraz', 'z', 'odsetkami', 'ustawowymi', 'liczonymi', 'za', 'okres', 'od', 'dnia', '19', 'stycznia', '2012', 'roku', 'do', 'dnia', 'zapłaty', 'a', 'także', 'kosztów', 'procesu', 'w', 'pierwszej', 'kolejności', 'w', 'uzasadnieniu', 'powód', 'wskazał', 'iż', 'w', 'dniu', '01', 'lipca', '2013', 'roku', 'nastąpiło', 'połączenie', 'spółek', 'zajmujących', 'się', 'dystrybucją', 'paliwa', 'gazowego', 'w', 'trybie', 'art', '492', '2', 'pkt', '1', 'ksh', 'poprzez', 'przeniesienie', 'całego', 'majątku', 'i', 'obowiązków', 'm', 'in', 'spółki', 'z', 'ograniczoną', 'odpowiedzialnością', 'na', 'spółkę', 'z', 'ograniczoną', 'odpowiedzialnością', 'z', 'siedzibą', 'w', 'w', 'z', 'dniem', 'połączenia', 'tj', 'z', 'dniem', '01', 'lipca', '2013', 'roku', 'spółka', 'przejmująca', 'wstąpiła', 'we', 'wszystkie', 'prawa', 'i', 'obowiązki', 'spółek', 'przejmowanych', 'a', 'następnie', 'zmieniła', 'firmę', 'na', 'spółka', 'z', 'ograniczoną', 'odpowiedzialnością', 'z', 'siedzibą', 'w', 'w', 'powód', 'wskazał', 'także', 'że', 'podstawie', 'umowy', 'kompleksowej', 'dostarczania', 'paliwa', 'gazowego', 'numer', 'z', 'dnia', '15', 'września', '2010', 'roku', 'sprzedawca', 'gazu', 'spółka', 'akcyjna', 'z', 'siedzibą', 'w', 'w', 'dostarczał', 'paliwo', 'gazowe', 'do', 'budynku', 'położonego', 'w', 'r', 'przy', 'ulicy', 'w', 'którym', 'pozwany', 'p', 'd', 'prowadził', 'działalność', 'gospodarczą', 'pod', 'firmą', 'umowa', 'obejmowała', 'sprzedaż', 'paliwa', 'gazowego', 'oraz', 'usługę', 'dystrybucji', 'paliwa', 'gazowego', 'do', 'instalacji', 'znajdującej', 'się', 'w', 'obiekcie', 'pozwanego', 'usługa', 'dystrybucji', 'paliwa', 'gazowego', 'była', 'wykonywana', 'przez', 'powoda', 'na', 'podstawie', 'umowy', 'o', 'świadczenie', 'usługi', 'dystrybucji', 'zawartej', 'ze', 'sprzedawcą', 'gazu', 'tj', 'spółką', 'akcyjną', 'z', 'siedzibą', 'w', 'w', 'na', 'posesji', 'pozwanego', 'zainstalowana', 'została', 'stacja', 'redukcyjna', 'składająca', 'się', 'z', 'zestawu', 'urządzeń', 'służących', 'do', 'oczyszczania', 'gazu', 'pomiaru', 'zużycia', 'gazu', 'gazomierz', 'i', 'redukcji', 'ciśnienia', 'do', 'takiej', 'wartości', 'jakiej', 'potrzebuje', 'urządzenie', 'w', 'kotłowni', 'pozwanego', 'z', 'uwagi', 'na', 'nieterminowe', 'regulowanie', 'przez', 'pozwanego', 'należności', 'z', 'tytułu', 'sprzedaży', 'paliwa', 'gazowego', 'umowa', 'na', 'podstawie', 'której', 'dostarczano', 'gaz', 'została', 'wypowiedziana', 'rozwiązanie', 'umowy', 'nastąpiło', 'z', 'dniem', '05', 'sierpnia', '2011', 'roku', 'stan', 'licznika', 'gazomierza', 'w', 'dacie', 'rozwiązania', 'umowy', 'wskazywał', 'zużycie', 'gazu', 'na', 'poziomie', '41', '293', 'm', '3', 'w', 'dniu', 'rozwiązania', 'umowy', 'tj', 'w', 'dniu', '05', 'sierpnia', '2011', 'roku', 'upoważnieni', 'pracownicy', 'powoda', 'udali', 'się', 'do', 'obiektu', 'przy', 'ulicy', 'w', 'r', 'i', 'zamknęli', 'dopływ', 'gazu', 'do', 'nieruchomości', 'pozwanego', 'poprzez', 'zamknięcie', 'doziemnego', 'kurka', 'zamknięto', 'tym', 'samym', 'dopływ', 'gazu', 'do', 'stacji', 'redukcyjnej', 'nie', 'zakładając', 'przy', 'tym', 'dodatkowych', 'plomb', 'ani', 'nie', 'zamykając', 'zaworów', 'w', 'stacji', 'redukcyjnej', 'pracownik', 'pozwanego', 's', 'g', 'obecny', 'przy', 'czynnościach', 'nie', 'wniósł', 'żadnych', 'zastrzeżeń', 'w', 'grudniu', '2011', 'roku', 'nastąpiło', 'wznowienie', 'dostawy', 'gazu', 'do', 'obiektu', 'przy', 'ulicy', 'w', 'r', 'upoważnieni', 'pracownicy', 'powoda', 'w', 'dniu', '15', 'grudnia', '2012', 'roku', 'w', 'obecności', 'pracownika', 'pozwanego', 'uruchomili', 'dopływ', 'gazu', 'otwierając', 'główny', 'kurek', 'przy', 'szczegółowej', 'kontroli', 'polegającej', 'na', 'rozkopaniu', 'kolumny', 'kurka', 'głównego', 'pracownicy', 'powoda', 'stwierdzili', 'uszkodzenie', 'gniazda', 'kolumny', 'kurka', 'głównego', 'usterka', 'powstała', 'w', 'wyniku', 'samowolnego', 'nieumiejętnego', 'odkręcenia', 'kurka', 'w', 'momencie', 'wznowienia', 'dostarczania', 'paliwa', 'gazowego', 'zgodnie', 'ze', 'stanem', 'licznika', 'całkowite', 'zużycie', 'wynosiło', '51', '504', 'm', '3', 'w', 'czasie', 'pomiędzy', 'rozwiązaniem', 'umowy', 'sprzedaży', 'gazu', 'numer', 'a', 'wznowieniem', 'dostawy', 'gazu', 'zostało', 'zużyte', '10', '211', 'm', '3', 'paliwa', 'gazowego', 'w', 'związku', 'z', 'faktem', 'iż', 'pozwany', 'p', 'd', 'korzystał', 'z', 'paliwa', 'gazowego', 'bez', 'zawartej', 'umowy', 'zgodnie', 'z', 'art', '3', 'pkt', '18', 'ustawy', 'prawo', 'energetyczne', 'pobór', 'dokonywany', 'przez', 'pozwanego', 'uznać', 'należy', 'za', 'nielegalny', 'za', 'gaz', 'pobrany', 'przez', 'pozwanego', 'sprzedawca', 'paliwa', 'gazowego', 'tj', 'spółką', 'akcyjną', 'z', 'siedzibą', 'w', 'w', 'naliczył', 'opłaty', 'w', 'rozliczeniach', 'przedsiębiorstwami', 'energetycznymi', 'zajmującymi', 'się', 'sprzedażą', 'i', 'dystrybucją', 'gazu', 'zakłada', 'się', 'iż', 'ilość', 'paliwa', 'wprowadzonego', 'do', 'sieci', 'przez', 'sprzedawcę', 'równa', 'się', 'ilości', 'paliwa', 'dostarczonego', 'odbiorcom', 'końcowym', 'gaz', 'pobrany', 'nielegalnie', 'za', 'który', 'sprzedawca', 'nie', 'otrzymał', 'zapłaty', 'uważa', 'się', 'za', 'gaz', 'utracony', 'odpowiedzialność', 'za', 'gaz', 'utracony', 'ponosi', 'operator', 'sieci', 'dystrybucyjnej', 'na', 'zasadach', 'opisanych', 'w', '24', 'i', 'następnych', 'rozporządzenia', 'ministra', 'gospodarki', 'z', 'dnia', '02', 'lipca', '2010', 'roku', 'będąc', 'zmuszony', 'do', 'zbilansowania', 'systemu', 'poprzez', 'nabycie', 'paliwa', 'utraconego', 'od', 'sprzedawcy', 'gazu', 'a', 'więc', 'uiszcza', 'on', 'względem', 'przedsiębiorstwa', 'energetycznego', 'zajmującego', 'się', 'obrotem', 'paliwami', 'gazowymi', 'należności', 'pokrywające', 'różnicę', 'pomiędzy', 'paliwem', 'wprowadzonym', 'do', 'sieci', 'a', 'paliwem', 'pobranym', 'przez', 'ogół', 'odbiorców', 'do', 'tej', 'sieci', 'przyłączonych', 'w', 'związku', 'z', 'powyższym', 'to', 'właśnie', 'przedsiębiorstwo', 'energetyczne', 'zajmujące', 'się', 'dystrybucją', 'paliw', 'gazowych', 'czyli', 'powód', 'na', 'podstawie', 'art', '57', 'ustawy', 'prawo', 'energetyczne', 'może', 'pobierać', 'od', 'odbiorcy', 'a', 'w', 'przypadku', 'gdy', 'pobór', 'paliw', 'nastąpił', 'bez', 'zawarcia', 'umowy', 'od', 'osoby', 'lub', 'osób', 'nielegalnie', 'pobierających', 'paliwa', 'lub', 'energię', 'opłatę', 'w', 'wysokości', 'określonej', 'w', 'taryfie', 'obowiązujące', 'w', 'momencie', 'wykrycia', 'nielegalnego', 'poboru', 'gazu', 'rozporządzenie', 'ministra', 'gospodarki', 'z', 'dnia', '06', 'lutego', '2008', 'roku', 'w', 'sprawie', 'szczegółowych', 'zasad', 'kształtowania', 'i', 'kalkulacji', 'taryf', 'oraz', 'rozliczeń', 'w', 'obrocie', 'paliwami', 'gazowymi', 'wydane', 'na', 'podstawie', 'art', '46', 'ust', '1', 'i', '2', 'ustawy', 'prawo', 'energetyczne', 'określające', 'sposób', 'ustalania', 'opłat', 'za', 'nielegalny', 'pobór', 'paliw', 'gazowych', 'w', '44', 'ust1', 'wskazuje', 'iż', 'w', 'przypadku', 'nielegalnego', 'pobierania', 'paliw', 'gazowych', 'przedsiębiorstwo', 'energetyczne', 'wykonujące', 'działalność', 'gospodarczą', 'w', 'zakresie', 'przesyłania', 'lub', 'dystrybucji', 'paliw', 'gazowych', 'może', 'obciążyć', 'podmiot', 'nielegalnie', 'pobierający', 'paliwa', 'gazowe', 'opłatami', 'w', 'wysokości', 'pięciokrotności', 'ceny', 'referencyjnej', 'paliw', 'gazowych', 'obowiązującej', 'w', 'miesiącu', 'stwierdzenia', 'nielegalnego', 'poboru', 'oraz', 'ryczałtowych', 'ilości', 'paliw', 'gazowych', 'określonych', 'na', 'zasadach', 'przewidzianych', 'w', 'taryfie', 'taryfą', 'obowiązującą', 'w', 'dniu', 'wykrycia', 'nielegalnego', 'poboru', 'gazu', 'w', 'lokalu', 'pozwanego', 'była', 'taryfa', 'numer', '4', 'dla', 'usługi', 'dystrybucji', 'gazu', 'wysokometanowego', 'zatwierdzona', 'decyzją', 'prezesa', 'urzędu', 'regulacji', 'energetyki', 'numer', 'z', 'dnia', '30', 'czerwca', '2011', 'roku', 'i', 'opublikowana', 'w', 'biuletynie', 'branżowym', 'urzędu', 'regulacji', 'energetyki', 'paliwa', 'gazowe', 'numer', 'z', 'dnia', '30', 'czerwca', '2011', 'roku', 'w', 'związku', 'z', 'powyższym', 'powód', 'będący', 'przedsiębiorstwem', 'energetycznym', 'wykonującym', 'działalność', 'gospodarczą', 'w', 'zakresie', 'dystrybucji', 'paliw', 'gazowych', 'na', 'podstawie', 'powyższej', 'taryfy', 'w', 'oparciu', 'o', 'pkt', '81', 'lit', 'a', 'stanowiący', 'iż', 'nielegalnym', 'poborem', 'gazu', 'jest', 'pobieranie', 'paliwa', 'gazowego', 'bez', 'zawartej', 'umowy', 'pkt', '82', 'wskazujący', 'na', 'możliwość', 'uwzględnienia', 'rzeczywistych', 'możliwości', 'poboru', 'mając', 'na', 'uwadze', 'fakt', 'iż', 'w', 'miesiącu', 'stwierdzenia', 'nielegalnego', 'poboru', 'cena', 'referencyjna', 'jednego', 'metra', 'sześciennego', 'gazu', 'wynosiła', '1', '2655', 'złotych', 'obciążył', 'pozwanego', 'jako', 'osobę', 'która', 'pobrała', '10', '211', 'm', '3', 'gazu', 'bez', 'zawartej', 'umowy', 'opłatą', 'z', 'tytułu', 'nielegalnego', 'poboru', 'gazu', 'w', 'wysokości', '64', '610', 'złotych', 'pismem', 'z', 'dnia', '04', 'stycznia', '2012', 'roku', 'powód', 'poinformował', 'pozwanego', 'p', 'd', 'o', 'obciążeniu', 'go', 'opłatą', 'za', 'nielegalnie', 'pobrane', 'paliwo', 'gazowe', 'termin', 'płatności', 'noty', 'obciążeniowej', 'minął', 'z', 'dniem', '18', 'stycznia', '2012', 'roku', 'pismem', 'z', 'dnia', '09', 'stycznia', '2012', 'roku', 'pozwany', 'odwołał', 'się', 'od', 'noty', 'obciążeniowej', 'wskazując', 'że', 'od', 'czasu', 'zamknięcia', 'dopływu', 'gazu', 'w', 'dniu', '05', 'sierpnia', '2011', 'roku', 'ze', 'stacji', 'redukcyjnej', 'słychać', 'było', 'syczenie', 'a', 'jego', 'budynek', 'był', 'ocieplany', 'olejem', 'opałowym', 'dodatkowo', 'wskazał', 'że', 'kilkukrotnie', 'zgłaszał', 'usterkę', 'stacji', 'redukcyjnej', 'ale', 'na', 'jego', 'wezwania', 'powód', 'nie', 'reagował', 'powód', 'nie', 'uwzględnił', 'powyższego', 'odwołania', 'pozwanego', 'wskazując', 'że', 'dzienne', 'zużycie', 'gazu', 'odnotowane', 'w', 'dniach', 'poprzedzających', 'uruchomienie', 'dostarczania', 'gazu', 'jest', 'porównywalne', 'z', 'dziennym', 'zużyciem', 'odnotowywanym', 'po', 'wznowieniu', 'dostarczania', 'gazu', 'z', 'paliwa', 'gazowego', 'korzystano', 'więc', 'w', 'takim', 'samym', 'stopniu', 'zarówno', 'przed', 'jak', 'i', 'po', 'formalnym', 'wznowieniu', 'dostawy', 'gazu', 'jednocześnie', 'wskazano', 'że', 'niemożliwe', 'jest', 'odnotowywanie', 'takiego', 'poboru', 'jedynie', 'z', 'powodu', 'nieszczelnego', 'zaworu', 'powód', 'wskazał', 'również', 'że', 'syczenie', 'to', 'charakterystyczny', 'dźwięk', 'wydobywający', 'się', 'ze', 'stacji', 'redukcyjnej', 'wskazujący', 'że', 'stacja', 'jest', 'uruchomiona', 'i', 'pracuje', 'należy', 'więc', 'stwierdzić', 'że', 'w', 'okresie', 'od', 'dnia', '05', 'sierpnia', '2011roku', 'do', 'dnia', '15', 'grudnia', '2011', 'roku', 'nielegalnie', 'uruchomiono', 'stację', 'redukcyjną', 'co', 'umożliwiło', 'nielegalny', 'pobór', 'gazu', 'nadto', 'powód', 'wskazał', 'że', 'nie', 'odnotował', 'żadnego', 'zgłoszenia', 'informującego', 'o', 'nieprawidłowym', 'działaniu', 'stacji', 'redukcyjnej', 'zainstalowanej', 'na', 'posesji', 'pozwanego', 'w', 'związku', 'z', 'brakiem', 'należności', 'powód', 'pismami', 'z', 'dnia', '09', 'lutego', '2012', 'roku', 'i', 'z', 'dnia', '08', 'marca', '2012', 'roku', 'wzywał', 'pozwanego', 'do', 'spłaty', 'zadłużenia', 'jednakże', 'bezskutecznie', 'nakazem', 'zapłaty', 'wydanym', 'w', 'postępowaniu', 'upominawczym', 'w', 'dniu', '28', 'marca', '2014', 'roku', 'w', 'sprawie', 'o', 'sygn', 'akt', 'vi', 'nce', '26851414', 'referendarz', 'sądowy', 'sądu', 'rejonowego', 'lublin', 'zachód', 'w', 'lublinie', 'uwzględnił', 'żądanie', 'pozwu', 'w', 'całości', 'w', 'sprzeciwie', 'od', 'powyższego', 'orzeczenia', 'pozwany', 'p', 'd', 'wniósł', 'o', 'oddalenie', 'powództwa', 'w', 'całości', 'zaprzeczając', 'twierdzeniom', 'powoda', 'przedstawionym', 'w', 'uzasadnieniu', 'powództwa', 'w', 'szczególności', 'zaś', 'dokonywania', 'poboru', 'gazu', 'po', 'zamknięciu', 'jego', 'dopływu', 'do', 'nieruchomości', 'w', 'piśmie', 'z', 'datą', 'w', 'nagłówku', 'dnia', '12', 'maja', '2015', 'roku', 'k', '157158', 'akt', 'pozwany', 'p', 'd', 'podniósł', 'zarzut', 'przedawnienia', 'roszczenia', 'jako', 'związanego', 'z', 'faktem', 'dokonania', 'sprzedaży', 'w', 'zakresie', 'przedsiębiorstwa', 'energetycznego', 'i', 'ulegającego', 'dwuletniemu', 'okresowi', 'przedawnienia', 'ponadto', 'wskazał', 'że', 'ilość', 'gazu', 'faktycznie', 'pobranego', 'korespondowała', 'przez', 'cały', 'okres', 'rzekomego', 'nielegalnego', 'poboru', 'gazu', 'z', 'ilością', 'zużywaną', 'przez', 'przedsiębiorstwo', 'w', 'ciągu', 'jednego', 'miesiąca', 'w', 'związku', 'z', 'powyższym', 'brak', 'jest', 'podstaw', 'do', 'twierdzeń', 'iż', 'pozwany', 'bezumownie', 'pobierał', 'gaz', 'w', 'ilości', 'oczywiście', 'niewystarczającej', 'do', 'normalnego', 'korzystania', 'przez', 'sporny', 'okres', 'sąd', 'ustalił', 'następujący', 'stan', 'faktyczny', 'w', 'dniu', '15', 'września', '2010', 'roku', 'spółka', 'akcyjna', 'z', 'siedzibą', 'w', 'w', 'zawarł', 'z', 'p', 'd', 'prowadzącym', 'działalność', 'gospodarczą', 'pod', 'nazwą', 'p', 'd', 'umowę', 'kompleksową', 'dostarczania', 'paliwa', 'gazowego', 'numer', 'której', 'przedmiotem', 'była', 'sprzedaż', 'paliwa', 'gazowego', 'przeniesienie', 'własności', 'oraz', 'usługa', 'dystrybucji', 'tego', 'paliwa', 'do', 'instalacji', 'znajdującej', 'w', 'budynku', 'położonym', 'w', 'r', 'przy', 'ulicy', 'w', 'którym', 'p', 'd', 'prowadził', 'hotel', 'umowa', 'została', 'zawarta', 'na', 'czas', 'nieoznaczony', 'przy', 'czym', 'p', 'd', 'zobowiązał', 'się', 'że', 'będzie', 'nabywał', 'paliwo', 'gazowe', 'wyłącznie', 'w', 'celu', 'wykorzystania', 'go', 'na', 'potrzeby', 'własne', 'w', 'związku', 'z', 'prowadzoną', 'działalnością', 'gospodarczą', 'przez', 'urządzenie', 'gazowe', 'w', 'postaci', 'trzech', 'sztuk', 'kotła', 'gazowego', 'grzewczego', 'o', 'mocy', '367', 'kw', 'usługa', 'dystrybucji', 'paliwa', 'gazowego', 'wykonywana', 'była', 'przez', 'spółkę', 'z', 'ograniczoną', 'odpowiedzialnością', 'z', 'siedzibą', 'w', 'g', 'poprzednika', 'prawnego', 'spółki', 'z', 'ograniczoną', 'odpowiedzialnością', 'z', 'siedzibą', 'w', 'w', 'na', 'podstawie', 'umowy', 'o', 'świadczenie', 'usługi', 'dystrybucji', 'zawartej', 'ze', 'sprzedawcą', 'spółką', 'akcyjną', 'z', 'siedzibą', 'w', 'w', '3', 'umowy', 'w', 'celu', 'realizacji', 'umowy', 'na', 'posesji', 'p', 'd', 'zainstalowana', 'została', 'stacja', 'redukcyjna', 'składająca', 'się', 'z', 'zestawu', 'urządzeń', 'służących', 'do', 'oczyszczania', 'gazu', 'pomiaru', 'zużycia', 'gazu', 'gazomierz', 'i', 'redukcji', 'ciśnienia', 'do', 'takiej', 'wartości', 'jakiej', 'potrzebuje', 'urządzenie', 'w', 'kotłowni', 'układ', 'pomiarowy', 'składał', 'się', 'z', 'gazomierza', 'i', 'rejestratora', 'stanowiących', 'własność', 'p', 'd', '4', 'umowy', 'umowa', 'kompleksowa', 'dostarczania', 'paliwa', 'gazowego', 'numer', 'wraz', 'z', 'załącznikiem', 'zamówieniem', 'ilości', 'paliwa', 'gazowego', 'w', 'poszczególnych', 'miesiącach', '9397', 'akt', 'zeznania', 'pozwanego', 'p', 'd', 'protokół', 'skrócony', 'rozprawy', 'z', 'dnia', '13', 'lutego', '2017', 'roku', 'k', '319321', 'akt', 'zapis', 'obrazu', 'i', 'dźwięku', '002855004948', 'z', 'uwagi', 'na', 'nieterminowe', 'regulowanie', 'przez', 'p', 'd', 'należności', 'z', 'tytułu', 'sprzedaży', 'i', 'dystrybucji', 'paliwa', 'gazowego', 'spółka', 'akcyjna', 'z', 'siedzibą', 'w', 'w', 'wypowiedział', 'mu', 'umowę', 'numer', 'z', 'dniem', '05', 'sierpnia', '2011', 'roku', 'oraz', 'poinformował', 'o', 'wstrzymaniu', 'dostarczania', 'paliwa', 'gazowego', 'oraz', 'że', 'wznowienie', 'dostarczania', 'paliwa', 'gazowego', 'nastąpi', 'po', 'dokonaniu', 'pełnego', 'rozliczenia', 'zaległych', 'i', 'bieżących', 'należności', 'oraz', 'po', 'zawarciu', 'nowej', 'umowy', 'kompleksowej', 'dostarczania', 'paliwa', 'gazowego', 'wypowiedzenie', 'wraz', 'z', 'dowodem', 'odbioru', 'k', '99', '100', 'akt', 'w', 'dniu', 'rozwiązania', 'umowy', 'tj', 'w', 'dniu', '05', 'sierpnia', '2011', 'rok', 'upoważnieni', 'pracownicy', 'spółki', 'z', 'ograniczoną', 'odpowiedzialnością', 'z', 'siedzibą', 'w', 'g', 'poprzednika', 'prawnego', 'spółki', 'z', 'ograniczoną', 'odpowiedzialnością', 'z', 'siedzibą', 'w', 'w', 'w', 'j', 'i', 'k', 'p', 'udali', 'się', 'do', 'obiektu', 'przy', 'ulicy', 'w', 'r', 'gdzie', 'zamknęli', 'dopływ', 'gazu', 'do', 'tego', 'budynku', 'poprzez', 'zamknięcie', 'specjalistycznym', 'kluczem', 'doziemnego', 'kurka', 'gazowego', 'do', 'którego', 'dostęp', 'zabezpieczony', 'był', 'żeliwną', 'pokrywą', 'spowodowało', 'to', 'tym', 'samym', 'jednoczesne', 'zamknięcie', 'dopływu', 'gazu', 'do', 'stacji', 'redukcyjnej', 'także', 'usytuowanej', 'na', 'nieruchomości', 'p', 'd', 'mimo', 'że', 'nie', 'zakładano', 'w', 'niej', 'tj', 'w', 'stacji', 'redukcyjnej', 'dodatkowych', 'plomb', 'ani', 'nie', 'zamykano', 'znajdujących', 'się', 'tam', 'zaworów', 'stan', 'licznika', 'gazomierza', 'w', 'dacie', 'rozwiązania', 'umowy', 'wskazywał', 'zużycie', 'gazu', 'w', 'ilości', '41', '293', 'm', '3', 'pracownik', 'p', 's', 'g', 'obecny', 'przy', 'powyższych', 'czynnościach', 'nie', 'wnosił', 'żadnych', 'zastrzeżeń', 'zlecenie', 'wykonania', 'robót', 'numer', 'k', '98', 'akt', 'odczyty', 'archiwalne', 'dla', 'układu', 'pomiarowego', 'k', '102', 'odczyty', 'układu', 'pomiarowego', 'k', '103104', 'akt', 'zeznania', 'świadka', 's', 'r', 'protokół', 'skrócony', 'rozprawy', 'z', 'dnia', '09', 'marca', '2016', 'roku', 'k', '182184', 'zapis', 'obrazu', 'i', 'dźwięku', '000235003221', 'oraz', 'protokół', 'skrócony', 'rozprawy', 'z', 'dnia', '13', 'lutego', '2017', 'roku', 'k', '318319', 'akt', 'zapis', 'cyfrowy', '000206000929', 'częściowo', 'zeznania', 'pozwanego', 'p', 'd', 'protokół', 'skrócony', 'rozprawy', 'z', 'dnia', '13', 'lutego', '2017', 'roku', 'k', '319321', 'akt', 'zapis', 'obrazu', 'i', 'dźwięku', '002855004948', 'w', 'grudniu', '2011', 'roku', 'p', 'd', 'zawarł', 'ponownie', 'z', 'spółką', 'akcyjną', 'z', 'siedzibą', 'w', 'w', 'umowę', 'kompleksową', 'sprzedaży', 'i', 'dostawy', 'paliwa', 'gazowego', 'do', 'obiektu', 'przy', 'ulicy', 'w', 'r', 'w', 'związku', 'z', 'powyższym', 'upoważnieni', 'pracownicy', 'spółki', 'z', 'ograniczoną', 'odpowiedzialnością', 'z', 'siedzibą', 'w', 'g', 'poprzednika', 'prawnego', 'spółki', 'z', 'ograniczoną', 'odpowiedzialnością', 'z', 'siedzibą', 'w', 'w', 'w', 'dniu', '15', 'grudnia', '2011', 'roku', 'w', 'obecności', 'pracownika', 'p', 'd', 'uruchomili', 'dopływ', 'gazu', 'otwierając', 'główny', 'kurek', 'znajdujący', 'się', 'pod', 'żeliwną', 'zasuwą', 'z', 'uwagi', 'na', 'uszkodzenia', 'kurka', 'ciśnienie', 'gazu', 'było', 'niewielkie', 'stwierdzono', 'także', 'że', 'w', 'stacji', 'redukcyjnej', 'jest', 'wyłączony', 'bezpiecznik', 'przekaźnika', 'danych', 'telemetrycznych', 'który', 'przesyła', 'dane', 'z', 'miejsca', 'poboru', 'gazu', 'do', 'systemu', 'rozliczeniowego', 'spółki', 'z', 'ograniczoną', 'odpowiedzialnością', 'z', 'siedzibą', 'w', 'g', 'poprzednika', 'prawnego', 'spółki', 'z', 'ograniczoną', 'odpowiedzialnością', 'z', 'siedzibą', 'w', 'w', 'przekaźnik', 'wraz', 'z', 'bezpiecznikiem', 'znajdował', 'się', 'na', 'bocznej', 'ściance', 'stacji', 'redukcyjnej', 'i', 'nie', 'był', 'zabezpieczony', 'plombą', 'klucz', 'do', 'stacji', 'redukcyjnej', 'posiadał', 'm', 'in', 'p', 'd', 'w', 'momencie', 'wznowienia', 'dostarczania', 'paliwa', 'gazowego', 'zgodnie', 'ze', 'stanem', 'licznika', 'całkowite', 'zużycie', 'wynosiło', '51', '504', 'm', '3', 'nie', 'stwierdzono', 'naruszenia', 'plomb', 'na', 'urządzeniach', 'w', 'stacji', 'redukcyjnej', 'odczyty', 'układu', 'pomiarowego', 'k', '103104', 'akt', 'notatka', 'służbowa', 'k', '105106', 'akt', 'zeznania', 'świadka', 's', 'r', 'protokół', 'skrócony', 'rozprawy', 'z', 'dnia', '09', 'marca', '2016', 'roku', 'k', '182184', 'zapis', 'obrazu', 'i', 'dźwięku', '000235003221', 'oraz', 'protokół', 'skrócony', 'rozprawy', 'z', 'dnia', '13', 'lutego', '2017', 'roku', 'k', '318319', 'akt', 'zapis', 'cyfrowy', '000206000929', 'częściowo', 'zeznania', 'pozwanego', 'p', 'd', 'protokół', 'skrócony', 'rozprawy', 'z', 'dnia', '13', 'lutego', '2017', 'roku', 'k', '319321', 'akt', 'zapis', 'obrazu', 'i', 'dźwięku', '002855004948', 'podczas', 'szczegółowej', 'kontroli', 'w', 'dniu', '16', 'grudnia', '2011', 'roku', 'polegającej', 'na', 'rozkopaniu', 'doziemnego', 'kurka', 'głównego', 'pracownicy', 'spółki', 'z', 'ograniczoną', 'odpowiedzialnością', 'z', 'siedzibą', 'w', 'g', 'poprzednika', 'prawnego', 'spółki', 'z', 'ograniczoną', 'odpowiedzialnością', 'z', 'siedzibą', 'w', 'w', 'stwierdzili', 'uszkodzenie', 'gniazda', 'kolumny', 'kurka', 'głównego', 'trzpień', 'w', 'tym', 'zaworze', 'był', 'uszkodzony', 'nie', 'można', 'go', 'było', 'ani', 'zamknąć', 'ani', 'otworzyć', 'jedynie', 'pracownicy', 'spółki', 'z', 'ograniczoną', 'odpowiedzialnością', 'z', 'siedzibą', 'w', 'g', 'poprzednika', 'prawnego', 'spółki', 'z', 'ograniczoną', 'odpowiedzialnością', 'z', 'siedzibą', 'w', 'w', 'posiadają', 'specjalny', 'klucz', 'dostosowany', 'do', 'takich', 'zaworów', 'notatka', 'służbowa', 'k', '105106', 'akt', 'zeznania', 'świadka', 's', 'r', 'protokół', 'skrócony', 'rozprawy', 'z', 'dnia', '09', 'marca', '2016', 'roku', 'k', '182184', 'zapis', 'obrazu', 'i', 'dźwięku', '000235003221', 'oraz', 'protokół', 'skrócony', 'rozprawy', 'z', 'dnia', '13', 'lutego', '2017', 'roku', 'k', '318319', 'akt', 'zapis', 'cyfrowy', '000206000929', 'częściowo', 'zeznania', 'pozwanego', 'p', 'd', 'protokół', 'skrócony', 'rozprawy', 'z', 'dnia', '13', 'lutego', '2017', 'roku', 'k', '319321', 'akt', 'zapis', 'obrazu', 'i', 'dźwięku', '002855004948', 'w', 'okresie', 'od', 'sierpnia', '2011', 'roku', 'do', 'grudnia', '2011', 'roku', 'nie', 'odnotowano', 'żadnych', 'zgłoszeń', 'od', 'p', 'd', 'dotyczących', 'nieszczelności', 'instalacji', 'gazowej', 'na', 'jego', 'nieruchomości', 'ani', 'związanych', 'z', 'tym', 'interwencji', 'pracowników', 'spółki', 'z', 'ograniczoną', 'odpowiedzialnością', 'z', 'siedzibą', 'w', 'g', 'poprzednika', 'prawnego', 'spółki', 'z', 'ograniczoną', 'odpowiedzialnością', 'z', 'siedzibą', 'w', 'w', 'notatka', 'służbowa', 'k', '105106', 'akt', 'zeznania', 'świadka', 's', 'r', 'protokół', 'skrócony', 'rozprawy', 'z', 'dnia', '09', 'marca', '2016', 'roku', 'k', '182184', 'zapis', 'obrazu', 'i', 'dźwięku', '000235003221', 'oraz', 'protokół', 'skrócony', 'rozprawy', 'z', 'dnia', '13', 'lutego', '2017', 'roku', 'k', '318319', 'akt', 'zapis', 'cyfrowy', '000206000929', 'częściowo', 'zeznania', 'pozwanego', 'p', 'd', 'protokół', 'skrócony', 'rozprawy', 'z', 'dnia', '13', 'lutego', '2017', 'roku', 'k', '319321', 'akt', 'zapis', 'obrazu', 'i', 'dźwięku', '002855004948', 'pismem', 'z', 'dnia', '04', 'stycznia', '2012', 'roku', 'spółka', 'z', 'ograniczoną', 'odpowiedzialnością', 'z', 'siedzibą', 'w', 'g', 'poprzednik', 'prawny', 'spółki', 'z', 'ograniczoną', 'odpowiedzialnością', 'z', 'siedzibą', 'w', 'w', 'przesyłając', 'notę', 'obciążeniową', 'numer', 'poinformował', 'p', 'd', 'o', 'obciążeniu', 'go', 'opłatą', 'za', 'nielegalnie', 'pobrane', 'w', 'okresie', 'od', 'dnia', '05', 'sierpnia', '2011', 'roku', 'do', 'dnia', '15', 'grudnia', '2011', 'roku', 'paliwo', 'gazowe', 'w', 'kwocie', '64', '61010', 'złotych', 'opłata', 'ta', 'została', 'naliczona', 'w', 'oparciu', 'o', 'taryfę', 'numer', '4', 'dla', 'usługi', 'dystrybucji', 'gazu', 'wysokometanowego', 'zatwierdzoną', 'decyzją', 'prezesa', 'urzędu', 'regulacji', 'energetyki', 'numer', 'z', 'dnia', '30', 'czerwca', '2011', 'roku', 'i', 'opublikowaną', 'w', 'biuletynie', 'branżowym', 'urzędu', 'regulacji', 'energetyki', 'paliwa', 'gazowe', 'numer', 'z', 'dnia', '30', 'czerwca', '2011', 'roku', 'pismo', 'wraz', 'z', 'załącznikami', 'i', 'notą', 'obciążeniową', 'oraz', 'potwierdzeniem', 'odbioru', 'k', '107', '112114', 'akt', 'zmiana', 'taryfy', 'numer', '4', 'k', '108109', 'akt', 'archiwum', 'ceny', 'referencyjnej', 'gazu', 'k', '110111', 'akt', 'pismem', 'z', 'dnia', '09', 'stycznia', '2012', 'roku', 'p', 'd', 'odwołał', 'się', 'od', 'powyższej', 'noty', 'obciążeniowej', 'wskazując', 'że', 'od', 'czasu', 'zamknięcia', 'dopływu', 'gazu', 'w', 'dniu', '05', 'sierpnia', '2011', 'roku', 'ze', 'stacji', 'redukcyjnej', 'słychać', 'było', 'syczenie', 'a', 'jego', 'budynek', 'był', 'ocieplany', 'olejem', 'opałowym', 'dodatkowo', 'wskazał', 'że', 'kilkukrotnie', 'zgłaszał', 'usterkę', 'stacji', 'redukcyjnej', 'ale', 'na', 'jego', 'wezwania', 'nikt', 'nie', 'reagował', 'w', 'odpowiedzi', 'na', 'powyższe', 'spółka', 'z', 'ograniczoną', 'odpowiedzialnością', 'z', 'siedzibą', 'w', 'g', 'poprzednik', 'prawny', 'spółki', 'z', 'ograniczoną', 'odpowiedzialnością', 'z', 'siedzibą', 'w', 'w', 'pismem', 'z', 'dnia', '19', 'stycznia', '20012', 'roku', 'poinformowała', 'p', 'd', 'że', 'tylko', 'samowolne', 'odkręcenie', 'kurka', 'głównego', 'i', 'dopuszczenie', 'gazu', 'do', 'instalacji', 'mogło', 'wywołać', 'zauważone', 'przez', 'pracowników', 'p', 'd', 'syczenie', 'związane', 'z', 'pracą', 'reduktora', 'i', 'przepływem', 'gazu', 'w', 'okresie', 'od', 'dnia', '05', 'sierpnia', '2011', 'roku', 'do', 'dnia', '15', 'grudnia', '2011', 'roku', 'tj', 'od', 'momentu', 'wypowiedzenia', 'do', 'ponownego', 'zawarcia', 'umowy', 'gazomierz', 'znajdujący', 'się', 'w', 'układzie', 'pomiarowym', 'zarejestrował', 'pobór', '10', '211', 'm', '3', 'gazu', 'przy', 'czym', 'przeprowadzona', 'analiza', 'zużycia', 'za', 'okres', 'przed', 'rozwiązaniem', 'umowy', 'oraz', 'zużycia', 'bieżącego', 'po', 'uruchomieniu', 'układu', 'jest', 'porównywalna', 'do', 'ilości', 'paliwa', 'spalanego', 'przez', 'zainstalowany', 'w', 'hotelu', 'kocioł', 'co', 'w', 'okresie', 'określanym', 'jako', 'bezumowny', 'nadto', 'wskazano', 'że', 'w', 'rejonie', 'dystrybucji', 'gazu', 'w', 'r', 'uruchomiony', 'jest', 'całodobowy', 'telefon', 'alarmowy', 'system', 'szybkiej', 'interwencji', 'służb', 'pogotowia', 'gazowego', 'oraz', 'dyżur', 'dyspozytorski', 'każde', 'zgłoszenie', 'ulatniania', 'lub', 'zauważonych', 'nieprawidłowości', 'jest', 'sprawdzane', 'i', 'zabezpieczane', 'istnieją', 'również', 'ścisłe', 'procedury', 'postępowania', 'przy', 'zgłaszaniu', 'awarii', 'jak', 'na', 'przykład', 'rejestracja', 'każdego', 'połączenia', 'telefonicznego', 'z', 'dyspozytorem', 'i', 'zapis', 'w', 'rejestrze', 'zgłoszeń', 'przy', 'czym', 'zgłoszeń', 'p', 'd', 'nie', 'zanotowano', 'termin', 'płatności', 'należności', 'wynikającej', 'z', 'noty', 'obciążeniowej', 'minął', 'z', 'dniem', '30', 'stycznia', '2012', 'roku', 'pismo', 'k', '115', 'akt', 'częściowo', 'zeznania', 'pozwanego', 'p', 'd', 'protokół', 'skrócony', 'rozprawy', 'z', 'dnia', '13', 'lutego', '2017', 'roku', 'k', '319321', 'akt', 'zapis', 'obrazu', 'i', 'dźwięku', '002855004948', 'pismo', 'wraz', 'z', 'potwierdzeniem', 'odbioru', 'k', '116118', 'akt', 'pismami', 'z', 'dnia', '09', 'lutego', '2012', 'roku', 'i', 'z', 'dnia', '08', 'marca', '2012', 'roku', 'spółka', 'z', 'ograniczoną', 'odpowiedzialnością', 'z', 'siedzibą', 'w', 'g', 'poprzednik', 'prawny', 'spółki', 'z', 'ograniczoną', 'odpowiedzialnością', 'z', 'siedzibą', 'w', 'w', 'wzywał', 'p', 'd', 'do', 'zapłaty', 'kwoty', '64', '61010', 'złotych', 'jednakże', 'bezskutecznie', 'wezwania', 'do', 'zapłaty', 'wraz', 'z', 'potwierdzeniami', 'odbioru', 'k', '121122', 'akt', 'najbardziej', 'prawdopodobną', 'przyczyną', 'uszkodzenia', 'kurka', 'głównego', 'gazowego', 'doziemnego', 'była', 'ingerencja', 'osoby', 'niedysponującej', 'odpowiednimi', 'narzędziami', 'do', 'jego', 'obsługi', 'urządzeniem', 'pomiarowym', 'gazu', 'pobieranego', 'przez', 'użytkownika', 'jest', 'gazomierz', 'którego', 'działanie', 'jest', 'w', 'zasadzie', 'czysto', 'mechaniczne', 'niezależne', 'od', 'dostawy', 'energii', 'elektrycznej', 'przekaźnik', 'danych', 'który', 'wymaga', 'zasilenia', 'elektrycznego', 'jest', 'jedynie', 'urządzeniem', 'przekazującym', 'dane', 'zebrane', 'z', 'licznika', 'gazomierza', 'do', 'przedsiębiorstwa', 'dystrybucyjnego', 'gazu', 'w', 'celu', 'ich', 'zdalnego', 'odczytu', 'brak', 'łącza', 'przekazu', 'danych', 'do', 'dostawcy', 'zużycia', 'bieżącego', 'gazu', 'przez', 'odbiorcę', 'w', 'niniejszym', 'przypadku', 'odłączony', 'bezpiecznik', 'nie', 'ma', 'wpływu', 'na', 'dokonanie', 'samych', 'pomiarów', 'nie', 'fałszuje', 'ich', 'a', 'jedynie', 'uniemożliwia', 'ich', 'zdalny', 'odczyt', 'brak', 'zasilania', 'przekaźnika', 'w', 'energię', 'elektryczną', 'nie', 'stanowi', 'ingerencji', 'w', 'układ', 'pomiarowy', 'uniemożliwia', 'jedynie', 'zdalny', 'przekaz', 'informacji', 'z', 'gazomierza', 'do', 'dystrybutora', 'gazu', 'pozostając', 'bez', 'wpływu', 'na', 'jakość', 'liczydła', 'mechanicznego', 'układu', 'pomiarowego', 'gazomierza', 'wskazania', 'zużycia', 'gazu', 'w', 'okresie', 'pomiędzy', 'przerwaniem', 'dostawy', 'gazu', 'i', 'jej', 'wznowieniem', 'są', 'porównywalne', 'do', 'faktycznego', 'zużycia', 'gazu', 'zarejestrowanego', 'w', 'okresach', 'umownych', 'co', 'pozwala', 'stwierdzić', 'że', 'sporna', 'ilość', 'gazu', 'wystarczyłaby', 'na', 'zaspokojenie', 'potrzeb', 'hotelu', 'w', 'okresie', 'półtora', 'dwóch', 'miesięcy', 'w', 'sezonie', 'grzewczym', 'brak', 'jest', 'podstaw', 'do', 'podważenia', 'wiarygodności', 'wskazań', 'gazomierza', 'zliczającego', 'zużycie', 'gazu', 'przez', 'przedmiotowy', 'budynek', 'hotelowy', 'plomby', 'nie', 'były', 'naruszone', 'odłączenie', 'przekaźnika', 'danych', 'od', 'gazomierza', 'nie', 'zaś', 'wpływu', 'na', 'dokonywane', 'przez', 'niego', 'pomiary', 'ilość', 'paliwa', 'gazowego', 'pobranego', 'w', 'okresie', 'od', 'dnia', '05', 'sierpnia2011', 'roku', 'do', 'dnia', '15', 'grudnia', '2011', 'roku', 'oraz', 'stosowna', 'opłata', 'zostały', 'ustalone', 'prawidłowo', 'opinia', 'biegłego', 'sądowego', 'g', 'k', 'k', '352366', 'akt', 'opinia', 'uzupełniająca', 'biegłego', 'sądowego', 'g', 'k', 'k', '407414', 'akt', 'w', 'dniu', '01', 'lipca', '2013', 'roku', 'nastąpiło', 'połączenie', 'spółek', 'zajmujących', 'się', 'dystrybucją', 'paliwa', 'gazowego', 'w', 'trybie', 'art', '492', '2', 'pkt', '1', 'ksh', 'poprzez', 'przeniesienie', 'całego', 'majątku', 'i', 'obowiązków', 'm', 'in', 'spółki', 'z', 'ograniczoną', 'odpowiedzialnością', 'na', 'spółkę', 'z', 'ograniczoną', 'odpowiedzialnością', 'z', 'siedzibą', 'w', 'w', 'z', 'dniem', 'połączenia', 'tj', 'z', 'dniem', '01', 'lipca', '2013', 'roku', 'spółka', 'przejmująca', 'wstąpiła', 'we', 'wszystkie', 'prawa', 'i', 'obowiązki', 'spółek', 'przejmowanych', 'a', 'następnie', 'zmieniła', 'firmę', 'na', 'spółka', 'z', 'ograniczoną', 'odpowiedzialnością', 'z', 'siedzibą', 'w', 'w', 'odpis', 'pełny', 'z', 'rejestru', 'przedsiębiorców', 'krajowego', 'rejestru', 'sądowego', 'numer', 'krs', 'k', '8087', 'akt', 'sąd', 'zważył', 'co', 'następuje', 'stan', 'faktyczny', 'w', 'niniejszej', 'sprawie', 'sąd', 'ustalił', 'na', 'podstawie', 'wyżej', 'powołanych', 'dowodów', 'z', 'dokumentów', 'przedłożonych', 'przez', 'powoda', 'w', 'toku', 'postępowania', 'których', 'prawdziwość', 'i', 'autentyczność', 'nie', 'była', 'przez', 'strony', 'kwestionowana', 'i', 'które', 'nie', 'budziły', 'także', 'wątpliwości', 'sądu', 'co', 'do', 'swej', 'wiarygodności', 'a', 'zatem', 'brak', 'było', 'podstaw', 'do', 'odmowy', 'dania', 'im', 'wiary', 'sąd', 'nie', 'oparł', 'się', 'natomiast', 'na', 'przedłożonych', 'przez', 'pozwanego', 'p', 'd', 'na', 'ostatniej', 'rozprawie', 'w', 'dniu', '18', 'grudnia', '2017', 'roku', 'fakturach', 'mających', 'stanowić', 'dowód', 'zakupu', 'przez', 'niego', 'oleju', 'opałowego', 'w', 'okresie', 'w', 'którym', 'miało', 'dojść', 'do', 'nielegalnego', 'poboru', 'paliwa', 'gazowego', 'mając', 'na', 'uwadze', 'iż', 'przedmiotowe', 'faktury', 'vat', 'przedłożone', 'zostały', 'jedynie', 'w', 'kserokopiach', 'nie', 'poświadczonych', 'za', 'zgodność', 'z', 'oryginałem', 'przez', 'występującego', 'w', 'sprawie', 'pełnomocnika', 'pozwanego', 'a', 'zatem', 'nie', 'stanowią', 'dokumentu', 'w', 'rozumieniu', 'przepisów', 'kodeksu', 'postępowania', 'cywilnego', 'sąd', 'nadto', 'uznał', 'po', 'myśli', 'art', '217', 'kpc', 'wniosek', 'dowodowy', 'w', 'tym', 'zakresie', 'za', 'spóźniony', 'jako', 'że', 'pozwany', 'w', 'żaden', 'sposób', 'nie', 'uprawdopodobnił', 'że', 'nie', 'zgłosił', 'go', 'w', 'czasie', 'właściwym', 'bez', 'swojej', 'winy', 'lub', 'że', 'jego', 'uwzględnienie', 'nie', 'spowoduje', 'zwłoki', 'w', 'rozpoznaniu', 'sprawy', 'albo', 'że', 'występują', 'inne', 'wyjątkowe', 'okoliczności', 'nakazujące', 'sądowi', 'jego', 'uznanie', 'na', 'tym', 'etapie', 'postępowania', 'sąd', 'miał', 'przy', 'tym', 'na', 'uwadze', 'że', 'w', 'toku', 'całego', 'procesu', 'jak', 'również', 'i', 'w', 'korespondencji', 'przedprocesowej', 'między', 'stronami', 'pozwany', 'p', 'd', 'wskazywał', 'na', 'okoliczność', 'ogrzewania', 'prowadzonego', 'przez', 'siebie', 'hotelu', 'olejem', 'opałowym', 'w', 'okresie', 'kiedy', 'nie', 'wiązała', 'go', 'umowa', 'na', 'sprzedaż', 'i', 'dystrybucję', 'paliwa', 'gazowego', 'a', 'zatem', 'potrzeba', 'wykazania', 'tej', 'okoliczności', 'niewątpliwie', 'istniała', 'już', 'we', 'wcześniejszej', 'fazie', 'postępowania', 'tym', 'bardziej', 'że', 'pozwany', 'jako', 'nabywca', 'oleju', 'opałowego', 'pozostawał', 'przecież', 'niewątpliwie', 'w', 'posiadaniu', 'oryginałów', 'tych', 'faktur', 'uwzględnienie', 'złożonego', 'wniosku', 'o', 'przeprowadzenie', 'dowodu', 'z', 'przedłożonych', 'faktur', 'połączonego', 'z', 'wnioskiem', 'o', 'sporządzenie', 'opinii', 'uzupełniającej', 'przez', 'biegłego', 'sądowego', 'na', 'okoliczność', 'czy', 'ilość', 'nabytego', 'oleju', 'opałowego', 'byłaby', 'wystarczająca', 'do', 'ogrzania', 'hotelu', 'pozwanego', 'nie', 'tylko', 'że', 'spowodowałoby', 'i', 'to', 'znaczną', 'zwłokę', 'w', 'rozpoznaniu', 'sprawy', 'ale', 'również', 'w', 'ocenie', 'sądu', 'jest', 'okolicznością', 'nie', 'mającą', 'znaczenia', 'dla', 'rozstrzygnięcia', 'kwestii', 'spornych', 'w', 'sprawie', 'tj', 'czy', 'doszło', 'do', 'nielegalnego', 'poboru', 'gazu', 'w', 'rozumieniu', 'ustawy', 'z', 'dnia', '10', 'kwietnia', '1997', 'roku', 'prawo', 'energetyczne', 'tekst', 'jednolity', 'dz', 'u', 'z', '2017', 'roku', 'poz', '220', 'sfera', 'motywacyjna', 'pozwanego', 'tj', 'to', 'czy', 'miał', 'on', 'potrzebę', 'ewentualnego', 'nielegalnego', 'poboru', 'paliwa', 'gazowego', 'czy', 'też', 'nie', 'jest', 'w', 'niniejszej', 'sprawie', 'kwestią', 'irrelewantną', 'prawnie', 'sąd', 'przy', 'tym', 'zważył', 'że', 'nawet', 'okoliczność', 'zakupu', 'innego', 'rodzaju', 'paliwa', 'i', 'to', 'nawet', 'w', 'ilościach', 'wystarczających', 'do', 'ogrzania', 'hotelu', 'w', 'poszczególnych', 'miesiącach', 'nie', 'przesądza', 'jeszcze', 'przecież', 'ale', 'też', 'nie', 'wyklucza', 'możliwości', 'nielegalnego', 'pobierania', 'paliwa', 'gazowego', 'na', 'marginesie', 'jedynie', 'sąd', 'zauważa', 'że', 'pozwany', 'nabywał', 'taką', 'samą', 'ilość', 'oleju', 'opałowego', 'tj', '4', '000', 'litrów', 'k', '452', 'akt', 'zarówno', 'w', 'lutym', '2011', 'roku', 'a', 'więc', 'w', 'okresie', 'kiedy', 'dostarczane', 'mu', 'było', 'paliwo', 'gazowe', 'na', 'podstawie', 'umowy', 'jak', 'i', 'w', 'miesiącu', 'listopadzie', '2011', 'roku', 'k', '449', 'akt', 'kiedy', 'to', 'już', 'umowa', 'stron', 'nie', 'wiązała', 'w', 'świetle', 'czego', 'twierdzenia', 'pozwanego', 'w', 'tym', 'przedmiocie', 'budzą', 'poważne', 'wątpliwości', 'sądu', 'powyższe', 'argumenty', 'legły', 'u', 'podstaw', 'oddalenia', 'wniosku', 'o', 'dopuszczenie', 'i', 'przeprowadzenie', 'dowodu', 'z', 'uzupełniającej', 'opinii', 'biegłego', 'sądowego', 'w', 'tym', 'zakresie', 'postanowieniem', 'wydanym', 'na', 'rozprawie', 'w', 'dniu', '18', 'grudnia', '2017', 'roku', 'sąd', 'oddalił', 'również', 'wniosek', 'pozwanego', 'zgłoszony', 'w', 'zastrzeżeniach', 'do', 'opinii', 'biegłego', 'sądowego', 'w', 'piśmie', 'z', 'datą', 'w', 'nagłówku', 'dnia', '07', 'września', '2017', 'roku', 'k', '397400', 'akt', 'o', 'dokonanie', 'oględzin', 'miejsca', 'nielegalnego', 'poboru', 'gazu', 'oraz', 'zabezpieczonego', 'zaworu', 'gazowego', 'uznając', 'ten', 'wniosek', 'złożony', 'po', '4', 'latach', 'trwania', 'postępowania', 'za', 'spóźniony', 'sąd', 'zważył', 'przy', 'tym', 'że', 'oględziny', 'są', 'odrębnym', 'środkiem', 'dowodowym', 'o', 'przeprowadzenie', 'którego', 'żadna', 'ze', 'stron', 'nie', 'wnosiła', 'wcześniej', 'toteż', 'i', 'sąd', 'nie', 'znalazł', 'żadnych', 'podstaw', 'ażeby', 'podjąć', 'w', 'tym', 'zakresie', 'działania', 'z', 'urzędu', 'odnosząc', 'się', 'natomiast', 'do', 'oględzin', 'uszkodzonego', 'zaworu', 'gazowego', 'w', 'ocenie', 'sądu', 'żadna', 'ze', 'stron', 'nie', 'tylko', 'wcześniej', 'nie', 'wnosiła', 'o', 'dokonanie', 'takich', 'oględzin', 'ale', 'wręcz', 'żadna', 'ze', 'stron', 'w', 'tym', 'przede', 'wszystkim', 'pozwany', 'nie', 'wskazywała', 'nawet', 'na', 'okoliczność', 'ażeby', 'pozostawała', 'w', 'posiadaniu', 'takiego', 'zaworu', 'to', 'także', 'legło', 'u', 'podstaw', 'oddalenia', 'wniosku', 'o', 'dopuszczenie', 'dowodu', 'z', 'uzupełniającej', 'opinii', 'biegłego', 'sądowego', 'po', 'przeprowadzeniu', 'przedmiotowych', 'oględzin', 'w', 'tym', 'również', 'oględzin', 'owego', 'uszkodzonego', 'kurka', 'który', 'wbrew', 'twierdzeniom', 'pełnomocnika', 'pozwanego', 'nie', 'był', 'przedmiotem', 'oględzin', 'dokonywanych', 'przez', 'biegłego', 'sądowego', 'j', 'j', 'jak', 'wynika', 'z', 'treści', 'jego', 'opinii', 'pozostałe', 'dokumenty', 'nie', 'miały', 'znaczenia', 'dla', 'sprawy', 'gdyż', 'nie', 'wnosiły', 'nowych', 'i', 'istotnych', 'dla', 'jej', 'rozstrzygnięcia', 'okoliczności', 'ustalając', 'stan', 'faktyczny', 'w', 'niniejszej', 'sprawie', 'sąd', 'oparł', 'się', 'także', 'uznając', 'je', 'w', 'całości', 'za', 'wiarygodne', 'i', 'znajdujące', 'potwierdzenie', 'w', 'pozostałym', 'zgromadzonym', 'materiale', 'dowodowym', 'na', 'zeznaniach', 'świadka', 's', 'r', 'który', 'był', 'pracownikiem', 'powoda', 'i', 'posiadał', 'bezpośrednią', 'wiedzę', 'na', 'temat', 'okoliczności', 'powtórnego', 'przyłączenia', 'obiektu', 'należącego', 'do', 'pozwanego', 'do', 'sieci', 'gazowej', 'w', 'szczególności', 'w', 'zakresie', 'w', 'jakim', 'świadek', 'ten', 'wskazał', 'na', 'stwierdzenie', 'w', 'grudniu', '2011', 'roku', 'uszkodzenia', 'gniazda', 'kolumny', 'kurka', 'głównego', 'i', 'trzpienia', 'a', 'także', 'stwierdzenie', 'odłączenia', 'prądu', 'od', 'rejestratora', 'który', 'przesyłał', 'dane', 'z', 'miejsca', 'poboru', 'gazu', 'do', 'systemu', 'rozliczeniowego', 'powoda', 'co', 'nastąpiło', 'w', 'wyniku', 'wyłączenia', 'bezpiecznika', 'skutkując', 'zatrzymaniem', 'przesyłu', 'do', 'powoda', 'danych', 'o', 'poborze', 'gazu', 'z', 'tego', 'urządzenia', 'nadto', 'świadek', 'ten', 'potwierdził', 'stwierdzenie', 'większego', 'o', 'około', '10', '000', 'm', '3', 'odczytu', 'na', 'liczniku', 'niż', 'ten', 'który', 'był', 'w', 'momencie', 'odłączenia', 'obiektu', 'od', 'dostaw', 'gazu', 'a', 'także', 'wskazał', 'że', 'pozwany', 'nie', 'zgłaszał', 'nieszczelności', 'i', 'nie', 'było', 'u', 'niego', 'interwencji', 'pracowników', 'powoda', 'sąd', 'nie', 'dał', 'natomiast', 'wiary', 'zeznaniom', 'pozwanego', 'p', 'd', 'w', 'zakresie', 'w', 'jakim', 'pozwany', 'wskazywał', 'że', 'dwukrotnie', 'zgłaszał', 'ulatnianie', 'się', 'gazu', 'przez', 'stację', 'redukcyjną', 'ale', 'nikt', 'nie', 'zareagował', 'ze', 'strony', 'powoda', 'na', 'jego', 'zgłoszenie', 'okoliczność', 'ta', 'nie', 'znalazła', 'bowiem', 'potwierdzenia', 'w', 'żadnym', 'obiektywnym', 'dowodzie', 'w', 'szczególności', 'w', 'rejestrach', 'powoda', 'a', 'nadto', 'w', 'ocenie', 'sądu', 'jest', 'niezgodne', 'z', 'doświadczeniem', 'życiowym', 'ażeby', 'powód', 'jako', 'przedsiębiorca', 'energetyczny', 'zlekceważył', 'sygnały', 'o', 'ulatniającym', 'się', 'gazie', 'a', 'także', 'by', 'pozwany', 'nawet', 'w', 'przypadku', 'zlekceważenia', 'jego', 'zgłoszeń', 'telefonicznych', 'nie', 'podjął', 'żadnych', 'innych', 'czynności', 'tylko', 'w', 'dalszym', 'ciągu', 'prowadził', 'w', 'sposób', 'niezakłócony', 'swoją', 'działalność', 'sąd', 'uwzględnił', 'natomiast', 'zeznania', 'pozwanego', 'p', 'd', 'uznając', 'je', 'za', 'wiarygodne', 'w', 'zakresie', 'w', 'jakim', 'relacjonował', 'on', 'okoliczności', 'ponownego', 'przyłączenia', 'jego', 'obiektu', 'do', 'sieci', 'gazowej', 'i', 'stwierdzenia', 'uszkodzenia', 'doziemnego', 'kurka', 'gazowego', 'nie', 'dając', 'jednakże', 'wiary', 'wskazywanej', 'przez', 'pozwanego', 'okoliczności', 'ażeby', 'przyczyną', 'jego', 'uszkodzenia', 'był', 'ciężki', 'sprzęt', 'gdyż', 'nie', 'znalazło', 'to', 'potwierdzenia', 'w', 'żadnym', 'uznanym', 'przez', 'sąd', 'za', 'wiarygodny', 'dowodzie', 'sąd', 'miał', 'przy', 'tym', 'na', 'uwadze', 'że', 'okoliczność', 'ta', 'nie', 'była', 'wskazywana', 'przez', 'pozwanego', 'na', 'żadnym', 'wcześniejszym', 'etapie', 'postępowania', 'i', 'została', 'przytoczona', 'przez', 'pozwanego', 'w', 'zasadzie', 'dopiero', 'po', 'sporządzeniu', 'przez', 'biegłego', 'sądowego', 'j', 'j', 'opinii', 'w', 'której', 'wskazał', 'on', 'na', 'tę', 'właśnie', 'okoliczność', 'jako', 'najbardziej', 'prawdopodobną', 'przyczynę', 'uszkodzenia', 'kurka', 'gazowego', 'sąd', 'jednakże', 'nie', 'uwzględnił', 'przedmiotowej', 'opinii', 'z', 'przyczyn', 'wskazanych', 'w', 'poniższej', 'części', 'uzasadnienia', 'przy', 'czym', 'na', 'marginesie', 'jedynie', 'sąd', 'wskazuje', 'że', 'z', 'treści', 'tej', 'opinii', 'wynikało', 'że', 'pozwany', 'biegłemu', 'sądowemu', 'wskazywał', 'zupełnie', 'inną', 'okoliczność', 'jako', 'przyczynę', 'poboru', 'gazu', 'a', 'mianowicie', 'nie', 'dokręcenie', 'śrub', 'które', 'miały', 'leżeć', 'na', 'dole', 'szafki', 'gazowej', 'a', 'która', 'to', 'okoliczność', 'nie', 'znajduje', 'jakiegokolwiek', 'potwierdzenia', 'pozostając', 'całkowicie', 'gołosłowną', 'sąd', 'pominął', 'dowód', 'z', 'przesłuchania', 'powoda', 'albowiem', 'osoby', 'uprawnione', 'do', 'jego', 'reprezentowania', 'mimo', 'prawidłowego', 'wezwania', 'zpo', 'k', '313', 'akt', 'nie', 'stawiły', 'się', 'na', 'rozprawę', 'bez', 'usprawiedliwienia', 'istotne', 'znaczenie', 'dla', 'rozstrzygnięcia', 'kwestii', 'spornych', 'w', 'niniejszej', 'sprawie', 'miał', 'dowód', 'z', 'opinii', 'biegłego', 'sądowego', 'w', 'zakresie', 'instalacji', 'gazowych', 'stąd', 'też', 'sąd', 'postanowieniem', 'z', 'dnia', '24', 'maja', '2016', 'roku', 'powierzył', 'jej', 'wykonanie', 'biegłemu', 'sądowemu', 'j', 'j', 'w', 'sporządzonej', 'przez', 'siebie', 'opinii', 'biegły', 'sądowy', 'wskazał', 'że', 'na', 'działce', 'pozwanego', 'p', 'd', 'znajduje', 'się', 'kurek', 'główny', 'podziemny', 'zamykający', 'dopływ', 'gazu', 'do', 'budynku', 'oraz', 'stacja', 'redukcyjna', 'znajdująca', 'się', 'na', 'budynku', 'pozwanego', 'które', 'to', 'oba', 'elementy', 'stanowią', 'własność', 'powoda', 'i', 'powinny', 'być', 'należycie', 'zabezpieczone', 'biegły', 'sądowy', 'wskazał', 'również', 'że', 'powód', 'dbając', 'o', 'bezpieczeństwo', 'osób', 'do', 'których', 'doprowadzany', 'był', 'gaz', 'powinien', 'dokonywać', 'stałych', 'kontroli', 'własnych', 'urządzeń', 'tymczasem', 'przez', 'okres', 'czterech', 'miesięcy', 'nie', 'dokonał', 'żadnych', 'kontroli', 'pomimo', 'stwierdzenia', 'braku', 'odczytów', 'w', 'układzie', 'telemetrycznym', 'oraz', 'uszkodzenia', 'kurka', 'głównego', 'nadto', 'biegły', 'sądowy', 'wskazał', 'że', 'lokalizacja', 'kurka', 'jest', 'nieprawidłowa', 'kurek', 'znajduje', 'się', 'pod', 'ziemią', 'w', 'drodze', 'po', 'której', 'jeżdżą', 'pojazdy', 'dostawcze', 'do', 'hotelu', 'i', 'należy', 'go', 'w', 'trybie', 'pilnym', 'zdemontować', 'go', 'i', 'zamontować', 'w', 'miejscu', 'zgodnym', 'z', 'prawem', 'budowlanym', 'biegły', 'sądowy', 'dokonał', 'także', 'oględzin', 'kotłowni', 'hotelu', 'stwierdzając', 'że', 'nie', 'jest', 'możliwe', 'ustalenie', 'po', 'upływie', '4', 'lat', 'czy', 'doszło', 'do', 'nielegalnego', 'poboru', 'gazu', 'oraz', 'wskazując', 'także', 'na', 'podstawie', 'oświadczenia', 'pozwanego', 'że', 'w', 'okresie', 'braku', 'gazu', 'korzystał', 'on', 'z', 'ogrzewania', 'olejowego', 'że', 'w', 'przypadku', 'posiadania', 'pieca', 'olejowego', 'czyli', 'możliwości', 'dogrzania', 'hotelu', 'innym', 'źródłem', 'ciepła', 'olejem', 'opałowym', 'nielegalny', 'pobór', 'gazu', 'przez', 'pozwanego', 'nie', 'był', 'konieczny', 'tym', 'bardziej', 'że', 'w', 'tym', 'okresie', 'hotel', 'nie', 'został', 'jeszcze', 'uruchomiony', 'ingerencja', 'osób', 'trzecich', 'w', 'układ', 'pomiarowy', 'stanowiłaby', 'zbyt', 'duże', 'ryzyko', 'dla', 'tak', 'dużego', 'obiektu', 'groziłoby', 'to', 'wybuchem', 'a', 'i', 'tak', 'przedmiotowa', 'ilość', 'gazu', 'nie', 'zapewniłaby', 'ogrzewania', 'dla', 'hotelu', 'w', 'ocenie', 'biegłego', 'sądowego', 'brak', 'jest', 'jakiejkolwiek', 'logiki', 'w', 'tym', 'ażeby', 'pozwany', 'uszkodził', 'kurek', 'główny', 'a', 'następnie', 'włamał', 'się', 'do', 'punktu', 'redukcyjnego', 'i', 'doprowadził', 'gaz', 'do', 'budynku', 'do', 'kotła', 'zaś', 'zwiększony', 'o', '10', '000', 'm', '3', 'odczyt', 'zużycia', 'gazu', 'nie', 'może', 'obciążać', 'pozwanego', 'z', 'uwagi', 'na', 'brak', 'jednoznacznych', 'dowodów', 'w', 'sprawie', 'gdyż', 'nie', 'stwierdzono', 'w', 'punkcie', 'redukcyjnym', 'uszkodzenia', 'plomb', 'na', 'gazomierzu', 'biegły', 'sądowy', 'wskazał', 'że', 'jedną', 'z', 'przyczyn', 'ubytku', 'gazu', 'mogło', 'być', 'nie', 'dokręcenie', 'śrub', 'w', 'punkcie', 'redukcyjnym', 'przez', 'pracowników', 'powoda', 'co', 'stwierdził', 'pozwany', 'albo', 'uszkodzenie', 'gazomierza', 'lub', 'uszkodzenie', 'urządzenia', 'rejestracyjnego', 'konkludując', 'biegły', 'sądowy', 'wskazał', 'że', 'samo', 'stwierdzenie', 'zwiększonego', 'zużycia', 'gazu', 'od', 'dnia', 'odłączenia', 'gazu', 'nie', 'może', 'przesądzać', 'jednoznacznie', 'że', 'doszło', 'do', 'nielegalnego', 'poboru', 'gazu', 'urządzenia', 'pomiarowe', 'należące', 'do', 'powoda', 'powinny', 'być', 'należycie', 'zabezpieczone', 'by', 'żadna', 'osoba', 'postronna', 'nie', 'miała', 'możliwości', 'dostępu', 'do', 'urządzenia', 'co', 'dotyczy', 'zarówno', 'punku', 'pomiarowego', 'jak', 'i', 'kurka', 'gazowego', 'stan', 'techniczny', 'urządzeń', 'powinien', 'być', 'stale', 'monitorowany', 'i', 'kontrolowany', 'przez', 'pracowników', 'powoda', 'a', 'zamontowane', 'urządzenia', 'powinny', 'być', 'legalizowane', 'i', 'sprawdzane', 'zwłaszcza', 'w', 'okresie', 'zimowym', 'z', 'uwagi', 'na', 'możliwość', 'zamarznięcia', 'i', 'wadliwych', 'wskutek', 'tego', 'wskazań', 'nadto', 'powód', 'winien', 'w', 'trybie', 'pilnym', 'dokonać', 'przełożenia', 'kurka', 'głównego', 'z', 'drogi', 'dojazdowej', 'do', 'hotelu', 'w', 'miejsce', 'bezpieczne', 'zgodne', 'z', 'prawem', 'budowlanym', 'pismem', 'z', 'datą', 'w', 'nagłówku', 'dnia', '24', 'października', '2016', 'roku', 'k', '247250', 'akt', 'powód', 'spółka', 'z', 'ograniczoną', 'odpowiedzialnością', 'z', 'siedzibą', 'w', 'w', 'zarzucił', 'biegłemu', 'sądowemu', 'że', 'sporządzona', 'przez', 'niego', 'opinia', 'jest', 'niedokładna', 'nierzetelna', 'i', 'nie', 'zawiera', 'jakiegokolwiek', 'merytorycznego', 'uzasadnienia', 'i', 'odniesienia', 'do', 'specjalistycznej', 'wiedzy', 'a', 'oparta', 'została', 'głównie', 'na', 'aktach', 'sprawy', 'i', 'twierdzeniach', 'pozwanego', 'powód', 'wniósł', 'zastrzeżenia', 'także', 'co', 'do', 'formułowanych', 'przez', 'biegłego', 'sądowego', 'twierdzeń', 'w', 'przedmiocie', 'własności', 'kurka', 'głównego', 'i', 'stacji', 'redukcyjnej', 'obowiązków', 'powoda', 'w', 'zakresie', 'kontroli', 'instalacji', 'gazowej', 'na', 'nieruchomości', 'pozwanego', 'wskazując', 'że', 'dopływ', 'gazu', 'został', 'zamknięty', 'w', 'dniu', '05', 'sierpnia', '2011', 'roku', 'i', 'nie', 'zachodziła', 'potrzeba', 'sprawdzania', 'instalacji', 'gazowej', 'w', 'późniejszym', 'okresie', 'a', 'także', 'w', 'zakresie', 'umiejscowienia', 'kurka', 'głównego', 'powód', 'zarzucił', 'przedmiotowej', 'opinii', 'także', 'stronniczość', 'wskazując', 'że', 'biegły', 'sądowy', 'opowiada', 'się', 'ewidentnie', 'po', 'stronie', 'pozwanego', 'przyjmując', 'za', 'stwierdzone', 'twierdzenia', 'pozwanego', 'np', 'odnośnie', 'nie', 'dokręcenia', 'śrub', 'a', 'także', 'twierdząc', 'że', 'nielegalny', 'pobór', 'gazu', 'nie', 'był', 'konieczny', 'z', 'uwagi', 'na', 'fakt', 'że', 'pozwany', 'miał', 'możliwość', 'docieplenia', 'hotelu', 'innymi', 'źródłami', 'ciepła', 'stronniczość', 'opinii', 'przejawia', 'się', 'również', 'przyjęciem', 'przez', 'biegłego', 'sądowego', 'wyliczenia', 'poboru', 'gazu', 'podanego', 'mu', 'przez', 'pozwanego', 'a', 'nie', 'oparciem', 'się', 'na', 'zestawieniach', 'poboru', 'gazu', 'załączonych', 'przez', 'powoda', 'jak', 'też', 'w', 'stwierdzeniu', 'że', 'nielegalne', 'pobieranie', 'gazu', 'byłoby', 'w', 'okolicznościach', 'niniejszej', 'sprawy', 'nielogiczne', 'w', 'uzupełniającej', 'opinii', 'złożonej', 'na', 'rozprawie', 'w', 'dniu', '11', 'stycznia', '2017', 'roku', 'biegły', 'sądowy', 'j', 'j', 'podtrzymał', 'swoją', 'dotychczasową', 'opinię', 'w', 'tym', 'że', 'przyczyną', 'uszkodzenia', 'kurka', 'głównego', 'była', 'niewłaściwa', 'lokalizacja', 'tj', 'umiejscowienie', 'kurka', 'w', 'drodze', 'prowadzącej', 'na', 'plac', 'budowy', 'po', 'której', 'jeździły', 'samochody', 'z', 'dużym', 'obciążeniem', 'zdaniem', 'biegłego', 'sądowego', 'jeżdżące', 'po', 'żeliwnej', 'zasuwie', 'samochody', 'powodowały', 'jej', 'odkształcenie', 'co', 'przechodziło', 'na', 'korek', 'i', 'mogło', 'powodować', 'z', 'kolei', 'jego', 'uszkodzenie', 'jednocześnie', 'biegły', 'sądowy', 'wskazał', 'że', 'do', 'uszkodzenia', 'kurka', 'mogło', 'dojść', 'także', 'poprzez', 'nieumiejętną', 'próbę', 'jego', 'odkręcenia', 'podobnie', 'możliwe', 'jest', 'ulotnienie', 'się', 'ilości', '10', '000', 'm', '3', 'przez', 'niezakręcone', 'rury', 'sąd', 'zważył', 'że', 'nie', 'stanowi', 'podstawy', 'do', 'dopuszczania', 'dowodu', 'z', 'opinii', 'innego', 'biegłego', 'sądowego', 'okoliczność', 'niezadowolenia', 'strony', 'z', 'dotychczas', 'złożonej', 'opinii', 'specyfika', 'dowodu', 'z', 'opinii', 'biegłego', 'polega', 'bowiem', 'm', 'in', 'na', 'tym', 'że', 'jeżeli', 'taki', 'dowód', 'już', 'został', 'przez', 'sąd', 'dopuszczony', 'to', 'opinii', 'dodatkowego', 'biegłego', 'sądowego', 'można', 'żądać', 'jedynie', 'w', 'razie', 'potrzeby', 'orzecznictwo', 'sądowe', 'wskazuje', 'że', 'potrzeba', 'taka', 'nie', 'może', 'być', 'jednak', 'jedynie', 'wynikiem', 'niezadowolenia', 'strony', 'z', 'niekorzystnego', 'dla', 'niej', 'wydźwięku', 'konkluzji', 'opinii', 'lecz', 'być', 'następstwem', 'umotywowanej', 'krytyki', 'dotychczasowej', 'opinii', 'mając', 'na', 'względzie', 'powyższą', 'treść', 'opinii', 'biegłego', 'sądowego', 'j', 'j', 'oraz', 'charakter', 'podniesionych', 'przez', 'powoda', 'zastrzeżeń', 'podzielając', 'ich', 'w', 'znacznej', 'mierze', 'ich', 'zasadność', 'w', 'ocenie', 'sądu', 'opinia', 'ta', 'nie', 'mogła', 'stanowić', 'podstawy', 'rozstrzygnięcia', 'sporu', 'w', 'niniejszym', 'procesie', 'zdaniem', 'sądu', 'biegły', 'sądowy', 'j', 'j', 'w', 'istocie', 'udzielił', 'odpowiedzi', 'na', 'inne', 'pytania', 'aniżeli', 'zadane', 'przez', 'sąd', 'zadaniem', 'biegłego', 'sądowego', 'było', 'jedynie', 'wypowiedzenie', 'się', 'o', 'możliwości', 'dokonania', 'nielegalnego', 'poboru', 'gazu', 'w', 'określony', 'sposób', 'a', 'nadto', 'o', 'prawidłowości', 'pomiaru', 'poboru', 'gazu', 'i', 'wyliczeń', 'dokonanych', 'przez', 'powoda', 'tymczasem', 'biegły', 'sądowy', 'wkroczył', 'w', 'kompetencje', 'sądu', 'dokonując', 'własnych', 'ustaleń', 'faktycznych', 'i', 'oceny', 'dowodów', 'w', 'sposób', 'dowolny', 'przedstawił', 'wnioski', 'dotyczące', 'właściwej', 'lokalizacji', 'zaworów', 'oraz', 'obowiązków', 'pracowników', 'gazowni', 'w', 'zakresie', 'kontroli', 'urządzeń', 'na', 'terenie', 'nieruchomości', 'przy', 'ulicy', 'w', 'r', 'co', 'jednakże', 'pozostaje', 'bez', 'znaczenia', 'dla', 'niniejszej', 'sprawy', 'jednocześnie', 'biegły', 'sądowy', 'nie', 'udzielił', 'żadnej', 'wyraźnej', 'odpowiedzi', 'na', 'pytania', 'sądu', 'dotyczące', 'prawidłowości', 'pomiaru', 'poboru', 'gazu', 'i', 'wyliczeń', 'powoda', 'w', 'sposób', 'zupełnie', 'również', 'i', 'dla', 'sądu', 'niezrozumiały', 'opierając', 'się', 'na', 'danych', 'dotyczących', 'poboru', 'wskazanych', 'mu', 'przez', 'pozwanego', 'również', 'w', 'ocenie', 'sądu', 'za', 'nieprawidłowe', 'należy', 'przyjąć', 'nie', 'tylko', 'dokonanie', 'przez', 'biegłego', 'sądowego', 'oględzin', 'bez', 'zlecenia', 'sądu', 'ale', 'przede', 'wszystkim', 'oparcie', 'założeń', 'opinii', 'na', 'twierdzeniach', 'pozwanego', 'p', 'd', 'przekazanych', 'biegłemu', 'sądowemu', 'w', 'trakcie', 'oględzin', 'i', 'nie', 'mających', 'odzwierciedlenia', 'w', 'materiale', 'dowodowym', 'jakim', 'dysponował', 'sąd', 'oraz', 'po', 'przekazaniu', 'mu', 'akt', 'także', 'biegły', 'sądowy', 'np', 'co', 'do', 'pozostawionych', 'rzekomo', 'nie', 'dokręconych', 'przez', 'pracowników', 'powoda', 'śrub', 'oparcie', 'zaś', 'części', 'wniosków', 'opinii', 'tylko', 'na', 'subiektywnych', 'poglądach', 'lub', 'twierdzeniach', 'pozwanego', 'budzi', 'wątpliwości', 'także', 'sądu', 'co', 'do', 'bezstronności', 'biegłego', 'sądowego', 'jednocześnie', 'wskazując', 'na', 'możliwe', 'przyczyny', 'zużycia', 'gazu', 'w', 'przedmiotowym', 'okresie', 'biegły', 'sądowy', 'podaje', 'np', 'ingerencję', 'osób', 'trzecich', 'uszkodzenie', 'gazomierza', 'lub', 'urządzenia', 'rejestracyjnego', 'opowiadając', 'się', 'jednakże', 'za', 'przyczyną', 'w', 'postaci', 'nieprawidłowego', 'umiejscowienia', 'kurka', 'głównego', 'w', 'drodze', 'prowadzącej', 'na', 'plac', 'budowy', 'po', 'której', 'jeździły', 'samochody', 'z', 'dużym', 'obciążeniem', 'zdaniem', 'biegłego', 'sądowego', 'jeżdżące', 'po', 'żeliwnej', 'zasuwie', 'samochody', 'powodowały', 'jej', 'odkształcenie', 'co', 'przechodziło', 'na', 'kurek', 'który', 'mógł', 'wówczas', 'ulec', 'uszkodzeniu', 'w', 'ocenie', 'sądu', 'nie', 'zostało', 'to', 'w', 'żaden', 'sposób', 'przez', 'biegłego', 'sądowego', 'uzasadnione', 'w', 'szczególności', 'sąd', 'miał', 'na', 'uwadze', 'że', 'biegły', 'sądowy', 'j', 'j', 'nie', 'jest', 'biegłym', 'sądowym', 'w', 'zakresie', 'matematyki', 'czy', 'fizyki', 'i', 'nie', 'dokonał', 'stosownych', 'obliczeń', 'i', 'ustaleń', 'jaka', 'to', 'jest', 'droga', 'jakie', 'samochody', 'po', 'niej', 'jeździły', 'z', 'jakim', 'ładunkiem', 'i', 'jaką', 'częstotliwością', 'jakie', 'było', 'obciążenie', 'żeliwnej', 'zasuwy', 'pod', 'którą', 'znajdował', 'się', 'kurek', 'gazowy', 'i', 'czy', 'ewentualne', 'drgania', 'tej', 'zasuwy', 'mogły', 'przenosić', 'się', 'na', 'ów', 'kurek', 'powodując', 'jego', 'zniszczenie', 'w', 'tej', 'sytuacji', 'powyższe', 'twierdzenia', 'biegłego', 'sądowego', 'są', 'gołosłowne', 'a', 'przez', 'to', 'dyskwalifikujące', 'jego', 'opinię', 'w', 'tym', 'zakresie', 'jako', 'podstawę', 'rozstrzygnięcia', 'w', 'tej', 'sytuacji', 'mając', 'także', 'na', 'uwadze', 'wniosek', 'powoda', 'o', 'dopuszczenie', 'i', 'przeprowadzenie', 'ponownego', 'dowodu', 'z', 'opinii', 'biegłego', 'sądowego', 'sąd', 'powierzył', 'wykonanie', 'opinii', 'biegłemu', 'sądowemu', 'g', 'k', 'opinia', 'ta', 'została', 'sporządzona', 'przez', 'osobę', 'posiadającą', 'wiadomości', 'specjalne', 'z', 'zakresu', 'sieci', 'i', 'instalacji', 'sanitarnych', 'a', 'zatem', 'uprawnioną', 'do', 'przeprowadzania', 'badań', 'i', 'sporządzania', 'opinii', 'danego', 'rodzaju', 'w', 'swojej', 'opinii', 'biegły', 'sądowy', 'g', 'k', 'wskazała', 'że', 'najbardziej', 'prawdopodobną', 'przyczyną', 'uszkodzenia', 'kurka', 'głównego', 'gazowego', 'doziemnego', 'była', 'ingerencja', 'osoby', 'niedysponującej', 'odpowiednimi', 'narzędziami', 'do', 'jego', 'obsługi', 'urządzeniem', 'pomiarowym', 'gazu', 'przez', 'użytkownika', 'jest', 'gazomierz', 'którego', 'działanie', 'jest', 'w', 'zasadzie', 'czysto', 'mechaniczne', 'niezależne', 'od', 'dostawy', 'energii', 'elektrycznej', 'przekaźnik', 'danych', 'który', 'wymaga', 'zasilenia', 'elektrycznego', 'jest', 'jedynie', 'urządzeniem', 'przekazującym', 'dane', 'zebrane', 'z', 'licznika', 'gazomierza', 'do', 'przedsiębiorstwa', 'dystrybucyjnego', 'gazu', 'w', 'celu', 'ich', 'zdalnego', 'odczytu', 'brak', 'łącza', 'przekazu', 'danych', 'do', 'dostawcy', 'zużycia', 'bieżącego', 'gazu', 'przez', 'odbiorcę', 'w', 'niniejszym', 'przypadku', 'odłączony', 'bezpiecznik', 'nie', 'ma', 'wpływu', 'na', 'dokonanie', 'samych', 'pomiarów', 'nie', 'fałszu', 'ich', 'a', 'jedynie', 'uniemożliwia', 'ich', 'zdalny', 'odczyt', 'wskazania', 'zużycia', 'gazu', 'w', 'okresie', 'pomiędzy', 'przerwaniem', 'dostawy', 'gazu', 'i', 'jej', 'wznowieniem', 'są', 'porównywalne', 'do', 'faktycznego', 'zużycia', 'gazu', 'zarejestrowanego', 'w', 'okresach', 'umownych', 'co', 'pozwala', 'stwierdzić', 'że', 'sporna', 'ilość', 'gazu', 'wystarczyłaby', 'na', 'zaspokojenie', 'potrzeb', 'hotelu', 'w', 'okresie', 'półtora', 'dwóch', 'miesięcy', 'w', 'sezonie', 'grzewczym', 'w', 'ocenie', 'biegłego', 'sądowego', 'nie', 'jest', 'prawdopodobne', 'dwukrotne', 'zignorowanie', 'przez', 'pracowników', 'powoda', 'zgłoszenia', 'pozwanego', 'o', 'ulatniającym', 'się', 'gazie', 'brak', 'jest', 'podstaw', 'do', 'podważenia', 'wiarygodności', 'wskazań', 'gazomierza', 'zliczającego', 'zużycie', 'gazu', 'przez', 'przedmiotowy', 'budynek', 'hotelowy', 'plomby', 'nie', 'były', 'naruszone', 'odłączenie', 'przekaźnika', 'danych', 'od', 'gazomierza', 'nie', 'zaś', 'wpływu', 'na', 'dokonywane', 'przez', 'niego', 'pomiary', 'ilość', 'paliwa', 'gazowego', 'pobranego', 'w', 'okresie', 'od', 'dnia', '05', 'sierpnia2011', 'roku', 'do', 'dnia', '15', 'grudnia', '2011', 'roku', 'oraz', 'stosowna', 'opłata', 'zostały', 'ustalone', 'prawidłowo', 'powyższą', 'opinię', 'pisemną', 'biegłego', 'sądowego', 'g', 'k', 'zakwestionował', 'pozwany', 'p', 'd', 'wskazując', 'w', 'piśmie', 'procesowym', 'z', 'datą', 'w', 'nagłówku', 'dnia', '07', 'września', '2017', 'roku', 'k', '397400', 'akt', 'że', 'biegły', 'sądowy', 'nie', 'dokonał', 'oględzin', 'miejsca', 'poboru', 'gazu', 'w', 'szczególności', 'miejsca', 'w', 'którym', 'znajduje', 'się', 'zawór', 'gazu', 'zabezpieczonego', 'i', 'ocenionego', 'przez', 'poprzedniego', 'biegłego', 'sądowego', 'zaworu', 'gazowego', 'alternatywnej', 'instalacji', 'grzewczej', 'oraz', 'dokumentacji', 'związanej', 'z', 'wysokością', 'poboru', 'gazu', 'w', 'czasie', 'uruchamiania', 'ogrzewania', 'gazowego', 'okazanej', 'poprzedniemu', 'biegłemu', 'sądowemu', 'pozwany', 'zarzucił', 'że', 'biegły', 'sądowy', 'nie', 'wyjaśnił', 'czy', 'odłączenie', 'zasilania', 'przekaźnika', 'danych', 'stanowi', 'ingerencję', 'w', 'układ', 'pomiarowy', 'oraz', 'nie', 'ocenił', 'możliwości', 'ogrzewania', 'budynku', 'stałą', 'instalacją', 'olejową', 'tymczasem', 'niezbędna', 'jest', 'ocena', 'zapotrzebowania', 'na', 'paliwo', 'gazowe', 'pieców', 'w', 'okresie', 'grzewczym', 'która', 'może', 'być', 'dokonana', 'poprzez', 'dostarczenie', 'przez', 'powoda', 'danych', 'za', '2012', 'roku', 'albo', 'dokonany', 'w', 'toku', 'oględzin', 'średni', 'stopień', 'poboru', 'podnosząc', 'że', 'nie', 'można', 'porównywać', 'roku', '2011', 'kiedy', 'to', 'trwały', 'jeszcze', 'prace', 'budowlane', 'hotelu', 'z', 'rokiem', '2012', 'kiedy', 'hotel', 'już', 'działał', 'nadto', 'pozwany', 'zarzucił', 'że', 'biegły', 'sądowy', 'odwołał', 'się', 'do', 'dokumentu', 'nie', 'znajdującego', 'się', 'w', 'aktach', 'sprawy', 'wskazując', 'że', 'odpowiedzialność', 'za', 'ulatnianie', 'się', 'gazu', 'zgodnie', 'z', 'warunkami', 'przyłączenia', 'przechodzi', 'na', 'pozwanego', 'w', 'miejscu', 'usytuowania', 'głównego', 'zaworu', 'gazowego', 'pozwany', 'oświadczył', 'również', 'że', 'nie', 'kwestionuje', 'ustaleń', 'co', 'do', 'ilości', 'paliwa', 'gazowego', 'oraz', 'ustalenia', 'jego', 'wartości', 'mając', 'na', 'uwadze', 'powyższe', 'pozwany', 'wniósł', 'o', 'dopuszczenie', 'dowodu', 'z', 'uzupełniającej', 'opinii', 'biegłego', 'sądowego', 'połączonej', 'z', 'oględzinami', 'miejsca', 'oceną', 'zdemontowanego', 'zaworu', 'ustaleniem', 'wydajności', 'instalacji', 'olejowej', 'oraz', 'ustaleniem', 'średniego', 'miesięcznego', 'zapotrzebowania', 'na', 'gaz', 'w', '2012', 'roku', 'przy', 'czym', 'z', 'przyczyn', 'wskazanych', 'już', 'we', 'wcześniejszych', 'rozważaniach', 'sąd', 'oddalił', 'wniosek', 'o', 'dokonanie', 'oględzin', 'oraz', 'sporządzenie', 'opinii', 'uzupełniającej', 'celem', 'ustalenia', 'wydajności', 'instalacji', 'olejowej', 'oraz', 'średniego', 'miesięcznego', 'zapotrzebowania', 'na', 'gaz', 'oddalając', 'również', 'wniosek', 'o', 'zobowiązanie', 'powoda', 'do', 'przedstawienia', 'danych', 'o', 'średnim', 'miesięcznym', 'zużyciu', 'gazu', 'w', 'okresie', 'od', 'września', '2012', 'roku', 'do', 'stycznia', '2013', 'roku', 'uznając', 'że', 'okoliczności', 'te', 'dla', 'rozstrzygnięcia', 'sprawy', 'nie', 'mają', 'znaczenia', 'w', 'opinii', 'uzupełniającej', 'biegły', 'sądowy', 'g', 'k', 'wskazała', 'że', 'sporządziła', 'opinię', 'zgodnie', 'z', 'postanowieniem', 'sądu', 'na', 'podstawie', 'akt', 'sprawy', 'a', 'wskazania', 'gazomierza', 'w', 'spornym', 'okresie', 'informują', 'o', 'poborze', 'gazu', 'przez', 'użytkownika', 'zaś', 'ewentualne', 'uszkodzenie', 'kurka', 'głównego', 'nie', 'zakłóca', 'tego', 'poboru', 'brak', 'zasilania', 'przekaźnika', 'w', 'energię', 'elektryczną', 'nie', 'stanowi', 'ingerencji', 'w', 'układ', 'pomiarowy', 'uniemożliwia', 'jedynie', 'zdalny', 'przekaz', 'informacji', 'z', 'gazomierza', 'do', 'dystrybutora', 'gazu', 'pozostając', 'bez', 'wpływu', 'na', 'jakość', 'liczydła', 'mechanicznego', 'układu', 'pomiarowego', 'gazomierza', 'nadto', 'jak', 'wskazał', 'biegły', 'sądowy', 'skoro', 'gazomierz', 'wskazywał', 'pobór', 'gazu', 'w', 'przedmiotowym', 'budynku', 'hotelowym', 'to', 'sugerowane', 'przez', 'pozwanego', 'uchodzenie', 'gazu', 'na', 'skutek', 'nieszczelności', 'mogło', 'pojawić', 'się', 'jedynie', 'na', 'tej', 'części', 'instalacji', 'gazowej', 'która', 'jest', 'własnością', 'pozwanego', 'wobec', 'czego', 'to', 'odbiorca', 'gazu', 'ponosi', 'koszt', 'dostawy', 'gazu', 'bez', 'względu', 'na', 'sposób', 'jego', 'zużycia', 'pozwany', 'p', 'd', 'pismem', 'z', 'datą', 'w', 'nagłówku', 'dnia', '21', 'listopada', '2017', 'roku', 'k', '445', 'akt', 'zakwestionował', 'opinię', 'uzupełniającą', 'w', 'całości', 'podnosząc', 'że', 'w', 'przedmiotowym', 'hotelu', 'istniały', 'dwie', 'równoważne', 'instalacje', 'grzewcze', 'że', 'pozwany', 'zgłaszał', 'powodowi', 'fakt', 'nieprawidłowości', 'w', 'dostawie', 'gazu', 'że', 'nie', 'ingerował', 'w', 'prawidłowość', 'funkcjonowania', 'urządzeń', 'pomiarowych', 'przyznając', 'jednocześnie', 'że', 'to', 'pozwany', 'po', 'wyłączeniu', 'gazu', 'dokonał', 'odłączenia', 'bezpieczników', 'przekaźnika', 'danych', 'co', 'jednakże', 'nie', 'stanowi', 'ingerencji', 'w', 'układ', 'pomiarowy', 'nadto', 'pozwany', 'podniósł', 'że', 'sporna', 'ilość', 'gazu', 'nie', 'miała', 'dla', 'pozwanego', 'gospodarczego', 'znaczenia', 'w', 'ocenie', 'sądu', 'powyższe', 'zarzuty', 'pozwanego', 'p', 'd', 'stanowiły', 'jedynie', 'polemikę', 'z', 'niekorzystnymi', 'dla', 'niego', 'wnioskami', 'wynikającymi', 'z', 'opinii', 'biegłego', 'sądowego', 'g', 'k', 'przy', 'czym', 'jak', 'już', 'wskazano', 'wyżej', 'okoliczności', 'związane', 'z', 'możliwością', 'ogrzewania', 'hotelu', 'olejem', 'opałowym', 'jak', 'i', 'okoliczności', 'dotyczące', 'średniego', 'miesięcznego', 'zapotrzebowania', 'na', 'paliwo', 'gazowe', 'pozostają', 'bez', 'znaczenia', 'dla', 'rozstrzygnięcia', 'sprawy', 'bowiem', 'okoliczność', 'czy', 'przedmiotowa', 'ilość', 'gazu', 'miała', 'znaczenie', 'gospodarcze', 'czy', 'nie', 'i', 'na', 'ile', 'mogła', 'wystarczyć', 'pozwanemu', 'do', 'ogrzania', 'hotelu', 'nie', 'ma', 'jakiegokolwiek', 'znaczenia', 'prawnego', 'dla', 'oceny', 'kwestii', 'spornych', 'w', 'sprawie', 'mając', 'to', 'na', 'uwadze', 'zdaniem', 'sądu', 'zastrzeżenia', 'podniesione', 'przez', 'pozwanego', 'odnośnie', 'opinii', 'biegłego', 'sądowego', 'i', 'jego', 'opinii', 'uzupełniającej', 'nie', 'zdołały', 'podważyć', 'wiarygodności', 'i', 'mocy', 'dowodowej', 'tej', 'opinii', 'zdaniem', 'sądu', 'biegły', 'sądowy', 'g', 'k', 'wykonała', 'opinie', 'zgodnie', 'z', 'tezą', 'dowodową', 'na', 'podstawie', 'akt', 'sprawy', 'i', 'jednoznacznie', 'ustaliła', 'że', 'skoro', 'w', 'aktach', 'sprawy', 'brak', 'wzmianki', 'o', 'potencjalnym', 'zapadnięciu', 'się', 'nawierzchni', 'wokół', 'żeliwnej', 'skrzynki', 'gazowej', 'z', 'kurkiem', 'głównym', 'lub', 'innej', 'nieprawidłowości', 'świadczącej', 'o', 'możliwości', 'uszkodzenia', 'gniazda', 'kolumny', 'kurka', 'głównego', 'przez', 'sprzęt', 'ciężki', 'jeżdżący', 'drogą', 'w', 'której', 'umiejscowiona', 'została', 'ta', 'skrzynka', 'to', 'jedyną', 'możliwością', 'uszkodzenia', 'trzpienia', 'zaworu', 'gazowego', 'była', 'ingerencja', 'osób', 'trzecich', 'niedysponujących', 'narzędziami', 'do', 'jego', 'obsługi', 'opinie', 'biegłego', 'sądowego', 'główna', 'i', 'uzupełniająca', 'zostały', 'sporządzone', 'w', 'sposób', 'rzetelny', 'i', 'obiektywny', 'zgodnie', 'z', 'zasadami', 'wiedzy', 'fachowej', 'w', 'oparciu', 'o', 'wnikliwą', 'analizę', 'akt', 'sprawy', 'w', 'ocenie', 'sądu', 'wnioski', 'w', 'nich', 'zawarte', 'zostały', 'należycie', 'umotywowane', 'i', 'nie', 'budziły', 'zastrzeżeń', 'brak', 'było', 'zatem', 'podstaw', 'do', 'zdezawuowania', 'ich', 'wartości', 'i', 'mocy', 'dowodowej', 'mając', 'powyższe', 'na', 'uwadze', 'sąd', 'oparł', 'się', 'na', 'przedmiotowym', 'środku', 'dowodowym', 'dokonując', 'rozstrzygnięcia', 'w', 'niniejszej', 'sprawie', 'w', 'ocenie', 'sądu', 'powództwo', 'zasługuje', 'na', 'uwzględnienie', 'w', 'całości', 'w', 'niniejszej', 'sprawie', 'powód', 'spółka', 'z', 'ograniczoną', 'odpowiedzialnością', 'z', 'siedzibą', 'w', 'w', 'domagał', 'się', 'zasądzenia', 'od', 'pozwanego', 'p', 'd', 'kwoty', '64', '61010', 'złotych', 'wraz', 'z', 'odsetkami', 'ustawowymi', 'liczonymi', 'za', 'okres', 'od', 'dnia', '19', 'stycznia', '2012', 'roku', 'do', 'dnia', 'zapłaty', 'tytułem', 'opłaty', 'za', 'nielegalny', 'pobór', 'paliwa', 'gazowego', 'tj', 'pobranie', 'paliwa', 'gazowego', 'w', 'ilości', '10', '211', 'm', '3', 'bez', 'zawartej', 'umowy', 'pozwany', 'p', 'd', 'domagając', 'się', 'oddalenia', 'powództwa', 'zaprzeczał', 'dokonywaniu', 'poboru', 'gazu', 'po', 'zamknięciu', 'jego', 'dopływu', 'do', 'nieruchomości', 'oraz', 'podniósł', 'zarzut', 'przedawnienia', 'roszczenia', 'jako', 'związanego', 'z', 'faktem', 'dokonania', 'sprzedaży', 'w', 'zakresie', 'przedsiębiorstwa', 'energetycznego', 'i', 'ulegającego', 'dwuletniemu', 'okresowi', 'przedawnienia', 'ponadto', 'wskazał', 'że', 'ilość', 'gazu', 'faktycznie', 'pobranego', 'korespondowała', 'przez', 'cały', 'okres', 'rzekomego', 'nielegalnego', 'poboru', 'gazu', 'z', 'ilością', 'zużywaną', 'przez', 'przedsiębiorstwo', 'w', 'ciągu', 'jednego', 'miesiąca', 'w', 'związku', 'z', 'powyższym', 'brak', 'jest', 'podstaw', 'do', 'twierdzeń', 'iż', 'pozwany', 'bezumownie', 'pobierał', 'gaz', 'w', 'ilości', 'oczywiście', 'niewystarczającej', 'do', 'normalnego', 'korzystania', 'przez', 'sporny', 'okres', 'poza', 'sporem', 'w', 'niniejszej', 'sprawie', 'pozostawało', 'że', 'w', 'okresie', 'od', 'dnia', '05', 'sierpnia', '2011', 'roku', 'do', 'dnia', '15', 'grudnia', '2011', 'roku', 'stron', 'procesu', 'nie', 'wiązała', 'żadna', 'umowa', 'w', 'przedmiocie', 'sprzedaży', 'i', 'dystrybucji', 'paliwa', 'gazowego', 'nie', 'była', 'kwestionowana', 'również', 'ilość', 'paliwa', 'gazowego', 'pobranego', 'w', 'tym', 'okresie', 'według', 'odczytu', 'gazomierza', 'u', 'pozwanego', '10', '211', 'm', '3', 'oraz', 'ustalona', 'przez', 'powoda', 'za', 'to', 'paliwo', 'opłata', 'w', 'wysokości', '64', '61010', 'złotych', 'niekwestionowana', 'także', 'była', 'legitymacja', 'procesowa', 'powoda', 'rozpoznając', 'w', 'pierwszej', 'kolejności', 'podniesiony', 'przez', 'pozwanego', 'p', 'd', 'zarzut', 'przedawnienia', 'roszczenia', 'sąd', 'uznał', 'że', 'nie', 'jest', 'to', 'zarzut', 'zasadny', 'zgodnie', 'z', 'treścią', 'art', '57', 'ust', '1', 'ustawy', 'z', 'dnia', '10', 'kwietnia', '1997', 'roku', 'prawo', 'energetyczne', 'tekst', 'jednolity', 'dz', 'u', 'z', '2017', 'roku', 'poz', '220', 'w', 'razie', 'nielegalnego', 'pobierania', 'paliw', 'lub', 'energii', 'przedsiębiorstwo', 'energetyczne', 'może', '1', 'pobierać', 'od', 'odbiorcy', 'a', 'w', 'przypadku', 'gdy', 'pobór', 'paliw', 'lub', 'energii', 'nastąpił', 'bez', 'zawarcia', 'umowy', 'może', 'pobierać', 'od', 'osoby', 'lub', 'osób', 'nielegalnie', 'pobierających', 'paliwa', 'lub', 'energię', 'opłatę', 'w', 'wysokości', 'określonej', 'w', 'taryfie', 'chyba', 'że', 'nielegalne', 'pobieranie', 'paliw', 'lub', 'energii', 'wynikało', 'z', 'wyłącznej', 'winy', 'osoby', 'trzeciej', 'za', 'którą', 'odbiorca', 'nie', 'ponosi', 'odpowiedzialności', 'albo', '2', 'dochodzić', 'odszkodowania', 'na', 'zasadach', 'ogólnych', 'w', 'niniejszej', 'sprawie', 'powód', 'spółka', 'z', 'ograniczoną', 'odpowiedzialnością', 'z', 'siedzibą', 'w', 'w', 'dochodzi', 'od', 'pozwanego', 'p', 'd', 'kwoty', '64', '61010', 'złotych', 'tytułem', 'opłaty', 'za', 'nielegalny', 'pobór', 'paliwa', 'gazowego', 'a', 'więc', 'zryczałtowanego', 'odszkodowania', 'wyliczonego', 'zgodnie', 'z', 'treścią', 'art', '57', 'ust', '1', 'pkt', '1', 'ustawy', 'z', 'dnia', '10', 'kwietnia', '1997', 'roku', 'prawo', 'energetyczne', 'tekst', 'jednolity', 'dz', 'u', 'z', '2017', 'roku', 'poz', '220', 'w', 'oparciu', 'o', 'obowiązujące', 'wówczas', 'taryfy', 'a', 'nie', 'ceny', 'za', 'sprzedawany', 'gaz', 'a', 'zatem', 'dochodzone', 'roszczenie', 'nie', 'jest', 'roszczeniem', 'z', 'tytułu', 'sprzedaży', 'dokonanej', 'w', 'zakresie', 'działalności', 'przedsiębiorstwa', 'sprzedawcy', 'lecz', 'ma', 'charakter', 'rekompensaty', 'za', 'poniesioną', 'szkodę', 'czyli', 'charakter', 'odszkodowawczy', 'zawierając', 'jednocześnie', 'w', 'sobie', 'także', 'element', 'represyjny', 'nie', 'mamy', 'więc', 'w', 'niniejszej', 'sprawie', 'do', 'czynienia', 'z', 'odpowiedzialnością', 'kontraktową', 'tak', 'również', 'sąd', 'okręgowy', 'w', 'łodzi', 'w', 'wyroku', 'z', 'dnia', '20', 'maja', '2015', 'roku', 'sygn', 'akt', 'iii', 'ca', '12415', 'nielegalne', 'pobieranie', 'energii', 'zdefiniowane', 'zostało', 'w', 'art', '3', 'pkt', '18', 'ustawy', 'z', 'dnia', '10', 'kwietnia', '1997', 'roku', 'prawo', 'energetyczne', 'tekst', 'jednolity', 'dz', 'u', 'z', '2017', 'roku', 'poz', '220', 'jako', 'pobieranie', 'energii', 'bez', 'zawarcia', 'umowy', 'z', 'całkowitym', 'albo', 'częściowym', 'pominięciem', 'układu', 'pomiarowo', 'rozliczeniowego', 'lub', 'poprzez', 'ingerencję', 'w', 'ten', 'układ', 'mającą', 'wpływ', 'na', 'zafałszowanie', 'pomiarów', 'dokonywanych', 'przez', 'układ', 'pomiarowo', 'rozliczeniowy', 'oznacza', 'to', 'że', 'nielegalny', 'pobór', 'energii', 'nie', 'jest', 'oparty', 'na', 'tytule', 'prawnym', 'na', 'gruncie', 'prawa', 'karnego', 'czynność', 'nielegalnego', 'poboru', 'energii', 'elektrycznej', 'gazowej', 'cieplnej', 'wodnej', 'atomowej', 'wyrok', 'sądu', 'najwyższego', 'z', 'dnia', '26', 'lutego', '2004', 'roku', 'sygn', 'akt', 'iv', 'kk', '3022003', 'jest', 'przestępstwem', 'przeciwko', 'mieniu', 'określonym', 'w', 'art', '278', '5', 'kodeksu', 'karnego', 'natomiast', 'w', 'sferze', 'prawa', 'cywilnego', 'dopuszczenie', 'się', 'przez', 'odbiorcę', 'nielegalnego', 'poboru', 'energii', 'jest', 'czynem', 'niedozwolonym', 'w', 'niniejszej', 'sprawie', 'powód', 'nie', 'przekazał', 'pozwanemu', 'prawa', 'do', 'pobierania', 'gazu', 'a', 'pozwany', 'nie', 'nabył', 'tego', 'prawa', 'w', 'myśl', 'art', '5', 'ust', '1', 'i', '2', 'ustawy', 'z', 'dnia', '10', 'kwietnia', '1997', 'roku', 'prawo', 'energetyczne', 'tekst', 'jednolity', 'dz', 'u', 'z', '2017', 'roku', 'poz', '220', 'przeniesienie', 'prawa', 'do', 'rozporządzania', 'energią', 'może', 'być', 'dokonane', 'jedynie', 'zgodnie', 'z', 'warunkami', 'określonymi', 'w', 'umowie', 'i', 'nie', 'ma', 'prawnych', 'możliwości', 'dostawy', 'energii', 'bez', 'zawarcia', 'umowy', 'lub', 'wbrew', 'jej', 'postanowieniom', 'tak', 'także', 'wyrok', 'naczelnego', 'sądu', 'administracyjnego', 'w', 'warszawie', 'z', '23', 'marca', '2010', 'roku', 'lex', 'numer', '577252', 'skoro', 'zatem', 'nielegalny', 'pobór', 'energii', 'nie', 'stanowi', 'kontraktu', 'pomiędzy', 'stronami', 'umowy', 'sprzedaży', 'lecz', 'delikt', 'cywilny', 'czyn', 'niedozwolony', 'przeto', 'w', 'niniejszej', 'sprawie', 'zastosowanie', 'ma', 'art', '442', '1', 'kc', 'zgodnie', 'z', 'którym', 'roszczenie', 'o', 'naprawienie', 'szkody', 'wyrządzonej', 'czynem', 'niedozwolonym', 'ulega', 'przedawnieniu', 'z', 'upływem', 'lat', 'trzech', 'od', 'dnia', 'w', 'którym', 'poszkodowany', 'dowiedział', 'się', 'o', 'szkodzie', 'i', 'o', 'osobie', 'obowiązanej', 'do', 'jej', 'naprawienia', 'jednakże', 'w', 'każdym', 'wypadku', 'roszczenie', 'przedawnia', 'się', 'z', 'upływem', 'lat', 'dziesięciu', 'od', 'dnia', 'w', 'którym', 'nastąpiło', 'zdarzenie', 'wyrządzające', 'szkodę', 'jeżeli', 'szkoda', 'wynikła', 'ze', 'zbrodni', 'lub', 'występku', 'roszczenie', 'o', 'naprawienie', 'szkody', 'ulega', 'przedawnieniu', 'z', 'upływem', 'lat', 'dwudziestu', 'od', 'dnia', 'popełnienia', 'przestępstwa', 'bez', 'względu', 'na', 'to', 'kiedy', 'poszkodowany', 'dowiedział', 'się', 'o', 'szkodzie', 'i', 'o', 'osobie', 'obowiązanej', 'do', 'jej', 'naprawienia', 'reasumując', 'z', 'regulacji', 'zawartej', 'w', 'art', '57', 'ust', '1', 'ustawy', 'z', 'dnia', '10', 'kwietnia', '1997', 'roku', 'prawo', 'energetyczne', 'tekst', 'jednolity', 'dz', 'u', 'z', '2017', 'roku', 'poz', '220', 'wynika', 'że', 'osoba', 'pobierająca', 'nielegalnie', 'gaz', 'ponosi', 'odpowiedzialność', 'odszkodowawczą', 'za', 'delikt', 'prawa', 'energetycznego', 'którym', 'zgodnie', 'z', 'art', '3', 'punkt', '18', 'tej', 'ustawy', 'jest', 'm', 'in', 'pobieranie', 'paliwa', 'gazowego', 'bez', 'umowy', 'w', 'sprawie', 'zastosowanie', 'zatem', 'znajdzie', 'przepis', 'art', '442', '1', 'kc', 'co', 'oznacza', 'że', 'bieg', 'trzyletniego', 'terminu', 'przedawnienia', 'roszczenie', 'powoda', 'rozpoczął', 'się', 'dopiero', 'w', 'dniu', 'przeprowadzenia', 'kontroli', 'która', 'ujawniła', 'nielegalny', 'pobór', 'gazu', 'tj', 'w', 'dniu', '15', 'grudnia', '2011', 'roku', 'skoro', 'zaś', 'pozew', 'został', 'wniesiony', 'w', 'dniu', '24', 'lutego', '2014', 'roku', 'to', 'tym', 'samym', 'przedmiotowe', 'roszczenie', 'nie', 'uległo', 'jeszcze', 'przedawnieniu', 'stosownie', 'do', 'treści', 'art', '3', 'pkt', '18', 'ustawy', 'z', 'dnia', '10', 'kwietnia', '1997', 'roku', 'prawo', 'energetyczne', 'tekst', 'jednolity', 'dz', 'u', 'z', '2017', 'roku', 'poz', '220', 'nielegalny', 'pobór', 'energii', 'to', 'pobieranie', 'energii', 'bez', 'zawarcia', 'umowy', 'z', 'całkowitym', 'albo', 'częściowym', 'pominięciem', 'układu', 'pomiarowo', 'rozliczeniowego', 'lub', 'poprzez', 'ingerencję', 'w', 'ten', 'układ', 'mającą', 'wpływ', 'na', 'zafałszowanie', 'pomiarów', 'dokonywanych', 'przez', 'układ', 'pomiarowo', 'rozliczeniowy', 'a', 'zatem', 'przepis', 'ten', 'obejmuje', 'trzy', 'różne', 'stany', 'faktyczne', 'w', 'ramach', 'których', 'może', 'być', 'realizowany', 'nielegalny', 'pobór', 'paliwa', 'w', 'tym', 'paliwa', 'gazowego', 'jak', 'wynikało', 'z', 'zeznań', 'świadka', 's', 'r', 'w', 'czasie', 'czynności', 'podejmowanych', 'w', 'dniu', '15', 'grudnia', '2011', 'roku', 'nie', 'stwierdzono', 'uszkodzenia', 'plomb', 'na', 'gazomierzu', 'i', 'urządzeniach', 'rejestrujących', 'stwierdzono', 'jednakże', 'odłączenie', 'zasilania', 'przekaźnika', 'danych', 'przy', 'czym', 'jak', 'wynikało', 'z', 'opinii', 'biegłego', 'sądowego', 'brak', 'zasilania', 'przekaźnika', 'w', 'energię', 'elektryczną', 'nie', 'stanowi', 'ingerencji', 'w', 'układ', 'pomiarowy', 'uniemożliwia', 'jedynie', 'zdalny', 'przekaz', 'informacji', 'z', 'gazomierza', 'do', 'dystrybutora', 'gazu', 'pozostając', 'bez', 'wpływu', 'na', 'jakość', 'liczydła', 'mechanicznego', 'układu', 'pomiarowego', 'gazomierza', 'mając', 'powyższe', 'na', 'uwadze', 'wskazać', 'należy', 'że', 'w', 'sprawie', 'nie', 'wystąpiła', 'okoliczność', 'nielegalnego', 'poboru', 'paliwa', 'gazowego', 'polegająca', 'na', 'jego', 'poborze', 'z', 'całkowitym', 'albo', 'częściowym', 'pominięciem', 'układu', 'pomiarowo', 'rozliczeniowego', 'lub', 'poprzez', 'ingerencję', 'w', 'ten', 'układ', 'mającą', 'wpływ', 'na', 'zafałszowanie', 'pomiarów', 'dokonywanych', 'przez', 'układ', 'pomiarowo', 'rozliczeniowy', 'jednocześnie', 'zaś', 'poza', 'sporem', 'pozostawała', 'okoliczność', 'że', 'w', 'okresie', 'od', 'dnia', '05', 'sierpnia', '2011', 'roku', 'do', 'dnia', '15', 'grudnia', '2011', 'roku', 'stron', 'procesu', 'nie', 'wiązała', 'żadna', 'umowa', 'w', 'przedmiocie', 'sprzedaży', 'i', 'dystrybucji', 'paliwa', 'gazowego', 'nie', 'była', 'kwestionowana', 'także', 'ostatecznie', 'ilość', 'paliwa', 'gazowego', 'pobranego', 'w', 'tym', 'okresie', 'określona', 'na', '10', '211', 'm', '3', 'wreszcie', 'bezsporne', 'było', 'również', 'że', 'ilość', 'tego', 'paliwa', 'została', 'odmierzona', 'przez', 'gazomierz', 'zliczający', 'zużycie', 'paliwa', 'gazowego', 'wyłącznie', 'przez', 'instalację', 'gazową', 'z', 'odbiornikami', 'gazu', 'znajdującymi', 'się', 'w', 'obiekcie', 'hotelowym', 'należącym', 'do', 'pozwanego', 'p', 'd', 'skoro', 'zatem', 'gazomierz', 'wskazywał', 'pobór', 'gazu', 'w', 'przedmiotowym', 'budynku', 'hotelowym', 'to', 'oznacza', 'to', 'że', 'znajdował', 'się', 'on', 'gaz', 'w', 'tej', 'części', 'instalacji', 'gazowej', 'która', 'jest', 'własnością', 'pozwanego', 'wobec', 'czego', 'to', 'pozwany', 'ponosi', 'koszt', 'dostawy', 'gazu', 'bez', 'względu', 'na', 'sposób', 'jego', 'zużycia', 'w', 'tym', 'stanie', 'faktycznym', 'zaś', 'samo', 'stwierdzenie', 'poboru', 'gazu', 'bez', 'zawartej', 'umowy', 'jest', 'jedną', 'z', 'sytuacji', 'pozwalających', 'na', 'jej', 'zakwalifikowanie', 'jako', 'nielegalny', 'pobór', 'w', 'rozumieniu', 'ustawy', 'z', 'dnia', '10', 'kwietnia', '1997', 'roku', 'prawo', 'energetyczne', 'tekst', 'jednolity', 'dz', 'u', 'z', '2017', 'roku', 'poz', '220', 'nadto', 'wskazać', 'należy', 'że', 'z', 'treści', 'przepisu', 'art', '3', 'pkt', '18', 'tej', 'ustawy', 'jednoznacznie', 'wynika', 'że', 'nielegalne', 'pobieranie', 'energii', 'to', 'pobieranie', 'energii', 'bez', 'zawarcia', 'umowy', 'lub', 'niezgodnie', 'z', 'umową', 'a', 'więc', 'że', 'ustawodawca', 'czyn', 'sprawcy', 'polegający', 'na', 'nielegalnym', 'pobieraniu', 'energii', 'określił', 'od', 'strony', 'przedmiotowej', 'a', 'więc', 'wskazał', 'te', 'jego', 'cechy', 'które', 'są', 'określane', 'mianem', 'bezprawności', 'pojęcie', 'nielegalnego', 'pobierania', 'energii', 'w', 'rozumieniu', 'powyższego', 'przepisu', 'nie', 'zawiera', 'znamion', 'odnoszących', 'się', 'do', 'strony', 'podmiotowej', 'czynu', 'którą', 'określa', 'się', 'jako', 'winę', 'w', 'znaczeniu', 'subiektywnym', 'to', 'oznacza', 'że', 'ustalenie', 'nielegalnego', 'pobierania', 'energii', 'w', 'omawianym', 'znaczeniu', 'nie', 'wymaga', 'badania', 'winy', 'sprawcy', 'tego', 'czynu', 'i', 'nie', 'ma', 'w', 'takich', 'sprawach', 'znaczenia', 'nawet', 'np', 'brak', 'świadomości', 'pobierania', 'paliwa', 'tak', 'sąd', 'najwyższy', 'w', 'wyroku', 'z', 'dnia', '01', 'kwietnia', '2004', 'roku', 'sygn', 'akt', 'iii', 'sk', '2304', 'w', 'tej', 'sytuacji', 'zatem', 'bez', 'żadnego', 'znaczenia', 'pozostaje', 'tym', 'bardziej', 'sfera', 'motywacyjna', 'pozwanego', 'a', 'więc', 'cel', 'ewentualnego', 'nielegalnego', 'poboru', 'paliwa', 'gazowego', 'wobec', 'czego', 'pozbawione', 'znaczenia', 'prawnego', 'były', 'działania', 'pozwanego', 'ukierunkowane', 'na', 'wykazanie', 'że', 'z', 'uwagi', 'na', 'posiadaną', 'możliwość', 'ogrzewania', 'hotelu', 'olejem', 'opałowym', 'nie', 'miał', 'on', 'celu', 'ekonomicznego', 'w', 'pobieraniu', 'paliwa', 'gazowego', 'bez', 'umowy', 'tym', 'bardziej', 'że', 'jak', 'wynika', 'z', 'ustaleń', 'biegłego', 'sądowego', 'przedmiotowa', 'ilość', 'wystarczałaby', 'na', 'okres', 'nie', 'przekraczający', 'dwóch', 'miesięcy', 'nadto', 'jak', 'wynika', 'z', 'treści', 'powyższego', 'przepisu', 'krąg', 'osób', 'w', 'stosunku', 'do', 'których', 'przedsiębiorstwo', 'energetyczne', 'może', 'kierować', 'swoje', 'roszczenie', 'o', 'zapłatę', 'ogranicza', 'się', 'do', 'odbiorcy', 'i', 'osób', 'nielegalnie', 'pobierających', 'paliwa', 'zważyć', 'przy', 'tym', 'należy', 'że', 'w', 'przypadku', 'obiorcy', 'istnieje', 'domniemanie', 'winy', 'odbiorcy', 'który', 'może', 'zwolnić', 'się', 'od', 'odpowiedzialności', 'jedynie', 'w', 'przypadku', 'gdy', 'nielegalne', 'pobieranie', 'paliwa', 'wynika', 'wyłącznie', 'z', 'winy', 'osoby', 'trzeciej', 'za', 'którą', 'odbiorca', 'nie', 'ponosi', 'odpowiedzialności', 'w', 'tym', 'kontekście', 'przywołać', 'należy', 'definicję', 'legalną', 'odbiorcy', 'zawartą', 'w', 'art', '3', 'punkt', '13', 'ustawy', 'z', 'dnia', '10', 'kwietnia', '1997', 'roku', 'prawo', 'energetyczne', 'tekst', 'jednolity', 'dz', 'u', 'z', '2017', 'roku', 'poz', '220', 'zgodnie', 'z', 'którym', 'status', 'odbiorcy', 'uzyskuje', 'się', 'z', 'chwilą', 'zawarcia', 'z', 'przedsiębiorstwem', 'energetycznym', 'umowy', 'na', 'podstawie', 'której', 'paliwa', 'lub', 'energia', 'są', 'dostarczane', 'będzie', 'to', 'w', 'szczególności', 'umowa', 'sprzedaży', 'paliw', 'lub', 'energii', 'umowa', 'o', 'świadczenie', 'usług', 'przesłania', 'lub', 'dystrybucji', 'lub', 'umowa', 'kompleksowa', 'a', 'contrario', 'zatem', 'podmioty', 'otrzymujące', 'lub', 'pobierające', 'paliwa', 'lub', 'energię', 'bez', 'umowy', 'z', 'przedsiębiorstwem', 'energetycznym', 'nie', 'są', 'odbiorcami', 'w', 'rozumieniu', 'tej', 'ustawy', 'bezspornie', 'pozwany', 'p', 'd', 'nie', 'był', 'odbiorcą', 'w', 'rozumieniu', 'art', '3', 'pkt', '13', 'ustawy', 'z', 'dnia', '10', 'kwietnia', '1997', 'roku', 'prawo', 'energetyczne', 'tekst', 'jednolity', 'dz', 'u', 'z', '2017', 'roku', 'poz', '220', 'albowiem', 'umowa', 'o', 'dostarczanie', 'paliwa', 'gazowego', 'uległa', 'rozwiązaniu', 'z', 'dniem', '05', 'sierpnia', '2011', 'roku', 'skoro', 'zatem', 'pozwany', 'nie', 'był', 'odbiorcą', 'to', 'podstawą', 'jego', 'odpowiedzialności', 'mógł', 'być', 'wyłącznie', 'wykazany', 'przez', 'stroną', 'powodową', 'fakt', 'poboru', 'paliwa', 'gazowego', 'przez', 'samego', 'pozwanego', 'i', 'to', 'mimo', 'braku', 'zawartej', 'umowy', 'reasumując', 'wskazać', 'należy', 'że', 'nie', 'było', 'wątpliwości', 'że', 'w', 'dniu', '05', 'sierpnia', '2011', 'roku', 'rozwiązaniu', 'uległa', 'łącząca', 'strony', 'dotychczasowa', 'umowa', 'sprzedaży', 'i', 'dystrybucji', 'paliwa', 'gazowego', 'i', 'że', 'w', 'tym', 'dniu', 'wstrzymano', 'dostawę', 'gazu', 'do', 'hotelu', 'pozwanego', 'poprzez', 'zakręcenie', 'głównego', 'kurka', 'gazowego', 'doziemnego', 'nie', 'było', 'też', 'wątpliwości', 'że', 'w', 'okresie', 'gdy', 'nie', 'obowiązywała', 'umowa', 'doszło', 'do', 'nieuprawnionego', 'wznowienia', 'dopływu', 'gazu', 'do', 'hotelu', 'pozwanego', 'poprzez', 'odkręcenie', 'głównego', 'kurka', 'gazowego', 'doziemnego', 'przy', 'czym', 'uległ', 'on', 'uszkodzeniu', 'najprawdopodobniej', 'wskutek', 'ingerencji', 'osoby', 'niedysponującej', 'odpowiednimi', 'narzędziami', 'do', 'jego', 'obsługi', 'specjalistycznym', 'kluczem', 'wreszcie', 'nie', 'było', 'kwestionowane', 'że', 'paliwo', 'gazowe', 'przepływało', 'przez', 'stację', 'redukcyjną', 'gdzie', 'po', 'zmianie', 'ciśnienia', 'i', 'odmierzeniu', 'jego', 'ilości', 'za', 'pomocą', 'gazomierza', 'którego', 'prawidłowość', 'wskazań', 'także', 'nie', 'była', 'kwestionowana', 'dostarczane', 'było', 'do', 'instalacji', 'gazowej', 'z', 'odbiornikami', 'gazu', 'znajdującymi', 'się', 'w', 'obiekcie', 'hotelowym', 'należącym', 'do', 'pozwanego', 'pozwany', 'p', 'd', 'podnosił', 'że', 'nie', 'zużył', 'tego', 'paliwa', 'gazowego', 'gdyż', 'w', 'tym', 'czasie', 'posiadał', 'alternatywne', 'ogrzewanie', 'za', 'pomocą', 'oleju', 'opałowego', 'z', 'którego', 'korzystał', 'w', 'związku', 'z', 'czym', 'nie', 'miał', 'on', 'potrzeby', 'nielegalnego', 'poboru', 'gazu', 'i', 'to', 'w', 'ilości', 'niewystarczającej', 'do', 'ogrzania', 'hotelu', 'jednocześnie', 'w', 'ocenie', 'sądu', 'okoliczność', 'że', 'w', 'spornym', 'okresie', 'hotel', 'pozwanego', 'był', 'ogrzewany', 'wyłącznie', 'za', 'pomocą', 'oleju', 'opałowego', 'nie', 'znajduje', 'potwierdzenia', 'w', 'zaoferowanych', 'dowodach', 'w', 'szczególności', 'dowodu', 'takiego', 'nie', 'stanowią', 'kserokopie', 'faktur', 'na', 'zakup', 'oleju', 'opałowego', 'nie', 'będąc', 'w', 'ogóle', 'dokumentem', 'w', 'rozumieniu', 'przepisów', 'kodeksu', 'postępowania', 'cywilnego', 'zauważyć', 'przy', 'tym', 'należy', 'że', 'nawet', 'okoliczność', 'zakupu', 'innego', 'rodzaju', 'paliwa', 'i', 'to', 'nawet', 'w', 'ilościach', 'wystarczających', 'do', 'ogrzania', 'hotelu', 'w', 'poszczególnych', 'miesiącach', 'sezonu', 'grzewczego', 'nie', 'przesądza', 'jeszcze', 'przecież', 'o', 'wykorzystaniu', 'w', 'rzeczywistości', 'tego', 'paliwa', 'do', 'ogrzewania', 'hotelu', 'a', 'pozwany', 'nie', 'przejawił', 'w', 'tym', 'zakresie', 'żadnej', 'inicjatywy', 'dowodowej', 'nie', 'złożył', 'bowiem', 'np', 'wniosku', 'o', 'dopuszczenie', 'dowodu', 'z', 'zeznań', 'osób', 'które', 'zajmowały', 'się', 'obsługą', 'kotła', 'grzewczego', 'na', 'ten', 'rodzaj', 'paliwa', 'itp', 'podobnież', 'nie', 'wyklucza', 'też', 'możliwości', 'nielegalnego', 'pobierania', 'paliwa', 'gazowego', 'tym', 'bardziej', 'że', 'sam', 'pozwany', 'zeznał', 'że', 'ma', 'możliwość', 'przełączania', 'sposobu', 'ogrzewania', 'a', 'zatem', 'nic', 'nie', 'stoi', 'w', 'ocenie', 'sądu', 'na', 'przeszkodzie', 'aby', 'korzystać', 'w', 'pewnym', 'okresie', 'z', 'kotła', 'na', 'olej', 'opałowy', 'a', 'w', 'innym', 'okresie', 'z', 'kotłów', 'na', 'paliwo', 'gazowe', 'wskazać', 'też', 'należy', 'co', 'jest', 'w', 'ocenie', 'sądu', 'znamienne', 'że', 'pozwany', 'nabywał', 'taką', 'samą', 'ilość', 'oleju', 'opałowego', 'tj', '4', '000', 'litrów', 'k', '452', 'akt', 'zarówno', 'w', 'lutym', '2011', 'roku', 'a', 'więc', 'w', 'okresie', 'kiedy', 'dostarczane', 'mu', 'było', 'paliwo', 'gazowe', 'na', 'podstawie', 'umowy', 'jak', 'i', 'w', 'miesiącu', 'listopadzie', '2011', 'roku', 'k', '449', 'akt', 'kiedy', 'to', 'już', 'umowa', 'stron', 'nie', 'wiązała', 'w', 'świetle', 'czego', 'twierdzenia', 'pozwanego', 'że', 'wyłącznie', 'korzystał', 'z', 'ogrzewania', 'olejowego', 'budzą', 'poważne', 'wątpliwości', 'sądu', 'pozwany', 'p', 'd', 'podnosił', 'nie', 'tylko', 'że', 'nie', 'zużył', 'przedmiotowej', 'ilości', 'paliwa', 'gazowego', 'gdyż', 'w', 'tym', 'czasie', 'posiadał', 'i', 'korzystał', 'z', 'ogrzewania', 'za', 'pomocą', 'oleju', 'opałowego', 'ale', 'również', 'wskazywał', 'że', 'przedmiotowa', 'ilość', 'paliwa', 'gazowego', 'została', 'pobrana', 'i', 'zużyta', 'w', 'ten', 'sposób', 'że', 'ulotniła', 'się', 'poprzez', 'nie', 'dokręcone', 'śruby', 'w', 'stacji', 'redukcyjnej', 'słyszał', 'on', 'bowiem', 'syczenie', 'ulatniającego', 'się', 'gazu', 'ze', 'stacji', 'redukcyjnej', 'o', 'czym', 'miał', 'zawiadamiać', 'powoda', 'sąd', 'zważył', 'przy', 'tym', 'że', 'jak', 'wynikało', 'z', 'zeznań', 'świadka', 's', 'r', 'wstrzymanie', 'dopływu', 'gazu', 'pozwanemu', 'polegało', 'wyłącznie', 'na', 'podjęciu', 'czynności', 'związanych', 'z', 'zakręceniem', 'głównego', 'kurka', 'gazowego', 'doziemnego', 'i', 'nie', 'było', 'potrzeby', 'dokonywania', 'jakichkolwiek', 'czynności', 'w', 'stacji', 'redukcyjnej', 'zaś', 'owo', 'słyszane', 'przez', 'pozwanego', 'syczenie', 'miało', 'świadczyć', 'właśnie', 'o', 'prawidłowej', 'pracy', 'tej', 'stacji', 'jednocześnie', 'nie', 'znalazła', 'potwierdzenia', 'w', 'zgromadzonych', 'dowodach', 'okoliczność', 'zgłaszania', 'przez', 'pozwanego', 'owego', 'faktu', 'ulatniania', 'się', 'gazu', 'powodowi', 'zdaniem', 'sądu', 'pozostaje', 'w', 'sprzeczności', 'z', 'zasadami', 'logiki', 'i', 'doświadczenia', 'życiowego', 'że', 'przedsiębiorstwo', 'gazowe', 'ignoruje', 'i', 'to', 'dwukrotne', 'zgłoszenia', 'o', 'ulatniającym', 'się', 'gazie', 'zaś', 'z', 'drugiej', 'strony', 'że', 'pozwany', 'przedsiębiorca', 'prowadzący', 'hotel', 'nawet', 'w', 'przypadku', 'zignorowania', 'jego', 'zgłoszeń', 'telefonicznych', 'nie', 'podejmuje', 'żadnych', 'dalszych', 'działań', 'w', 'tym', 'kierunku', 'i', 'mimo', 'ulatniania', 'się', 'jak', 'twierdzi', 'gazu', 'w', 'dalszym', 'ciągu', 'w', 'sposób', 'niezakłócony', 'prowadzi', 'swoją', 'działalność', 'gospodarczą', 'sąd', 'zważył', 'przy', 'tym', 'że', 'z', 'zeznań', 'pozwanego', 'p', 'd', 'wynikało', 'że', 'owo', 'syczenie', 'ulatnianie', 'się', 'gazu', 'zauważone', 'zostało', 'przez', 'niego', 'kilka', 'dni', 'po', 'zamknięciu', 'mu', 'dopływu', 'gazu', 'co', 'jednakże', 'w', 'stoi', 'sprzeczności', 'z', 'treścią', 'odczytów', 'gazomierza', 'z', 'których', 'wynika', 'że', 'co', 'najmniej', 'do', 'końca', 'sierpnia', '2011', 'roku', 'nie', 'zarejestrowano', 'jakiegokolwiek', 'zużycia', 'w', 'tej', 'sytuacji', 'skoro', 'bezsprzecznie', 'paliwo', 'gazowe', 'w', 'ilości', 'wskazywanej', 'przez', 'powoda', 'zostało', 'dostarczone', 'pozwanemu', 'do', 'jego', 'instalacji', 'gazowej', 'i', 'urządzeń', 'znajdujących', 'się', 'w', 'jego', 'obiekcie', 'hotelowym', 'co', 'wynika', 'z', 'niezakwestionowanych', 'wskazań', 'gazomierza', 'i', 'jednocześnie', 'postępowanie', 'dowodowe', 'nie', 'doprowadziło', 'do', 'ustalenia', 'że', 'paliwo', 'to', 'jak', 'wskazywał', 'pozwany', 'ulotniło', 'się', 'poprzez', 'niedokręcone', 'przez', 'pracowników', 'powoda', 'śruby', 'uzasadnione', 'jest', 'przyjęcie', 'że', 'to', 'pozwany', 'p', 'd', 'pobrał', 'tę', 'ilość', 'paliwa', 'a', 'w', 'związku', 'z', 'tym', 'że', 'uczynił', 'to', 'bez', 'łączącej', 'strony', 'umowy', 'zasadne', 'jest', 'przyjęcie', 'że', 'doszło', 'do', 'nielegalnego', 'poboru', 'paliwa', 'gazowego', 'w', 'rozumieniu', 'ustawy', 'z', 'dnia', '10', 'kwietnia', '1997', 'roku', 'prawo', 'energetyczne', 'tekst', 'jednolity', 'dz', 'u', 'z', '2017', 'roku', 'poz', '220', 'co', 'potwierdzały', 'dodatkowo', 'niekwestionowane', 'odczyty', 'stanu', 'licznika', 'w', 'dniu', 'rozwiązania', 'umowy', 'i', 'w', 'dniu', 'wznowienia', 'dostawy', 'gazu', 'na', 'marginesie', 'jedynie', 'wskazać', 'należy', 'że', 'powód', 'nie', 'był', 'obciążony', 'okolicznością', 'wykazania', 'w', 'jaki', 'sposób', 'pozwany', 'zużył', 'pobrane', 'paliwo', 'ani', 'też', 'nie', 'zachodziła', 'konieczność', 'ustalenia', 'jakie', 'i', 'ile', 'urządzeń', 'pobierających', 'paliwo', 'pracowało', 'ani', 'czy', 'wszystkie', 'te', 'urządzenia', 'były', 'sprawne', 'wystarczające', 'było', 'jedynie', 'wykazanie', 'że', 'paliwo', 'gazowe', 'było', 'pobierane', 'i', 'co', 'więcej', 'do', 'stwierdzenia', 'tego', 'faktu', 'można', 'wykorzystać', 'domniemania', 'faktyczne', 'art', '231', 'kpc', 'których', 'w', 'niniejszej', 'sprawie', 'pozwany', 'nie', 'zdołał', 'obalić', 'mając', 'powyższe', 'na', 'uwadze', 'jak', 'również', 'i', 'okoliczność', 'że', 'wysokość', 'opłaty', 'której', 'domaga', 'się', 'powód', 'w', 'niniejszym', 'procesie', 'nie', 'była', 'ostatecznie', 'kwestionowana', 'przez', 'pozwanego', 'a', 'prawidłowość', 'jej', 'naliczenia', 'potwierdzona', 'została', 'przez', 'biegłego', 'sądowego', 'sąd', 'na', 'podstawie', 'art', '57', 'w', 'zw', 'z', 'art', '3', 'pkt', '13', 'oraz', 'pkt', '18', 'ustawy', 'z', 'dnia', '10', 'kwietnia', '1997', 'roku', 'prawo', 'energetyczne', 'tekst', 'jednolity', 'dz', 'u', 'z', '2017', 'roku', 'poz', '220', '24', 'rozporządzenia', 'ministra', 'gospodarki', 'z', 'dnia', '02', 'lipca', '2010', 'roku', 'w', 'sprawie', 'szczegółowych', 'warunków', 'funkcjonowania', 'systemu', 'gazowego', 'dz', 'u', 'z', '2010', 'roku', 'nr', '133', 'poz', '891', 'oraz', '44', 'rozporządzenia', 'ministra', 'gospodarki', 'z', 'dnia', '06', 'lutego', '2008', 'roku', 'w', 'sprawie', 'szczegółowych', 'zasad', 'kształtowania', 'i', 'kalkulacji', 'taryf', 'oraz', 'rozliczeń', 'w', 'obrocie', 'paliwami', 'gazowymi', 'dz', 'u', 'z', '2008', 'roku', 'nr', '28', 'poz165', 'w', 'zw', 'z', 'art', '481', 'kc', 'orzekł', 'jak', 'w', 'sentencji', 'wyroku', 'zgodnie', 'z', 'treścią', 'art', '481', 'kc', 'jeżeli', 'dłużnik', 'opóźnia', 'się', 'ze', 'spełnieniem', 'świadczenia', 'pieniężnego', 'wierzyciel', 'może', 'żądać', 'odsetek', 'za', 'czas', 'opóźnienia', 'na', 'mocy', 'art', '455', 'kc', 'jeżeli', 'termin', 'spełnienia', 'świadczenia', 'nie', 'jest', 'oznaczony', 'ani', 'nie', 'wynika', 'z', 'właściwości', 'zobowiązania', 'świadczenie', 'powinno', 'być', 'spełnione', 'niezwłocznie', 'po', 'wezwaniu', 'dłużnika', 'do', 'wykonania', 'w', 'niniejszej', 'sprawie', 'pozwanemu', 'p', 'd', 'wyznaczono', 'ostateczny', 'termin', 'uiszczenia', 'opłaty', 'za', 'nielegalny', 'pobór', 'paliwa', 'w', 'ciągu', '7', 'dni', 'od', 'doręczenia', 'mu', 'pisma', 'z', 'dnia', '19', 'stycznia', '2012', 'roku', 'które', 'jak', 'wynikało', 'z', 'dołączonego', 'zpo', 'doręczono', 'mu', 'w', 'dniu', '23', 'stycznia', '2012', 'roku', 'k', '118', 'akt', 'zatem', 'pozwany', 'winien', 'był', 'spełnić', 'przedmiotowe', 'świadczenie', 'do', 'dnia', '30', 'stycznia', '2012', 'roku', 'o', 'opóźnieniu', 'pozwanego', 'można', 'więc', 'mówić', 'od', 'dnia', '31', 'stycznia', '2012', 'roku', 'wobec', 'czego', 'żądnie', 'zasądzenia', 'odsetek', 'ustawowych', 'za', 'okres', 'od', 'dnia', '19', 'stycznia', '2012', 'roku', 'do', 'dnia', '30', 'stycznia', '2012', 'roku', 'nie', 'było', 'zasadne', 'stąd', 'też', 'w', 'tym', 'zakresie', 'na', 'podstawie', 'art', '481', 'kc', 'w', 'zw', 'z', 'art', '455', 'kc', 'podlegało', 'ono', 'oddaleniu', 'punkt', 'ii', 'o', 'kosztach', 'postępowania', 'sąd', 'orzekł', 'w', 'punkcie', 'iii', 'wyroku', 'na', 'podstawie', 'art', '100', 'kpc', 'w', 'zw', 'z', 'art', '108', '1', 'kpc', 'i', 'uznając', 'że', 'powód', 'uległ', 'jedynie', 'nieznacznej', 'części', 'żądania', 'co', 'do', 'odsetek', 'ustawowych', 'za', 'okres', 'od', 'dnia', '19', 'stycznia', '2012', 'roku', 'do', 'dnia', '30', 'stycznia', '2012', 'roku', 'zasądził', 'od', 'pozwanego', 'na', 'rzecz', 'powoda', 'zwrot', 'poniesionych', 'przez', 'niego', 'kosztów', 'procesu', 'w', 'całości', 'tj', 'w', 'kwocie', '5', '92254', 'złotych', 'na', 'którą', 'składały', 'się', 'kwoty', 'opłata', 'sądowa', 'od', 'pozwu', '808', 'złotych', 'koszty', 'zastępstwa', 'procesowego', '3', '600', 'złotych', 'opłata', 'manipulacyjna', 'dla', 'operatora', 'usług', 'ponoszona', 'przy', 'wnoszeniu', 'pozwu', 'w', 'elektronicznym', 'postępowaniu', 'upominawczym', '1454', 'złotych', 'oraz', 'zaliczka', 'wykorzystana', 'na', 'poczet', 'wynagrodzenia', 'biegłego', 'sądowego', '1', '500', 'złotych', 'nadto', 'na', 'podstawie', 'art', '113', 'ust', '1', 'ustawy', 'z', 'dnia', '28', 'lipca', '2005', 'roku', 'o', 'kosztach', 'sądowych', 'w', 'sprawach', 'cywilnych', 'tekst', 'jednolity', 'dzu2016', 'roku', 'poz', '623', 'ze', 'zmianami', 'sąd', 'nakazał', 'w', 'punkcie', 'iv', 'ściągnąć', 'na', 'rzecz', 'skarbu', 'państwa', 'sądu', 'rejonowego', 'w', 'gdyni', 'od', 'pozwanego', 'kwotę', '2', '17756', 'złotych', 'z', 'tytułu', 'kosztów', 'sądowych', 'wypłaconych', 'tymczasowo', 'ze', 'skarbu', 'państwa', 'sądu', 'rejonowego', 'w', 'gdyni', 'jako', 'wynagrodzenie', 'biegłego', 'sądowego', 'w', 'części', 'nie', 'pokrytej', 'zaliczkami', 'kosztami', 'procesu', 'w', 'pozostałym', 'zakresie', 'sąd', 'obciążył', 'pozwanego', 'p', 'd', 'uznając', 'je', 'za', 'uiszczone', 'zarządzenie', '1', '2', '3', 'ssr', 'justyna', 'supińska', 'gdynia', 'dnia', '15', 'stycznia', '2018', 'roku'], ['VI GC 434/15'])\n"
     ]
    }
   ],
   "source": [
    "judgments_and_signatures = zip(judgments, signatures)\n",
    "judgments_and_signatures_list = list(judgments_and_signatures)\n",
    "print(judgments_and_signatures_list[5])\n",
    "\n"
   ]
  },
  {
   "cell_type": "code",
   "execution_count": 74,
   "metadata": {},
   "outputs": [
    {
     "data": {
      "text/plain": [
       "(['sygn',\n",
       "  'akt',\n",
       "  'x',\n",
       "  'c',\n",
       "  '199217',\n",
       "  'uzasadnienie',\n",
       "  'powód',\n",
       "  'gmina',\n",
       "  'o',\n",
       "  'w',\n",
       "  'sprzeciwie',\n",
       "  'od',\n",
       "  'orzeczenia',\n",
       "  'samorządowego',\n",
       "  'kolegium',\n",
       "  'odwoławczego',\n",
       "  'z',\n",
       "  'dnia',\n",
       "  '30',\n",
       "  '03',\n",
       "  '2017r',\n",
       "  'wniósł',\n",
       "  'o',\n",
       "  'ustalenie',\n",
       "  'że',\n",
       "  'zmiana',\n",
       "  'stawki',\n",
       "  'procentowej',\n",
       "  'z',\n",
       "  'tytułu',\n",
       "  'użytkowania',\n",
       "  'wieczystego',\n",
       "  'udziału',\n",
       "  'wynoszącego',\n",
       "  '42510',\n",
       "  '000',\n",
       "  'związanego',\n",
       "  'z',\n",
       "  'własnością',\n",
       "  'lokali',\n",
       "  'numer',\n",
       "  'w',\n",
       "  'działkach',\n",
       "  'numer',\n",
       "  'położonych',\n",
       "  'przy',\n",
       "  'ul',\n",
       "  'w',\n",
       "  'o',\n",
       "  'będącego',\n",
       "  'w',\n",
       "  'użytkowaniu',\n",
       "  'wieczystym',\n",
       "  'pozwanych',\n",
       "  'b',\n",
       "  'z',\n",
       "  'i',\n",
       "  'a',\n",
       "  'z',\n",
       "  '1',\n",
       "  'jest',\n",
       "  'uzasadniona',\n",
       "  'i',\n",
       "  'wynosi',\n",
       "  '3',\n",
       "  'powód',\n",
       "  'wywodził',\n",
       "  'żądanie',\n",
       "  'z',\n",
       "  'umowy',\n",
       "  'użytkowania',\n",
       "  'wieczystego',\n",
       "  'udziału',\n",
       "  'w',\n",
       "  'nieruchomości',\n",
       "  'o',\n",
       "  'której',\n",
       "  'mowa',\n",
       "  'w',\n",
       "  'sprzeciwie',\n",
       "  'wskazał',\n",
       "  'że',\n",
       "  'zmiana',\n",
       "  'stawki',\n",
       "  'opłaty',\n",
       "  'z',\n",
       "  'tytułu',\n",
       "  'użytkowania',\n",
       "  'wieczystego',\n",
       "  'wynika',\n",
       "  'ze',\n",
       "  'zmiany',\n",
       "  'sposobu',\n",
       "  'korzystania',\n",
       "  'z',\n",
       "  'nieruchomości',\n",
       "  'przez',\n",
       "  'pozwanych',\n",
       "  'co',\n",
       "  'stwierdzono',\n",
       "  'w',\n",
       "  'trakcie',\n",
       "  'wizji',\n",
       "  'w',\n",
       "  'dniu',\n",
       "  '25',\n",
       "  '10',\n",
       "  '2016r',\n",
       "  'tych',\n",
       "  'lokali',\n",
       "  'pozwani',\n",
       "  'będący',\n",
       "  'właścicielami',\n",
       "  'nieruchomości',\n",
       "  'lokalowych',\n",
       "  'jako',\n",
       "  'wspólnicy',\n",
       "  'spółki',\n",
       "  'cywilnej',\n",
       "  'na',\n",
       "  'zasadach',\n",
       "  'współwłasności',\n",
       "  'łącznej',\n",
       "  'z',\n",
       "  'którymi',\n",
       "  'związany',\n",
       "  'jest',\n",
       "  'udział',\n",
       "  'w',\n",
       "  'prawie',\n",
       "  'użytkowania',\n",
       "  'wieczystego',\n",
       "  'nieruchomości',\n",
       "  'dokonali',\n",
       "  'przerobienia',\n",
       "  'tych',\n",
       "  'lokali',\n",
       "  'na',\n",
       "  'jeden',\n",
       "  'w',\n",
       "  'którym',\n",
       "  'prowadzą',\n",
       "  'działalność',\n",
       "  'gospodarczą',\n",
       "  'pod',\n",
       "  'firmą',\n",
       "  'grupa',\n",
       "  'sc',\n",
       "  'b',\n",
       "  'z',\n",
       "  'i',\n",
       "  'a',\n",
       "  'z',\n",
       "  '1',\n",
       "  'świadczą',\n",
       "  'o',\n",
       "  'tym',\n",
       "  'szyldy',\n",
       "  'przed',\n",
       "  'wejściem',\n",
       "  'do',\n",
       "  'budynku',\n",
       "  'ponadto',\n",
       "  'oprócz',\n",
       "  'lokalu',\n",
       "  'numer',\n",
       "  'brak',\n",
       "  'jest',\n",
       "  'oznaczeń',\n",
       "  'pozostałych',\n",
       "  'lokali',\n",
       "  'ponadto',\n",
       "  'zdaniem',\n",
       "  'powodów',\n",
       "  'pozwani',\n",
       "  'nie',\n",
       "  'zakwestionowali',\n",
       "  'podstawy',\n",
       "  'ustalenia',\n",
       "  'zmienionej',\n",
       "  'stawki',\n",
       "  'opłaty',\n",
       "  'wskazując',\n",
       "  'jedynie',\n",
       "  'w',\n",
       "  'odwołaniu',\n",
       "  'że',\n",
       "  'zmiana',\n",
       "  'stawki',\n",
       "  'jest',\n",
       "  'uzasadniona',\n",
       "  'w',\n",
       "  'niższej',\n",
       "  'wysokości',\n",
       "  'z',\n",
       "  'uwagi',\n",
       "  'na',\n",
       "  'obniżenie',\n",
       "  'wartości',\n",
       "  'nieruchomości',\n",
       "  'pozwani',\n",
       "  'b',\n",
       "  'z',\n",
       "  'i',\n",
       "  'a',\n",
       "  'z',\n",
       "  '2',\n",
       "  'w',\n",
       "  'odpowiedzi',\n",
       "  'na',\n",
       "  'sprzeciw',\n",
       "  'powoda',\n",
       "  'wniósł',\n",
       "  'o',\n",
       "  'jego',\n",
       "  'oddalenie',\n",
       "  'oraz',\n",
       "  'o',\n",
       "  'ustalenie',\n",
       "  'że',\n",
       "  'zmiana',\n",
       "  'stawki',\n",
       "  'procentowej',\n",
       "  'z',\n",
       "  'tytułu',\n",
       "  'użytkowania',\n",
       "  'wieczystego',\n",
       "  'przedmiotowej',\n",
       "  'nieruchomości',\n",
       "  'jest',\n",
       "  'nieuzasadniona',\n",
       "  'a',\n",
       "  'także',\n",
       "  'o',\n",
       "  'zasądzenie',\n",
       "  'kosztów',\n",
       "  'procesu',\n",
       "  'na',\n",
       "  'ich',\n",
       "  'rzecz',\n",
       "  'w',\n",
       "  'tym',\n",
       "  'kosztów',\n",
       "  'zastępstwa',\n",
       "  'procesowego',\n",
       "  'w',\n",
       "  'uzasadnieniu',\n",
       "  'swego',\n",
       "  'stanowiska',\n",
       "  'wskazali',\n",
       "  'że',\n",
       "  'wszystkie',\n",
       "  'ich',\n",
       "  'lokale',\n",
       "  'były',\n",
       "  'objęte',\n",
       "  'zwolnieniem',\n",
       "  'od',\n",
       "  'podatku',\n",
       "  'od',\n",
       "  'nieruchomości',\n",
       "  'gdyż',\n",
       "  'prowadzili',\n",
       "  'działalność',\n",
       "  'objętą',\n",
       "  'ustawą',\n",
       "  'o',\n",
       "  'systemie',\n",
       "  'oświaty',\n",
       "  'ponadto',\n",
       "  'wskazali',\n",
       "  'również',\n",
       "  'że',\n",
       "  'podjęli',\n",
       "  'działania',\n",
       "  'zmierzające',\n",
       "  'do',\n",
       "  'zmiany',\n",
       "  'przeznaczenia',\n",
       "  'przedmiotowych',\n",
       "  'lokali',\n",
       "  'na',\n",
       "  'mieszkalne',\n",
       "  'w',\n",
       "  'tym',\n",
       "  'celu',\n",
       "  'zostały',\n",
       "  'one',\n",
       "  'opróżnione',\n",
       "  'z',\n",
       "  'przedmiotów',\n",
       "  'służących',\n",
       "  'prowadzeniu',\n",
       "  'działalności',\n",
       "  'gospodarczej',\n",
       "  'przygotowując',\n",
       "  'je',\n",
       "  'do',\n",
       "  'wykonania',\n",
       "  'robót',\n",
       "  'zmierzających',\n",
       "  'do',\n",
       "  'wyodrębnienia',\n",
       "  'poszczególnych',\n",
       "  'lokali',\n",
       "  'działania',\n",
       "  'te',\n",
       "  'były',\n",
       "  'podyktowane',\n",
       "  'zmniejszeniem',\n",
       "  'zakresu',\n",
       "  'prowadzonej',\n",
       "  'przez',\n",
       "  'nich',\n",
       "  'działalności',\n",
       "  'gospodarczej',\n",
       "  'podkreślili',\n",
       "  'również',\n",
       "  'że',\n",
       "  'lokale',\n",
       "  'zostały',\n",
       "  'przez',\n",
       "  'nich',\n",
       "  'zachowane',\n",
       "  'od',\n",
       "  'początku',\n",
       "  'w',\n",
       "  'takim',\n",
       "  'stanie',\n",
       "  'w',\n",
       "  'jakim',\n",
       "  'je',\n",
       "  'nabyli',\n",
       "  'a',\n",
       "  'więc',\n",
       "  'nie',\n",
       "  'byli',\n",
       "  'zobowiązani',\n",
       "  'do',\n",
       "  'zgłoszenia',\n",
       "  'jakichkolwiek',\n",
       "  'zmian',\n",
       "  'dotyczących',\n",
       "  'sposobu',\n",
       "  'korzystania',\n",
       "  'do',\n",
       "  'właściwych',\n",
       "  'organów',\n",
       "  'podnieśli',\n",
       "  'również',\n",
       "  'że',\n",
       "  'nie',\n",
       "  'jest',\n",
       "  'prawdą',\n",
       "  'iż',\n",
       "  'nie',\n",
       "  'kwestionowali',\n",
       "  'podnoszonej',\n",
       "  'przez',\n",
       "  'powoda',\n",
       "  'zmiany',\n",
       "  'sposobu',\n",
       "  'korzystania',\n",
       "  'z',\n",
       "  'nieruchomości',\n",
       "  'a',\n",
       "  'dodatkowo',\n",
       "  'jedynie',\n",
       "  'podnieśli',\n",
       "  'kwestię',\n",
       "  'zmniejszenia',\n",
       "  'opłaty',\n",
       "  'z',\n",
       "  'uwagi',\n",
       "  'na',\n",
       "  'zmianę',\n",
       "  'wartości',\n",
       "  'nieruchomości',\n",
       "  'sąd',\n",
       "  'ustalił',\n",
       "  'następujący',\n",
       "  'stan',\n",
       "  'faktyczny',\n",
       "  'umową',\n",
       "  'z',\n",
       "  'dnia',\n",
       "  '9',\n",
       "  '01',\n",
       "  '2012r',\n",
       "  'sp',\n",
       "  'z',\n",
       "  'oo',\n",
       "  'w',\n",
       "  'o',\n",
       "  'jako',\n",
       "  'sprzedający',\n",
       "  'dokonała',\n",
       "  'ustanowienia',\n",
       "  'odrębnej',\n",
       "  'własności',\n",
       "  'min',\n",
       "  'lokali',\n",
       "  'mieszkalnych',\n",
       "  'o',\n",
       "  'numerach',\n",
       "  'z',\n",
       "  'własnością',\n",
       "  'których',\n",
       "  'związany',\n",
       "  'był',\n",
       "  'udział',\n",
       "  '14410',\n",
       "  '000',\n",
       "  'w',\n",
       "  'prawie',\n",
       "  'użytkowania',\n",
       "  'wieczystego',\n",
       "  'nieruchomości',\n",
       "  'stanowiącej',\n",
       "  'działki',\n",
       "  'gruntu',\n",
       "  'o',\n",
       "  'numerach',\n",
       "  'położonych',\n",
       "  'przy',\n",
       "  'ul',\n",
       "  'dla',\n",
       "  'której',\n",
       "  'sąd',\n",
       "  'rejonowy',\n",
       "  'w',\n",
       "  'olsztynie',\n",
       "  'prowadzi',\n",
       "  'księgą',\n",
       "  'wieczystą',\n",
       "  'kw',\n",
       "  'nr',\n",
       "  'oraz',\n",
       "  'ich',\n",
       "  'sprzedaży',\n",
       "  'na',\n",
       "  'rzecz',\n",
       "  'nabywców',\n",
       "  'a',\n",
       "  'z',\n",
       "  '1',\n",
       "  'i',\n",
       "  'b',\n",
       "  'z',\n",
       "  'na',\n",
       "  'współwłasność',\n",
       "  'jako',\n",
       "  'wspólnikom',\n",
       "  'spółki',\n",
       "  'cywilnej',\n",
       "  'pod',\n",
       "  'firmą',\n",
       "  'grupa',\n",
       "  'sc',\n",
       "  'b',\n",
       "  'z',\n",
       "  'i',\n",
       "  'a',\n",
       "  'z',\n",
       "  '1',\n",
       "  'w',\n",
       "  'o',\n",
       "  'pozwani',\n",
       "  'a',\n",
       "  'z',\n",
       "  '1',\n",
       "  'i',\n",
       "  'b',\n",
       "  'z',\n",
       "  'w',\n",
       "  'lokalach',\n",
       "  'tych',\n",
       "  'od',\n",
       "  'momentu',\n",
       "  'ich',\n",
       "  'zakupu',\n",
       "  'prowadzili',\n",
       "  'działalność',\n",
       "  'gospodarczą',\n",
       "  'o',\n",
       "  'charakterze',\n",
       "  'oświatowym',\n",
       "  'działalność',\n",
       "  'ta',\n",
       "  'z',\n",
       "  'uwagi',\n",
       "  'na',\n",
       "  'objęcie',\n",
       "  'jej',\n",
       "  'system',\n",
       "  'oświaty',\n",
       "  'została',\n",
       "  'zwolniona',\n",
       "  'od',\n",
       "  'podatku',\n",
       "  'od',\n",
       "  'nieruchomości',\n",
       "  'pomimo',\n",
       "  'prowadzenia',\n",
       "  'w',\n",
       "  'przedmiotowych',\n",
       "  'lokalach',\n",
       "  'działalności',\n",
       "  'oświatowej',\n",
       "  'pozwani',\n",
       "  'uiszczali',\n",
       "  'przez',\n",
       "  'cały',\n",
       "  'czas',\n",
       "  'trwania',\n",
       "  'użytkowania',\n",
       "  'wieczystego',\n",
       "  'opłatę',\n",
       "  'roczną',\n",
       "  'według',\n",
       "  'stawki',\n",
       "  'procentowej',\n",
       "  '1',\n",
       "  'dopiero',\n",
       "  'decyzją',\n",
       "  'z',\n",
       "  'dnia',\n",
       "  '26',\n",
       "  '10',\n",
       "  '2016r',\n",
       "  'właściciel',\n",
       "  'przedmiotowej',\n",
       "  'nieruchomości',\n",
       "  'powód',\n",
       "  'gmina',\n",
       "  'o',\n",
       "  'dokonał',\n",
       "  'wypowiedzenia',\n",
       "  'dotychczasowej',\n",
       "  'stawki',\n",
       "  'procentowej',\n",
       "  'opłaty',\n",
       "  'rocznej',\n",
       "  'z',\n",
       "  'tytułu',\n",
       "  'użytkowania',\n",
       "  'wieczystego',\n",
       "  'udziału',\n",
       "  '14410',\n",
       "  '000',\n",
       "  'w',\n",
       "  'przedmiotowej',\n",
       "  'nieruchomości',\n",
       "  'z',\n",
       "  '1',\n",
       "  'na',\n",
       "  '3',\n",
       "  'ceny',\n",
       "  'gruntu',\n",
       "  'wskazując',\n",
       "  'że',\n",
       "  'nowa',\n",
       "  'stawka',\n",
       "  'będzie',\n",
       "  'obowiązywać',\n",
       "  'od',\n",
       "  '1',\n",
       "  '01',\n",
       "  '2017r',\n",
       "  'jako',\n",
       "  'uzasadnienie',\n",
       "  'decyzji',\n",
       "  'wskazano',\n",
       "  'zmianę',\n",
       "  'sposobu',\n",
       "  'korzystania',\n",
       "  'z',\n",
       "  'przedmiotowej',\n",
       "  'nieruchomości',\n",
       "  'powodującą',\n",
       "  'zmianę',\n",
       "  'celu',\n",
       "  'na',\n",
       "  'który',\n",
       "  'została',\n",
       "  'ona',\n",
       "  'oddana',\n",
       "  'w',\n",
       "  'użytkowanie',\n",
       "  'wieczyste',\n",
       "  'powołując',\n",
       "  'się',\n",
       "  'na',\n",
       "  'jej',\n",
       "  'wizję',\n",
       "  'dokonaną',\n",
       "  'w',\n",
       "  'dniu',\n",
       "  '25',\n",
       "  '10',\n",
       "  '2016r',\n",
       "  'od',\n",
       "  'tej',\n",
       "  'decyzji',\n",
       "  'pozwani',\n",
       "  'złożyli',\n",
       "  'wniosek',\n",
       "  'do',\n",
       "  'samorządowego',\n",
       "  'kolegium',\n",
       "  'odwoławczego',\n",
       "  'o',\n",
       "  'ustalenie',\n",
       "  'że',\n",
       "  'aktualizacja',\n",
       "  'opłaty',\n",
       "  'rocznej',\n",
       "  'z',\n",
       "  'tytułu',\n",
       "  'użytkowania',\n",
       "  'wieczystego',\n",
       "  'przedmiotowej',\n",
       "  'nieruchomości',\n",
       "  'jest',\n",
       "  'nieuzasadniona',\n",
       "  'ewentualnie',\n",
       "  'ustalenie',\n",
       "  'że',\n",
       "  'jest',\n",
       "  'uzasadniona',\n",
       "  'w',\n",
       "  'niższej',\n",
       "  'wysokości',\n",
       "  'we',\n",
       "  'wniosku',\n",
       "  'pozwani',\n",
       "  'powołali',\n",
       "  'się',\n",
       "  'na',\n",
       "  'okoliczność',\n",
       "  'nieudowodnienia',\n",
       "  'trwałej',\n",
       "  'zmiany',\n",
       "  'korzystania',\n",
       "  'przez',\n",
       "  'nich',\n",
       "  'z',\n",
       "  'nieruchomości',\n",
       "  'ewentualnie',\n",
       "  'wnieśli',\n",
       "  'ustalenie',\n",
       "  'opłaty',\n",
       "  'w',\n",
       "  'niższej',\n",
       "  'wysokości',\n",
       "  'niż',\n",
       "  'ustalona',\n",
       "  'zaskarżoną',\n",
       "  'decyzją',\n",
       "  'z',\n",
       "  'uwagi',\n",
       "  'na',\n",
       "  'spadek',\n",
       "  'ceny',\n",
       "  'rynkowej',\n",
       "  'nieruchomości',\n",
       "  'w',\n",
       "  'orzeczeniu',\n",
       "  'z',\n",
       "  'dnia',\n",
       "  '30',\n",
       "  '03',\n",
       "  '2017r',\n",
       "  'sko',\n",
       "  'uznało',\n",
       "  'wniosek',\n",
       "  'pozwanych',\n",
       "  'za',\n",
       "  'zasadny',\n",
       "  'w',\n",
       "  'uzasadnieniu',\n",
       "  'orzeczenia',\n",
       "  'wskazano',\n",
       "  'że',\n",
       "  'co',\n",
       "  'prawda',\n",
       "  'art73',\n",
       "  'ustawy',\n",
       "  'z',\n",
       "  'dnia',\n",
       "  '21',\n",
       "  '08',\n",
       "  '1997r',\n",
       "  'o',\n",
       "  'gospodarce',\n",
       "  'nieruchomościami',\n",
       "  'dopuszcza',\n",
       "  'zmianę',\n",
       "  'stawki',\n",
       "  'procentowej',\n",
       "  'opłaty',\n",
       "  'rocznej',\n",
       "  'za',\n",
       "  'użytkowanie',\n",
       "  'wieczyste',\n",
       "  'nieruchomości',\n",
       "  'jednakże',\n",
       "  'jest',\n",
       "  'to',\n",
       "  'dopuszczalne',\n",
       "  'w',\n",
       "  'przypadkach',\n",
       "  'ściśle',\n",
       "  'w',\n",
       "  'tej',\n",
       "  'ustawie',\n",
       "  'przewidzianych',\n",
       "  'podkreślono',\n",
       "  'że',\n",
       "  'wykazanie',\n",
       "  'trwałej',\n",
       "  'zmiany',\n",
       "  'sposobu',\n",
       "  'korzystania',\n",
       "  'z',\n",
       "  'nieruchomości',\n",
       "  'które',\n",
       "  'jest',\n",
       "  'przesłanką',\n",
       "  'zmiany',\n",
       "  'stawki',\n",
       "  'opłaty',\n",
       "  'rocznej',\n",
       "  'procentowej',\n",
       "  'za',\n",
       "  'użytkowanie',\n",
       "  'wieczyste',\n",
       "  'obciąża',\n",
       "  'organ',\n",
       "  'dokonujący',\n",
       "  'tej',\n",
       "  'zmiany',\n",
       "  'zaś',\n",
       "  'w',\n",
       "  'niniejszej',\n",
       "  'sprawie',\n",
       "  'okoliczność',\n",
       "  'ta',\n",
       "  'nie',\n",
       "  'została',\n",
       "  'wykazana',\n",
       "  'za',\n",
       "  'niewystarczającą',\n",
       "  'w',\n",
       "  'tym',\n",
       "  'względzie',\n",
       "  'uznał',\n",
       "  'wizję',\n",
       "  'terenową',\n",
       "  'nieruchomości',\n",
       "  'od',\n",
       "  'wiosny',\n",
       "  '2017r',\n",
       "  'do',\n",
       "  'dnia',\n",
       "  'oględzin',\n",
       "  'sądowych',\n",
       "  'nieruchomości',\n",
       "  'lokalowych',\n",
       "  'pozwanych',\n",
       "  'wskazanych',\n",
       "  'w',\n",
       "  'decyzji',\n",
       "  'organu',\n",
       "  'o',\n",
       "  'zmianie',\n",
       "  'stawki',\n",
       "  'za',\n",
       "  'użytkowanie',\n",
       "  'wieczyste',\n",
       "  'nieruchomości',\n",
       "  'pozwani',\n",
       "  'dokonali',\n",
       "  'przerobienia',\n",
       "  'lokali',\n",
       "  'zgodnie',\n",
       "  'z',\n",
       "  'ich',\n",
       "  'pierwotnym',\n",
       "  'przeznaczeniem',\n",
       "  'na',\n",
       "  'lokale',\n",
       "  'mieszkalne',\n",
       "  'ponadto',\n",
       "  'dokonali',\n",
       "  'ich',\n",
       "  'wyposażenia',\n",
       "  'w',\n",
       "  'celu',\n",
       "  'wynajęcia',\n",
       "  'na',\n",
       "  'cele',\n",
       "  'mieszkalne',\n",
       "  'każde',\n",
       "  'z',\n",
       "  'pomieszczeń',\n",
       "  'zostały',\n",
       "  'wyposażone',\n",
       "  'standardowo',\n",
       "  'obecnie',\n",
       "  'dwa',\n",
       "  'z',\n",
       "  'tych',\n",
       "  'lokali',\n",
       "  'o',\n",
       "  'numerach',\n",
       "  'są',\n",
       "  'już',\n",
       "  'zajmowane',\n",
       "  'przez',\n",
       "  'najemców',\n",
       "  'tylko',\n",
       "  'dwa',\n",
       "  'z',\n",
       "  'tych',\n",
       "  'lokali',\n",
       "  'tj',\n",
       "  'lokale',\n",
       "  'o',\n",
       "  'numerach',\n",
       "  'są',\n",
       "  'wykorzystywane',\n",
       "  'na',\n",
       "  'cele',\n",
       "  'prowadzenia',\n",
       "  'działalności',\n",
       "  'gospodarczej',\n",
       "  'dydaktycznej',\n",
       "  'przez',\n",
       "  'pozwanych',\n",
       "  'dowody',\n",
       "  'bezsporne',\n",
       "  'oraz',\n",
       "  'dokumenty',\n",
       "  'z',\n",
       "  'akt',\n",
       "  'sko',\n",
       "  'nr',\n",
       "  '7201862016',\n",
       "  'i',\n",
       "  'orzeczenie',\n",
       "  'sko',\n",
       "  'k67',\n",
       "  'wniosek',\n",
       "  'k910',\n",
       "  'pismo',\n",
       "  'k18',\n",
       "  'oględziny',\n",
       "  'k41',\n",
       "  'przesłuchanie',\n",
       "  'stron',\n",
       "  'k42',\n",
       "  'sąd',\n",
       "  'zważył',\n",
       "  'co',\n",
       "  'następuje',\n",
       "  'żądanie',\n",
       "  'sprzeciwu',\n",
       "  'nie',\n",
       "  'zasługiwało',\n",
       "  'na',\n",
       "  'uwzględnienie',\n",
       "  'sąd',\n",
       "  'ustalił',\n",
       "  'stan',\n",
       "  'faktyczny',\n",
       "  'w',\n",
       "  'oparciu',\n",
       "  'o',\n",
       "  'dokumenty',\n",
       "  'zgromadzone',\n",
       "  'w',\n",
       "  'postępowaniu',\n",
       "  'administracyjnym',\n",
       "  'przed',\n",
       "  'sko',\n",
       "  'oraz',\n",
       "  'w',\n",
       "  'oparciu',\n",
       "  'o',\n",
       "  'oględziny',\n",
       "  'lokali',\n",
       "  'zajmowanych',\n",
       "  'przez',\n",
       "  'pozwanych',\n",
       "  'których',\n",
       "  'dotyczyła',\n",
       "  'decyzja',\n",
       "  'z',\n",
       "  'dnia',\n",
       "  '26',\n",
       "  '10',\n",
       "  '2016r',\n",
       "  'a',\n",
       "  'także',\n",
       "  'przesłuchanie',\n",
       "  'stron',\n",
       "  'wszystkim',\n",
       "  'tym',\n",
       "  'dowodom',\n",
       "  'sąd',\n",
       "  'dał',\n",
       "  'wiarę',\n",
       "  'jako',\n",
       "  'korespondującym',\n",
       "  'ze',\n",
       "  'sobą',\n",
       "  'wzajemnie',\n",
       "  'i',\n",
       "  'pozwalającym',\n",
       "  'na',\n",
       "  'ustalenie',\n",
       "  'spójnego',\n",
       "  'stanu',\n",
       "  'faktycznego',\n",
       "  'w',\n",
       "  'sprawie',\n",
       "  'w',\n",
       "  'istocie',\n",
       "  'rzeczy',\n",
       "  'po',\n",
       "  'dokonaniu',\n",
       "  'oględzin',\n",
       "  'lokali',\n",
       "  'wskazanych',\n",
       "  'w',\n",
       "  'decyzji',\n",
       "  'powoda',\n",
       "  'stan',\n",
       "  'faktyczny',\n",
       "  'w',\n",
       "  'sprawie',\n",
       "  'był',\n",
       "  'bezsporny',\n",
       "  'w',\n",
       "  'szczególności',\n",
       "  'bezsporny',\n",
       "  'okazał',\n",
       "  'się',\n",
       "  'sposób',\n",
       "  'korzystania',\n",
       "  'z',\n",
       "  'poszczególnych',\n",
       "  'lokali',\n",
       "  'przez',\n",
       "  'pozwanych',\n",
       "  'sporna',\n",
       "  'pozostawała',\n",
       "  'natomiast',\n",
       "  'interpretacja',\n",
       "  'treści',\n",
       "  'art73',\n",
       "  'ustawy',\n",
       "  'z',\n",
       "  'dnia',\n",
       "  '21',\n",
       "  '08',\n",
       "  '1997r',\n",
       "  'o',\n",
       "  'gospodarce',\n",
       "  'nieruchomościami',\n",
       "  'zgodnie',\n",
       "  'z',\n",
       "  'tym',\n",
       "  'przepisem',\n",
       "  'jeżeli',\n",
       "  'nieruchomość',\n",
       "  'gruntowa',\n",
       "  'została',\n",
       "  'oddana',\n",
       "  'w',\n",
       "  'użytkowanie',\n",
       "  'wieczyste',\n",
       "  'na',\n",
       "  'więcej',\n",
       "  'niż',\n",
       "  'jeden',\n",
       "  'cel',\n",
       "  'stawkę',\n",
       "  'procentową',\n",
       "  'opłaty',\n",
       "  'rocznej',\n",
       "  'przyjmuje',\n",
       "  'się',\n",
       "  'dla',\n",
       "  'tego',\n",
       "  'celu',\n",
       "  'który',\n",
       "  'w',\n",
       "  'umowie',\n",
       "  ...],\n",
       " 'sprawy cywilne')"
      ]
     },
     "execution_count": 74,
     "metadata": {},
     "output_type": "execute_result"
    }
   ],
   "source": [
    "signatures_regexes = {\n",
    "    re.compile(r'A?C.*') : 'sprawy cywilne',\n",
    "    re.compile(r'A?U.*') : 'sprawy z zakresu ubezpieczenia społecznego',\n",
    "    re.compile(r'A?K.*') : 'sprawy karne',\n",
    "    re.compile(r'G.*') : 'sprawy gospodarcze',\n",
    "    re.compile(r'A?P.*') : 'sprawy w zakresie prawa pracy',\n",
    "    re.compile(r'R.*') : 'sprawy w zakresie prawa rodzinnego',\n",
    "    re.compile(r'W.*') : 'sprawy o wykroczenia',\n",
    "    re.compile(r'Am.*') : 'sprawy w zakresie prawa konkurencji'\n",
    "}\n",
    "\n",
    "new_signatures = []\n",
    "not_matching_signatures = []\n",
    "\n",
    "judgments_and_signatures_list_after_transformation = []\n",
    "\n",
    "def match_signature_to_code(code):\n",
    "    for judg_regex in signatures_regexes.keys():\n",
    "        if (re.match(judg_regex, code)):\n",
    "            return signatures_regexes[judg_regex]\n",
    "    return None\n",
    "\n",
    "for pair in judgments_and_signatures_list:\n",
    "    code = \" \".join(pair[1]).split(\" \")[1]\n",
    "    res = match_signature_to_code(code)\n",
    "    judgments_and_signatures_list_after_transformation.append((pair[0], res))\n",
    "    if res is None:\n",
    "        not_matching_signatures.append(code)\n",
    "\n",
    "\n",
    "judgments_and_signatures_list_after_transformation[:10][1]"
   ]
  },
  {
   "cell_type": "code",
   "execution_count": 75,
   "metadata": {},
   "outputs": [
    {
     "name": "stdout",
     "output_type": "stream",
     "text": [
      "['Ns', 'Ns', 'Ns', 'Ns', 'Ns', 'Ns', 'Ns', 'Ns', 'Ns', 'Nsm', 'S', 'Ns', 'Ns', 'Ns', 'Ns', 'Nsm', 'Ns', 'Ns', 'Ns', 'Ns', 'Ns', 'Ns', 'Nsm', 'Ns', 'Ns', 'Nsm', 'Ns', 'Ns']\n"
     ]
    }
   ],
   "source": [
    "print(not_matching_signatures)"
   ]
  },
  {
   "cell_type": "code",
   "execution_count": 76,
   "metadata": {
    "collapsed": true
   },
   "outputs": [],
   "source": [
    "judgments_signatures = list(filter(lambda x: x[1] is not None, \n",
    "                                   judgments_and_signatures_list_after_transformation))"
   ]
  },
  {
   "cell_type": "code",
   "execution_count": 77,
   "metadata": {},
   "outputs": [
    {
     "data": {
      "text/plain": [
       "962"
      ]
     },
     "execution_count": 77,
     "metadata": {},
     "output_type": "execute_result"
    }
   ],
   "source": [
    "len(judgments_signatures)"
   ]
  },
  {
   "cell_type": "code",
   "execution_count": 78,
   "metadata": {},
   "outputs": [
    {
     "name": "stdout",
     "output_type": "stream",
     "text": [
      "[(['uzasadnienie', 'powód', 'sp', 'z', 'oo', 'sp', 'k', 'z', 'siedzibą', 'w', 'p', 'wniósł', 'o', 'zwolnienie', 'spod', 'egzekucji', 'administracyjnej', 'prawa', 'majątkowego', 'przysługującego', 'powodowi', 'w', 'postaci', 'wierzytelności', 'z', 'tytułu', 'nienależnie', 'pobranego', 'podatku', 'akcyzowego', 'za', 'miesiące', 'luty', 'marzec', 'kwiecień', 'maj', 'wrzesień', 'i', 'październik', '2011', 'r', 'określonego', 'w', 'decyzji', 'naczelnika', 'urzędy', 'celnego', 'w', 'z', 'z', 'dnia', '6', 'lutego', '2013', 'r', 'nr', '91104141213dn', 'oraz', 'dyrektora', 'izby', 'celnej', 'w', 'r', 'z', 'dnia', '8', 'kwietnia', '2014', 'r', 'nr', '241314', 'która', 'został', 'stwierdzona', 'prawomocnym', 'wyrokiem', 'wojewódzkiego', 'sądu', 'administracyjnego', 'w', 'g', 'z', 'dnia', '6', 'lipca', '2016', 'r', 'sygn', 'akt', 'i', 'sago', '18616', 'w', 'postaci', 'kosztów', 'egzekucyjnych', 'w', 'kwocie', '861498', 'złotych', 'wynikających', 'z', 'egzekucji', 'ww', 'nienależnie', 'pobranego', 'podatku', 'akcyzowego', 'wierzytelność', 'ta', 'została', 'zajęta', 'na', 'poczet', 'postępowania', 'zabezpieczającego', 'w', 'dniu', '14', 'października', '2016', 'roku', 'pełnomocnik', 'powoda', 'podnosi', 'przy', 'tym', 'że', 'zajęcie', 'to', 'jest', 'bezpodstawne', 'i', 'bezprawne', 'albowiem', 'zajęta', 'wierzytelność', 'od', 'dnia', '19', 'lipca', '2016', 'r', 'nie', 'jest', 'własnością', 'w', 'k', 'przeciwko', 'któremu', 'organ', 'administracyjny', 'prowadzi', 'postępowanie', 'zabezpieczające', 'nadto', 'w', 'pozwie', 'zawarto', 'żądanie', 'zasądzenia', 'od', 'strony', 'pozwanej', 'na', 'rzecz', 'powódki', 'kosztów', 'procesu', 'w', 'tym', 'kosztów', 'zastępstwa', 'procesowego', 'według', 'norm', 'przepisanych', 'w', 'odpowiedzi', 'na', 'pozew', 'pozwany', 'wniósł', 'o', 'oddalenie', 'powództwa', 'w', 'całości', 'oraz', 'o', 'zasądzenie', 'kosztów', 'procesu', 'w', 'tym', 'kosztów', 'zastępstwa', 'procesowego', 'wyrokiem', 'z', 'dnia', '21', 'lipca', '2017', 'roku', 'sąd', 'rejonowy', 'we', 'wschowie', 'w', 'sprawie', 'rozpoznawanej', 'pod', 'sygnaturą', 'i', 'c', '12317', 'w', 'punkcie', 'pierwszym', 'zwolnił', 'spod', 'egzekucji', 'administracyjnej', 'prawo', 'majątkowe', 'przysługujące', 'powodowi', 'sp', 'z', 'oo', 'sp', 'k', 'zs', 'w', 'p', 'w', 'postaci', 'wierzytelności', 'z', 'tytułu', 'nienależnie', 'pobranego', 'podatku', 'akcyzowego', 'za', 'miesiąc', 'luty', 'marzec', 'kwiecień', 'maj', 'wrzesień', 'i', 'październik', '2011', 'określone', 'w', 'decyzjach', 'naczelnika', 'urzędu', 'celnego', 'w', 'z', 'z', 'dnia', '6', 'luty', '2013', 'roku', 'nr', '91104141213', 'dn', 'oraz', 'dyrektora', 'izby', 'celnej', 'w', 'r', 'z', 'dnia', '8', 'kwietnia', '2014', 'roku', 'nr', '241314', 'które', 'zostały', 'uchylone', 'prawomocnym', 'wyrokiem', 'wojewódzkiego', 'sądu', 'administracyjnego', 'w', 'g', 'z', 'dnia', '6', 'lipca', '2016', 'roku', 'w', 'sprawie', 'pod', 'sygnatura', 'akt', 'i', 'sago18616', 'w', 'postaci', 'kosztów', 'egzekucyjnych', 'w', 'kwocie', '8', '614', '98', 'złotych', 'wynikających', 'z', 'egzekucji', 'ww', 'nienależnie', 'pobranego', 'podatku', 'akcyzowego', 'w', 'punkcie', 'drugim', 'zasądził', 'od', 'pozwanego', 'skarbu', 'państwa', 'naczelnika', 'urzędu', 'skarbowego', 'we', 'w', 'na', 'rzecz', 'powoda', 'kwotę', '2248', 'złotych', 'tytułem', 'zwrotu', 'kosztów', 'procesu', 'w', 'tym', 'kwotę', '1800', 'złotych', 'tytułem', 'kosztów', 'zastępstwa', 'procesowego', 'orzeczenia', 'to', 'zapadło', 'w', 'oparciu', 'o', 'ustalony', 'przez', 'sąd', 'i', 'instancji', 'stan', 'faktyczny', 'w', 'którym', 'organ', 'stwierdził', 'że', 'naczelnik', 'urzędu', 'celnego', 'w', 'z', 'w', 'dniu', '6', 'lutego', '2013', 'wydał', 'decyzję', 'nr', 'w', 'której', 'określił', 'w', 'k', '2', 'zobowiązanie', 'podatkowe', 'w', 'podatku', 'akcyzowym', 'za', 'luty', 'marzec', 'kwiecień', 'maj', 'wrzesień', 'i', 'październik', '2011r', 'w', 'kwocie', 'wynoszącej', 'ogółem', '326943', 'zł', 'decyzję', 'tę', 'utrzymał', 'w', 'mocy', 'dyrektor', 'izby', 'celnej', 'w', 'r', 'decyzją', 'z', 'dnia', '8', 'kwietnia', '2014', 'nr', '24134', 'na', 'mocy', 'tych', 'decyzji', 'od', 'w', 'k', '2', 'wyegzekwowano', 'kwotę', '115422', 'zł', 'tytułem', 'zobowiązania', 'podatkowe', 'w', 'podatku', 'akcyzowym', 'za', 'luty', 'marzec', 'kwiecień', 'maj', 'wrzesień', 'i', 'październik', '2011', 'r', 'ściągając', 'tę', 'kwotę', 'z', 'rachunku', 'bankowego', 'w', 'k', 'oraz', 'z', 'jego', 'świadczenia', 'rentowego', 'wojewódzki', 'sąd', 'administracyjny', 'w', 'g', 'prawomocnym', 'wyrokiem', 'z', 'dnia', '6', 'lipca', '2016', 'r', 'uchylił', 'decyzję', 'dyrektora', 'izby', 'celnej', 'w', 'r', 'z', 'dnia', '8', 'kwietnia', '2014', 'oraz', 'poprzedzającą', 'ją', 'decyzję', 'naczelnika', 'urzędu', 'celnego', 'w', 'z', 'z', 'dnia', '6', 'lutego', '2013', 'oraz', 'zasądził', 'od', 'dyrektora', 'izby', 'celnej', 'w', 'r', 'na', 'rzecz', 'w', 'k', '2', 'kwotę', '10470', 'zł', 'tytułem', 'zwrotu', 'kosztów', 'postępowania', 'w', 'dniu', '19072016', 'r', 'w', 'kancelarii', 'notarialnej', 'we', 'w', 'przed', 'notariuszem', 's', 'g', 'w', 'k', '2', 'zawarł', 'z', 'innymi', 'osobami', 'umowę', 'spółki', 'komandytowej', 'firma', 'spółki', 'brzmiała', 'spółka', 'z', 'ograniczoną', 'odpowiedzialnością', 'spółka', 'komandytowa', 'w', 'k', '2', 'wniósł', 'do', 'spółki', 'wkład', 'pieniężny', 'w', 'kwocie', '115422', 'zł', 'wraz', 'z', 'należnymi', 'odsetkami', 'w', 'postaci', 'przysługującej', 'mu', 'od', 'skarbu', 'państwa', 'wierzytelności', 'pieniężnej', 'z', 'tytułu', 'zwrotu', 'podatku', 'akcyzowego', 'za', 'luty', 'marzec', 'kwiecień', 'maj', 'wrzesień', 'i', 'październik', '2011', 'r', 'określonej', 'w', 'decyzji', 'naczelnik', 'urzędu', 'celnego', 'w', 'z', 'z', 'dniu', '6', 'lutego', '2013', 'nr', '4141213dn', 'która', 'to', 'kwota', 'przysługiwała', 'mu', 'z', 'tytułu', 'nienależnie', 'pobranego', 'podatku', 'pismem', 'z', 'dnia', '6', 'października', '2016', 'r', 'dyrektor', 'izby', 'celnej', 'w', 'r', 'poinformował', 'w', 'k', '2', 'iż', 'w', 'związku', 'z', 'wyrokiem', 'wsa', 'w', 'gorzowie', 'wlkp', 'z', 'dnia', '6', 'lipca', '2016', 'r', 'w', 'dniu', '5', 'października', '2016', 'r', 'został', 'umorzone', 'postępowanie', 'egzekucyjne', 'prowadzone', 'na', 'postawie', 'tytułów', 'wykonawczych', 'z', 'dnia', '15', 'maja', '2014', 'r', 'i', 'zwrócił', 'się', 'o', 'przekazanie', 'numeru', 'rachunku', 'bankowego', 'na', 'który', 'mają', 'być', 'zwrócone', 'koszty', 'i', 'wydatki', 'egzekucyjne', 'w', 'wysokości', '756172', 'wraz', 'z', 'odsetkami', 'dyrektor', 'izby', 'celnej', 'w', 'r', 'w', 'piśmie', 'tym', 'poinformował', 'także', 'w', 'k', '2', 'iż', 'w', 'sprawie', 'zwrotu', 'należności', 'wyegzekwowanych', 'na', 'poczet', 'spłaty', 'zobowiązania', 'z', 'tytułu', 'podatku', 'akcyzowego', 'należy', 'zwrócić', 'się', 'do', 'wierzyciela', 'dyrektora', 'izby', 'celnej', 'w', 's', 'następnie', 'naczelnik', 'urzędu', 'skarbowego', 'we', 'w', 'w', 'toku', 'postępowania', 'zabezpieczającego', 'prowadzonego', 'na', 'podstawie', 'zarządzeń', 'zabezpieczenia', 'z', 'dnia', '2', 'października', '2015', 'r', 'obejmujących', 'zobowiązania', 'w', 'k', '2', 'zawiadomieniem', 'z', 'dnia', '12', 'października', '2016', 'r', 'dokonał', 'zajęcia', 'zabezpieczającego', 'wierzytelności', 'z', 'tytułu', 'podlegających', 'zwrotowi', 'kosztów', 'egzekucyjnych', 'powstałych', 'w', 'związku', 'z', 'prowadzoną', 'egzekucją', 'należności', 'w', 'podatku', 'akcyzowym', 'za', 'miesiąc', 'luty', 'marzec', 'kwiecień', 'maj', 'wrzesień', 'i', 'październik', '2011', 'r', 'należnych', 'w', 'k', '2', 'od', 'dyrektora', 'izby', 'celnej', 'w', 'r', 'w', 'dniu', '13', 'października', '2016', 'dłużnik', 'zajętej', 'wierzytelności', 'dyrektor', 'izby', 'celnej', 'w', 'r', 'dokonał', 'realizacji', 'zajęcia', 'przekazując', 'na', 'konto', 'depozytowe', 'urzędu', 'skarbowego', 'we', 'w', 'kwotę', '861498', 'zł', 'pismem', 'z', 'dnia', '14', 'października', '2016', 'r', 'w', 'k', '2', 'zawiadomiony', 'został', 'przez', 'izbę', 'celną', 'w', 'r', 'iż', 'przysługujący', 'mu', 'zwrot', 'kosztów', 'i', 'wydatków', 'egzekucyjnych', 'w', 'łącznej', 'wysokości', '861498', 'zł', 'w', 'tym', 'odsetki', 'należne', 'na', 'dzień', 'zwrotu', 'tj', '13', 'października', '2016', 'r', 'w', 'wysokości', '108273', 'zł', 'został', 'przekazany', 'na', 'rachunek', 'urzędu', 'skarbowego', 'we', 'w', 'o', 'zajęciu', 'tym', 'w', 'k', '2', 'zawiadomił', 'spółkę', 'spółka', 'wniosła', 'o', 'zwolnienie', 'spod', 'egzekucji', 'administracyjnej', 'przedmiotowej', 'wierzytelności', 'niemniej', 'jednak', 'postanowieniem', 'z', 'dnia', '28', 'listopada', '2016r', 'naczelnik', 'urzędu', 'skarbowego', 'we', 'w', 'postanowił', 'nie', 'wyłączyć', 'spod', 'zabezpieczenia', 'zajętej', 'wierzytelności', 'w', 'postaci', 'kosztów', 'egzekucyjnych', 'w', 'kwocie', '861498', 'zł', 'powstałych', 'w', 'związku', 'z', 'prowadzoną', 'egzekucją', 'należności', 'z', 'tytułu', 'nienależnie', 'pobranego', 'podatku', 'akcyzowego', 'za', 'miesiące', 'luty', 'marzec', 'kwiecień', 'maj', 'wrzesień', 'październik', '2011', 'r', 'na', 'powyższe', 'postanowienie', 'zażaliła', 'się', 'strona', 'powodowa', 'postanowieniem', 'z', 'dnia', '9', 'marca', '2017', 'r', 'dyrektor', 'i', 'administracyjnej', 'skarbowej', 'w', 'z', 'utrzymał', 'w', 'mocy', 'postanowienie', 'naczelnika', 'urzędu', 'skarbowego', 'we', 'w', 'z', 'dnia', '28', 'listopada', '2016', 'r', 'w', 'oparciu', 'o', 'tak', 'ustalony', 'stan', 'faktyczny', 'sąd', 'rejonowy', 'dokonał', 'zważań', 'prawnych', 'w', 'których', 'stwierdził', 'że', 'powództwa', 'o', 'zwolnienie', 'spod', 'egzekucji', 'administracyjnej', 'przedmiotowej', 'wierzytelności', 'zasługiwało', 'na', 'uwzględnienie', 'gdyż', 'zgodnie', 'z', 'art', '842', 'par', '1', 'kpc', 'dopuszczalne', 'jest', 'powództwo', 'o', 'zwolnienie', 'zajętego', 'przedmiotu', 'od', 'egzekucji', 'administracyjnej', 'do', 'pozwu', 'należy', 'dołączyć', 'postanowienie', 'administracyjnego', 'organu', 'egzekucyjnego', 'odmawiające', 'żądaniu', 'wyłączenia', 'przedmiotu', 'spod', 'egzekucji', 'w', 'niniejszej', 'sprawie', 'sp', 'z', 'oo', 'sp', 'k', 'w', 'p', 'sprostała', 'niniejszym', 'wymaganiom', 'zatem', 'pozew', 'wniesiony', 'został', 'skutecznie', 'organ', 'i', 'instancji', 'podkreślił', 'że', 'dla', 'rozstrzygnięcia', 'sprawy', 'istotne', 'było', 'to', 'czy', 'w', 'dacie', 'dokonania', 'zajęcia', 'tj', '12', 'października', '2016', 'r', 'wierzycielem', 'w', 'odniesieniu', 'do', 'kwoty', '861498', 'zł', 'był', 'jeszcze', 'w', 'k', '2', 'czy', 'też', 'już', 'powód', 'sp', 'z', 'ograniczoną', 'odpowiedzialnością', 'spółka', 'komandytowa', 'w', 'k', 'zawierając', 'umowę', 'spółki', 'w', 'dniu', '1972016', 'r', 'wniósł', 'przysługującą', 'mu', 'od', 'skarbu', 'państwa', 'naczelnika', 'urzędu', 'skarbowego', 'we', 'w', 'kwotę', '115422', 'zł', 'należną', 'mu', 'wraz', 'z', 'odsetkami', 'z', 'tytułu', 'zwrotu', 'niezasadnie', 'wyegzekwowanego', 'podatku', 'akcyzowego', 'który', 'wyegzekwowano', 'na', 'podstawie', 'decyzji', 'uchylonych', 'wyrokiem', 'wojewódzkiego', 'sądu', 'administracyjnego', 'w', 'g', 'z', 'dnia', '6', 'lipca', '2016', 'r', 'stanowisko', 'strony', 'pozwanej', 'wyartykułowane', 'w', 'odpowiedzi', 'na', 'pozew', 'sprowadzało', 'się', 'do', 'zarzutu', 'że', 'w', 'k', '2', 'co', 'prawda', 'wniósł', 'do', 'spółki', 'wkład', 'pieniężny', 'w', 'postaci', 'przysługującej', 'mu', 'wierzytelności', 'z', 'tytułu', 'nienależnie', 'pobranego', 'mu', 'podatku', 'lecz', 'przedmiotem', 'wkładu', 'pieniężnego', 'była', 'wierzytelność', 'z', 'tytułu', 'zwrotu', 'podatku', 'a', 'kwota', '861498', 'zł', 'stanowi', 'sumę', 'kosztów', 'egzekucyjnych', 'tj', 'nie', 'została', 'wniesiona', 'jako', 'wkład', 'pieniężny', 'do', 'spółki', 'uzasadnieniem', 'dla', 'tego', 'twierdzenia', 'był', 'to', 'iż', 'co', 'prawda', 'od', 'w', 'k', '2', 'wyegzekwowano', 'kwotę', '115422', 'zł', 'tytułem', 'zaległych', 'należności', 'podatkowych', 'podatku', 'akcyzowego', 'ale', 'część', 'z', 'tej', 'kwoty', 'tj', 'właśnie', '861498', 'zł', 'tj', '756172', 'zł', 'wraz', 'z', 'odsetkami', 'k', '25', 'akt', 'została', 'przez', 'organ', 'celny', 'zarachowana', 'na', 'koszty', 'egzekucyjne', 'powstałe', 'w', 'celu', 'wyegzekwowania', 'od', 'w', 'k', '2', 'podatku', 'akcyzowego', 'za', 'luty', 'marzec', 'kwiecień', 'maj', 'wrzesień', 'i', 'październik', '2011', 'r', 'ze', 'stanowiska', 'strony', 'pozwanej', 'wynika', 'więc', 'iż', 'tylko', 'pozostała', 'część', 'z', 'tej', 'kwoty', 'tj', '107860', '02', 'zł', 'wraz', 'z', 'odsetkami', '115422', '756172', 'zł', 'zaksięgowana', 'została', 'przez', 'organ', 'celny', 'na', 'poczet', 'należności', 'podatkowych', 'podatku', 'akcyzowego', 'z', 'takim', 'stanowiskiem', 'strony', 'pozwanej', 'sąd', 'się', 'nie', 'zgodził', 'gdyż', 'w', 'toku', 'egzekucji', 'administracyjnej', 'od', 'w', 'k', '2', 'wyegzekwowano', 'konkretną', 'kwotę', 'tj', '115422', 'zł', 'i', 'wierzytelność', 'opiewającą', 'na', 'tę', 'kwotę', 'w', 'k', '2', 'wniósł', 'jako', 'wkład', 'pieniężny', 'do', 'spółki', 'tj', 'wnosząc', 'wkład', 'podał', 'iż', 'wnosi', 'dokładnie', '115422', 'zł', 'i', 'określił', 'na', 'poczet', 'jakiego', 'zobowiązania', 'podatkowego', 'ta', 'kwota', 'została', 'od', 'niego', 'wyegzekwowana', 'i', 'ma', 'zostać', 'zwrócona', 'przedmiotem', 'wkładu', 'pieniężnego', 'była', 'więc', 'wierzytelność', 'w', 'ściśle', 'określonej', 'kwocie', 'równej', 'tej', 'którą', 'przymusowo', 'wyegzekwowano', 'od', 'w', 'k', 'zdaniem', 'sądu', 'wkład', 'pieniężny', 'wniesiony', 'więc', 'w', 'dniu', '19072016', 'do', 'powodowej', 'spółki', 'obejmował', 'także', 'kwotę', '756172', 'zł', 'stanowiącą', 'wydzieloną', 'na', 'pokrycie', 'kosztów', 'egzekucyjnych', 'część', 'kwoty', '115422', 'zł', 'w', 'ocenie', 'sądu', 'więc', 'powodowa', 'spółka', 'wykazała', 'iż', 'to', 'ona', 'jest', 'właścicielem', 'wierzycielem', 'wierzytelności', 'w', 'łącznej', 'kwocie', '861498', 'zł', 'co', 'skutkowało', 'uwzględnieniem', 'powództwa', 'w', 'całości', 'odnosząc', 'się', 'natomiast', 'to', 'twierdzeń', 'strony', 'pozwanej', 'że', 'wierzytelność', 'przysługująca', 'w', 'k', 'w', 'kwocie', '115422', 'zł', 'została', 'już', 'rozliczona', 'bądź', 'w', 'inny', 'sposób', 'rozdysponowana', 'przez', 'organy', 'celnopodatkowe', 'na', 'poczet', 'jeszcze', 'jakichś', 'innych', 'zobowiązań', 'w', 'k', 'to', 'wskazać', 'należy', 'iż', 'co', 'najmniej', 'do', 'dnia', '6', 'lipca', '2016', 'r', 'kwotę', '115422', 'zł', 'skarb', 'państwa', 'uznawał', 'za', 'wyegzekwowaną', 'czy', 'też', 'zajętą', 'na', 'poczet', 'wierzytelności', 'pieniężnej', 'z', 'tytułu', 'zwrotu', 'podatku', 'akcyzowego', 'za', 'luty', 'marzec', 'kwiecień', 'maj', 'wrzesień', 'i', 'październik', '2011', 'r', 'określonej', 'w', 'decyzji', 'naczelnika', 'urzędu', 'celnego', 'w', 'z', 'z', 'dniu', '6', 'lutego', '2013', 'roku', 'ta', 'sama', 'kwota', 'nie', 'mogła', 'więc', 'być', 'zajęta', 'czy', 'też', 'zaliczona', 'na', 'poczet', 'innych', 'zobowiązań', 'podatkowych', 'w', 'k', 'a', 'obowiązek', 'jej', 'zwrotu', 'powstał', 'dopiero', 'w', 'dacie', 'uprawomocnienia', 'się', 'wyroku', 'wsa', 'w', 'gorzowie', 'wlkp', 'z', 'dnia', '6', 'lipca', '2016', 'r', 'czy', 'też', 'jeszcze', 'później', 'w', 'dniu', '5', 'października', '2016', 'r', 'tj', 'w', 'dacie', 'umorzenia', 'postępowania', 'egzekucyjnego', 'w', 'którym', 'kwotę', '115422', 'zł', 'wyegzekwowano', 'od', 'w', 'k', 'strona', 'pozwana', 'nie', 'przedłożyła', 'natomiast', 'żadnych', 'dowodów', 'na', 'okoliczność', 'tego', 'iż', 'między', 'np', '6', 'lipca', '2016', 'r', 'a', '19072016', 'r', 'bądź', '5', 'października', 'kwota', '115422', 'zł', 'została', 'zajęta', 'na', 'poczet', 'jakichkolwiek', 'innych', 'zobowiązań', 'pozwanego', 'zaliczona', 'na', 'poczet', 'takich', 'zobowiązań', 'pierwsze', 'zajęcie', 'części', 'kwoty', '115422', 'zł', 'na', 'poczet', 'innych', 'przyszłych', 'zobowiązań', 'podatkowych', 'w', 'k', 'zostało', 'przez', 'skarb', 'państwa', 'naczelnika', 'urzędu', 'skarbowego', 'we', 'w', 'dokonane', 'dopiero', 'w', 'dniu', '12', 'października', '2016', 'r', 'i', 'nie', 'mogło', 'być', 'skuteczne', 'bowiem', 'w', 'k', 'już', 'nie', 'przysługiwała', 'zajęta', 'wierzytelność', 'okoliczność', 'że', 'naczelnik', 'urzędu', 'skarbowego', 'we', 'w', 'zajęcia', 'tego', 'dokonał', 'na', 'podstawie', 'zarządzeń', 'zabezpieczenia', 'z', 'dnia', '02102015', 'r', 'jest', 'bez', 'znaczenia', 'wskazać', 'bowiem', 'trzeba', 'iż', 'w', 'myśl', 'przepisu', 'art', '89', 'par', '2', 'ustawy', 'z', 'dnia', '17', 'czerwca', '1966', 'r', 'o', 'postępowaniu', 'egzekucyjnym', 'w', 'administracji', 'zajęcie', 'wierzytelności', 'jest', 'dokonane', 'z', 'chwilą', 'doręczenia', 'dłużnikowi', 'zajętej', 'wierzytelności', 'zawiadomienia', 'o', 'zajęciu', 'zajęcie', 'to', 'zostało', 'dokonane', '12', 'października', '2016', 'r', 'i', 'było', 'nieskuteczne', 'także', 'i', 'z', 'tego', 'powodu', 'iż', 'wierzytelność', 'w', 'k', 'wobec', 'skarbu', 'państwa', 'opiewająca', 'na', 'kwotę', '115422', 'zł', 'stała', 'się', 'wymagalna', 'najpóźniej', 'w', 'dacie', 'uprawomocnienia', 'się', 'wyroku', 'wojewódzkiego', 'sądu', 'administracyjnego', 'w', 'g', 'z', 'dnia', '6', 'lipca', '2016', 'bądź', 'w', 'dniu', '5', 'października', '2016', 'r', 'tj', 'w', 'dniu', 'kiedy', 'umorzono', 'postępowanie', 'egzekucyjne', 'i', 'dyrektor', 'izby', 'celnej', 'w', 'r', 'k', '25', 'akt', 'zwrócił', 'się', 'do', 'w', 'k', '2', 'o', 'przekazanie', 'numeru', 'rachunku', 'bankowego', 'na', 'który', 'mają', 'być', 'zwrócone', 'przez', 'organ', 'egzekucyjny', 'dyrektora', 'izby', 'celnej', 'w', 'r', 'koszty', 'i', 'wydatki', 'egzekucyjne', 'w', 'kwocie', '756172', 'zł', 'wraz', 'z', 'odsetkami', 'zajęcie', 'wierzytelności', 'było', 'zatem', 'nieskuteczne', 'gdyż', 'nastąpiło', 'już', 'po', 'rozporządzeniu', 'wierzytelnością', 'przez', 'w', 'k', 'i', 'po', 'tym', 'jak', 'stała', 'się', 'wymagalna', 'od', 'powyższego', 'orzeczenia', 'apelacje', 'wywiódł', 'pozwany', 'który', 'zaskarżonemu', 'wyrokowi', 'zarzucił', 'naruszenie', 'art', '233', '1', 'kpc', 'poprzez', 'sprzeczność', 'istotnych', 'ustaleń', 'sądu', 'i', 'instancji', 'z', 'treścią', 'zebranego', 'w', 'sprawie', 'materiału', 'dowodowego', 'która', 'miała', 'wpływ', 'na', 'treść', 'orzeczenia', 'a', 'w', 'szczególności', 'poprzez', 'przyjęcie', 'że', 'zajęte', 'w', 'wyniku', 'egzekucji', 'administracyjnej', 'koszty', 'egzekucyjne', 'z', 'odsetkami', 'w', 'kwocie', '8', '614', '98', 'złotych', 'zawierały', 'się', 'we', 'wkładzie', 'pieniężnym', 'z', 'tytułu', 'przysługującej', 'panu', 'w', 'k', '2', 'wierzytelności', 'w', 'kwocie', '115', '422', '00', 'złotych', 'wraz', 'z', 'należnymi', 'odsetkami', 'wniesionej', 'przez', 'pana', 'w', 'k', '2', 'do', 'spółki', 'powoda', 'aktem', 'notarialnym', 'z', 'dnia', '19', 'lipca', '2016', 'roku', 'i', 'w', 'związku', 'z', 'tym', 'podlegają', 'wyłączeniu', 'spod', 'egzekucji', 'pomimo', 'że', 'ustalony', 'stan', 'faktyczny', 'pozwala', 'na', 'stwierdzenie', 'iż', 'zajęta', 'przez', 'pozwanego', 'kwota', '8', '614', '98', 'złotych', 'nie', 'stanowi', 'wierzytelności', 'wniesionej', 'do', 'spółki', 'powoda', 'a', 'zatem', 'nie', 'podlega', 'wyłączeniu', 'spod', 'egzekucji', 'wobec', 'tak', 'stanianego', 'zarzutu', 'skarżący', 'wniósł', 'o', 'zmianę', 'zaskarżonego', 'wyroku', 'i', 'oddalenie', 'powództwa', 'a', 'także', 'zamianę', 'zaskarżonego', 'wyroku', 'w', 'zakresie', 'rozstrzygnięcia', 'o', 'kosztach', 'procesu', 'poprzez', 'zasądzenie', 'od', 'powoda', 'na', 'rzecz', 'pozwanego', 'kosztów', 'procesu', 'za', 'obie', 'instancje', 'w', 'tym', 'kosztów', 'zastępstwa', 'procesowego', 'według', 'norm', 'przepisanych', 'ewentualnie', 'o', 'uchylenie', 'wyroku', 'i', 'przekazanie', 'sprawy', 'sądowi', 'i', 'instancji', 'do', 'ponownego', 'rozpoznania', 'w', 'odpowiedzi', 'na', 'apelację', 'strona', 'powodowa', 'wniosła', 'o', 'oddalenie', 'apelacji', 'pozwanego', 'w', 'całości', 'oraz', 'o', 'zasądzenie', 'na', 'rzecz', 'strony', 'powodowej', 'kosztów', 'procesu', 'w', 'postępowaniu', 'apelacyjnym', 'w', 'tym', 'kosztów', 'zastępstwa', 'procesowego', 'według', 'norm', 'przepisanych', 'sąd', 'okręgowy', 'zważył', 'co', 'następuje', 'na', 'początek', 'należy', 'wskazać', 'że', 'żadna', 'ze', 'stron', 'nie', 'podniosła', 'zarzutu', 'nieważności', 'postępowania', 'a', 'kontrola', 'instancyjna', 'również', 'nie', 'wykazała', 'podstaw', 'nieważności', 'dlatego', 'dalszy', 'zakres', 'kognicji', 'sądu', 'odwoławczego', 'został', 'wyznaczony', 'treścią', 'zaskarżonego', 'orzeczenia', 'oraz', 'zarzutami', 'podniesionymi', 'w', 'środku', 'odwoławczym', 'niniejsza', 'apelacja', 'okazała', 'się', 'słuszna', 'w', 'związku', 'z', 'czym', 'została', 'uwzględniona', 'w', 'całości', 'istota', 'niniejszej', 'sprawy', 'sprowadza', 'się', 'do', 'ustalenia', 'czy', 'kwota', '8614', '98', 'złotych', 'mieściła', 'się', 'w', 'kwocie', '115', '42200', 'złotych', 'wyegzekwowanej', 'z', 'tytułu', 'nienależnie', 'pobranego', 'podatku', 'gdyby', 'przyjąć', 'że', 'kwota', 'kosztów', 'egzekucyjnych', 'tj', '8614', '98', 'złotych', 'jest', 'częścią', 'kwoty', '115', '422', '00', 'złotych', 'to', 'spółka', 'powodowa', 'rzeczywiście', 'stałaby', 'się', 'jej', 'właścicielem', 'z', 'dniem', '19', 'lipca', '2016', 'roku', 'gdyby', 'jednak', 'przyjąć', 'że', 'koszty', 'egzekucyjne', 'stanowiły', 'odrębną', 'od', 'wierzytelności', 'przysługującej', 'panu', 'w', 'z', 'tytułu', 'nienależnie', 'pobranego', 'podatku', 'część', 'wówczas', 'należy', 'przyjąć', 'że', 'spółka', 'nie', 'jest', 'jej', 'właścicielem', 'i', 'nie', 'może', 'domagać', 'się', 'zwolnienia', 'tej', 'wierzytelności', 'spod', 'egzekucji', 'administracyjnej', 'zgodnie', 'z', 'art', '38', '1', 'ustawy', 'z', 'dnia', '17', 'czerwca', '1966', 'roku', 'z', 'późniejszymi', 'z', 'mianami', 'o', 'postępowaniu', 'egzekucyjnym', 'w', 'administracji', 'kto', 'nie', 'będąc', 'zobowiązanym', 'rości', 'sobie', 'prawa', 'do', 'rzeczy', 'lub', 'prawa', 'majątkowego', 'z', 'którego', 'prowadzi', 'się', 'egzekucję', 'administracyjną', 'może', 'wystąpić', 'do', 'organu', 'egzekucyjnego', 'w', 'terminie', 'czternastu', 'dni', 'od', 'dnia', 'uzyskania', 'wiadomości', 'o', 'czynności', 'egzekucyjnej', 'skierowanej', 'do', 'tej', 'rzeczy', 'lub', 'tego', 'prawa', 'z', 'żądaniem', 'ich', 'wyłączenia', 'spod', 'egzekucji', 'przedstawiając', 'lub', 'powołując', 'dowody', 'na', 'poparcie', 'swego', 'żądania', '4', 'przepisy', '13', 'stosuje', 'się', 'odpowiednio', 'w', 'przypadku', 'zgłoszenia', 'roszczeń', 'do', 'rzeczy', 'lub', 'praw', 'majątkowych', 'zajętych', 'w', 'celu', 'zabezpieczenia', 'ponadto', 'na', 'podstawie', 'art', '842', 'kpc', '1', 'dopuszczalne', 'jest', 'również', 'powództwo', 'o', 'zwolnienie', 'zajętego', 'przedmiotu', 'od', 'egzekucji', 'administracyjnej', 'do', 'pozwu', 'należy', 'dołączyć', 'postanowienie', 'administracyjnego', 'organu', 'egzekucyjnego', 'odmawiające', 'żądaniu', 'wyłączenia', 'przedmiotu', 'spod', 'egzekucji', 'niezależnie', 'od', 'wyniku', 'sprawy', 'sąd', 'nałoży', 'koszty', 'procesu', 'na', 'osobę', 'trzecią', 'powołującą', 'w', 'powództwie', 'o', 'zwolnienie', 'przedmiotu', 'od', 'egzekucji', 'administracyjnej', 'nowe', 'dowody', 'istotne', 'dla', 'rozstrzygnięcia', 'sprawy', 'których', 'nie', 'przedstawiła', 'w', 'postępowaniu', 'administracyjnym', 'mimo', 'że', 'mogła', 'je', 'powołać', 'w', 'tym', 'postępowaniu', '2', 'powództwo', 'można', 'wnieść', 'w', 'ciągu', 'dni', 'czternastu', 'od', 'doręczenia', 'postanowienia', 'administracyjnego', 'organu', 'egzekucyjnego', 'a', 'jeżeli', 'zainteresowany', 'wniósł', 'zażalenie', 'na', 'to', 'postanowienie', 'w', 'ciągu', 'dni', 'czternastu', 'od', 'doręczenia', 'postanowienia', 'wydanego', 'na', 'skutek', 'zażalenia', 'wojewódzki', 'sąd', 'administracyjny', 'orzekł', 'prawomocnym', 'wyrokiem', 'że', 'podatek', 'akcyzowy', 'nałożony', 'decyzjami', 'organów', 'celnoskarbowych', 'jest', 'nienależnie', 'pobrany', 'i', 'jako', 'taki', 'podlega', 'zwrotowi', 'w', 'k', '2', 'ten', 'dnia', '19', 'lipca', 'zawarł', 'przed', 'notariuszem', 'wraz', 'z', 'innymi', 'osobami', 'umowę', 'spółki', 'w', 'akcie', 'notarialnym', 'w', '10', 'ust', '1', 'pkt', '3', 'wyraźnie', 'zostało', 'zawarte', 'że', 'w', 'k', '2', 'wnosi', 'wkład', 'pieniężny', 'w', 'postaci', 'przysługującej', 'mu', 'wierzytelności', 'pieniężnej', 'od', 'skarbu', 'państwa', 'naczelnika', 'urzędu', 'celnego', 'w', 'z', 'z', 'tytułu', 'zwrotu', 'podatku', 'akcyzowego', 'za', 'miesiące', 'luty', 'marzec', 'kwiecień', 'maj', 'wrzesień', 'i', 'październik', '2011', 'roku', 'określonego', 'w', 'decyzji', 'naczelnika', 'urzędu', 'celnego', 'w', 'z', 'z', 'dnia', '6', 'lutego', '2013', 'roku', 'nr', '91104141213dn', 'nienależnie', 'pobranego', 'w', 'kwocie', '115', '422', '00', 'złotych', 'wraz', 'z', 'należnymi', 'odsetkami', 'orzeczonej', 'wyrokiem', 'wojewódzkiego', 'sądu', 'administracyjnego', 'w', 'g', 'z', 'dnia', '6', 'lipca', '2016', 'roku', 'sygn', 'akt', 'i', 'sago', '18616', 'w', 'tym', 'miejscu', 'należy', 'zwrócić', 'uwagę', 'że', 'jako', 'wkład', 'zostały', 'wyraźnie', 'wymienione', 'odsetki', 'a', 'także', 'wierzytelność', 'wynikająca', 'z', 'niesłusznie', 'pobranego', 'podatku', 'w', 'kwocie', '115', '422', '00', 'złotych', 'nie', 'ma', 'tu', 'mowy', 'jakoby', 'w', 'k', '2', 'wnosił', 'ponadto', 'jeszcze', 'przysługujący', 'mu', 'zwrot', 'kosztów', 'postępowania', 'egzekucyjnego', 'które', 'zostało', 'umorzone', 'na', 'skutek', 'wyroku', 'sądu', 'administracyjnego', 'nie', 'można', 'zatem', 'automatycznie', 'przyjąć', 'że', 'skoro', 'w', 'k', '2', 'wniósł', 'wierzytelność', 'przysługującą', 'mu', 'od', 'skarbu', 'państwa', 'wraz', 'z', 'odsetkami', 'to', 'kwota', 'ta', 'obejmuje', 'także', 'koszty', 'postępowania', 'egzekucyjnego', 'ta', 'bowiem', 'okoliczność', 'wymaga', 'odrębnego', 'ustalenia', 'z', 'oświadczenia', 'w', 'k', '2', 'zawartego', 'w', 'akcie', 'notarialnym', 'nie', 'wynika', 'nic', 'co', 'wskazywałoby', 'na', 'to', 'iż', 'przysługujące', 'mu', 'koszty', 'postępowania', 'egzekucyjnego', 'także', 'zawierały', 'się', 'we', 'wkładzie', 'pieniężnym', 'sąd', 'i', 'instancji', 'przyjął', 'że', 'koszty', 'te', 'stanowią', 'składnik', 'podlegającej', 'zwrotowi', 'kwoty', '115', '422', '00', 'złotych', 'ustalenie', 'to', 'jest', 'błędne', 'co', 'wyraźnie', 'wynika', 'z', 'zebranego', 'w', 'sprawie', 'materiału', 'dowodowego', 'w', 'którym', 'z', 'resztą', 'oparcie', 'znajduje', 'od', 'początku', 'przedstawiane', 'stanowisko', 'strony', 'pozwanej', 'która', 'podkreślała', 'że', 'koszty', 'egzekucyjne', 'nie', 'stanowią', 'części', 'podlegającej', 'zwrotowi', 'wierzytelności', 'wynika', 'to', 'wprost', 'z', 'pisma', 'z', 'dnia', '6', 'października', '2016', 'roku', 'znajdującego', 'się', 'na', 'karcie', '25', 'akt', 'w', 'piśmie', 'tym', 'dyrektor', 'izby', 'celnej', 'w', 'r', 'zwraca', 'się', 'do', 'w', 'k', '2', 'z', 'prośbą', 'o', 'podanie', 'numeru', 'rachunku', 'bankowego', 'na', 'który', 'zostanie', 'przelana', 'suma', '7561', '72', 'złote', 'wraz', 'z', 'odsetkami', 'stanowiąca', 'koszty', 'i', 'wydatki', 'egzekucyjne', 'jakie', 'zostały', 'wygenerowane', 'w', 'związku', 'z', 'niesłuszną', 'egzekucją', 'podatku', 'akcyzowego', 'za', 'okres', 'kilku', 'miesięcy', 'w', '2011', 'roku', 'w', 'dalszej', 'części', 'pisma', 'nadawca', 'informuje', 'że', 'w', 'sprawie', 'zwrotu', 'należności', 'wyegzekwowanych', 'na', 'poczet', 'spłaty', 'zobowiązania', 'z', 'tytułu', 'podatku', 'akcyzowego', 'należy', 'zwrócić', 'się', 'do', 'wierzyciela', 'tj', 'dyrektora', 'izby', 'celnej', 'w', 's', 'ta', 'końcowa', 'informacja', 'ma', 'kluczowe', 'znaczenie', 'w', 'tej', 'sprawie', 'wskazuje', 'bowiem', 'na', 'wyraźną', 'odrębność', 'kwoty', '8614', '98', 'złotych', 'z', 'tytułu', 'wydatków', 'i', 'kosztów', 'egzekucyjnych', 'od', 'kwoty', '115', '422', '00', 'złotych', 'która', 'podlega', 'zwrotowi', 'jako', 'niesłusznie', 'pobrana', 'i', 'w', 'związku', 'ze', 'zwrotem', 'której', 'w', 'k', '2', 'winien', 'zwrócić', 'się', 'do', 'dyrektora', 'izby', 'celnej', 'w', 's', 'takie', 'stanowisko', 'świadczące', 'o', 'odrębności', 'przedmiotowych', 'kwot', 'było', 'prezentowane', 'przez', 'stronę', 'pozwaną', 'od', 'samego', 'początku', 'i', 'rację', 'ma', 'skarżący', 'podnosząc', 'że', 'przecież', 'z', 'aktu', 'notarialnego', 'nie', 'wynika', 'by', 'w', 'k', '2', 'wniósł', 'jako', 'wkład', 'do', 'spółki', 'komandytowej', 'także', 'wierzytelność', 'stanowiącą', 'koszty', 'postępowania', 'egzekucyjnego', 'wielokrotnie', 'znajdowało', 'to', 'wyraz', 'w', 'pismach', 'pozwanego', 'postanowienie', 'z', 'dnia', '28', 'listopada', '2016', 'roku', 'odmawiające', 'wyłączenia', 'spod', 'egzekucji', 'przedmiotowej', 'wierzytelności', 'postanowienie', 'z', 'dnia', '9', 'marca', '2017', 'roku', 'utrzymujące', 'w', 'mocy', 'decyzję', 'odmawiającą', 'zwolnienia', 'spod', 'egzekucji', 'wierzytelności', 'umknęło', 'to', 'jednak', 'uwadze', 'sądu', 'i', 'instancji', 'który', 'przyjął', 'automatycznie', 'że', 'koszty', 'egzekucyjne', 'mieszczą', 'się', 'w', 'podlegającej', 'zwrotowi', 'wierzytelności', 'przysługującej', 'w', 'k', '2', 'od', 'skarbu', 'państwa', 'ponadto', 'skarżący', 'w', 'apelacji', 'przedstawił', 'szczegółowe', 'wyliczenie', 'wskazujące', 'jakie', 'kwoty', 'wynikające', 'z', 'jakich', 'decyzji', 'zostały', 'wyegzekwowane', 'jasno', 'z', 'tych', 'wyliczeń', 'wynika', 'że', 'w', 'skład', '115', '422', '00', 'złotych', 'nie', 'wchodzi', '8', '614', '98', 'złotych', 'a', 'zatem', 'jest', 'to', 'kolejny', 'dowód', 'na', 'to', 'że', 'stanowisko', 'strony', 'pozwanej', 'od', 'samego', 'początku', 'było', 'prawidłowe', 'sąd', 'i', 'instancji', 'dokonał', 'nieprawidłowej', 'oceny', 'zebranego', 'w', 'sprawie', 'materiału', 'dowodowego', 'a', 'to', 'spowodowało', 'konieczność', 'zmiany', 'wyroku', 'i', 'oddalenia', 'powództwa', 'w', 'całości', 'w', 'związku', 'z', 'powyższym', 'na', 'podstawie', 'art', '386', '1', 'kpc', 'sąd', 'odwoławczy', 'orzekł', 'jak', 'w', 'sentencji', 'o', 'kosztach', 'sąd', 'orzekł', 'na', 'podstawie', '2', 'pkt', '4', 'w', 'zw', 'z', '10', 'ust', '1', 'pkt', '1', 'rozporządzenia', 'ministra', 'sprawiedliwości', 'w', 'sprawie', 'opłat', 'za', 'czynności', 'adwokackie', 'z', 'dnia', '22', 'października', '2015', 'r', 'dzu', 'z', '2015', 'r', 'poz', '1800', 'oraz', 'na', 'podstawie', 'art', '94', 'w', 'zw', 'z', 'art', '113', 'ust', '1', 'ustawy', 'o', 'kosztach', 'sądowych', 'w', 'sprawach', 'cywilnych', 'z', 'dnia', '28', 'lipca', '2005', 'r', 'dzu', 'nr', '167', 'poz', '1398', 'w', 'zw', 'z', 'art', '98', '1', 'kpc'], 'sprawy cywilne')]\n",
      "<class 'list'>\n"
     ]
    }
   ],
   "source": [
    "judgments_signatures = list(judgments_signatures)\n",
    "print(judgments_signatures[:1])\n",
    "\n",
    "print(type(judgments_signatures[0][0]))"
   ]
  },
  {
   "cell_type": "code",
   "execution_count": 79,
   "metadata": {},
   "outputs": [
    {
     "data": {
      "text/plain": [
       "Counter({'sprawy cywilne': 244,\n",
       "         'sprawy gospodarcze': 120,\n",
       "         'sprawy karne': 158,\n",
       "         'sprawy o wykroczenia': 36,\n",
       "         'sprawy w zakresie prawa konkurencji': 5,\n",
       "         'sprawy w zakresie prawa pracy': 76,\n",
       "         'sprawy w zakresie prawa rodzinnego': 46,\n",
       "         'sprawy z zakresu ubezpieczenia społecznego': 277})"
      ]
     },
     "execution_count": 79,
     "metadata": {},
     "output_type": "execute_result"
    }
   ],
   "source": [
    "cases_types = [case[1] for case in judgments_signatures]\n",
    "cases_type_counter = collections.Counter(cases_types)\n",
    "cases_type_counter"
   ]
  },
  {
   "cell_type": "code",
   "execution_count": 80,
   "metadata": {
    "collapsed": true
   },
   "outputs": [],
   "source": [
    "filtered_judgments_signatures = []\n",
    "for pair in judgments_signatures:\n",
    "    if pair[1] != 'sprawy w zakresie prawa konkurencji':\n",
    "        filtered_judgments_signatures.append(pair)"
   ]
  },
  {
   "cell_type": "code",
   "execution_count": 81,
   "metadata": {},
   "outputs": [
    {
     "data": {
      "text/plain": [
       "Counter({'sprawy cywilne': 244,\n",
       "         'sprawy gospodarcze': 120,\n",
       "         'sprawy karne': 158,\n",
       "         'sprawy o wykroczenia': 36,\n",
       "         'sprawy w zakresie prawa pracy': 76,\n",
       "         'sprawy w zakresie prawa rodzinnego': 46,\n",
       "         'sprawy z zakresu ubezpieczenia społecznego': 277})"
      ]
     },
     "execution_count": 81,
     "metadata": {},
     "output_type": "execute_result"
    }
   ],
   "source": [
    "cases_types = [case[1] for case in filtered_judgments_signatures]\n",
    "cases_type_counter = collections.Counter(cases_types)\n",
    "cases_type_counter"
   ]
  },
  {
   "cell_type": "code",
   "execution_count": 82,
   "metadata": {
    "collapsed": true
   },
   "outputs": [],
   "source": [
    "most_common_words = []\n",
    "\n",
    "with open('filteredRank.csv') as file:\n",
    "    idx, number_of_rows = 0, 20\n",
    "    csv_reader = csv.reader(file)\n",
    "    for row in csv_reader:\n",
    "        word = \",\".join(row).split(\",\")[1]\n",
    "        most_common_words.append(word)\n",
    "        idx+=1\n",
    "        if idx >= number_of_rows:\n",
    "            break\n"
   ]
  },
  {
   "cell_type": "code",
   "execution_count": 83,
   "metadata": {},
   "outputs": [
    {
     "data": {
      "text/plain": [
       "['na',\n",
       " 'do',\n",
       " 'nie',\n",
       " 'że',\n",
       " 'dnia',\n",
       " 'się',\n",
       " 'art',\n",
       " 'od',\n",
       " 'przez',\n",
       " 'sąd',\n",
       " 'roku',\n",
       " 'pracy',\n",
       " 'za',\n",
       " 'jest',\n",
       " 'oraz',\n",
       " 'zł',\n",
       " 'tym',\n",
       " 'to',\n",
       " 'sądu',\n",
       " 'co']"
      ]
     },
     "execution_count": 83,
     "metadata": {},
     "output_type": "execute_result"
    }
   ],
   "source": [
    "most_common_words"
   ]
  },
  {
   "cell_type": "code",
   "execution_count": 84,
   "metadata": {
    "collapsed": true
   },
   "outputs": [],
   "source": [
    "def filter_decision(decision):\n",
    "    try:\n",
    "        idx = decision.index('uzasadnienie')\n",
    "        new_decision = decision[idx+1:]\n",
    "        new_decision = [word for word in new_decision \n",
    "                    if (not word.isdigit() and len(word) > 1 and word not in most_common_words)]\n",
    "        return new_decision\n",
    "    except ValueError:\n",
    "        pass\n",
    "    "
   ]
  },
  {
   "cell_type": "code",
   "execution_count": 85,
   "metadata": {
    "collapsed": true
   },
   "outputs": [],
   "source": [
    "filtered_judgments_signatures_v2 = []\n",
    "\n",
    "for pair in filtered_judgments_signatures:\n",
    "    decision = pair[0]\n",
    "    new_decision = filter_decision(decision)\n",
    "    if new_decision:\n",
    "        filtered_judgments_signatures_v2.append((new_decision, pair[1]))"
   ]
  },
  {
   "cell_type": "code",
   "execution_count": 86,
   "metadata": {},
   "outputs": [
    {
     "name": "stdout",
     "output_type": "stream",
     "text": [
      "777\n",
      "777\n"
     ]
    }
   ],
   "source": [
    "X = []\n",
    "Y = []\n",
    "for pair in filtered_judgments_signatures_v2:\n",
    "    X.append(pair[0])\n",
    "    Y.append(pair[1])\n",
    "    \n",
    "print (len(X))\n",
    "print (len(Y))"
   ]
  },
  {
   "cell_type": "code",
   "execution_count": 87,
   "metadata": {},
   "outputs": [
    {
     "name": "stdout",
     "output_type": "stream",
     "text": [
      "777\n"
     ]
    }
   ],
   "source": [
    "print (len(X))\n",
    "new_X = []\n",
    "for sublist in X:\n",
    "    words = \" \".join(sublist)\n",
    "    new_X.append(words)\n",
    "    "
   ]
  },
  {
   "cell_type": "code",
   "execution_count": 88,
   "metadata": {},
   "outputs": [
    {
     "name": "stdout",
     "output_type": "stream",
     "text": [
      "407\n",
      "407\n",
      "175\n",
      "175\n",
      "195\n",
      "195\n"
     ]
    }
   ],
   "source": [
    "X_train, X_test, Y_train, Y_test = train_test_split(new_X, Y, test_size=0.25)\n",
    "\n",
    "X_train, X_validation, Y_train, Y_validation = train_test_split(X_train, Y_train, test_size=0.3)\n",
    "print (len(X_train))\n",
    "print (len(Y_train))\n",
    "print (len(X_validation))\n",
    "print (len(Y_validation))\n",
    "print (len(X_test))\n",
    "print (len(Y_test))"
   ]
  },
  {
   "cell_type": "code",
   "execution_count": 89,
   "metadata": {
    "collapsed": true
   },
   "outputs": [],
   "source": [
    "category_list = [\n",
    "    'sprawy cywilne',\n",
    "    'sprawy z zakresu ubezpieczenia społecznego',\n",
    "    'sprawy karne',\n",
    "    'sprawy gospodarcze',\n",
    "    'sprawy w zakresie prawa pracy',\n",
    "    'sprawy w zakresie prawa rodzinnego',\n",
    "    'sprawy o wykroczenia',\n",
    "    'sprawy w zakresie prawa konkurencji'\n",
    "]"
   ]
  },
  {
   "cell_type": "code",
   "execution_count": 90,
   "metadata": {
    "collapsed": true
   },
   "outputs": [],
   "source": [
    "tuned_parameters = [{'kernel': ['rbf'], 'gamma': [1e-3, 1e-4],\n",
    "                     'C': [1, 10, 100, 1000]},\n",
    "                    {'kernel': ['linear'], 'C': [1, 10, 100, 1000]}]\n",
    "\n",
    "scores = ['precision', 'recall']\n"
   ]
  },
  {
   "cell_type": "code",
   "execution_count": null,
   "metadata": {
    "collapsed": true
   },
   "outputs": [],
   "source": [
    "            "
   ]
  },
  {
   "cell_type": "code",
   "execution_count": 91,
   "metadata": {
    "collapsed": true
   },
   "outputs": [],
   "source": [
    "Y_train_mapped = np.array([category_list.index(category) for category in Y_train])\n",
    "\n",
    "Y_train_mapped = Y_train_mapped.reshape(-1, 1)"
   ]
  },
  {
   "cell_type": "code",
   "execution_count": 92,
   "metadata": {
    "collapsed": true
   },
   "outputs": [],
   "source": [
    "Y_test_mapped = np.array([category_list.index(category) for category in Y_test])\n",
    "\n",
    "Y_test_mapped = Y_test_mapped.reshape(-1, 1)"
   ]
  },
  {
   "cell_type": "code",
   "execution_count": 93,
   "metadata": {
    "collapsed": true
   },
   "outputs": [],
   "source": [
    "Y_val_mapped = np.array([category_list.index(category) for category in Y_validation])\n",
    "\n",
    "Y_val_mapped = Y_val_mapped.reshape(-1, 1)"
   ]
  },
  {
   "cell_type": "code",
   "execution_count": 94,
   "metadata": {
    "collapsed": true
   },
   "outputs": [],
   "source": [
    "# TODO: LabelEncoding, tf-idf, train/valid/split, train classifier, do the same with transformed words"
   ]
  },
  {
   "cell_type": "code",
   "execution_count": 95,
   "metadata": {},
   "outputs": [],
   "source": [
    "vectorizer = TfidfVectorizer()\n",
    "X_train = vectorizer.fit_transform(X_train)\n",
    "X_validation = vectorizer.transform(X_validation)"
   ]
  },
  {
   "cell_type": "code",
   "execution_count": 96,
   "metadata": {
    "collapsed": true
   },
   "outputs": [],
   "source": [
    "# one_hot_encoder = LabelBinarizer()\n",
    "# Y_train_encoded = one_hot_encoder.fit_transform(Y_train_mapped)\n",
    "# Y_test_encoded = one_hot_encoder.transform(Y_test_mapped)"
   ]
  },
  {
   "cell_type": "code",
   "execution_count": 97,
   "metadata": {},
   "outputs": [
    {
     "name": "stdout",
     "output_type": "stream",
     "text": [
      "(407, 45656)\n"
     ]
    }
   ],
   "source": [
    "pprint.pprint(X_train.shape)"
   ]
  },
  {
   "cell_type": "code",
   "execution_count": 98,
   "metadata": {},
   "outputs": [
    {
     "data": {
      "text/plain": [
       "array([1])"
      ]
     },
     "execution_count": 98,
     "metadata": {},
     "output_type": "execute_result"
    }
   ],
   "source": [
    "Y_train_mapped[2]"
   ]
  },
  {
   "cell_type": "code",
   "execution_count": 107,
   "metadata": {},
   "outputs": [
    {
     "name": "stdout",
     "output_type": "stream",
     "text": [
      "# Tuning hyper-parameters for precision\n",
      "\n",
      "(407, 45656)\n",
      "(407, 1)\n"
     ]
    },
    {
     "name": "stderr",
     "output_type": "stream",
     "text": [
      "/home/grzegorz/anaconda2/envs/py3/lib/python3.6/site-packages/sklearn/metrics/classification.py:1135: UndefinedMetricWarning: Precision is ill-defined and being set to 0.0 in labels with no predicted samples.\n",
      "  'precision', 'predicted', average, warn_for)\n",
      "/home/grzegorz/anaconda2/envs/py3/lib/python3.6/site-packages/sklearn/metrics/classification.py:1135: UndefinedMetricWarning: Precision is ill-defined and being set to 0.0 in labels with no predicted samples.\n",
      "  'precision', 'predicted', average, warn_for)\n",
      "/home/grzegorz/anaconda2/envs/py3/lib/python3.6/site-packages/sklearn/metrics/classification.py:1135: UndefinedMetricWarning: Precision is ill-defined and being set to 0.0 in labels with no predicted samples.\n",
      "  'precision', 'predicted', average, warn_for)\n",
      "/home/grzegorz/anaconda2/envs/py3/lib/python3.6/site-packages/sklearn/metrics/classification.py:1135: UndefinedMetricWarning: Precision is ill-defined and being set to 0.0 in labels with no predicted samples.\n",
      "  'precision', 'predicted', average, warn_for)\n",
      "/home/grzegorz/anaconda2/envs/py3/lib/python3.6/site-packages/sklearn/metrics/classification.py:1135: UndefinedMetricWarning: Precision is ill-defined and being set to 0.0 in labels with no predicted samples.\n",
      "  'precision', 'predicted', average, warn_for)\n",
      "/home/grzegorz/anaconda2/envs/py3/lib/python3.6/site-packages/sklearn/metrics/classification.py:1135: UndefinedMetricWarning: Precision is ill-defined and being set to 0.0 in labels with no predicted samples.\n",
      "  'precision', 'predicted', average, warn_for)\n",
      "/home/grzegorz/anaconda2/envs/py3/lib/python3.6/site-packages/sklearn/metrics/classification.py:1135: UndefinedMetricWarning: Precision is ill-defined and being set to 0.0 in labels with no predicted samples.\n",
      "  'precision', 'predicted', average, warn_for)\n",
      "/home/grzegorz/anaconda2/envs/py3/lib/python3.6/site-packages/sklearn/metrics/classification.py:1135: UndefinedMetricWarning: Precision is ill-defined and being set to 0.0 in labels with no predicted samples.\n",
      "  'precision', 'predicted', average, warn_for)\n",
      "/home/grzegorz/anaconda2/envs/py3/lib/python3.6/site-packages/sklearn/metrics/classification.py:1135: UndefinedMetricWarning: Precision is ill-defined and being set to 0.0 in labels with no predicted samples.\n",
      "  'precision', 'predicted', average, warn_for)\n",
      "/home/grzegorz/anaconda2/envs/py3/lib/python3.6/site-packages/sklearn/metrics/classification.py:1135: UndefinedMetricWarning: Precision is ill-defined and being set to 0.0 in labels with no predicted samples.\n",
      "  'precision', 'predicted', average, warn_for)\n",
      "/home/grzegorz/anaconda2/envs/py3/lib/python3.6/site-packages/sklearn/metrics/classification.py:1135: UndefinedMetricWarning: Precision is ill-defined and being set to 0.0 in labels with no predicted samples.\n",
      "  'precision', 'predicted', average, warn_for)\n",
      "/home/grzegorz/anaconda2/envs/py3/lib/python3.6/site-packages/sklearn/metrics/classification.py:1135: UndefinedMetricWarning: Precision is ill-defined and being set to 0.0 in labels with no predicted samples.\n",
      "  'precision', 'predicted', average, warn_for)\n",
      "/home/grzegorz/anaconda2/envs/py3/lib/python3.6/site-packages/sklearn/metrics/classification.py:1135: UndefinedMetricWarning: Precision is ill-defined and being set to 0.0 in labels with no predicted samples.\n",
      "  'precision', 'predicted', average, warn_for)\n",
      "/home/grzegorz/anaconda2/envs/py3/lib/python3.6/site-packages/sklearn/metrics/classification.py:1135: UndefinedMetricWarning: Precision is ill-defined and being set to 0.0 in labels with no predicted samples.\n",
      "  'precision', 'predicted', average, warn_for)\n",
      "/home/grzegorz/anaconda2/envs/py3/lib/python3.6/site-packages/sklearn/metrics/classification.py:1135: UndefinedMetricWarning: Precision is ill-defined and being set to 0.0 in labels with no predicted samples.\n",
      "  'precision', 'predicted', average, warn_for)\n",
      "/home/grzegorz/anaconda2/envs/py3/lib/python3.6/site-packages/sklearn/metrics/classification.py:1135: UndefinedMetricWarning: Precision is ill-defined and being set to 0.0 in labels with no predicted samples.\n",
      "  'precision', 'predicted', average, warn_for)\n",
      "/home/grzegorz/anaconda2/envs/py3/lib/python3.6/site-packages/sklearn/metrics/classification.py:1135: UndefinedMetricWarning: Precision is ill-defined and being set to 0.0 in labels with no predicted samples.\n",
      "  'precision', 'predicted', average, warn_for)\n",
      "/home/grzegorz/anaconda2/envs/py3/lib/python3.6/site-packages/sklearn/metrics/classification.py:1135: UndefinedMetricWarning: Precision is ill-defined and being set to 0.0 in labels with no predicted samples.\n",
      "  'precision', 'predicted', average, warn_for)\n",
      "/home/grzegorz/anaconda2/envs/py3/lib/python3.6/site-packages/sklearn/metrics/classification.py:1135: UndefinedMetricWarning: Precision is ill-defined and being set to 0.0 in labels with no predicted samples.\n",
      "  'precision', 'predicted', average, warn_for)\n",
      "/home/grzegorz/anaconda2/envs/py3/lib/python3.6/site-packages/sklearn/metrics/classification.py:1135: UndefinedMetricWarning: Precision is ill-defined and being set to 0.0 in labels with no predicted samples.\n",
      "  'precision', 'predicted', average, warn_for)\n",
      "/home/grzegorz/anaconda2/envs/py3/lib/python3.6/site-packages/sklearn/metrics/classification.py:1135: UndefinedMetricWarning: Precision is ill-defined and being set to 0.0 in labels with no predicted samples.\n",
      "  'precision', 'predicted', average, warn_for)\n"
     ]
    },
    {
     "name": "stdout",
     "output_type": "stream",
     "text": [
      "Best parameters set found on development set:\n",
      "\n",
      "{'C': 1000, 'gamma': 0.001, 'kernel': 'rbf'}\n",
      "\n",
      "Grid scores on development set:\n",
      "\n",
      "0.044 (+/-0.000) for {'C': 1, 'gamma': 0.001, 'kernel': 'rbf'}\n",
      "0.044 (+/-0.000) for {'C': 1, 'gamma': 0.0001, 'kernel': 'rbf'}\n",
      "0.044 (+/-0.000) for {'C': 10, 'gamma': 0.001, 'kernel': 'rbf'}\n",
      "0.044 (+/-0.000) for {'C': 10, 'gamma': 0.0001, 'kernel': 'rbf'}\n",
      "0.346 (+/-0.007) for {'C': 100, 'gamma': 0.001, 'kernel': 'rbf'}\n",
      "0.044 (+/-0.000) for {'C': 100, 'gamma': 0.0001, 'kernel': 'rbf'}\n",
      "0.910 (+/-0.039) for {'C': 1000, 'gamma': 0.001, 'kernel': 'rbf'}\n",
      "0.346 (+/-0.007) for {'C': 1000, 'gamma': 0.0001, 'kernel': 'rbf'}\n",
      "0.901 (+/-0.029) for {'C': 1, 'kernel': 'linear'}\n",
      "0.910 (+/-0.039) for {'C': 10, 'kernel': 'linear'}\n",
      "0.910 (+/-0.039) for {'C': 100, 'kernel': 'linear'}\n",
      "0.910 (+/-0.039) for {'C': 1000, 'kernel': 'linear'}\n",
      "\n",
      "Detailed classification report:\n",
      "\n",
      "The model is trained on the full development set.\n",
      "The scores are computed on the full evaluation set.\n",
      "\n",
      "             precision    recall  f1-score   support\n",
      "\n",
      "          0       0.93      0.95      0.94        43\n",
      "          1       0.98      1.00      0.99        50\n",
      "          2       1.00      0.93      0.96        28\n",
      "          3       0.85      0.89      0.87        19\n",
      "          4       1.00      0.86      0.92        21\n",
      "          5       1.00      1.00      1.00         8\n",
      "          6       0.75      1.00      0.86         6\n",
      "\n",
      "avg / total       0.95      0.95      0.95       175\n",
      "\n",
      "\n",
      "# Tuning hyper-parameters for recall\n",
      "\n",
      "(407, 45656)\n",
      "(407, 1)\n",
      "Best parameters set found on development set:\n",
      "\n",
      "{'C': 1000, 'gamma': 0.001, 'kernel': 'rbf'}\n",
      "\n",
      "Grid scores on development set:\n",
      "\n",
      "0.143 (+/-0.000) for {'C': 1, 'gamma': 0.001, 'kernel': 'rbf'}\n",
      "0.143 (+/-0.000) for {'C': 1, 'gamma': 0.0001, 'kernel': 'rbf'}\n",
      "0.143 (+/-0.000) for {'C': 10, 'gamma': 0.001, 'kernel': 'rbf'}\n",
      "0.143 (+/-0.000) for {'C': 10, 'gamma': 0.0001, 'kernel': 'rbf'}\n",
      "0.405 (+/-0.024) for {'C': 100, 'gamma': 0.001, 'kernel': 'rbf'}\n",
      "0.143 (+/-0.000) for {'C': 100, 'gamma': 0.0001, 'kernel': 'rbf'}\n",
      "0.797 (+/-0.061) for {'C': 1000, 'gamma': 0.001, 'kernel': 'rbf'}\n",
      "0.405 (+/-0.024) for {'C': 1000, 'gamma': 0.0001, 'kernel': 'rbf'}\n",
      "0.771 (+/-0.041) for {'C': 1, 'kernel': 'linear'}\n",
      "0.797 (+/-0.061) for {'C': 10, 'kernel': 'linear'}\n",
      "0.797 (+/-0.061) for {'C': 100, 'kernel': 'linear'}\n",
      "0.797 (+/-0.061) for {'C': 1000, 'kernel': 'linear'}\n",
      "\n",
      "Detailed classification report:\n",
      "\n",
      "The model is trained on the full development set.\n",
      "The scores are computed on the full evaluation set.\n",
      "\n",
      "             precision    recall  f1-score   support\n",
      "\n",
      "          0       0.93      0.95      0.94        43\n",
      "          1       0.98      1.00      0.99        50\n",
      "          2       1.00      0.93      0.96        28\n",
      "          3       0.85      0.89      0.87        19\n",
      "          4       1.00      0.86      0.92        21\n",
      "          5       1.00      1.00      1.00         8\n",
      "          6       0.75      1.00      0.86         6\n",
      "\n",
      "avg / total       0.95      0.95      0.95       175\n",
      "\n",
      "\n"
     ]
    }
   ],
   "source": [
    "for score in scores:\n",
    "    print(\"# Tuning hyper-parameters for %s\" % score)\n",
    "    print()\n",
    "\n",
    "    clf = GridSearchCV(svm.SVC(), tuned_parameters,\n",
    "                       scoring='%s_macro' % score)\n",
    "    print (X_train.shape)\n",
    "    print (Y_train_mapped.shape)\n",
    "    clf.fit(X_train, Y_train_mapped.flatten())\n",
    "\n",
    "    print(\"Best parameters set found on development set:\")\n",
    "    print()\n",
    "    print(clf.best_params_)\n",
    "    print()\n",
    "    print(\"Grid scores on development set:\")\n",
    "    print()\n",
    "    means = clf.cv_results_['mean_test_score']\n",
    "    stds = clf.cv_results_['std_test_score']\n",
    "    for mean, std, params in zip(means, stds, clf.cv_results_['params']):\n",
    "        print(\"%0.3f (+/-%0.03f) for %r\"\n",
    "              % (mean, std * 2, params))\n",
    "    print()\n",
    "\n",
    "    print(\"Detailed classification report:\")\n",
    "    print()\n",
    "    print(\"The model is trained on the full development set.\")\n",
    "    print(\"The scores are computed on the full evaluation set.\")\n",
    "    print()\n",
    "    y_predicted_on_validation = clf.predict(X_validation)\n",
    "    print(classification_report(Y_val_mapped, y_predicted_on_validation))\n",
    "    print()"
   ]
  },
  {
   "cell_type": "code",
   "execution_count": 108,
   "metadata": {},
   "outputs": [],
   "source": [
    "# best params:\n",
    "# {'C': 1000, 'gamma': 0.001, 'kernel': 'rbf'}\n"
   ]
  },
  {
   "cell_type": "code",
   "execution_count": 110,
   "metadata": {},
   "outputs": [
    {
     "name": "stderr",
     "output_type": "stream",
     "text": [
      "/home/grzegorz/anaconda2/envs/py3/lib/python3.6/site-packages/sklearn/utils/validation.py:547: DataConversionWarning: A column-vector y was passed when a 1d array was expected. Please change the shape of y to (n_samples, ), for example using ravel().\n",
      "  y = column_or_1d(y, warn=True)\n"
     ]
    },
    {
     "data": {
      "text/plain": [
       "SVC(C=1000, cache_size=200, class_weight=None, coef0=0.0,\n",
       "  decision_function_shape='ovr', degree=3, gamma=0.001, kernel='rbf',\n",
       "  max_iter=-1, probability=False, random_state=None, shrinking=True,\n",
       "  tol=0.001, verbose=False)"
      ]
     },
     "execution_count": 110,
     "metadata": {},
     "output_type": "execute_result"
    }
   ],
   "source": [
    "clf = svm.SVC(C=1000, gamma=0.001, kernel='rbf')\n",
    "clf.fit(X_train, Y_train_mapped)"
   ]
  },
  {
   "cell_type": "code",
   "execution_count": 111,
   "metadata": {
    "collapsed": true
   },
   "outputs": [],
   "source": [
    "X_test = vectorizer.transform(X_test)"
   ]
  },
  {
   "cell_type": "code",
   "execution_count": 112,
   "metadata": {
    "collapsed": true
   },
   "outputs": [],
   "source": [
    "y_predicted = clf.predict(X_test)"
   ]
  },
  {
   "cell_type": "code",
   "execution_count": null,
   "metadata": {
    "collapsed": true
   },
   "outputs": [],
   "source": [
    "# y_test_encoded = one_hot_encoder.transform(y_test)"
   ]
  },
  {
   "cell_type": "code",
   "execution_count": 115,
   "metadata": {},
   "outputs": [
    {
     "name": "stdout",
     "output_type": "stream",
     "text": [
      "0.88205128205128203\n",
      "                                            precision    recall  f1-score   support\n",
      "\n",
      "                            sprawy cywilne       0.78      0.94      0.86        54\n",
      "sprawy z zakresu ubezpieczenia społecznego       1.00      0.94      0.97        53\n",
      "                              sprawy karne       1.00      0.87      0.93        31\n",
      "                        sprawy gospodarcze       0.82      0.64      0.72        28\n",
      "             sprawy w zakresie prawa pracy       0.91      0.83      0.87        12\n",
      "        sprawy w zakresie prawa rodzinnego       1.00      1.00      1.00         8\n",
      "                      sprawy o wykroczenia       0.67      0.89      0.76         9\n",
      "\n",
      "                               avg / total       0.89      0.88      0.88       195\n",
      "\n"
     ]
    },
    {
     "name": "stderr",
     "output_type": "stream",
     "text": [
      "/home/grzegorz/anaconda2/envs/py3/lib/python3.6/site-packages/sklearn/metrics/classification.py:1428: UserWarning: labels size, 7, does not match size of target_names, 8\n",
      "  .format(len(labels), len(target_names))\n"
     ]
    }
   ],
   "source": [
    "pprint.pprint(accuracy_score(Y_test_mapped, y_predicted))\n",
    "print(classification_report(Y_test_mapped, y_predicted, target_names=category_list))"
   ]
  },
  {
   "cell_type": "code",
   "execution_count": 117,
   "metadata": {},
   "outputs": [
    {
     "name": "stdout",
     "output_type": "stream",
     "text": [
      "(0.88205128205128203, 0.88205128205128203, 0.88205128205128203, None)\n"
     ]
    }
   ],
   "source": [
    "pprint.pprint(precision_recall_fscore_support(Y_test_mapped, y_predicted, average='micro'))\n",
    "pprint.pprint(precision_recall_fscore_support(Y_test))"
   ]
  }
 ],
 "metadata": {
  "kernelspec": {
   "display_name": "Python 3",
   "language": "python",
   "name": "python3"
  },
  "language_info": {
   "codemirror_mode": {
    "name": "ipython",
    "version": 3
   },
   "file_extension": ".py",
   "mimetype": "text/x-python",
   "name": "python",
   "nbconvert_exporter": "python",
   "pygments_lexer": "ipython3",
   "version": "3.6.1"
  }
 },
 "nbformat": 4,
 "nbformat_minor": 2
}
