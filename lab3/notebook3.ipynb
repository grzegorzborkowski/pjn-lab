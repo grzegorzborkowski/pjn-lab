{
 "cells": [
  {
   "cell_type": "code",
   "execution_count": 220,
   "metadata": {
    "collapsed": true
   },
   "outputs": [],
   "source": [
    "import json\n",
    "import pprint\n",
    "import os\n",
    "import matplotlib.pyplot as plt\n",
    "import numpy as np\n",
    "import re\n",
    "import string\n",
    "import csv\n",
    "import itertools\n",
    "import random\n",
    "import operator"
   ]
  },
  {
   "cell_type": "code",
   "execution_count": 2,
   "metadata": {
    "collapsed": false
   },
   "outputs": [
    {
     "data": {
      "text/plain": [
       "0"
      ]
     },
     "execution_count": 2,
     "metadata": {},
     "output_type": "execute_result"
    }
   ],
   "source": [
    "# Remove all previous results\n",
    "os.system('rm results/*')"
   ]
  },
  {
   "cell_type": "code",
   "execution_count": 3,
   "metadata": {
    "collapsed": false
   },
   "outputs": [
    {
     "name": "stdout",
     "output_type": "stream",
     "text": [
      "judgments-3163.json\n",
      "9\n",
      "judgments-3168.json\n",
      "100\n",
      "judgments-3164.json\n",
      "100\n",
      "judgments-3171.json\n",
      "100\n",
      "judgments-3165.json\n",
      "100\n",
      "judgments-3167.json\n",
      "100\n",
      "judgments-3169.json\n",
      "100\n",
      "judgments-3173.json\n",
      "81\n",
      "judgments-3172.json\n",
      "100\n",
      "judgments-3166.json\n",
      "100\n",
      "judgments-3170.json\n",
      "100\n",
      "2530124\n"
     ]
    }
   ],
   "source": [
    "all_words = []\n",
    "\n",
    "def read_file(file_path):\n",
    "    with open (file_path) as file:\n",
    "        json_content = json.load(file)\n",
    "        item_count = 0\n",
    "        for item in json_content:\n",
    "            item_count += 1\n",
    "            text_content = re.sub(\"<.*?>\", \"\", item[\"textContent\"])\n",
    "            text_content = text_content.replace('-\\n', '')\n",
    "            word_content = text_content.split()\n",
    "            topicSpecificPunctuation = '„”–§…«»'\n",
    "            translator = str.maketrans('', '', string.punctuation+topicSpecificPunctuation)\n",
    "            \n",
    "            for word in word_content:\n",
    "                word = word.translate(translator).lower()\n",
    "                if len(word)>0:\n",
    "                    all_words.append(word)\n",
    "                \n",
    "        print(item_count)\n",
    "        \n",
    "def read_all_judgments_from_2018():\n",
    "    for filename in os.listdir(\"data_filtered/\"):\n",
    "        print(filename)\n",
    "        read_file(\"data_filtered/\" + filename)\n",
    "        \n",
    "read_all_judgments_from_2018()\n",
    "print(len(all_words))"
   ]
  },
  {
   "cell_type": "code",
   "execution_count": 6,
   "metadata": {
    "collapsed": false
   },
   "outputs": [
    {
     "name": "stdout",
     "output_type": "stream",
     "text": [
      "4623718\n"
     ]
    }
   ],
   "source": [
    "flex_to_base_form = {}\n",
    "\n",
    "def generate_flex_to_base_form_mapping(dictionaryFile):\n",
    "    with open(dictionaryFile) as f:\n",
    "        for line in f.readlines():\n",
    "            base_form, flex_form, meta = line.split(\";\")\n",
    "            flex_to_base_form[flex_form.lower()] = base_form.lower()\n",
    "\n",
    "generate_flex_to_base_form_mapping(\"polimorfologik-2.1/polimorfologik-2.1.txt\")\n",
    "print(len(flex_to_base_form))"
   ]
  },
  {
   "cell_type": "code",
   "execution_count": 78,
   "metadata": {
    "collapsed": false
   },
   "outputs": [
    {
     "data": {
      "text/plain": [
       "'zasłynęlibyśmy'"
      ]
     },
     "execution_count": 78,
     "metadata": {},
     "output_type": "execute_result"
    }
   ],
   "source": [
    "random.choice(list(flex_to_base_form.keys()))"
   ]
  },
  {
   "cell_type": "code",
   "execution_count": 23,
   "metadata": {
    "collapsed": true
   },
   "outputs": [],
   "source": [
    "def write_rank_to_file(filename, rank):\n",
    "    with open(filename, 'a', newline='') as csvfile:\n",
    "        spamwriter = csv.writer(csvfile, delimiter=',',\n",
    "            quotechar='|', quoting=csv.QUOTE_MINIMAL)\n",
    "\n",
    "        rank_possition = 1\n",
    "        for primary_form, occurrences in rank:\n",
    "            spamwriter.writerow([rank_possition, primary_form, occurrences])\n",
    "            rank_possition += 1"
   ]
  },
  {
   "cell_type": "code",
   "execution_count": 33,
   "metadata": {
    "collapsed": true
   },
   "outputs": [],
   "source": [
    "CHANGE_TO_BASIC_FORM = False\n",
    "sorted_rank = []\n",
    "\n",
    "def generate_rank():        \n",
    "    words_rank = {}\n",
    "    for word in all_words:\n",
    "        if CHANGE_TO_BASIC_FORM:\n",
    "            if word in flex_to_base_form:\n",
    "                base_form = flex_to_base_form[word]\n",
    "            else:\n",
    "                base_form = word\n",
    "        else:\n",
    "            base_form = word\n",
    "            \n",
    "        current = words_rank.get(base_form)\n",
    "        \n",
    "        if current is None:\n",
    "            words_rank[base_form] = 1\n",
    "        else:\n",
    "            words_rank[base_form] = current + 1\n",
    "            \n",
    "    sorted_rank = sorted(words_rank.items(), key = lambda x: x[1], reverse=True)\n",
    "    return sorted_rank\n",
    "\n",
    "sorted_rank = generate_rank()\n",
    "write_rank_to_file('results/fullRank.csv', sorted_rank)\n",
    "# print(sorted_rank)"
   ]
  },
  {
   "cell_type": "code",
   "execution_count": 34,
   "metadata": {
    "collapsed": true
   },
   "outputs": [],
   "source": [
    "filtered_rank = []\n",
    "\n",
    "def custom_filter(word):\n",
    "    if re.match(\"^[a-ząćęłńóśźż]+$\", word) and len(word)>1:\n",
    "        return True\n",
    "    return False\n",
    "\n",
    "def filter_rank(rank):\n",
    "    filtered_rank = filter(lambda x: custom_filter(x[0]), rank)\n",
    "    return filtered_rank\n",
    "\n",
    "filtered_rank = filter_rank(sorted_rank)\n",
    "write_rank_to_file('results/filteredRank.csv', filtered_rank)\n",
    "# print(filtered_rank)"
   ]
  },
  {
   "cell_type": "code",
   "execution_count": 35,
   "metadata": {
    "collapsed": false
   },
   "outputs": [
    {
     "data": {
      "image/png": "[encoded data removed]",
      "text/plain": [
       "<matplotlib.figure.Figure at 0x7feb9e97fd68>"
      ]
     },
     "metadata": {},
     "output_type": "display_data"
    },
    {
     "data": {
      "image/png": "[encoded data removed]",
      "text/plain": [
       "<matplotlib.figure.Figure at 0x7feba2026c50>"
      ]
     },
     "metadata": {},
     "output_type": "display_data"
    }
   ],
   "source": [
    "# W skali logarytmicznej przedstaw wykres, \n",
    "# w którym na osi X są pozycje na liście frekwencyjnej, \n",
    "# a na osi Y liczba wystąpień słowa zajmującego określoną pozycję.\n",
    "\n",
    "X_values = []\n",
    "Y_values = []\n",
    "\n",
    "NUMBER_OF_LINES = 1000\n",
    "\n",
    "with open('results/filteredRank.csv', 'r') as csvfile:\n",
    "    reader = csv.reader(csvfile, delimiter=',', quotechar='|')\n",
    "    for row in itertools.islice(reader, 0, NUMBER_OF_LINES):\n",
    "        X_values.append(row[0])\n",
    "        Y_values.append(row[2])\n",
    "        \n",
    "#plt.semilogy(X_values, Y_values)\n",
    "plt.loglog(X_values, Y_values)\n",
    "plt.title('Prawo Zipfa')\n",
    "plt.xlabel('Pozycja na liście frekwencyjnej')\n",
    "plt.ylabel('Liczba wystapień słowa')\n",
    "plt.grid(True)\n",
    "plt.show()\n",
    "\n",
    "plt.semilogy(X_values, Y_values)\n",
    "# plt.loglog(X_values, Y_values)\n",
    "plt.title('Prawo Zipfa')\n",
    "plt.xlabel('Pozycja na liście frekwencyjnej ')\n",
    "plt.ylabel('Liczba wystapień słowa')\n",
    "plt.grid(True)\n",
    "plt.show()\n",
    "\n",
    "\n"
   ]
  },
  {
   "cell_type": "code",
   "execution_count": 51,
   "metadata": {
    "collapsed": false
   },
   "outputs": [],
   "source": [
    "# Korzystając z pliku polimorfologik.zip znajdź wszystkie słowa, które nie znajdują się w tym słowniku.\n",
    "words_not_in_dictionary = []\n",
    "\n",
    "with open('results/filteredRank.csv', 'r') as csvfile:\n",
    "    reader = csv.reader(csvfile, delimiter=',', quotechar='|')\n",
    "    for row in reader:\n",
    "        if row[1] not in flex_to_base_form:\n",
    "            words_not_in_dictionary.append(row[1])"
   ]
  },
  {
   "cell_type": "code",
   "execution_count": 54,
   "metadata": {
    "collapsed": false
   },
   "outputs": [
    {
     "name": "stdout",
     "output_type": "stream",
     "text": [
      "['sygn',\n",
      " 'zw',\n",
      " 'sa',\n",
      " 'iv',\n",
      " 'lex',\n",
      " 'sso',\n",
      " 'kpk',\n",
      " 'viii',\n",
      " 'dzu',\n",
      " 'uk',\n",
      " 'vi',\n",
      " 'csk',\n",
      " 'vide',\n",
      " 'ssr',\n",
      " 'aua',\n",
      " 'ssa',\n",
      " 'kks',\n",
      " 'osnp',\n",
      " 'ckn',\n",
      " 'aca',\n",
      " 'ix',\n",
      " 'sekr',\n",
      " 'legalis',\n",
      " 'eprotokół',\n",
      " 'vii',\n",
      " 'ugh',\n",
      " 'czp',\n",
      " 'późn',\n",
      " 'rc',\n",
      " 'osnc']\n"
     ]
    }
   ],
   "source": [
    "# Przedstaw 30 przykładowych słów, które nie należą do słownika.\n",
    "pprint.pprint (words_not_in_dictionary[:30])"
   ]
  },
  {
   "cell_type": "code",
   "execution_count": 190,
   "metadata": {
    "collapsed": false
   },
   "outputs": [],
   "source": [
    "def levensthein_distance(word, distance):\n",
    "    \n",
    "    # as in: https://norvig.com/spell-correct.html\n",
    "    def edits1(word):\n",
    "        '''\n",
    "            All edits that are one edit away from `word`.\"\n",
    "        '''\n",
    "        letters    = 'abcdefghijklmnopqrstuvwxyząćęłńóśżź'\n",
    "        splits     = [(word[:i], word[i:])    for i in range(len(word) + 1)]\n",
    "        deletes    = [L + R[1:]               for L, R in splits if R]\n",
    "        transposes = [L + R[1] + R[0] + R[2:] for L, R in splits if len(R)>1]\n",
    "        replaces   = [L + c + R[1:]           for L, R in splits if R for c in letters]\n",
    "        inserts    = [L + c + R               for L, R in splits for c in letters]\n",
    "        return set(deletes + transposes + replaces + inserts)\n",
    "    \n",
    "    if distance == 1:\n",
    "        return edits1(word)\n",
    "    else:\n",
    "        partial_results = edits1(word)\n",
    "        for dist in range(1, distance):\n",
    "            new_partial_results = [edits1(x) for x in partial_results]\n",
    "            partial_results = new_partial_results\n",
    "        return set(itertools.chain(*partial_results))\n"
   ]
  },
  {
   "cell_type": "code",
   "execution_count": 191,
   "metadata": {
    "collapsed": false
   },
   "outputs": [],
   "source": [
    "def valid_words_in_dictionary(words):\n",
    "    return {word for word in words if word in flex_to_base_form.keys()}"
   ]
  },
  {
   "cell_type": "code",
   "execution_count": 216,
   "metadata": {
    "collapsed": true
   },
   "outputs": [],
   "source": [
    "def frequence_list_for_words(words, filtered_rank):\n",
    "    new_dict = {}\n",
    "    for word in words:\n",
    "        if word in filtered_rank:\n",
    "            new_dict[word] = filtered_rank[word]\n",
    "    return new_dict\n",
    "        "
   ]
  },
  {
   "cell_type": "code",
   "execution_count": 244,
   "metadata": {
    "collapsed": true
   },
   "outputs": [],
   "source": [
    "def correct_word(word):\n",
    "    words = (valid_words_in_dictionary(levensthein_distance(word, 2)))\n",
    "    freq_subst = frequence_list_for_words(words, filtered_rank)\n",
    "    sorted_freq_subst = sorted(freq_subst.items(), key=operator.itemgetter(1), reverse=True)\n",
    "    return sorted_freq_subst[:1][0][0]"
   ]
  },
  {
   "cell_type": "code",
   "execution_count": null,
   "metadata": {
    "collapsed": true
   },
   "outputs": [],
   "source": []
  },
  {
   "cell_type": "code",
   "execution_count": 245,
   "metadata": {
    "collapsed": false
   },
   "outputs": [],
   "source": [
    "filtered_rank = dict(filter_rank(sorted_rank))"
   ]
  },
  {
   "cell_type": "code",
   "execution_count": 248,
   "metadata": {
    "collapsed": false
   },
   "outputs": [
    {
     "name": "stdout",
     "output_type": "stream",
     "text": [
      "'sygn stan'\n",
      "'zw na'\n",
      "'sa na'\n",
      "'iv na'\n",
      "'lex że'\n",
      "'sso do'\n",
      "'kpk po'\n",
      "'viii ii'\n",
      "'dzu do'\n",
      "'uk na'\n",
      "'vi na'\n",
      "'csk co'\n",
      "'vide nie'\n",
      "'ssr się'\n",
      "'aua na'\n",
      "'ssa na'\n",
      "'kks akt'\n",
      "'osnp sp'\n",
      "'ckn co'\n",
      "'aca na'\n",
      "'ix na'\n",
      "'sekr spr'\n",
      "'legalis legalne'\n",
      "'eprotokół protokół'\n",
      "'vii nie'\n",
      "'ugh ust'\n",
      "'czp za'\n",
      "'późn pkn'\n",
      "'rc na'\n",
      "'osnc on'\n"
     ]
    }
   ],
   "source": [
    "# pprint.pprint(correct_word(\"abc\"))\n",
    "for word in words_not_in_dictionary[:30]:\n",
    "    pprint.pprint(word + \" \" + correct_word(word))\n"
   ]
  }
 ],
 "metadata": {
  "kernelspec": {
   "display_name": "Python 3",
   "language": "python",
   "name": "python3"
  },
  "language_info": {
   "codemirror_mode": {
    "name": "ipython",
    "version": 3
   },
   "file_extension": ".py",
   "mimetype": "text/x-python",
   "name": "python",
   "nbconvert_exporter": "python",
   "pygments_lexer": "ipython3",
   "version": "3.6.1"
  }
 },
 "nbformat": 4,
 "nbformat_minor": 2
}
