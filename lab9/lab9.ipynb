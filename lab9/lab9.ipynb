{
 "cells": [
  {
   "cell_type": "code",
   "execution_count": 127,
   "metadata": {
    "collapsed": true
   },
   "outputs": [],
   "source": [
    "from gensim.models.word2vec import Word2Vec\n",
    "from gensim.models.phrases import Phrases, Phraser\n",
    "import os, json, tqdm, re, itertools, nltk, pprint, pickle\n",
    "from collections import Counter\n",
    "from MulticoreTSNE import MulticoreTSNE as TSNE\n",
    "import numpy as np\n",
    "import matplotlib.pyplot as plt"
   ]
  },
  {
   "cell_type": "code",
   "execution_count": 3,
   "metadata": {
    "collapsed": true
   },
   "outputs": [],
   "source": [
    "def read_file(file_path):\n",
    "    all_words_from_files = []\n",
    "    with open (file_path) as file:\n",
    "        json_content = json.load(file)\n",
    "        item_count = 0\n",
    "        for item in json_content:\n",
    "            if item_count < 10:\n",
    "                item_count += 1\n",
    "                text_content = re.sub(\"<.*?>\", \"\", item[\"textContent\"])\n",
    "                text_content = text_content.replace('-\\n', '')\n",
    "                text_content = text_content.replace(\"\\n\", '')\n",
    "                \n",
    "#                 print (text_content)\n",
    "#             text_content = [word for word in text_content if len(word) > 0]\n",
    "            all_words_from_files.append(text_content)\n",
    "    \n",
    "    return all_words_from_files\n",
    "       \n",
    "        \n",
    "def read_all_judgments_from_2018(path):\n",
    "    all_judgments = []\n",
    "    for filename in tqdm.tqdm(os.listdir(path)):\n",
    "        judgments = read_file(path + filename)\n",
    "        all_judgments.append(judgments)\n",
    "    return all_judgments\n",
    "\n",
    "# We need a stream of sentences\n",
    "def flatten_judgments(words):\n",
    "    chain = list(itertools.chain(*words))\n",
    "    result = []\n",
    "    for judgment in chain:\n",
    "        for word in judgment:\n",
    "            result.append(word)\n",
    "    return result\n",
    "        "
   ]
  },
  {
   "cell_type": "code",
   "execution_count": 4,
   "metadata": {},
   "outputs": [
    {
     "name": "stderr",
     "output_type": "stream",
     "text": [
      "100%|██████████| 11/11 [00:00<00:00, 23.57it/s]\n"
     ]
    }
   ],
   "source": [
    "words = read_all_judgments_from_2018(\"../data_filtered_2/\")"
   ]
  },
  {
   "cell_type": "code",
   "execution_count": 5,
   "metadata": {
    "collapsed": true
   },
   "outputs": [],
   "source": [
    "content = []\n",
    "for judgment in words:\n",
    "    for word in judgment:\n",
    "        content.append(word)\n",
    "content = \" \".join(content)"
   ]
  },
  {
   "cell_type": "code",
   "execution_count": null,
   "metadata": {},
   "outputs": [],
   "source": []
  },
  {
   "cell_type": "code",
   "execution_count": 26,
   "metadata": {},
   "outputs": [
    {
     "name": "stdout",
     "output_type": "stream",
     "text": [
      "[nltk_data] Downloading package punkt to /home/grzegorz/nltk_data...\n",
      "[nltk_data]   Package punkt is already up-to-date!\n"
     ]
    }
   ],
   "source": [
    "from nltk.tokenize import TweetTokenizer, sent_tokenize\n",
    "nltk.download('punkt')\n",
    "\n",
    "tokenizer_words = TweetTokenizer(preserve_case=False)\n",
    "tokens_sentences = [tokenizer_words.tokenize(t) for t in nltk.sent_tokenize(content)]\n"
   ]
  },
  {
   "cell_type": "code",
   "execution_count": 27,
   "metadata": {},
   "outputs": [
    {
     "name": "stdout",
     "output_type": "stream",
     "text": [
      "[['uzasadnienie', 'powód', '(', '...', ')', 'sp', '.'], ['z', 'o', '.', 'o', '.'], ['sp', '.'], ['k', '.', 'z', 'siedzibą', 'w', 'p', '.', 'wniósł', 'o', 'zwolnienie', 'spod', 'egzekucji', 'administracyjnej', 'prawa', 'majątkowego', 'przysługującego', 'powodowi', 'w', 'postaci', 'wierzytelności', 'z', 'tytułu', 'nienależnie', 'pobranego', 'podatku', 'akcyzowego', 'za', 'miesiące', 'luty', ',', 'marzec', ',', 'kwiecień', ',', 'maj', ',', 'wrzesień', 'i', 'październik', '2011', 'r', '.', 'określonego', 'w', 'decyzji', 'naczelnika', 'urzędy', 'celnego', 'w', 'z', '.', 'z', 'dnia', '6', 'lutego', '2013', 'r', '.', 'nr', '(', '...', ')', '-', '(', '...', ')', '9110-414', '/', '12/13', '/', 'dn', 'oraz', 'dyrektora', 'izby', 'celnej', 'w', 'r', '.', 'z', 'dnia', '8', 'kwietnia', '2014', 'r', '.', 'nr', '(', '...', ')', '-', '(', '...', ')', '-24/13', '/', '14', ',', 'która', 'został', 'stwierdzona', 'prawomocnym', 'wyrokiem', 'wojewódzkiego', 'sądu', 'administracyjnego', 'w', 'g', '.', 'z', 'dnia', '6', 'lipca', '2016', 'r', '.', 'sygn', '.'], ['akt', 'i', 'sa', '/', 'go', '186/16', 'w', 'postaci', 'kosztów', 'egzekucyjnych', 'w', 'kwocie', '8.614', ',', '98', 'złotych', 'wynikających', 'z', 'egzekucji', 'ww', '.'], ['nienależnie', 'pobranego', 'podatku', 'akcyzowego', '.'], ['wierzytelność', 'ta', 'została', 'zajęta', 'na', 'poczet', 'postępowania', 'zabezpieczającego', 'w', 'dniu', '14', 'października', '2016', 'roku', '.'], ['pełnomocnik', 'powoda', 'podnosi', 'przy', 'tym', ',', 'że', 'zajęcie', 'to', 'jest', 'bezpodstawne', 'i', 'bezprawne', ',', 'albowiem', 'zajęta', 'wierzytelność', 'od', 'dnia', '19', 'lipca', '2016', 'r', '.', 'nie', 'jest', 'własnością', 'w', '.', 'k', '.', 'przeciwko', ',', 'któremu', 'organ', 'administracyjny', 'prowadzi', 'postępowanie', 'zabezpieczające', '.'], ['nadto', ',', 'w', 'pozwie', 'zawarto', 'żądanie', 'zasądzenia', 'od', 'strony', 'pozwanej', 'na', 'rzecz', 'powódki', 'kosztów', 'procesu', ',', 'w', 'tym', 'kosztów', 'zastępstwa', 'procesowego', 'według', 'norm', 'przepisanych', '.'], ['w', 'odpowiedzi', 'na', 'pozew', 'pozwany', 'wniósł', 'o', 'oddalenie', 'powództwa', 'w', 'całości', 'oraz', 'o', 'zasądzenie', 'kosztów', 'procesu', 'w', 'tym', 'kosztów', 'zastępstwa', 'procesowego', '.']]\n"
     ]
    }
   ],
   "source": [
    "print(tokens_sentences[:10])"
   ]
  },
  {
   "cell_type": "code",
   "execution_count": 52,
   "metadata": {
    "collapsed": true
   },
   "outputs": [],
   "source": [
    "bigrams = Phrases(tokens_sentences, threshold=10.0)"
   ]
  },
  {
   "cell_type": "code",
   "execution_count": 66,
   "metadata": {},
   "outputs": [
    {
     "name": "stdout",
     "output_type": "stream",
     "text": [
      "k_. 39166\n",
      ",_że 20844\n",
      "art_. 20079\n",
      "(_... 15453\n",
      "..._) 15357\n",
      "r_. 15096\n",
      "._, 13399\n",
      "m_. 12940\n",
      "p_. 11646\n",
      "._( 11637\n",
      "z_dnia 11213\n",
      ")_. 10722\n",
      ")_, 9391\n",
      ",_a 8534\n",
      "c_. 8331\n",
      "._p 8292\n",
      "._k 8239\n",
      "j_. 8190\n",
      "§_1 8064\n",
      "1_) 7987\n",
      ",_iż 7531\n",
      ",_w 7519\n",
      "(_1 7301\n",
      "._c 7169\n",
      "a_. 6948\n",
      "._w 6893\n",
      "s_. 6693\n",
      "w_dniu 6282\n",
      "d_. 6208\n",
      "._n 5914\n",
      "2017_roku 5829\n",
      "ust_. 5720\n",
      "na_podstawie 5648\n",
      "n_. 5578\n",
      "w_. 5311\n",
      "z_art 4887\n",
      "roku_, 4842\n",
      ",_k 4737\n",
      "w_sprawie 4639\n",
      "do_pracy 4156\n",
      "2015_roku 4093\n",
      "w_tym 4033\n",
      ")_w 3975\n",
      "._m 3710\n",
      ",_z 3537\n",
      "podstawie_art 3518\n",
      ",_- 3513\n",
      ",_nie 3260\n",
      "g_. 3212\n",
      "1_k 3175\n",
      "na_k 3157\n",
      "._d 3016\n",
      ",_co 2998\n",
      "zw_. 2970\n",
      "w_okresie 2928\n",
      "–_k 2907\n",
      "w_zw 2882\n",
      "._s 2861\n",
      "ubezpieczeń_społecznych 2854\n",
      ",_na 2804\n",
      "od_dnia 2674\n",
      "2016_roku 2673\n",
      "zł_, 2617\n",
      "działalności_gospodarczej 2595\n",
      "1_kk 2532\n",
      "(_k 2511\n",
      "zgodnie_z 2491\n",
      "._i 2465\n",
      "w_postaci 2376\n",
      "poz_. 2355\n",
      ",_czy 2315\n",
      "na_rzecz 2292\n",
      ",_które 2272\n",
      "tj_. 2266\n",
      "się_do 2265\n",
      "się_w 2239\n",
      "sąd_rejonowy 2238\n",
      ",_poz 2202\n",
      "._na 2160\n",
      "zł_. 2152\n",
      ",_jak 2151\n",
      "u_. 2109\n",
      "się_z 2099\n",
      "f_. 2068\n",
      "._) 2041\n",
      "v_. 2041\n",
      "2014_roku 2038\n",
      ",_który 2023\n",
      "protokół_z 2010\n",
      "pozbawienia_wolności 1994\n",
      "w_zakresie 1992\n",
      "pracy_, 1959\n",
      ",_ale 1954\n",
      "w_wysokości 1939\n",
      "dz_. 1935\n",
      "w_ruchu 1930\n",
      "2015r_. 1927\n",
      "w_art 1906\n",
      "w_ocenie 1897\n",
      "o_pracę 1842\n"
     ]
    }
   ],
   "source": [
    "bigram_counter = Counter()\n",
    "for key in bigrams.vocab.keys():\n",
    "    key_str = str(key)\n",
    "    splited = key_str.split(\"_\")\n",
    "    if len(splited)>1:\n",
    "        bigram_counter[key] += bigrams.vocab[key]\n",
    "\n",
    "for key, counts in bigram_counter.most_common(100):\n",
    "    print (str(key, \"utf_8\") + \" \" + str(counts))"
   ]
  },
  {
   "cell_type": "code",
   "execution_count": 22,
   "metadata": {},
   "outputs": [
    {
     "name": "stderr",
     "output_type": "stream",
     "text": [
      "/home/grzegorz/anaconda2/envs/py3/lib/python3.6/site-packages/gensim/models/phrases.py:494: UserWarning: For a faster implementation, use the gensim.models.phrases.Phraser class\n",
      "  warnings.warn(\"For a faster implementation, use the gensim.models.phrases.Phraser class\")\n"
     ]
    }
   ],
   "source": [
    "trigrams = Phrases(phrases[tokens_sentences], threshold=1.0)\n"
   ]
  },
  {
   "cell_type": "code",
   "execution_count": 65,
   "metadata": {},
   "outputs": [
    {
     "name": "stdout",
     "output_type": "stream",
     "text": [
      "W_ocenie_Sądu 1170\n",
      "13_grudnia_2017 1094\n",
      "7_lipca_2016 1001\n",
      "4_lutego_2015 1001\n",
      "przy_prowadzeniu_działalności_gospodarczej 1001\n",
      "w_niniejszej_sprawie 935\n",
      "w_ruchu_lądowym 916\n",
      "dnia_13_grudnia 913\n",
      ",_jak_również 907\n",
      ",_co_następuje 860\n",
      "279_§_1 833\n",
      "w_ruchu_drogowym 830\n",
      "o_numerze_rejestracyjnym 829\n",
      "numerze_rejestracyjnym_( 828\n",
      "marca_2007_roku 820\n",
      "w_dniu_19 796\n",
      "co_następuje_: 768\n",
      "do_ubezpieczeń_społecznych 746\n",
      "w_stanie_nietrzeźwości 739\n",
      "177_§_1 731\n",
      "dniu_7_lipca 728\n",
      "dniu_19_lutego 728\n",
      "o_systemie_ubezpieczeń 680\n",
      "systemie_ubezpieczeń_społecznych 680\n",
      "km_/_h 667\n",
      "popełnienia_zarzucanego_mu_czynu 649\n",
      "dnia_4_lutego 644\n",
      "do_słów_„ 643\n",
      ",_I_PK 642\n",
      "278_§_1 641\n",
      "roku_ubezpieczona_była 638\n",
      "Sąd_Rejonowy_w 620\n",
      "W_IMIENIU_RZECZYPOSPOLITEJ 588\n",
      ",_zeznania_świadka 577\n",
      "na_ubezpieczenia_społeczne 554\n",
      "do_popełnienia_zarzucanego 554\n",
      "działalności_gospodarczej_. 553\n",
      "e_-_protokół 549\n",
      "/_decyzja_z 547\n",
      "na_przeciwległy_pas 546\n",
      "przeciwległy_pas_ruchu 546\n",
      "kwietnia_2016r_. 546\n",
      "28_ust_. 546\n",
      "przez_stronę_pozwaną 515\n",
      "IMIENIU_RZECZYPOSPOLITEJ_POLSKIEJ_Dnia 514\n",
      "składzie_:_Przewodniczący 508\n",
      "(_tekst_jednolity 494\n",
      ",_podczas_gdy 491\n",
      "w_sprawie_opłat 486\n",
      "sprawie_opłat_za 486\n",
      "podstawy_wymiaru_składek 483\n",
      "na_rzecz_Skarbu 480\n",
      "nie_może_być 474\n",
      "dnia_23_marca 471\n",
      "o_łącznej_wartości 470\n",
      "działalności_gospodarczej_, 467\n",
      "na_czas_nieokreślony 467\n",
      "z_ograniczoną_odpowiedzialnością 465\n",
      "marki_V_. 463\n",
      "w_celu_przywłaszczenia 463\n",
      "do_wykonywania_pracy 462\n",
      "ocenie_Sądu_, 461\n",
      "stanie_nietrzeźwości_, 458\n",
      "w_odległości_około 457\n",
      "lat_tytułem_próby 457\n",
      "._00:05_: 456\n",
      "na_lewym_pasie 456\n",
      "1_punkt_5 456\n",
      "w_miejscowości_T 455\n",
      "miejscowości_T_. 455\n",
      "na_czas_przekraczający 455\n",
      "lewym_pasie_ruchu 455\n",
      "-_prawe_przednie 455\n",
      "samochodu_V_. 455\n",
      "złotych_tytułem_wynagrodzenia_przyznanego 455\n",
      "wynagrodzenia_przyznanego_biegłemu 455\n",
      ",_OSNP_Nr 455\n",
      "4_kwietnia_2016r 455\n",
      "ze_stężeniem_alkoholu_we 455\n",
      "alkoholu_we_krwi_wynoszącym 455\n",
      "na_teren_ogródków 455\n",
      "jako_osoba_współpracująca 455\n",
      "00:05_:_05-00_: 455\n",
      "05-00_:_12:57_protokół 455\n",
      "współpracy_przy_prowadzeniu 455\n",
      "10_czerwca_2016 455\n",
      "._e_- 455\n",
      "23_marca_2015r 432\n",
      "w_sprawie_materiału 428\n",
      "sprawie_materiału_dowodowego 426\n",
      "nie_zostały_poparte 419\n",
      "w_toku_postępowania 407\n",
      ":_Przewodniczący_: 398\n",
      "W_niniejszej_sprawie 395\n",
      ",_Lex_nr 395\n",
      "ustalił_następujący_stan_faktyczny 392\n",
      "._Sąd_Rejonowy 390\n",
      "przez_organ_rentowy 390\n",
      "stan_faktyczny_: 388\n",
      "tekst_jednolity_Dz 387\n"
     ]
    }
   ],
   "source": [
    "trigram_counter = Counter()\n",
    "for key in trigrams.vocab.keys():\n",
    "    key_str = str(key)\n",
    "    splited = key_str.split(\"_\")\n",
    "    if len(splited)>2:\n",
    "        trigram_counter[key] += trigrams.vocab[key]\n",
    "\n",
    "for key, counts in trigram_counter.most_common(100):\n",
    "    print (str(key, \"utf-8\") + \" \" + str(counts))"
   ]
  },
  {
   "cell_type": "code",
   "execution_count": 61,
   "metadata": {},
   "outputs": [
    {
     "name": "stderr",
     "output_type": "stream",
     "text": [
      "/home/grzegorz/anaconda2/envs/py3/lib/python3.6/site-packages/gensim/models/phrases.py:494: UserWarning: For a faster implementation, use the gensim.models.phrases.Phraser class\n",
      "  warnings.warn(\"For a faster implementation, use the gensim.models.phrases.Phraser class\")\n"
     ]
    }
   ],
   "source": [
    "sentences_transformed = [trigrams[sentence] for sentence in tokens_sentences]"
   ]
  },
  {
   "cell_type": "code",
   "execution_count": 63,
   "metadata": {},
   "outputs": [
    {
     "name": "stdout",
     "output_type": "stream",
     "text": [
      "[['uzasadnienie', 'powód', '(_...', ')_sp', '.'], ['z', 'o', '.', 'o', '.'], ['sp', '.'], ['k', '.', 'z_siedzibą', 'w', 'p', '.', 'wniósł_o', 'zwolnienie', 'spod_egzekucji', 'administracyjnej', 'prawa', 'majątkowego', 'przysługującego', 'powodowi', 'w_postaci', 'wierzytelności', 'z_tytułu', 'nienależnie_pobranego', 'podatku', 'akcyzowego', 'za_miesiące', 'luty', ',', 'marzec', ',', 'kwiecień', ',', 'maj', ',', 'wrzesień_i', 'październik_2011', 'r', '.', 'określonego_w', 'decyzji', 'naczelnika', 'urzędy', 'celnego', 'w', 'z', '.', 'z_dnia', '6', 'lutego_2013', 'r', '.', 'nr_(', '..._)', '-', '(_...', ')', '9110-414', '/', '12/13', '/', 'dn', 'oraz', 'dyrektora', 'izby', 'celnej', 'w', 'r', '.', 'z_dnia', '8', 'kwietnia_2014', 'r', '.', 'nr_(', '..._)', '-', '(_...', ')', '-24/13', '/', '14', ',', 'która', 'został', 'stwierdzona', 'prawomocnym_wyrokiem', 'wojewódzkiego', 'sądu', 'administracyjnego', 'w', 'g', '.', 'z_dnia', '6', 'lipca_2016', 'r', '.', 'sygn', '.'], ['akt', 'i', 'sa', '/', 'go', '186/16', 'w_postaci', 'kosztów_egzekucyjnych', 'w_kwocie', '8.614', ',', '98', 'złotych', 'wynikających_z', 'egzekucji', 'ww', '.'], ['nienależnie_pobranego', 'podatku', 'akcyzowego', '.'], ['wierzytelność', 'ta_została', 'zajęta', 'na_poczet', 'postępowania', 'zabezpieczającego', 'w_dniu', '14', 'października_2016', 'roku', '.'], ['pełnomocnik', 'powoda', 'podnosi', 'przy_tym', ',', 'że', 'zajęcie', 'to', 'jest', 'bezpodstawne', 'i', 'bezprawne', ',', 'albowiem', 'zajęta', 'wierzytelność', 'od_dnia', '19', 'lipca_2016', 'r', '.', 'nie_jest', 'własnością', 'w', '.', 'k', '.', 'przeciwko', ',', 'któremu', 'organ', 'administracyjny', 'prowadzi', 'postępowanie', 'zabezpieczające', '.'], ['nadto', ',', 'w_pozwie', 'zawarto', 'żądanie', 'zasądzenia_od', 'strony_pozwanej', 'na_rzecz', 'powódki', 'kosztów_procesu', ',', 'w', 'tym', 'kosztów_zastępstwa', 'procesowego', 'według_norm', 'przepisanych', '.'], ['w_odpowiedzi', 'na', 'pozew', 'pozwany', 'wniósł_o', 'oddalenie_powództwa', 'w_całości', 'oraz', 'o_zasądzenie', 'kosztów_procesu', 'w', 'tym', 'kosztów_zastępstwa', 'procesowego', '.']]\n"
     ]
    }
   ],
   "source": [
    "print(sentences_transformed[:10])"
   ]
  },
  {
   "cell_type": "code",
   "execution_count": 74,
   "metadata": {},
   "outputs": [],
   "source": [
    "files = os.listdir(\".\")\n",
    "if \"word2vec_model.pickle\" in files:\n",
    "    with open(\"word2vec_model.pickle\", \"rb\") as file:\n",
    "        word2vc_model = pickle.load(file)\n",
    "else:\n",
    "    word2vec_model = Word2Vec(sentences=sentences_transformed, window=5, size=300, sg=0, workers=8, min_count=3)\n",
    "    with open(\"word2vec_model.pickle\", \"wb\") as file:\n",
    "        pickle.dump(word2vec_model, file)"
   ]
  },
  {
   "cell_type": "code",
   "execution_count": 92,
   "metadata": {},
   "outputs": [
    {
     "name": "stderr",
     "output_type": "stream",
     "text": [
      "/home/grzegorz/anaconda2/envs/py3/lib/python3.6/site-packages/ipykernel_launcher.py:1: DeprecationWarning: Call to deprecated `most_similar` (Method will be removed in 4.0.0, use self.wv.most_similar() instead).\n",
      "  \"\"\"Entry point for launching an IPython kernel.\n"
     ]
    }
   ],
   "source": [
    "word2vec_model.most_similar(\"sąd\")\n",
    "\n",
    "word_vectors = word2vec_model.wv\n",
    "del word2vec_model"
   ]
  },
  {
   "cell_type": "code",
   "execution_count": 93,
   "metadata": {
    "collapsed": true
   },
   "outputs": [],
   "source": [
    "word2vec_model = word_vectors"
   ]
  },
  {
   "cell_type": "code",
   "execution_count": 101,
   "metadata": {},
   "outputs": [
    {
     "name": "stdout",
     "output_type": "stream",
     "text": [
      "kpk\n",
      "[('§_1a', 0.8561893105506897),\n",
      " ('zakres_uzasadnienia', 0.8249825239181519),\n",
      " ('423', 0.8178547024726868),\n",
      " ('ograniczono_do', 0.771358072757721),\n",
      " ('118', 0.7288931608200073),\n",
      " ('624', 0.7202829718589783),\n",
      " ('824', 0.7137531042098999),\n",
      " ('pkt_3', 0.708715558052063),\n",
      " ('zd', 0.6514341235160828),\n",
      " ('201', 0.6396523714065552)]\n",
      "\n",
      "sąd_rejonowy\n",
      "[('szczecin', 0.6377477049827576),\n",
      " ('uzasadnieniu', 0.6357685327529907),\n",
      " ('sąd', 0.6321263313293457),\n",
      " ('klauzulę', 0.5851562023162842),\n",
      " ('szczecinie', 0.5778356194496155),\n",
      " ('podnosiła', 0.5671849250793457),\n",
      " ('lublin', 0.5614820718765259),\n",
      " ('szczytnie', 0.5437789559364319),\n",
      " ('giżycku', 0.5426311492919922),\n",
      " (':_a', 0.5352632403373718)]\n",
      "\n",
      "szkoda\n",
      "[('uzasadnia', 0.6910620331764221),\n",
      " ('wykazuje', 0.676764965057373),\n",
      " ('dotyczył', 0.671521782875061),\n",
      " ('powoduje', 0.6512223482131958),\n",
      " ('mają', 0.6446118354797363),\n",
      " ('faktem', 0.6416028141975403),\n",
      " ('powodowie', 0.6382654905319214),\n",
      " ('zachodziły', 0.6372725963592529),\n",
      " ('pozbawia', 0.6332595944404602),\n",
      " ('powinien_być', 0.63225919008255)]\n",
      "\n",
      "wypadek\n",
      "[('szczególnie_uzasadniony', 0.9619463682174683),\n",
      " ('zaistniał', 0.9091891646385193),\n",
      " ('przemawiający', 0.8718448281288147),\n",
      " ('faktycznym', 0.7184277772903442),\n",
      " ('jest_możliwe', 0.6916184425354004),\n",
      " ('sobą', 0.6691668033599854),\n",
      " ('pociągała', 0.6593196392059326),\n",
      " ('rozważanie', 0.6571178436279297),\n",
      " ('gaz', 0.6554369926452637),\n",
      " ('nadużycia', 0.6427246332168579)]\n",
      "\n",
      "rozwód\n",
      "[('nie_przesądza', 0.7169438600540161),\n",
      " ('alimentach', 0.7057673335075378),\n",
      " ('zakończeniu', 0.6925501823425293),\n",
      " ('poborze', 0.6592996120452881),\n",
      " ('informacji', 0.6470337510108948),\n",
      " ('wygranych', 0.6439116597175598),\n",
      " ('automatami', 0.6381102800369263),\n",
      " ('ogłoszenie_upadłości', 0.6297591328620911),\n",
      " ('świadczą', 0.6277902722358704),\n",
      " ('zeznając', 0.6181149482727051)]\n",
      "\n"
     ]
    }
   ],
   "source": [
    "#Znajdź 3 najbardziej podobne wyrażenia (słowa i zwroty) dla następujących wyrażeń:\n",
    "similar_phrases = [\"sąd_najwyższy\", \"trybunał_konstytucyjny\", \"kodeks_cywilny\",\n",
    "                  \"kpk\", \"sąd_rejonowy\",\"szkoda\", \"wypadek\", \"kolizja\",\n",
    "                   \"szkoda_majątkowa\", \"nieszczęście\", \"rozwód\"]\n",
    "\n",
    "for phrase in similar_phrases:\n",
    "    if phrase in word2vec_model:\n",
    "        print (phrase )\n",
    "        pprint.pprint (word2vec_model.most_similar(phrase))\n",
    "        print ()"
   ]
  },
  {
   "cell_type": "code",
   "execution_count": 111,
   "metadata": {},
   "outputs": [
    {
     "ename": "KeyError",
     "evalue": "\"word 'rzeka' not in vocabulary\"",
     "output_type": "error",
     "traceback": [
      "\u001b[0;31m---------------------------------------------------------------------------\u001b[0m",
      "\u001b[0;31mKeyError\u001b[0m                                  Traceback (most recent call last)",
      "\u001b[0;32m<ipython-input-111-6e461f2ecac7>\u001b[0m in \u001b[0;36m<module>\u001b[0;34m()\u001b[0m\n\u001b[1;32m     10\u001b[0m \u001b[0;31m# word2vec_model.similar_by_vector(second)\u001b[0m\u001b[0;34m\u001b[0m\u001b[0;34m\u001b[0m\u001b[0m\n\u001b[1;32m     11\u001b[0m \u001b[0;34m\u001b[0m\u001b[0m\n\u001b[0;32m---> 12\u001b[0;31m \u001b[0mthird\u001b[0m \u001b[0;34m=\u001b[0m \u001b[0mword2vec_model\u001b[0m\u001b[0;34m[\u001b[0m\u001b[0;34m\"samochód\"\u001b[0m\u001b[0;34m]\u001b[0m \u001b[0;34m-\u001b[0m \u001b[0mword2vec_model\u001b[0m\u001b[0;34m[\u001b[0m\u001b[0;34m\"droga\"\u001b[0m\u001b[0;34m]\u001b[0m \u001b[0;34m+\u001b[0m \u001b[0mword2vec_model\u001b[0m\u001b[0;34m[\u001b[0m\u001b[0;34m\"rzeka\"\u001b[0m\u001b[0;34m]\u001b[0m\u001b[0;34m\u001b[0m\u001b[0m\n\u001b[0m\u001b[1;32m     13\u001b[0m \u001b[0mword2vec_model\u001b[0m\u001b[0;34m.\u001b[0m\u001b[0msimilar_by_vector\u001b[0m\u001b[0;34m(\u001b[0m\u001b[0mthird\u001b[0m\u001b[0;34m)\u001b[0m\u001b[0;34m\u001b[0m\u001b[0m\n",
      "\u001b[0;32m~/anaconda2/envs/py3/lib/python3.6/site-packages/gensim/models/keyedvectors.py\u001b[0m in \u001b[0;36m__getitem__\u001b[0;34m(self, entities)\u001b[0m\n\u001b[1;32m    167\u001b[0m         \u001b[0;32mif\u001b[0m \u001b[0misinstance\u001b[0m\u001b[0;34m(\u001b[0m\u001b[0mentities\u001b[0m\u001b[0;34m,\u001b[0m \u001b[0mstring_types\u001b[0m\u001b[0;34m)\u001b[0m\u001b[0;34m:\u001b[0m\u001b[0;34m\u001b[0m\u001b[0m\n\u001b[1;32m    168\u001b[0m             \u001b[0;31m# allow calls like trained_model['office'], as a shorthand for trained_model[['office']]\u001b[0m\u001b[0;34m\u001b[0m\u001b[0;34m\u001b[0m\u001b[0m\n\u001b[0;32m--> 169\u001b[0;31m             \u001b[0;32mreturn\u001b[0m \u001b[0mself\u001b[0m\u001b[0;34m.\u001b[0m\u001b[0mget_vector\u001b[0m\u001b[0;34m(\u001b[0m\u001b[0mentities\u001b[0m\u001b[0;34m)\u001b[0m\u001b[0;34m\u001b[0m\u001b[0m\n\u001b[0m\u001b[1;32m    170\u001b[0m \u001b[0;34m\u001b[0m\u001b[0m\n\u001b[1;32m    171\u001b[0m         \u001b[0;32mreturn\u001b[0m \u001b[0mvstack\u001b[0m\u001b[0;34m(\u001b[0m\u001b[0;34m[\u001b[0m\u001b[0mself\u001b[0m\u001b[0;34m.\u001b[0m\u001b[0mget_vector\u001b[0m\u001b[0;34m(\u001b[0m\u001b[0mentity\u001b[0m\u001b[0;34m)\u001b[0m \u001b[0;32mfor\u001b[0m \u001b[0mentity\u001b[0m \u001b[0;32min\u001b[0m \u001b[0mentities\u001b[0m\u001b[0;34m]\u001b[0m\u001b[0;34m)\u001b[0m\u001b[0;34m\u001b[0m\u001b[0m\n",
      "\u001b[0;32m~/anaconda2/envs/py3/lib/python3.6/site-packages/gensim/models/keyedvectors.py\u001b[0m in \u001b[0;36mget_vector\u001b[0;34m(self, word)\u001b[0m\n\u001b[1;32m    275\u001b[0m \u001b[0;34m\u001b[0m\u001b[0m\n\u001b[1;32m    276\u001b[0m     \u001b[0;32mdef\u001b[0m \u001b[0mget_vector\u001b[0m\u001b[0;34m(\u001b[0m\u001b[0mself\u001b[0m\u001b[0;34m,\u001b[0m \u001b[0mword\u001b[0m\u001b[0;34m)\u001b[0m\u001b[0;34m:\u001b[0m\u001b[0;34m\u001b[0m\u001b[0m\n\u001b[0;32m--> 277\u001b[0;31m         \u001b[0;32mreturn\u001b[0m \u001b[0mself\u001b[0m\u001b[0;34m.\u001b[0m\u001b[0mword_vec\u001b[0m\u001b[0;34m(\u001b[0m\u001b[0mword\u001b[0m\u001b[0;34m)\u001b[0m\u001b[0;34m\u001b[0m\u001b[0m\n\u001b[0m\u001b[1;32m    278\u001b[0m \u001b[0;34m\u001b[0m\u001b[0m\n\u001b[1;32m    279\u001b[0m     \u001b[0;32mdef\u001b[0m \u001b[0mwords_closer_than\u001b[0m\u001b[0;34m(\u001b[0m\u001b[0mself\u001b[0m\u001b[0;34m,\u001b[0m \u001b[0mw1\u001b[0m\u001b[0;34m,\u001b[0m \u001b[0mw2\u001b[0m\u001b[0;34m)\u001b[0m\u001b[0;34m:\u001b[0m\u001b[0;34m\u001b[0m\u001b[0m\n",
      "\u001b[0;32m~/anaconda2/envs/py3/lib/python3.6/site-packages/gensim/models/keyedvectors.py\u001b[0m in \u001b[0;36mword_vec\u001b[0;34m(self, word, use_norm)\u001b[0m\n\u001b[1;32m    272\u001b[0m             \u001b[0;32mreturn\u001b[0m \u001b[0mresult\u001b[0m\u001b[0;34m\u001b[0m\u001b[0m\n\u001b[1;32m    273\u001b[0m         \u001b[0;32melse\u001b[0m\u001b[0;34m:\u001b[0m\u001b[0;34m\u001b[0m\u001b[0m\n\u001b[0;32m--> 274\u001b[0;31m             \u001b[0;32mraise\u001b[0m \u001b[0mKeyError\u001b[0m\u001b[0;34m(\u001b[0m\u001b[0;34m\"word '%s' not in vocabulary\"\u001b[0m \u001b[0;34m%\u001b[0m \u001b[0mword\u001b[0m\u001b[0;34m)\u001b[0m\u001b[0;34m\u001b[0m\u001b[0m\n\u001b[0m\u001b[1;32m    275\u001b[0m \u001b[0;34m\u001b[0m\u001b[0m\n\u001b[1;32m    276\u001b[0m     \u001b[0;32mdef\u001b[0m \u001b[0mget_vector\u001b[0m\u001b[0;34m(\u001b[0m\u001b[0mself\u001b[0m\u001b[0;34m,\u001b[0m \u001b[0mword\u001b[0m\u001b[0;34m)\u001b[0m\u001b[0;34m:\u001b[0m\u001b[0;34m\u001b[0m\u001b[0m\n",
      "\u001b[0;31mKeyError\u001b[0m: \"word 'rzeka' not in vocabulary\""
     ]
    }
   ],
   "source": [
    "# Znajdź wypadkową operacji na słowach (5 najbliższych wyników)\n",
    "#Sąd Najwyższy - kpc + konstytucja\n",
    "#pasażer - mężczyzna + kobieta\n",
    "#samochód - droga + rzeka\n",
    "\n",
    "# first = word2vec_model[\"sąd_najwyższy\"] - word2vec_model[\"kpc\"] + word2vec_model[\"konstytucja\"]\n",
    "# word2vec_model.similar_by_vector(first)\n",
    "\n",
    "# second = word2vec_model[\"pasażer\"] - word2vec_model[\"mężczyzna\"] + word2vec_model[\"kobieta]\n",
    "# word2vec_model.similar_by_vector(second)\n",
    "# \n",
    "# third = word2vec_model[\"samochód\"] - word2vec_model[\"droga\"] + word2vec_model[\"rzeka\"]\n",
    "# word2vec_model.similar_by_vector(third)"
   ]
  },
  {
   "cell_type": "code",
   "execution_count": 116,
   "metadata": {},
   "outputs": [
    {
     "data": {
      "text/plain": [
       "<MulticoreTSNE.MulticoreTSNE at 0x7fbdf2f4e978>"
      ]
     },
     "execution_count": 116,
     "metadata": {},
     "output_type": "execute_result"
    }
   ],
   "source": [
    "tsne = TSNE(n_components=2, n_jobs=8)\n",
    "tsne.fit(word2vec_model.vectors)"
   ]
  },
  {
   "cell_type": "code",
   "execution_count": 126,
   "metadata": {},
   "outputs": [],
   "source": [
    "words_to_plot = [\"szkoda\", \n",
    "#                  \"strata\", \n",
    "                 \"uszczerbek\", \n",
    "#                  \"szkoda_majątkowa\", \n",
    "#                  \"uszczerbek_na_zdrowiu\",\n",
    "                  \"krzywda\"]\n",
    "#                  \"niesprawiedliwość\", \n",
    "#                  \"nieszczęście\"]\n",
    "\n",
    "vectors_to_plot = np.array([word2vec_model[word] for word in words_to_plot])\n",
    "vectors_transformed = tsne.fit_transform(vectors_to_plot)\n"
   ]
  },
  {
   "cell_type": "code",
   "execution_count": 133,
   "metadata": {},
   "outputs": [
    {
     "data": {
      "text/plain": [
       "array([[-5134.78852633, -2447.06854698],\n",
       "       [ 4695.7464671 , -3228.10294493],\n",
       "       [  439.04205923,  5675.17149191]])"
      ]
     },
     "execution_count": 133,
     "metadata": {},
     "output_type": "execute_result"
    }
   ],
   "source": [
    "vectors_transformed"
   ]
  },
  {
   "cell_type": "code",
   "execution_count": 139,
   "metadata": {},
   "outputs": [
    {
     "data": {
      "image/png": "[encoded data removed]",
      "text/plain": [
       "<Figure size 432x288 with 1 Axes>"
      ]
     },
     "metadata": {},
     "output_type": "display_data"
    }
   ],
   "source": [
    "fig, ax = plt.subplots()\n",
    "ax.scatter(vectors_transformed[:,0], vectors_transformed[:,1])\n",
    "\n",
    "for i, txt in enumerate(words_to_plot):\n",
    "    ax.annotate(txt, (vectors_transformed[:,0][i], vectors_transformed[:,1][i]))\n",
    "\n",
    "plt.show()"
   ]
  }
 ],
 "metadata": {
  "kernelspec": {
   "display_name": "Python 3",
   "language": "python",
   "name": "python3"
  },
  "language_info": {
   "codemirror_mode": {
    "name": "ipython",
    "version": 3
   },
   "file_extension": ".py",
   "mimetype": "text/x-python",
   "name": "python",
   "nbconvert_exporter": "python",
   "pygments_lexer": "ipython3",
   "version": "3.6.3"
  }
 },
 "nbformat": 4,
 "nbformat_minor": 2
}
