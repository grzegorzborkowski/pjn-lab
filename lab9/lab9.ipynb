{
 "cells": [
  {
   "cell_type": "code",
   "execution_count": 6,
   "metadata": {
    "collapsed": true
   },
   "outputs": [],
   "source": [
    "from gensim.models.word2vec import Word2Vec\n",
    "from gensim.models.phrases import Phrases, Phraser\n",
    "import os, json, tqdm, re, itertools, nltk"
   ]
  },
  {
   "cell_type": "code",
   "execution_count": 7,
   "metadata": {
    "collapsed": true
   },
   "outputs": [],
   "source": [
    "def read_file(file_path):\n",
    "    all_words_from_files = []\n",
    "    with open (file_path) as file:\n",
    "        json_content = json.load(file)\n",
    "        item_count = 0\n",
    "        for item in json_content:\n",
    "            if item_count < 10:\n",
    "                item_count += 1\n",
    "                text_content = re.sub(\"<.*?>\", \"\", item[\"textContent\"])\n",
    "                text_content = text_content.replace('-\\n', '')\n",
    "                text_content = text_content.replace(\"\\n\", '')\n",
    "                \n",
    "#                 print (text_content)\n",
    "#             text_content = [word for word in text_content if len(word) > 0]\n",
    "            all_words_from_files.append(text_content)\n",
    "    return all_words_from_files\n",
    "       \n",
    "        \n",
    "def read_all_judgments_from_2018(path):\n",
    "    all_judgments = []\n",
    "    for filename in tqdm.tqdm(os.listdir(path)):\n",
    "        judgments = read_file(path + filename)\n",
    "        all_judgments.append(judgments)\n",
    "    return all_judgments\n",
    "\n",
    "# We need a stream of sentences\n",
    "def flatten_judgments(words):\n",
    "    chain = list(itertools.chain(*words))\n",
    "    result = []\n",
    "    for judgment in chain:\n",
    "        for word in judgment:\n",
    "            result.append(word)\n",
    "    return result\n",
    "        "
   ]
  },
  {
   "cell_type": "code",
   "execution_count": 8,
   "metadata": {},
   "outputs": [
    {
     "name": "stderr",
     "output_type": "stream",
     "text": [
      "100%|██████████| 11/11 [00:00<00:00, 36.39it/s]\n"
     ]
    }
   ],
   "source": [
    "words = read_all_judgments_from_2018(\"../data_filtered_2/\")"
   ]
  },
  {
   "cell_type": "code",
   "execution_count": 21,
   "metadata": {},
   "outputs": [],
   "source": [
    "content = []\n",
    "for judgment in words:\n",
    "    for word in judgment:\n",
    "        content.append(word)\n",
    "content = \" \".join(content)"
   ]
  },
  {
   "cell_type": "code",
   "execution_count": 25,
   "metadata": {},
   "outputs": [
    {
     "data": {
      "text/plain": [
       "'      UZASADNIENIE      Powód  (...) Sp. z o.o. Sp. k. z siedzibą w P. wniósł o zwolnienie spod egze'"
      ]
     },
     "execution_count": 25,
     "metadata": {},
     "output_type": "execute_result"
    }
   ],
   "source": []
  },
  {
   "cell_type": "code",
   "execution_count": 27,
   "metadata": {},
   "outputs": [
    {
     "name": "stdout",
     "output_type": "stream",
     "text": [
      "[nltk_data] Downloading package punkt to /home/grzegorz/nltk_data...\n",
      "[nltk_data]   Package punkt is already up-to-date!\n"
     ]
    },
    {
     "name": "stderr",
     "output_type": "stream",
     "text": [
      "IOPub data rate exceeded.\n",
      "The notebook server will temporarily stop sending output\n",
      "to the client in order to avoid crashing it.\n",
      "To change this limit, set the config variable\n",
      "`--NotebookApp.iopub_data_rate_limit`.\n"
     ]
    }
   ],
   "source": [
    "from nltk.tokenize import TweetTokenizer, sent_tokenize\n",
    "nltk.download('punkt')\n",
    "\n",
    "tokenizer_words = TweetTokenizer()\n",
    "tokens_sentences = [tokenizer_words.tokenize(t) for t in \n",
    "nltk.sent_tokenize(content)]\n"
   ]
  },
  {
   "cell_type": "code",
   "execution_count": 30,
   "metadata": {},
   "outputs": [
    {
     "name": "stdout",
     "output_type": "stream",
     "text": [
      "[['UZASADNIENIE', 'Powód', '(', '...', ')', 'Sp', '.'], ['z', 'o', '.', 'o', '.'], ['Sp', '.'], ['k', '.', 'z', 'siedzibą', 'w', 'P', '.', 'wniósł', 'o', 'zwolnienie', 'spod', 'egzekucji', 'administracyjnej', 'prawa', 'majątkowego', 'przysługującego', 'powodowi', 'w', 'postaci', 'wierzytelności', 'z', 'tytułu', 'nienależnie', 'pobranego', 'podatku', 'akcyzowego', 'za', 'miesiące', 'luty', ',', 'marzec', ',', 'kwiecień', ',', 'maj', ',', 'wrzesień', 'i', 'październik', '2011', 'r', '.', 'określonego', 'w', 'decyzji', 'Naczelnika', 'Urzędy', 'Celnego', 'w', 'Z', '.', 'z', 'dnia', '6', 'lutego', '2013', 'r', '.', 'nr', '(', '...', ')', '-', '(', '...', ')', '9110-414', '/', '12/13', '/', 'DN', 'oraz', 'Dyrektora', 'Izby', 'Celnej', 'w', 'R', '.', 'z', 'dnia', '8', 'kwietnia', '2014', 'r', '.', 'nr', '(', '...', ')', '-', '(', '...', ')', '-24/13', '/', '14', ',', 'która', 'został', 'stwierdzona', 'prawomocnym', 'wyrokiem', 'Wojewódzkiego', 'Sądu', 'Administracyjnego', 'w', 'G', '.', 'z', 'dnia', '6', 'lipca', '2016', 'r', '.', 'sygn', '.'], ['akt', 'I', 'SA', '/', 'Go', '186/16', 'w', 'postaci', 'kosztów', 'egzekucyjnych', 'w', 'kwocie', '8.614', ',', '98', 'złotych', 'wynikających', 'z', 'egzekucji', 'ww', '.'], ['nienależnie', 'pobranego', 'podatku', 'akcyzowego', '.'], ['Wierzytelność', 'ta', 'została', 'zajęta', 'na', 'poczet', 'postępowania', 'zabezpieczającego', 'w', 'dniu', '14', 'października', '2016', 'roku', '.'], ['Pełnomocnik', 'powoda', 'podnosi', 'przy', 'tym', ',', 'że', 'zajęcie', 'to', 'jest', 'bezpodstawne', 'i', 'bezprawne', ',', 'albowiem', 'zajęta', 'wierzytelność', 'od', 'dnia', '19', 'lipca', '2016', 'r', '.', 'nie', 'jest', 'własnością', 'W', '.', 'K', '.', 'przeciwko', ',', 'któremu', 'organ', 'administracyjny', 'prowadzi', 'postępowanie', 'zabezpieczające', '.'], ['Nadto', ',', 'w', 'pozwie', 'zawarto', 'żądanie', 'zasądzenia', 'od', 'strony', 'pozwanej', 'na', 'rzecz', 'powódki', 'kosztów', 'procesu', ',', 'w', 'tym', 'kosztów', 'zastępstwa', 'procesowego', 'według', 'norm', 'przepisanych', '.'], ['W', 'odpowiedzi', 'na', 'pozew', 'pozwany', 'wniósł', 'o', 'oddalenie', 'powództwa', 'w', 'całości', 'oraz', 'o', 'zasądzenie', 'kosztów', 'procesu', 'w', 'tym', 'kosztów', 'zastępstwa', 'procesowego', '.']]\n"
     ]
    }
   ],
   "source": [
    "print(tokens_sentences[:10])"
   ]
  },
  {
   "cell_type": "code",
   "execution_count": 40,
   "metadata": {},
   "outputs": [],
   "source": [
    "phrases = Phrases(tokens_sentences, threshold=0.5)"
   ]
  },
  {
   "cell_type": "code",
   "execution_count": 41,
   "metadata": {
    "collapsed": true
   },
   "outputs": [],
   "source": [
    "bigram = Phraser(phrases)"
   ]
  },
  {
   "cell_type": "code",
   "execution_count": 42,
   "metadata": {},
   "outputs": [
    {
     "name": "stdout",
     "output_type": "stream",
     "text": [
      "['Mam', 'dość', 'Wojewódzkiego', 'Sądu_Administracyjnego']\n"
     ]
    }
   ],
   "source": []
  }
 ],
 "metadata": {
  "kernelspec": {
   "display_name": "Python 3",
   "language": "python",
   "name": "python3"
  },
  "language_info": {
   "codemirror_mode": {
    "name": "ipython",
    "version": 3
   },
   "file_extension": ".py",
   "mimetype": "text/x-python",
   "name": "python",
   "nbconvert_exporter": "python",
   "pygments_lexer": "ipython3",
   "version": "3.6.3"
  }
 },
 "nbformat": 4,
 "nbformat_minor": 2
}
