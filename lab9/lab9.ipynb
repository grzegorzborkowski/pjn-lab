{
 "cells": [
  {
   "cell_type": "code",
   "execution_count": 38,
   "metadata": {
    "collapsed": true
   },
   "outputs": [],
   "source": [
    "from gensim.models.word2vec import Word2Vec\n",
    "from gensim.models.phrases import Phrases, Phraser\n",
    "import os, json, tqdm, re, itertools, nltk, pprint\n",
    "from collections import Counter\n",
    "from nltk.corpus import stopwords\n"
   ]
  },
  {
   "cell_type": "code",
   "execution_count": 3,
   "metadata": {
    "collapsed": true
   },
   "outputs": [],
   "source": [
    "def read_file(file_path):\n",
    "    all_words_from_files = []\n",
    "    with open (file_path) as file:\n",
    "        json_content = json.load(file)\n",
    "        item_count = 0\n",
    "        for item in json_content:\n",
    "            if item_count < 10:\n",
    "                item_count += 1\n",
    "                text_content = re.sub(\"<.*?>\", \"\", item[\"textContent\"])\n",
    "                text_content = text_content.replace('-\\n', '')\n",
    "                text_content = text_content.replace(\"\\n\", '')\n",
    "                \n",
    "#                 print (text_content)\n",
    "#             text_content = [word for word in text_content if len(word) > 0]\n",
    "            all_words_from_files.append(text_content)\n",
    "    \n",
    "    return all_words_from_files\n",
    "       \n",
    "        \n",
    "def read_all_judgments_from_2018(path):\n",
    "    all_judgments = []\n",
    "    for filename in tqdm.tqdm(os.listdir(path)):\n",
    "        judgments = read_file(path + filename)\n",
    "        all_judgments.append(judgments)\n",
    "    return all_judgments\n",
    "\n",
    "# We need a stream of sentences\n",
    "def flatten_judgments(words):\n",
    "    chain = list(itertools.chain(*words))\n",
    "    result = []\n",
    "    for judgment in chain:\n",
    "        for word in judgment:\n",
    "            result.append(word)\n",
    "    return result\n",
    "        "
   ]
  },
  {
   "cell_type": "code",
   "execution_count": 4,
   "metadata": {},
   "outputs": [
    {
     "name": "stderr",
     "output_type": "stream",
     "text": [
      "100%|██████████| 11/11 [00:00<00:00, 23.57it/s]\n"
     ]
    }
   ],
   "source": [
    "words = read_all_judgments_from_2018(\"../data_filtered_2/\")"
   ]
  },
  {
   "cell_type": "code",
   "execution_count": 5,
   "metadata": {
    "collapsed": true
   },
   "outputs": [],
   "source": [
    "content = []\n",
    "for judgment in words:\n",
    "    for word in judgment:\n",
    "        content.append(word)\n",
    "content = \" \".join(content)"
   ]
  },
  {
   "cell_type": "code",
   "execution_count": null,
   "metadata": {},
   "outputs": [],
   "source": []
  },
  {
   "cell_type": "code",
   "execution_count": 26,
   "metadata": {},
   "outputs": [
    {
     "name": "stdout",
     "output_type": "stream",
     "text": [
      "[nltk_data] Downloading package punkt to /home/grzegorz/nltk_data...\n",
      "[nltk_data]   Package punkt is already up-to-date!\n"
     ]
    }
   ],
   "source": [
    "from nltk.tokenize import TweetTokenizer, sent_tokenize\n",
    "nltk.download('punkt')\n",
    "\n",
    "tokenizer_words = TweetTokenizer(preserve_case=False)\n",
    "tokens_sentences = [tokenizer_words.tokenize(t) for t in nltk.sent_tokenize(content)]\n"
   ]
  },
  {
   "cell_type": "code",
   "execution_count": 27,
   "metadata": {},
   "outputs": [
    {
     "name": "stdout",
     "output_type": "stream",
     "text": [
      "[['uzasadnienie', 'powód', '(', '...', ')', 'sp', '.'], ['z', 'o', '.', 'o', '.'], ['sp', '.'], ['k', '.', 'z', 'siedzibą', 'w', 'p', '.', 'wniósł', 'o', 'zwolnienie', 'spod', 'egzekucji', 'administracyjnej', 'prawa', 'majątkowego', 'przysługującego', 'powodowi', 'w', 'postaci', 'wierzytelności', 'z', 'tytułu', 'nienależnie', 'pobranego', 'podatku', 'akcyzowego', 'za', 'miesiące', 'luty', ',', 'marzec', ',', 'kwiecień', ',', 'maj', ',', 'wrzesień', 'i', 'październik', '2011', 'r', '.', 'określonego', 'w', 'decyzji', 'naczelnika', 'urzędy', 'celnego', 'w', 'z', '.', 'z', 'dnia', '6', 'lutego', '2013', 'r', '.', 'nr', '(', '...', ')', '-', '(', '...', ')', '9110-414', '/', '12/13', '/', 'dn', 'oraz', 'dyrektora', 'izby', 'celnej', 'w', 'r', '.', 'z', 'dnia', '8', 'kwietnia', '2014', 'r', '.', 'nr', '(', '...', ')', '-', '(', '...', ')', '-24/13', '/', '14', ',', 'która', 'został', 'stwierdzona', 'prawomocnym', 'wyrokiem', 'wojewódzkiego', 'sądu', 'administracyjnego', 'w', 'g', '.', 'z', 'dnia', '6', 'lipca', '2016', 'r', '.', 'sygn', '.'], ['akt', 'i', 'sa', '/', 'go', '186/16', 'w', 'postaci', 'kosztów', 'egzekucyjnych', 'w', 'kwocie', '8.614', ',', '98', 'złotych', 'wynikających', 'z', 'egzekucji', 'ww', '.'], ['nienależnie', 'pobranego', 'podatku', 'akcyzowego', '.'], ['wierzytelność', 'ta', 'została', 'zajęta', 'na', 'poczet', 'postępowania', 'zabezpieczającego', 'w', 'dniu', '14', 'października', '2016', 'roku', '.'], ['pełnomocnik', 'powoda', 'podnosi', 'przy', 'tym', ',', 'że', 'zajęcie', 'to', 'jest', 'bezpodstawne', 'i', 'bezprawne', ',', 'albowiem', 'zajęta', 'wierzytelność', 'od', 'dnia', '19', 'lipca', '2016', 'r', '.', 'nie', 'jest', 'własnością', 'w', '.', 'k', '.', 'przeciwko', ',', 'któremu', 'organ', 'administracyjny', 'prowadzi', 'postępowanie', 'zabezpieczające', '.'], ['nadto', ',', 'w', 'pozwie', 'zawarto', 'żądanie', 'zasądzenia', 'od', 'strony', 'pozwanej', 'na', 'rzecz', 'powódki', 'kosztów', 'procesu', ',', 'w', 'tym', 'kosztów', 'zastępstwa', 'procesowego', 'według', 'norm', 'przepisanych', '.'], ['w', 'odpowiedzi', 'na', 'pozew', 'pozwany', 'wniósł', 'o', 'oddalenie', 'powództwa', 'w', 'całości', 'oraz', 'o', 'zasądzenie', 'kosztów', 'procesu', 'w', 'tym', 'kosztów', 'zastępstwa', 'procesowego', '.']]\n"
     ]
    }
   ],
   "source": [
    "print(tokens_sentences[:10])"
   ]
  },
  {
   "cell_type": "code",
   "execution_count": 52,
   "metadata": {
    "collapsed": true
   },
   "outputs": [],
   "source": [
    "bigrams = Phrases(tokens_sentences, threshold=10.0)"
   ]
  },
  {
   "cell_type": "code",
   "execution_count": 59,
   "metadata": {},
   "outputs": [
    {
     "name": "stdout",
     "output_type": "stream",
     "text": [
      "b'k_.' 39166\n",
      "b',_\\xc5\\xbce' 20844\n",
      "b'art_.' 20079\n",
      "b'(_...' 15453\n",
      "b'..._)' 15357\n",
      "b'r_.' 15096\n",
      "b'._,' 13399\n",
      "b'm_.' 12940\n",
      "b'p_.' 11646\n",
      "b'._(' 11637\n",
      "b'z_dnia' 11213\n",
      "b')_.' 10722\n",
      "b')_,' 9391\n",
      "b',_a' 8534\n",
      "b'c_.' 8331\n",
      "b'._p' 8292\n",
      "b'._k' 8239\n",
      "b'j_.' 8190\n",
      "b'\\xc2\\xa7_1' 8064\n",
      "b'1_)' 7987\n",
      "b',_i\\xc5\\xbc' 7531\n",
      "b',_w' 7519\n",
      "b'(_1' 7301\n",
      "b'._c' 7169\n",
      "b'a_.' 6948\n",
      "b'._w' 6893\n",
      "b's_.' 6693\n",
      "b'w_dniu' 6282\n",
      "b'd_.' 6208\n",
      "b'._n' 5914\n",
      "b'2017_roku' 5829\n",
      "b'ust_.' 5720\n",
      "b'na_podstawie' 5648\n",
      "b'n_.' 5578\n",
      "b'w_.' 5311\n",
      "b'z_art' 4887\n",
      "b'roku_,' 4842\n",
      "b',_k' 4737\n",
      "b'w_sprawie' 4639\n",
      "b'do_pracy' 4156\n",
      "b'2015_roku' 4093\n",
      "b'w_tym' 4033\n",
      "b')_w' 3975\n",
      "b'._m' 3710\n",
      "b',_z' 3537\n",
      "b'podstawie_art' 3518\n",
      "b',_-' 3513\n",
      "b',_nie' 3260\n",
      "b'g_.' 3212\n",
      "b'1_k' 3175\n",
      "b'na_k' 3157\n",
      "b'._d' 3016\n",
      "b',_co' 2998\n",
      "b'zw_.' 2970\n",
      "b'w_okresie' 2928\n",
      "b'\\xe2\\x80\\x93_k' 2907\n",
      "b'w_zw' 2882\n",
      "b'._s' 2861\n",
      "b'ubezpiecze\\xc5\\x84_spo\\xc5\\x82ecznych' 2854\n",
      "b',_na' 2804\n",
      "b'od_dnia' 2674\n",
      "b'2016_roku' 2673\n",
      "b'z\\xc5\\x82_,' 2617\n",
      "b'dzia\\xc5\\x82alno\\xc5\\x9bci_gospodarczej' 2595\n",
      "b'1_kk' 2532\n",
      "b'(_k' 2511\n",
      "b'zgodnie_z' 2491\n",
      "b'._i' 2465\n",
      "b'w_postaci' 2376\n",
      "b'poz_.' 2355\n",
      "b',_czy' 2315\n",
      "b'na_rzecz' 2292\n",
      "b',_kt\\xc3\\xb3re' 2272\n",
      "b'tj_.' 2266\n",
      "b'si\\xc4\\x99_do' 2265\n",
      "b'si\\xc4\\x99_w' 2239\n",
      "b's\\xc4\\x85d_rejonowy' 2238\n",
      "b',_poz' 2202\n",
      "b'._na' 2160\n",
      "b'z\\xc5\\x82_.' 2152\n",
      "b',_jak' 2151\n",
      "b'u_.' 2109\n",
      "b'si\\xc4\\x99_z' 2099\n",
      "b'f_.' 2068\n",
      "b'._)' 2041\n",
      "b'v_.' 2041\n",
      "b'2014_roku' 2038\n",
      "b',_kt\\xc3\\xb3ry' 2023\n",
      "b'protok\\xc3\\xb3\\xc5\\x82_z' 2010\n",
      "b'pozbawienia_wolno\\xc5\\x9bci' 1994\n",
      "b'w_zakresie' 1992\n",
      "b'pracy_,' 1959\n",
      "b',_ale' 1954\n",
      "b'w_wysoko\\xc5\\x9bci' 1939\n",
      "b'dz_.' 1935\n",
      "b'w_ruchu' 1930\n",
      "b'2015r_.' 1927\n",
      "b'w_art' 1906\n",
      "b'w_ocenie' 1897\n",
      "b'o_prac\\xc4\\x99' 1842\n"
     ]
    }
   ],
   "source": [
    "bigram_counter = Counter()\n",
    "for key in bigrams.vocab.keys():\n",
    "    key_str = str(key)\n",
    "    splited = key_str.split(\"_\")\n",
    "    if len(splited)>1:\n",
    "        bigram_counter[key] += bigrams.vocab[key]\n",
    "\n",
    "for key, counts in bigram_counter.most_common(100):\n",
    "    print (str(key) + \" \" + str(counts))"
   ]
  },
  {
   "cell_type": "code",
   "execution_count": 22,
   "metadata": {},
   "outputs": [
    {
     "name": "stderr",
     "output_type": "stream",
     "text": [
      "/home/grzegorz/anaconda2/envs/py3/lib/python3.6/site-packages/gensim/models/phrases.py:494: UserWarning: For a faster implementation, use the gensim.models.phrases.Phraser class\n",
      "  warnings.warn(\"For a faster implementation, use the gensim.models.phrases.Phraser class\")\n"
     ]
    }
   ],
   "source": [
    "trigrams = Phrases(phrases[tokens_sentences], threshold=1.0)\n"
   ]
  },
  {
   "cell_type": "code",
   "execution_count": 64,
   "metadata": {},
   "outputs": [
    {
     "ename": "NameError",
     "evalue": "name 'unicode' is not defined",
     "output_type": "error",
     "traceback": [
      "\u001b[0;31m---------------------------------------------------------------------------\u001b[0m",
      "\u001b[0;31mNameError\u001b[0m                                 Traceback (most recent call last)",
      "\u001b[0;32m<ipython-input-64-b2f653f83d6c>\u001b[0m in \u001b[0;36m<module>\u001b[0;34m()\u001b[0m\n\u001b[1;32m      7\u001b[0m \u001b[0;34m\u001b[0m\u001b[0m\n\u001b[1;32m      8\u001b[0m \u001b[0;32mfor\u001b[0m \u001b[0mkey\u001b[0m\u001b[0;34m,\u001b[0m \u001b[0mcounts\u001b[0m \u001b[0;32min\u001b[0m \u001b[0mtrigram_counter\u001b[0m\u001b[0;34m.\u001b[0m\u001b[0mmost_common\u001b[0m\u001b[0;34m(\u001b[0m\u001b[0;36m100\u001b[0m\u001b[0;34m)\u001b[0m\u001b[0;34m:\u001b[0m\u001b[0;34m\u001b[0m\u001b[0m\n\u001b[0;32m----> 9\u001b[0;31m     \u001b[0mprint\u001b[0m \u001b[0;34m(\u001b[0m\u001b[0mstr\u001b[0m\u001b[0;34m(\u001b[0m\u001b[0municode\u001b[0m\u001b[0;34m(\u001b[0m\u001b[0mkey\u001b[0m\u001b[0;34m,\u001b[0m \u001b[0;34m\"utf-8\"\u001b[0m\u001b[0;34m)\u001b[0m\u001b[0;34m)\u001b[0m \u001b[0;34m+\u001b[0m \u001b[0;34m\" \"\u001b[0m \u001b[0;34m+\u001b[0m \u001b[0mstr\u001b[0m\u001b[0;34m(\u001b[0m\u001b[0mcounts\u001b[0m\u001b[0;34m)\u001b[0m\u001b[0;34m)\u001b[0m\u001b[0;34m\u001b[0m\u001b[0m\n\u001b[0m",
      "\u001b[0;31mNameError\u001b[0m: name 'unicode' is not defined"
     ]
    }
   ],
   "source": [
    "trigram_counter = Counter()\n",
    "for key in trigrams.vocab.keys():\n",
    "    key_str = str(key)\n",
    "    splited = key_str.split(\"_\")\n",
    "    if len(splited)>2:\n",
    "        trigram_counter[key] += trigrams.vocab[key]\n",
    "\n",
    "for key, counts in trigram_counter.most_common(100):\n",
    "    print (str(unicode(key, \"utf-8\")) + \" \" + str(counts))"
   ]
  },
  {
   "cell_type": "code",
   "execution_count": 61,
   "metadata": {},
   "outputs": [
    {
     "name": "stderr",
     "output_type": "stream",
     "text": [
      "/home/grzegorz/anaconda2/envs/py3/lib/python3.6/site-packages/gensim/models/phrases.py:494: UserWarning: For a faster implementation, use the gensim.models.phrases.Phraser class\n",
      "  warnings.warn(\"For a faster implementation, use the gensim.models.phrases.Phraser class\")\n"
     ]
    }
   ],
   "source": [
    "sentences_transformed = [trigrams[sentence] for sentence in tokens_sentences]"
   ]
  },
  {
   "cell_type": "code",
   "execution_count": 63,
   "metadata": {},
   "outputs": [
    {
     "name": "stdout",
     "output_type": "stream",
     "text": [
      "[['uzasadnienie', 'powód', '(_...', ')_sp', '.'], ['z', 'o', '.', 'o', '.'], ['sp', '.'], ['k', '.', 'z_siedzibą', 'w', 'p', '.', 'wniósł_o', 'zwolnienie', 'spod_egzekucji', 'administracyjnej', 'prawa', 'majątkowego', 'przysługującego', 'powodowi', 'w_postaci', 'wierzytelności', 'z_tytułu', 'nienależnie_pobranego', 'podatku', 'akcyzowego', 'za_miesiące', 'luty', ',', 'marzec', ',', 'kwiecień', ',', 'maj', ',', 'wrzesień_i', 'październik_2011', 'r', '.', 'określonego_w', 'decyzji', 'naczelnika', 'urzędy', 'celnego', 'w', 'z', '.', 'z_dnia', '6', 'lutego_2013', 'r', '.', 'nr_(', '..._)', '-', '(_...', ')', '9110-414', '/', '12/13', '/', 'dn', 'oraz', 'dyrektora', 'izby', 'celnej', 'w', 'r', '.', 'z_dnia', '8', 'kwietnia_2014', 'r', '.', 'nr_(', '..._)', '-', '(_...', ')', '-24/13', '/', '14', ',', 'która', 'został', 'stwierdzona', 'prawomocnym_wyrokiem', 'wojewódzkiego', 'sądu', 'administracyjnego', 'w', 'g', '.', 'z_dnia', '6', 'lipca_2016', 'r', '.', 'sygn', '.'], ['akt', 'i', 'sa', '/', 'go', '186/16', 'w_postaci', 'kosztów_egzekucyjnych', 'w_kwocie', '8.614', ',', '98', 'złotych', 'wynikających_z', 'egzekucji', 'ww', '.'], ['nienależnie_pobranego', 'podatku', 'akcyzowego', '.'], ['wierzytelność', 'ta_została', 'zajęta', 'na_poczet', 'postępowania', 'zabezpieczającego', 'w_dniu', '14', 'października_2016', 'roku', '.'], ['pełnomocnik', 'powoda', 'podnosi', 'przy_tym', ',', 'że', 'zajęcie', 'to', 'jest', 'bezpodstawne', 'i', 'bezprawne', ',', 'albowiem', 'zajęta', 'wierzytelność', 'od_dnia', '19', 'lipca_2016', 'r', '.', 'nie_jest', 'własnością', 'w', '.', 'k', '.', 'przeciwko', ',', 'któremu', 'organ', 'administracyjny', 'prowadzi', 'postępowanie', 'zabezpieczające', '.'], ['nadto', ',', 'w_pozwie', 'zawarto', 'żądanie', 'zasądzenia_od', 'strony_pozwanej', 'na_rzecz', 'powódki', 'kosztów_procesu', ',', 'w', 'tym', 'kosztów_zastępstwa', 'procesowego', 'według_norm', 'przepisanych', '.'], ['w_odpowiedzi', 'na', 'pozew', 'pozwany', 'wniósł_o', 'oddalenie_powództwa', 'w_całości', 'oraz', 'o_zasądzenie', 'kosztów_procesu', 'w', 'tym', 'kosztów_zastępstwa', 'procesowego', '.']]\n"
     ]
    }
   ],
   "source": [
    "print(sentences_transformed[:10])"
   ]
  }
 ],
 "metadata": {
  "kernelspec": {
   "display_name": "Python 3",
   "language": "python",
   "name": "python3"
  },
  "language_info": {
   "codemirror_mode": {
    "name": "ipython",
    "version": 3
   },
   "file_extension": ".py",
   "mimetype": "text/x-python",
   "name": "python",
   "nbconvert_exporter": "python",
   "pygments_lexer": "ipython3",
   "version": "3.6.3"
  }
 },
 "nbformat": 4,
 "nbformat_minor": 2
}
