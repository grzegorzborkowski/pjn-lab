{
 "cells": [
  {
   "cell_type": "code",
   "execution_count": 104,
   "metadata": {
    "collapsed": true
   },
   "outputs": [],
   "source": [
    "import json, tqdm, os, re, string, requests, pprint, xml.etree.ElementTree\n",
    "import collections, seaborn, pickle, os\n",
    "import functools, itertools\n",
    "import matplotlib.pyplot as plt\n",
    "import numpy"
   ]
  },
  {
   "cell_type": "code",
   "execution_count": 2,
   "metadata": {
    "collapsed": true
   },
   "outputs": [],
   "source": [
    "def read_file(file_path):\n",
    "    all_judgments_from_file = []\n",
    "    with open (file_path) as file:\n",
    "        json_content = json.load(file)\n",
    "        item_count = 0\n",
    "        for item in json_content:\n",
    "            item_count += 1\n",
    "            text_content = re.sub(\"<.*?>\", \"\", item[\"textContent\"])\n",
    "            text_content = text_content.replace('-\\n', '')\n",
    "            text_content = text_content.replace(\"\\n\", '')\n",
    "            all_judgments_from_file.append((text_content, item[\"judgmentDate\"]))\n",
    "    return all_judgments_from_file\n",
    "       \n",
    "        \n",
    "def read_all_judgments_from_2018():\n",
    "    all_judgments = []\n",
    "    for filename in tqdm.tqdm(os.listdir(\"data/\")):\n",
    "        judgments = read_file(\"data/\" + filename)\n",
    "        all_judgments.append(judgments)\n",
    "    flatten_judgments = [item for sublist in all_judgments for item in sublist]\n",
    "    return flatten_judgments\n",
    "\n",
    "def take_oldest_judgments(judgments, how_many=100):\n",
    "    judgments_sorted = sorted(judgments, key=lambda x: x[1])\n",
    "    judgments_sorted = [judgment[0] for judgment in judgments_sorted]\n",
    "    return judgments_sorted[:how_many]"
   ]
  },
  {
   "cell_type": "code",
   "execution_count": 3,
   "metadata": {},
   "outputs": [
    {
     "name": "stderr",
     "output_type": "stream",
     "text": [
      "100%|██████████| 11/11 [00:01<00:00,  9.47it/s]\n"
     ]
    }
   ],
   "source": [
    "judgments = read_all_judgments_from_2018()"
   ]
  },
  {
   "cell_type": "code",
   "execution_count": 4,
   "metadata": {
    "collapsed": true
   },
   "outputs": [],
   "source": [
    "judgments = take_oldest_judgments(judgments)"
   ]
  },
  {
   "cell_type": "code",
   "execution_count": 5,
   "metadata": {
    "collapsed": true
   },
   "outputs": [],
   "source": [
    "URL = \"http://ws.clarin-pl.eu/nlprest2/base/process\""
   ]
  },
  {
   "cell_type": "code",
   "execution_count": 6,
   "metadata": {
    "collapsed": true
   },
   "outputs": [],
   "source": [
    "def process_content(content):\n",
    "    obj = {\n",
    "        \"lpmn\": 'any2txt|wcrft2|liner2({\"model\":\"n82\"})',\n",
    "        \"text\": content, \"user\" : \"pjn@agh.edu.pl\"\n",
    "    }\n",
    "    decoder = json.JSONEncoder()\n",
    "    decoded_obj = decoder.encode(obj)\n",
    "    req = requests.post(URL, data=decoded_obj)\n",
    "  \n",
    "    return xml.etree.ElementTree.fromstring(req.text), req.text"
   ]
  },
  {
   "cell_type": "code",
   "execution_count": 7,
   "metadata": {
    "collapsed": true
   },
   "outputs": [],
   "source": [
    "def extract_entities_from_xml(req_xml, result_dict):\n",
    "    for item in req_xml.iter():\n",
    "        if item.tag == 'tok':\n",
    "            for child in item.getchildren():\n",
    "                if child.tag == 'orth':\n",
    "                    content = child.text\n",
    "                if child.tag == 'ann' and child.text == '1':\n",
    "                    entity = child.attrib['chan']\n",
    "                    entities[(content, entity)] += 1"
   ]
  },
  {
   "cell_type": "code",
   "execution_count": 8,
   "metadata": {},
   "outputs": [
    {
     "name": "stdout",
     "output_type": "stream",
     "text": [
      "('<?xml version=\"1.0\" encoding=\"UTF-8\"?>\\n'\n",
      " '<!DOCTYPE chunkList SYSTEM \"ccl.dtd\">\\n'\n",
      " '<chunkList>\\n'\n",
      " ' <chunk type=\"p\" id=\"ch1\">\\n'\n",
      " '  <sentence id=\"s1\">\\n'\n",
      " '   <tok>\\n'\n",
      " '    <orth>Władysław</orth>\\n'\n",
      " '    <lex '\n",
      " 'disamb=\"1\"><base>Władysław</base><ctag>subst:sg:nom:m1</ctag></lex>\\n'\n",
      " '    <ann chan=\"nam_liv_person\">1</ann>\\n'\n",
      " '    <ann chan=\"nam_loc_gpe_country\">0</ann>\\n'\n",
      " '   </tok>\\n'\n",
      " '   <tok>\\n'\n",
      " '    <orth>Jagiełło</orth>\\n'\n",
      " '    <lex disamb=\"1\"><base>Jagiełło</base><ctag>subst:sg:nom:m1</ctag></lex>\\n'\n",
      " '    <ann chan=\"nam_liv_person\">1</ann>\\n'\n",
      " '    <an')\n"
     ]
    }
   ],
   "source": [
    "req_xml, req_text = process_content(\"Władysław Jagiełło urodził się na Litwie. Wyjechał potem do Lwowa.\")\n",
    "pprint.pprint(req_text[:500])"
   ]
  },
  {
   "cell_type": "code",
   "execution_count": 9,
   "metadata": {
    "collapsed": true
   },
   "outputs": [],
   "source": [
    "entities = collections.defaultdict(int)"
   ]
  },
  {
   "cell_type": "code",
   "execution_count": 10,
   "metadata": {
    "collapsed": true
   },
   "outputs": [],
   "source": [
    "# extract_entities_from_xml(req_xml, entities)"
   ]
  },
  {
   "cell_type": "code",
   "execution_count": 11,
   "metadata": {},
   "outputs": [
    {
     "data": {
      "text/plain": [
       "defaultdict(int, {})"
      ]
     },
     "execution_count": 11,
     "metadata": {},
     "output_type": "execute_result"
    }
   ],
   "source": [
    "entities"
   ]
  },
  {
   "cell_type": "code",
   "execution_count": 12,
   "metadata": {
    "collapsed": true
   },
   "outputs": [],
   "source": [
    "def get_last_pickled_entity_idx():\n",
    "    files = os.listdir('entities_dumps/')\n",
    "    files = [file for file in files if \"pickle\" in file]\n",
    "    if len(files)>0:\n",
    "        last_file = sorted([int(file.split(\".\")[0]) for file in files], reverse=True)[0]\n",
    "    else:\n",
    "        last_file = 0\n",
    "    return last_file"
   ]
  },
  {
   "cell_type": "code",
   "execution_count": 13,
   "metadata": {
    "collapsed": true
   },
   "outputs": [],
   "source": [
    "def process_judgments():\n",
    "    last_file = get_last_pickled_entity_idx()\n",
    "    print (\"Proceeding files from\" + str(last_file))\n",
    "    ###############################################################################\n",
    "    for idx, judgment in tqdm.tqdm(enumerate(judgments[last_file:])):\n",
    "        xml_content, text = process_content(judgment)\n",
    "        extract_entities_from_xml(xml_content, entities)\n",
    "        with open(\"entities_dumps/\" + str(idx) + \".pickle\", 'wb') as file:\n",
    "            pickle.dump(entities, file) "
   ]
  },
  {
   "cell_type": "code",
   "execution_count": 14,
   "metadata": {},
   "outputs": [],
   "source": [
    "# process_judgments()"
   ]
  },
  {
   "cell_type": "code",
   "execution_count": 87,
   "metadata": {},
   "outputs": [],
   "source": [
    "def statistics_for_categories(merge_into_major_categories):\n",
    "    idx = get_last_pickled_entity_idx()\n",
    "    file_name = \"entities_dumps/\" + str(idx) + \".pickle\"\n",
    "    with open(file_name, \"rb\") as file:\n",
    "        entities = pickle.load(file)\n",
    "    categories = entities.items()\n",
    "    categories = [(category[0][1], category[1]) for category in categories]\n",
    "    if merge_into_major_categories:\n",
    "         categories = [\n",
    "            (\"_\".join(category[0].split(\"_\")[:2]),\n",
    "             category[1]) for category in categories]\n",
    "    \n",
    "    product_dict = collections.defaultdict(int)\n",
    "    for category in categories:\n",
    "        product_dict[category[0]] += category[1]\n",
    "    \n",
    "    keys_dict, values_dict = product_dict.keys(), product_dict.values()\n",
    "    pprint.pprint(list(zip(keys_dict, values_dict)))\n",
    "    values = list(values_dict)\n",
    "    keys = list(keys_dict)\n",
    "    plt.figure(figsize=(25,10))\n",
    "    plt.bar(numpy.arange(0, len(values)), values)\n",
    "    \n",
    "    plt.xticks(numpy.arange(0, len(values)), keys)\n",
    "    plt.show()"
   ]
  },
  {
   "cell_type": "code",
   "execution_count": 88,
   "metadata": {},
   "outputs": [
    {
     "name": "stdout",
     "output_type": "stream",
     "text": [
      "[('nam_org_company', 38),\n",
      " ('nam_org_institution', 124),\n",
      " ('nam_oth_currency', 50),\n",
      " ('nam_liv_person', 20),\n",
      " ('nam_loc_gpe_city', 6),\n",
      " ('nam_liv_god', 2),\n",
      " ('nam_pro_title_document', 49),\n",
      " ('nam_pro_media_periodic', 14),\n",
      " ('nam_pro_brand', 3),\n",
      " ('nam_pro_software', 1),\n",
      " ('nam_loc_gpe_country', 7),\n",
      " ('nam_org_organization', 2),\n",
      " ('nam_fac_goe', 1)]\n"
     ]
    },
    {
     "data": {
      "image/png": "[encoded data removed]",
      "text/plain": [
       "<Figure size 1800x720 with 1 Axes>"
      ]
     },
     "metadata": {},
     "output_type": "display_data"
    }
   ],
   "source": [
    "statistics_for_categories(merge_into_major_categories=False)"
   ]
  },
  {
   "cell_type": "code",
   "execution_count": 89,
   "metadata": {},
   "outputs": [
    {
     "name": "stdout",
     "output_type": "stream",
     "text": [
      "[('nam_org', 164),\n",
      " ('nam_oth', 50),\n",
      " ('nam_liv', 22),\n",
      " ('nam_loc', 13),\n",
      " ('nam_pro', 67),\n",
      " ('nam_fac', 1)]\n"
     ]
    },
    {
     "data": {
      "image/png": "[encoded data removed]",
      "text/plain": [
       "<Figure size 1800x720 with 1 Axes>"
      ]
     },
     "metadata": {},
     "output_type": "display_data"
    }
   ],
   "source": [
    "statistics_for_categories(merge_into_major_categories=True)"
   ]
  },
  {
   "cell_type": "code",
   "execution_count": 102,
   "metadata": {},
   "outputs": [
    {
     "name": "stdout",
     "output_type": "stream",
     "text": [
      "[(('zł', 'nam_oth_currency'), 29),\n",
      " (('.', 'nam_org_company'), 13),\n",
      " (('Sąd', 'nam_org_institution'), 11),\n",
      " (('złotych', 'nam_oth_currency'), 10),\n",
      " (('Państwa', 'nam_org_institution'), 10),\n",
      " (('euro', 'nam_oth_currency'), 10),\n",
      " (('Skarbu', 'nam_org_institution'), 8),\n",
      " (('Sądu', 'nam_org_institution'), 7),\n",
      " (('Urzędu', 'nam_org_institution'), 7),\n",
      " (('.', 'nam_pro_media_periodic'), 7),\n",
      " (('Sp', 'nam_org_company'), 6),\n",
      " (('o', 'nam_org_company'), 6),\n",
      " (('w', 'nam_org_institution'), 5),\n",
      " (('.', 'nam_liv_person'), 5),\n",
      " (('Skarbowego', 'nam_org_institution'), 5),\n",
      " (('Naczelnika', 'nam_org_institution'), 4),\n",
      " (('Administracyjnego', 'nam_org_institution'), 4),\n",
      " (('Rejonowy', 'nam_org_institution'), 4),\n",
      " (('I', 'nam_org_institution'), 4),\n",
      " (('Instancji', 'nam_org_institution'), 4),\n",
      " (('Dz', 'nam_pro_media_periodic'), 4),\n",
      " (('z', 'nam_pro_title_document'), 4),\n",
      " (('dnia', 'nam_pro_title_document'), 4),\n",
      " (('J', 'nam_liv_person'), 4),\n",
      " (('.', 'nam_pro_title_document'), 4),\n",
      " (('Szwecji', 'nam_loc_gpe_country'), 4),\n",
      " (('z', 'nam_org_company'), 3),\n",
      " (('Celnego', 'nam_org_institution'), 3),\n",
      " (('Z', 'nam_org_institution'), 3),\n",
      " (('Wojewódzkiego', 'nam_org_institution'), 3),\n",
      " (('U', 'nam_pro_media_periodic'), 3),\n",
      " (('w', 'nam_pro_title_document'), 3),\n",
      " (('Komendy', 'nam_org_institution'), 3),\n",
      " (('Powiatowej', 'nam_org_institution'), 3),\n",
      " (('Policji', 'nam_org_institution'), 3),\n",
      " (('B', 'nam_liv_person'), 3),\n",
      " (('k', 'nam_org_company'), 2),\n",
      " (('Wojewódzki', 'nam_org_institution'), 2),\n",
      " (('Administracyjny', 'nam_org_institution'), 2),\n",
      " (('Gorzowie', 'nam_loc_gpe_city'), 2),\n",
      " (('Wlkp', 'nam_loc_gpe_city'), 2),\n",
      " (('Skarb', 'nam_org_institution'), 2),\n",
      " (('Ministra', 'nam_pro_title_document'), 2),\n",
      " (('Sprawiedliwości', 'nam_pro_title_document'), 2),\n",
      " (('o', 'nam_pro_title_document'), 2),\n",
      " (('sprawach', 'nam_pro_title_document'), 2),\n",
      " (('Samorządowego', 'nam_org_institution'), 2),\n",
      " (('Kolegium', 'nam_org_institution'), 2),\n",
      " (('Odwoławczego', 'nam_org_institution'), 2),\n",
      " (('Grupa', 'nam_org_company'), 2),\n",
      " (('SA', 'nam_org_institution'), 2),\n",
      " (('r', 'nam_pro_title_document'), 2),\n",
      " (('Hiszpanii', 'nam_loc_gpe_country'), 2),\n",
      " (('Najwyższego', 'nam_org_institution'), 2),\n",
      " (('Urzędy', 'nam_org_institution'), 1),\n",
      " (('we', 'nam_org_institution'), 1),\n",
      " (('Wschowie', 'nam_org_institution'), 1),\n",
      " (('S', 'nam_liv_person'), 1),\n",
      " (('G', 'nam_liv_person'), 1),\n",
      " (('Izbę', 'nam_org_institution'), 1),\n",
      " (('Celną', 'nam_org_institution'), 1),\n",
      " (('Administracyjnej', 'nam_org_institution'), 1),\n",
      " (('Skarbowej', 'nam_org_institution'), 1),\n",
      " (('K', 'nam_org_company'), 1),\n",
      " (('Spółka', 'nam_liv_person'), 1),\n",
      " (('Komandytowa', 'nam_liv_person'), 1),\n",
      " (('Pana', 'nam_liv_god'), 1),\n",
      " (('Spółki', 'nam_liv_person'), 1),\n",
      " (('Sądowi', 'nam_org_institution'), 1),\n",
      " (('Okręgowy', 'nam_org_institution'), 1),\n",
      " (('złote', 'nam_oth_currency'), 1),\n",
      " (('Wierzyciela', 'nam_liv_god'), 1),\n",
      " (('Odwoławczy', 'nam_org_institution'), 1),\n",
      " (('Rozporządzenia', 'nam_pro_title_document'), 1),\n",
      " (('Ustawy', 'nam_pro_title_document'), 1),\n",
      " (('kosztach', 'nam_pro_title_document'), 1),\n",
      " (('sądowych', 'nam_pro_title_document'), 1),\n",
      " (('cywilnych', 'nam_pro_title_document'), 1),\n",
      " (('28', 'nam_pro_title_document'), 1),\n",
      " (('lipca', 'nam_pro_title_document'), 1),\n",
      " (('2005', 'nam_pro_title_document'), 1),\n",
      " (('X', 'nam_pro_brand'), 1),\n",
      " (('C', 'nam_pro_brand'), 1),\n",
      " (('1992', 'nam_pro_brand'), 1),\n",
      " (('Olsztynie', 'nam_org_institution'), 1),\n",
      " (('Wrocławiu', 'nam_loc_gpe_city'), 1),\n",
      " (('UZASADNIENIE', 'nam_org_institution'), 1),\n",
      " (('Zakładzie', 'nam_org_institution'), 1),\n",
      " (('Karnym', 'nam_org_institution'), 1),\n",
      " (('Z', 'nam_liv_person'), 1),\n",
      " (('Policji', 'nam_org_company'), 1),\n",
      " (('P', 'nam_org_company'), 1),\n",
      " (('J', 'nam_org_company'), 1),\n",
      " (('Białymstoku', 'nam_org_institution'), 1),\n",
      " (('ustawy', 'nam_pro_title_document'), 1),\n",
      " (('23', 'nam_pro_title_document'), 1),\n",
      " (('06', 'nam_pro_title_document'), 1),\n",
      " (('1973', 'nam_pro_title_document'), 1),\n",
      " (('opłatach', 'nam_pro_title_document'), 1),\n",
      " (('karnych', 'nam_pro_title_document'), 1)]\n"
     ]
    }
   ],
   "source": [
    "idx = get_last_pickled_entity_idx()\n",
    "file_name = \"entities_dumps/\" + str(idx) + \".pickle\"\n",
    "with open(file_name, \"rb\") as file:\n",
    "    entities = pickle.load(file)\n",
    "elements = list(entities.items())\n",
    "elements = sorted(elements, key=lambda x: x[1], reverse=True)\n",
    "pprint.pprint(elements[:100])"
   ]
  },
  {
   "cell_type": "code",
   "execution_count": 151,
   "metadata": {},
   "outputs": [
    {
     "name": "stdout",
     "output_type": "stream",
     "text": [
      "(('.', 'nam_pro'), 7) nam_pro\n",
      "(('Dz', 'nam_pro'), 4) nam_pro\n",
      "(('z', 'nam_pro'), 4) nam_pro\n",
      "(('dnia', 'nam_pro'), 4) nam_pro\n",
      "(('.', 'nam_pro'), 4) nam_pro\n",
      "(('U', 'nam_pro'), 3) nam_pro\n",
      "(('w', 'nam_pro'), 3) nam_pro\n",
      "(('Ministra', 'nam_pro'), 2) nam_pro\n",
      "(('Sprawiedliwości', 'nam_pro'), 2) nam_pro\n",
      "(('o', 'nam_pro'), 2) nam_pro\n",
      "##################\n",
      "(('zł', 'nam_oth'), 29) nam_oth\n",
      "(('złotych', 'nam_oth'), 10) nam_oth\n",
      "(('euro', 'nam_oth'), 10) nam_oth\n",
      "(('złote', 'nam_oth'), 1) nam_oth\n",
      "##################\n",
      "(('.', 'nam_org'), 13) nam_org\n",
      "(('Sąd', 'nam_org'), 11) nam_org\n",
      "(('Państwa', 'nam_org'), 10) nam_org\n",
      "(('Skarbu', 'nam_org'), 8) nam_org\n",
      "(('Sądu', 'nam_org'), 7) nam_org\n",
      "(('Urzędu', 'nam_org'), 7) nam_org\n",
      "(('Sp', 'nam_org'), 6) nam_org\n",
      "(('o', 'nam_org'), 6) nam_org\n",
      "(('w', 'nam_org'), 5) nam_org\n",
      "(('Skarbowego', 'nam_org'), 5) nam_org\n",
      "##################\n",
      "(('Szwecji', 'nam_loc'), 4) nam_loc\n",
      "(('Gorzowie', 'nam_loc'), 2) nam_loc\n",
      "(('Wlkp', 'nam_loc'), 2) nam_loc\n",
      "(('Hiszpanii', 'nam_loc'), 2) nam_loc\n",
      "(('Wrocławiu', 'nam_loc'), 1) nam_loc\n",
      "(('Polar', 'nam_loc'), 1) nam_loc\n",
      "(('Niemczech', 'nam_loc'), 1) nam_loc\n",
      "##################\n",
      "(('.', 'nam_liv'), 5) nam_liv\n",
      "(('J', 'nam_liv'), 4) nam_liv\n",
      "(('B', 'nam_liv'), 3) nam_liv\n",
      "(('S', 'nam_liv'), 1) nam_liv\n",
      "(('G', 'nam_liv'), 1) nam_liv\n",
      "(('Spółka', 'nam_liv'), 1) nam_liv\n",
      "(('Komandytowa', 'nam_liv'), 1) nam_liv\n",
      "(('Pana', 'nam_liv'), 1) nam_liv\n",
      "(('Spółki', 'nam_liv'), 1) nam_liv\n",
      "(('Wierzyciela', 'nam_liv'), 1) nam_liv\n",
      "##################\n",
      "(('M', 'nam_fac'), 1) nam_fac\n",
      "##################\n"
     ]
    }
   ],
   "source": [
    "# Przedstaw 10 najczęstszych wyrażeń, dla każdej wysokopoziomowej (zgrubnej) klasy wyrażeń.\n",
    "idx = get_last_pickled_entity_idx()\n",
    "file_name = \"entities_dumps/\" + str(idx) + \".pickle\"\n",
    "with open(file_name, \"rb\") as file:\n",
    "    entities = pickle.load(file)\n",
    "elements = entities.items()\n",
    "\n",
    "elements_major_categories = []\n",
    "for element in elements:\n",
    "    category = element[0][1]\n",
    "    major_category = \"_\".join(category.split(\"_\")[:2])\n",
    "    word_cat_tuple = (element[0][0], major_category)\n",
    "    count = element[1]\n",
    "    elements_major_categories.append((word_cat_tuple, count))\n",
    "\n",
    "elements = elements_major_categories\n",
    "\n",
    "elements = sorted(elements, key = lambda x: x[0][1], reverse=True)\n",
    "grouped_by = itertools.groupby(elements, lambda x: x[0][1])\n",
    "for key, group in grouped_by:\n",
    "    idx = 1\n",
    "    for thing in sorted(group, key= lambda x: x[1], reverse=True):\n",
    "        if idx>10:\n",
    "                continue\n",
    "        idx+=1\n",
    "        print (thing, key)\n",
    "    print(\"##################\")"
   ]
  }
 ],
 "metadata": {
  "kernelspec": {
   "display_name": "Python 3",
   "language": "python",
   "name": "python3"
  },
  "language_info": {
   "codemirror_mode": {
    "name": "ipython",
    "version": 3
   },
   "file_extension": ".py",
   "mimetype": "text/x-python",
   "name": "python",
   "nbconvert_exporter": "python",
   "pygments_lexer": "ipython3",
   "version": "3.6.3"
  }
 },
 "nbformat": 4,
 "nbformat_minor": 2
}
