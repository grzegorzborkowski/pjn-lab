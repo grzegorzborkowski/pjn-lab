{
 "cells": [
  {
   "cell_type": "code",
   "execution_count": 1,
   "metadata": {
    "collapsed": true
   },
   "outputs": [],
   "source": [
    "import json, tqdm, os, re, string, requests, pprint, xml.etree.ElementTree\n",
    "import collections, seaborn, pickle, os\n",
    "import functools, itertools\n",
    "import matplotlib.pyplot as plt\n",
    "import numpy"
   ]
  },
  {
   "cell_type": "code",
   "execution_count": 2,
   "metadata": {
    "collapsed": true
   },
   "outputs": [],
   "source": [
    "def read_file(file_path):\n",
    "    all_judgments_from_file = []\n",
    "    with open (file_path) as file:\n",
    "        json_content = json.load(file)\n",
    "        item_count = 0\n",
    "        for item in json_content:\n",
    "            item_count += 1\n",
    "            text_content = re.sub(\"<.*?>\", \"\", item[\"textContent\"])\n",
    "            text_content = text_content.replace('-\\n', '')\n",
    "            text_content = text_content.replace(\"\\n\", '')\n",
    "            all_judgments_from_file.append((text_content, item[\"judgmentDate\"]))\n",
    "    return all_judgments_from_file\n",
    "       \n",
    "        \n",
    "def read_all_judgments_from_2018():\n",
    "    all_judgments = []\n",
    "    for filename in tqdm.tqdm(os.listdir(\"data/\")):\n",
    "        judgments = read_file(\"data/\" + filename)\n",
    "        all_judgments.append(judgments)\n",
    "    flatten_judgments = [item for sublist in all_judgments for item in sublist]\n",
    "    return flatten_judgments\n",
    "\n",
    "def take_oldest_judgments(judgments, how_many=100):\n",
    "    judgments_sorted = sorted(judgments, key=lambda x: x[1])\n",
    "    judgments_sorted = [judgment[0] for judgment in judgments_sorted]\n",
    "    return judgments_sorted[:how_many]"
   ]
  },
  {
   "cell_type": "code",
   "execution_count": 3,
   "metadata": {},
   "outputs": [
    {
     "name": "stderr",
     "output_type": "stream",
     "text": [
      "100%|██████████| 11/11 [00:00<00:00, 20.42it/s]\n"
     ]
    }
   ],
   "source": [
    "judgments = read_all_judgments_from_2018()"
   ]
  },
  {
   "cell_type": "code",
   "execution_count": 4,
   "metadata": {
    "collapsed": true
   },
   "outputs": [],
   "source": [
    "judgments = take_oldest_judgments(judgments)"
   ]
  },
  {
   "cell_type": "code",
   "execution_count": 5,
   "metadata": {
    "collapsed": true
   },
   "outputs": [],
   "source": [
    "URL = \"http://ws.clarin-pl.eu/nlprest2/base/process\""
   ]
  },
  {
   "cell_type": "code",
   "execution_count": 6,
   "metadata": {
    "collapsed": true
   },
   "outputs": [],
   "source": [
    "def process_content(content):\n",
    "    obj = {\n",
    "        \"lpmn\": 'any2txt|wcrft2|liner2({\"model\":\"n82\"})',\n",
    "        \"text\": content, \"user\" : \"pjn@agh.edu.pl\"\n",
    "    }\n",
    "    decoder = json.JSONEncoder()\n",
    "    decoded_obj = decoder.encode(obj)\n",
    "    req = requests.post(URL, data=decoded_obj)\n",
    "  \n",
    "    return xml.etree.ElementTree.fromstring(req.text), req.text"
   ]
  },
  {
   "cell_type": "code",
   "execution_count": 7,
   "metadata": {
    "collapsed": true
   },
   "outputs": [],
   "source": [
    "def extract_entities_from_xml(req_xml, result_dict):\n",
    "    for item in req_xml.iter():\n",
    "        if item.tag == 'tok':\n",
    "            for child in item.getchildren():\n",
    "                if child.tag == 'orth':\n",
    "                    content = child.text\n",
    "                if child.tag == 'ann' and child.text == '1':\n",
    "                    entity = child.attrib['chan']\n",
    "                    entities[(content, entity)] += 1"
   ]
  },
  {
   "cell_type": "code",
   "execution_count": 8,
   "metadata": {},
   "outputs": [
    {
     "name": "stdout",
     "output_type": "stream",
     "text": [
      "('<?xml version=\"1.0\" encoding=\"UTF-8\"?>\\n'\n",
      " '<!DOCTYPE chunkList SYSTEM \"ccl.dtd\">\\n'\n",
      " '<chunkList>\\n'\n",
      " ' <chunk type=\"p\" id=\"ch1\">\\n'\n",
      " '  <sentence id=\"s1\">\\n'\n",
      " '   <tok>\\n'\n",
      " '    <orth>Władysław</orth>\\n'\n",
      " '    <lex '\n",
      " 'disamb=\"1\"><base>Władysław</base><ctag>subst:sg:nom:m1</ctag></lex>\\n'\n",
      " '    <ann chan=\"nam_liv_person\">1</ann>\\n'\n",
      " '    <ann chan=\"nam_loc_gpe_country\">0</ann>\\n'\n",
      " '   </tok>\\n'\n",
      " '   <tok>\\n'\n",
      " '    <orth>Jagiełło</orth>\\n'\n",
      " '    <lex disamb=\"1\"><base>Jagiełło</base><ctag>subst:sg:nom:m1</ctag></lex>\\n'\n",
      " '    <ann chan=\"nam_liv_person\">1</ann>\\n'\n",
      " '    <an')\n"
     ]
    }
   ],
   "source": [
    "req_xml, req_text = process_content(\"Władysław Jagiełło urodził się na Litwie. Wyjechał potem do Lwowa.\")\n",
    "pprint.pprint(req_text[:500])"
   ]
  },
  {
   "cell_type": "code",
   "execution_count": 9,
   "metadata": {
    "collapsed": true
   },
   "outputs": [],
   "source": [
    "entities = collections.defaultdict(int)"
   ]
  },
  {
   "cell_type": "code",
   "execution_count": null,
   "metadata": {
    "collapsed": true
   },
   "outputs": [],
   "source": []
  },
  {
   "cell_type": "code",
   "execution_count": 10,
   "metadata": {},
   "outputs": [
    {
     "data": {
      "text/plain": [
       "defaultdict(int, {})"
      ]
     },
     "execution_count": 10,
     "metadata": {},
     "output_type": "execute_result"
    }
   ],
   "source": [
    "entities"
   ]
  },
  {
   "cell_type": "code",
   "execution_count": 11,
   "metadata": {
    "collapsed": true
   },
   "outputs": [],
   "source": [
    "def get_last_pickled_entity_idx():\n",
    "    files = os.listdir('entities_dumps/')\n",
    "    files = [file for file in files if \"pickle\" in file]\n",
    "    if len(files)>0:\n",
    "        last_file = sorted([int(file.split(\".\")[0]) for file in files], reverse=True)[0]\n",
    "    else:\n",
    "        last_file = 0\n",
    "    return last_file"
   ]
  },
  {
   "cell_type": "code",
   "execution_count": 12,
   "metadata": {
    "collapsed": true
   },
   "outputs": [],
   "source": [
    "def process_judgments():\n",
    "    last_file = get_last_pickled_entity_idx()\n",
    "    print (\"Proceeding files from\" + str(last_file))\n",
    "    ###############################################################################\n",
    "    for idx, judgment in tqdm.tqdm(enumerate(judgments[last_file:])):\n",
    "        xml_content, text = process_content(judgment)\n",
    "        extract_entities_from_xml(xml_content, entities)\n",
    "        with open(\"entities_dumps/\" + str(idx+last_file) + \".pickle\", 'wb') as file:\n",
    "            pickle.dump(entities, file) "
   ]
  },
  {
   "cell_type": "code",
   "execution_count": 15,
   "metadata": {},
   "outputs": [
    {
     "name": "stderr",
     "output_type": "stream",
     "text": [
      "\r",
      "0it [00:00, ?it/s]"
     ]
    },
    {
     "name": "stdout",
     "output_type": "stream",
     "text": [
      "Proceeding files from36\n"
     ]
    },
    {
     "name": "stderr",
     "output_type": "stream",
     "text": [
      "64it [42:34, 39.91s/it]\n"
     ]
    }
   ],
   "source": [
    "process_judgments()"
   ]
  },
  {
   "cell_type": "code",
   "execution_count": 16,
   "metadata": {
    "collapsed": true
   },
   "outputs": [],
   "source": [
    "def statistics_for_categories(merge_into_major_categories):\n",
    "    idx = get_last_pickled_entity_idx()\n",
    "    file_name = \"entities_dumps/\" + str(idx) + \".pickle\"\n",
    "    with open(file_name, \"rb\") as file:\n",
    "        entities = pickle.load(file)\n",
    "    categories = entities.items()\n",
    "    categories = [(category[0][1], category[1]) for category in categories]\n",
    "    if merge_into_major_categories:\n",
    "         categories = [\n",
    "            (\"_\".join(category[0].split(\"_\")[:2]),\n",
    "             category[1]) for category in categories]\n",
    "    \n",
    "    product_dict = collections.defaultdict(int)\n",
    "    for category in categories:\n",
    "        product_dict[category[0]] += category[1]\n",
    "    \n",
    "    keys_dict, values_dict = product_dict.keys(), product_dict.values()\n",
    "    pprint.pprint(list(zip(keys_dict, values_dict)))\n",
    "    values = list(values_dict)\n",
    "    keys = list(keys_dict)\n",
    "    plt.figure(figsize=(25,10))\n",
    "    plt.bar(numpy.arange(0, len(values)), values)\n",
    "    \n",
    "    plt.xticks(numpy.arange(0, len(values)), keys)\n",
    "    plt.show()"
   ]
  },
  {
   "cell_type": "code",
   "execution_count": 17,
   "metadata": {},
   "outputs": [
    {
     "name": "stdout",
     "output_type": "stream",
     "text": [
      "[('nam_org_organization', 716),\n",
      " ('nam_oth_currency', 595),\n",
      " ('nam_liv_person', 2458),\n",
      " ('nam_org_institution', 3653),\n",
      " ('nam_loc_gpe_city', 207),\n",
      " ('nam_fac_road', 10),\n",
      " ('nam_loc_gpe_country', 24),\n",
      " ('nam_fac_goe', 108),\n",
      " ('nam_pro_title_document', 1407),\n",
      " ('nam_pro_media_periodic', 577),\n",
      " ('nam_eve_human_sport', 18),\n",
      " ('nam_num_house', 1),\n",
      " ('nam_org_company', 556),\n",
      " ('nam_org_group_team', 46),\n",
      " ('nam_org_nation', 3),\n",
      " ('nam_pro_title', 22),\n",
      " ('nam_num_phone', 2),\n",
      " ('nam_oth_tech', 97),\n",
      " ('nam_pro_brand', 50),\n",
      " ('nam_eve_human', 4),\n",
      " ('nam_oth_other', 63),\n",
      " ('nam_loc_land_continent', 2),\n",
      " ('nam_pro_media_web', 6),\n",
      " ('nam_org_political_party', 31),\n",
      " ('nam_fac_system', 5),\n",
      " ('nam_adj_country', 1),\n",
      " ('nam_adj_other', 2),\n",
      " ('nam_org_group_band', 6),\n",
      " ('nam_adj_city', 2),\n",
      " ('nam_pro_model_car', 2),\n",
      " ('nam_loc_gpe_district', 2),\n",
      " ('nam_pro_title_treaty', 1),\n",
      " ('nam_loc_gpe_admin1', 3),\n",
      " ('nam_oth_license', 2),\n",
      " ('nam_pro_software', 2),\n",
      " ('nam_liv_god', 2),\n",
      " ('nam_pro_award', 1),\n",
      " ('nam_loc_gpe_subdivision', 5)]\n"
     ]
    },
    {
     "data": {
      "image/png": "[encoded data removed]",
      "text/plain": [
       "<Figure size 1800x720 with 1 Axes>"
      ]
     },
     "metadata": {},
     "output_type": "display_data"
    }
   ],
   "source": [
    "statistics_for_categories(merge_into_major_categories=False)"
   ]
  },
  {
   "cell_type": "code",
   "execution_count": 18,
   "metadata": {},
   "outputs": [
    {
     "name": "stdout",
     "output_type": "stream",
     "text": [
      "[('nam_org', 5011),\n",
      " ('nam_oth', 757),\n",
      " ('nam_liv', 2460),\n",
      " ('nam_loc', 243),\n",
      " ('nam_fac', 123),\n",
      " ('nam_pro', 2068),\n",
      " ('nam_eve', 22),\n",
      " ('nam_num', 3),\n",
      " ('nam_adj', 5)]\n"
     ]
    },
    {
     "data": {
      "image/png": "[encoded data removed]",
      "text/plain": [
       "<Figure size 1800x720 with 1 Axes>"
      ]
     },
     "metadata": {},
     "output_type": "display_data"
    }
   ],
   "source": [
    "statistics_for_categories(merge_into_major_categories=True)"
   ]
  },
  {
   "cell_type": "code",
   "execution_count": 19,
   "metadata": {},
   "outputs": [
    {
     "name": "stdout",
     "output_type": "stream",
     "text": [
      "[(('.', 'nam_liv_person'), 601),\n",
      " (('zł', 'nam_oth_currency'), 522),\n",
      " (('Sąd', 'nam_org_institution'), 456),\n",
      " (('M', 'nam_liv_person'), 313),\n",
      " (('.', 'nam_pro_media_periodic'), 272),\n",
      " (('Sądu', 'nam_org_institution'), 242),\n",
      " (('D', 'nam_liv_person'), 199),\n",
      " (('J', 'nam_liv_person'), 178),\n",
      " (('Okręgowy', 'nam_org_institution'), 170),\n",
      " (('Rejonowy', 'nam_org_institution'), 165),\n",
      " (('w', 'nam_org_institution'), 145),\n",
      " (('Dz', 'nam_pro_media_periodic'), 142),\n",
      " (('U', 'nam_pro_media_periodic'), 140),\n",
      " (('Ubezpieczeń', 'nam_org_institution'), 139),\n",
      " (('Społecznych', 'nam_org_institution'), 139),\n",
      " (('Najwyższego', 'nam_org_institution'), 123),\n",
      " (('B', 'nam_liv_person'), 122),\n",
      " (('o', 'nam_pro_title_document'), 113),\n",
      " (('ustawy', 'nam_pro_title_document'), 113),\n",
      " (('S', 'nam_liv_person'), 107),\n",
      " (('z', 'nam_pro_title_document'), 104),\n",
      " (('Pracy', 'nam_org_institution'), 102),\n",
      " (('.', 'nam_org_company'), 89),\n",
      " (('dnia', 'nam_pro_title_document'), 86),\n",
      " (('G', 'nam_liv_person'), 85),\n",
      " (('P', 'nam_org_organization'), 64),\n",
      " (('P', 'nam_liv_person'), 64),\n",
      " (('złotych', 'nam_oth_currency'), 63),\n",
      " (('i', 'nam_org_institution'), 58),\n",
      " (('Państwa', 'nam_org_institution'), 57),\n",
      " (('ZUS', 'nam_org_organization'), 57),\n",
      " (('Najwyższy', 'nam_org_institution'), 56),\n",
      " (('Oddział', 'nam_org_institution'), 56),\n",
      " (('I', 'nam_org_institution'), 54),\n",
      " (('S', 'nam_org_company'), 54),\n",
      " (('Ministra', 'nam_org_institution'), 54),\n",
      " (('K', 'nam_liv_person'), 50),\n",
      " (('ZUS', 'nam_org_institution'), 48),\n",
      " (('Zakład', 'nam_org_institution'), 48),\n",
      " (('r', 'nam_pro_title_document'), 46),\n",
      " (('.', 'nam_pro_title_document'), 46),\n",
      " (('Zakładu', 'nam_org_institution'), 45),\n",
      " (('L', 'nam_liv_person'), 44),\n",
      " (('Okręgowego', 'nam_org_institution'), 44),\n",
      " (('M', 'nam_org_organization'), 43),\n",
      " (('Skarbu', 'nam_org_institution'), 43),\n",
      " (('IMIENIU', 'nam_org_institution'), 39),\n",
      " (('RZECZYPOSPOLITEJ', 'nam_org_institution'), 39),\n",
      " (('POLSKIEJ', 'nam_org_institution'), 39),\n",
      " (('w', 'nam_pro_title_document'), 38),\n",
      " (('A', 'nam_liv_person'), 38),\n",
      " (('Dnia', 'nam_org_institution'), 38),\n",
      " (('Apelacyjnego', 'nam_org_institution'), 36),\n",
      " (('w', 'nam_org_organization'), 36),\n",
      " (('Gimnazjum', 'nam_org_organization'), 34),\n",
      " (('emeryturach', 'nam_pro_title_document'), 33),\n",
      " (('Rejonowego', 'nam_org_institution'), 31),\n",
      " (('VAT', 'nam_oth_other'), 31),\n",
      " (('Wydział', 'nam_org_institution'), 30),\n",
      " (('M', 'nam_org_company'), 30),\n",
      " (('Rady', 'nam_org_institution'), 30),\n",
      " (('Ubezpieczeń', 'nam_org_company'), 29),\n",
      " (('Społecznych', 'nam_org_company'), 29),\n",
      " (('Zakład', 'nam_org_company'), 27),\n",
      " (('Ministrów', 'nam_org_institution'), 27),\n",
      " (('Najwyższego', 'nam_liv_person'), 26),\n",
      " (('Ministra', 'nam_pro_title_document'), 26),\n",
      " (('Protokolant', 'nam_liv_person'), 26),\n",
      " (('Sprawiedliwości', 'nam_org_institution'), 26),\n",
      " (('Oddział', 'nam_org_company'), 26),\n",
      " (('Fundusz', 'nam_org_institution'), 26),\n",
      " (('–', 'nam_org_company'), 26),\n",
      " (('sprawach', 'nam_pro_title_document'), 25),\n",
      " (('Apelacyjny', 'nam_org_institution'), 25),\n",
      " (('Funduszu', 'nam_org_institution'), 25),\n",
      " (('Publicznego', 'nam_org_organization'), 25),\n",
      " (('roku', 'nam_pro_title_document'), 24),\n",
      " (('ZUS', 'nam_org_political_party'), 24),\n",
      " (('Szczecin', 'nam_org_institution'), 23),\n",
      " (('Centrum', 'nam_loc_gpe_city'), 23),\n",
      " (('i', 'nam_pro_title_document'), 23),\n",
      " (('października', 'nam_pro_title_document'), 22),\n",
      " (('kosztach', 'nam_pro_title_document'), 22),\n",
      " (('sądowych', 'nam_pro_title_document'), 22),\n",
      " (('cywilnych', 'nam_pro_title_document'), 22),\n",
      " (('Ł', 'nam_org_institution'), 22),\n",
      " (('Świadczeń', 'nam_org_organization'), 21),\n",
      " (('VIN', 'nam_oth_tech'), 21),\n",
      " (('C', 'nam_org_organization'), 20),\n",
      " (('Trybunału', 'nam_org_institution'), 20),\n",
      " (('Łodzi', 'nam_org_institution'), 20),\n",
      " (('Fundusz', 'nam_org_organization'), 20),\n",
      " (('C', 'nam_org_company'), 19),\n",
      " (('Gwarantowanych', 'nam_org_organization'), 19),\n",
      " (('Pracowniczych', 'nam_org_organization'), 19),\n",
      " (('rozporządzenia', 'nam_pro_title_document'), 18),\n",
      " (('.', 'nam_org_organization'), 18),\n",
      " (('lipca', 'nam_pro_title_document'), 18),\n",
      " (('Administracji', 'nam_org_institution'), 18),\n",
      " (('VAT', 'nam_oth_tech'), 18)]\n"
     ]
    }
   ],
   "source": [
    "idx = get_last_pickled_entity_idx()\n",
    "file_name = \"entities_dumps/\" + str(idx) + \".pickle\"\n",
    "with open(file_name, \"rb\") as file:\n",
    "    entities = pickle.load(file)\n",
    "elements = list(entities.items())\n",
    "elements = sorted(elements, key=lambda x: x[1], reverse=True)\n",
    "pprint.pprint(elements[:100])"
   ]
  },
  {
   "cell_type": "code",
   "execution_count": 21,
   "metadata": {},
   "outputs": [
    {
     "name": "stdout",
     "output_type": "stream",
     "text": [
      "(('.', 'nam_pro'), 272) nam_pro\n",
      "(('Dz', 'nam_pro'), 142) nam_pro\n",
      "(('U', 'nam_pro'), 140) nam_pro\n",
      "(('o', 'nam_pro'), 113) nam_pro\n",
      "(('ustawy', 'nam_pro'), 113) nam_pro\n",
      "(('z', 'nam_pro'), 104) nam_pro\n",
      "(('dnia', 'nam_pro'), 86) nam_pro\n",
      "(('r', 'nam_pro'), 46) nam_pro\n",
      "(('.', 'nam_pro'), 46) nam_pro\n",
      "(('w', 'nam_pro'), 38) nam_pro\n",
      "(('emeryturach', 'nam_pro'), 33) nam_pro\n",
      "(('Ministra', 'nam_pro'), 26) nam_pro\n",
      "(('sprawach', 'nam_pro'), 25) nam_pro\n",
      "(('roku', 'nam_pro'), 24) nam_pro\n",
      "(('i', 'nam_pro'), 23) nam_pro\n",
      "(('października', 'nam_pro'), 22) nam_pro\n",
      "(('kosztach', 'nam_pro'), 22) nam_pro\n",
      "(('sądowych', 'nam_pro'), 22) nam_pro\n",
      "(('cywilnych', 'nam_pro'), 22) nam_pro\n",
      "(('rozporządzenia', 'nam_pro'), 18) nam_pro\n",
      "##################\n",
      "(('zł', 'nam_oth'), 522) nam_oth\n",
      "(('złotych', 'nam_oth'), 63) nam_oth\n",
      "(('VAT', 'nam_oth'), 31) nam_oth\n",
      "(('VIN', 'nam_oth'), 21) nam_oth\n",
      "(('VAT', 'nam_oth'), 18) nam_oth\n",
      "(('23', 'nam_oth'), 15) nam_oth\n",
      "(('1', 'nam_oth'), 15) nam_oth\n",
      "(('C', 'nam_oth'), 13) nam_oth\n",
      "(('CD', 'nam_oth'), 10) nam_oth\n",
      "(('euro', 'nam_oth'), 7) nam_oth\n",
      "(('D', 'nam_oth'), 6) nam_oth\n",
      "(('ZUS', 'nam_oth'), 4) nam_oth\n",
      "(('RP', 'nam_oth'), 3) nam_oth\n",
      "(('Euro', 'nam_oth'), 3) nam_oth\n",
      "(('M', 'nam_oth'), 3) nam_oth\n",
      "(('GRUPA', 'nam_oth'), 2) nam_oth\n",
      "(('M', 'nam_oth'), 2) nam_oth\n",
      "(('Spółdzielnia', 'nam_oth'), 2) nam_oth\n",
      "(('NIP', 'nam_oth'), 2) nam_oth\n",
      "(('BHP', 'nam_oth'), 2) nam_oth\n",
      "##################\n",
      "(('Sąd', 'nam_org'), 456) nam_org\n",
      "(('Sądu', 'nam_org'), 242) nam_org\n",
      "(('Okręgowy', 'nam_org'), 170) nam_org\n",
      "(('Rejonowy', 'nam_org'), 165) nam_org\n",
      "(('w', 'nam_org'), 145) nam_org\n",
      "(('Ubezpieczeń', 'nam_org'), 139) nam_org\n",
      "(('Społecznych', 'nam_org'), 139) nam_org\n",
      "(('Najwyższego', 'nam_org'), 123) nam_org\n",
      "(('Pracy', 'nam_org'), 102) nam_org\n",
      "(('.', 'nam_org'), 89) nam_org\n",
      "(('P', 'nam_org'), 64) nam_org\n",
      "(('i', 'nam_org'), 58) nam_org\n",
      "(('Państwa', 'nam_org'), 57) nam_org\n",
      "(('ZUS', 'nam_org'), 57) nam_org\n",
      "(('Najwyższy', 'nam_org'), 56) nam_org\n",
      "(('Oddział', 'nam_org'), 56) nam_org\n",
      "(('I', 'nam_org'), 54) nam_org\n",
      "(('S', 'nam_org'), 54) nam_org\n",
      "(('Ministra', 'nam_org'), 54) nam_org\n",
      "(('ZUS', 'nam_org'), 48) nam_org\n",
      "##################\n",
      "(('112', 'nam_num'), 2) nam_num\n",
      "(('1', 'nam_num'), 1) nam_num\n",
      "##################\n",
      "(('Centrum', 'nam_loc'), 23) nam_loc\n",
      "(('Szczecinie', 'nam_loc'), 17) nam_loc\n",
      "(('Spółdzielnia', 'nam_loc'), 11) nam_loc\n",
      "(('Olsztynie', 'nam_loc'), 9) nam_loc\n",
      "(('Zakładzie', 'nam_loc'), 7) nam_loc\n",
      "(('Polski', 'nam_loc'), 6) nam_loc\n",
      "(('Zakładach', 'nam_loc'), 6) nam_loc\n",
      "(('Wrocławia', 'nam_loc'), 5) nam_loc\n",
      "(('Katowicach', 'nam_loc'), 5) nam_loc\n",
      "(('Łodzi', 'nam_loc'), 5) nam_loc\n",
      "(('Śródmieścia', 'nam_loc'), 5) nam_loc\n",
      "(('Francji', 'nam_loc'), 5) nam_loc\n",
      "(('Rzeszowie', 'nam_loc'), 5) nam_loc\n",
      "(('Warszawa', 'nam_loc'), 4) nam_loc\n",
      "(('Warszawie', 'nam_loc'), 4) nam_loc\n",
      "(('Płocku', 'nam_loc'), 4) nam_loc\n",
      "(('Punktu', 'nam_loc'), 4) nam_loc\n",
      "(('Piszu', 'nam_loc'), 3) nam_loc\n",
      "(('Wrocławiu', 'nam_loc'), 3) nam_loc\n",
      "(('Poznaniu', 'nam_loc'), 3) nam_loc\n",
      "##################\n",
      "(('.', 'nam_liv'), 601) nam_liv\n",
      "(('M', 'nam_liv'), 313) nam_liv\n",
      "(('D', 'nam_liv'), 199) nam_liv\n",
      "(('J', 'nam_liv'), 178) nam_liv\n",
      "(('B', 'nam_liv'), 122) nam_liv\n",
      "(('S', 'nam_liv'), 107) nam_liv\n",
      "(('G', 'nam_liv'), 85) nam_liv\n",
      "(('P', 'nam_liv'), 64) nam_liv\n",
      "(('K', 'nam_liv'), 50) nam_liv\n",
      "(('L', 'nam_liv'), 44) nam_liv\n",
      "(('A', 'nam_liv'), 38) nam_liv\n",
      "(('Najwyższego', 'nam_liv'), 26) nam_liv\n",
      "(('Protokolant', 'nam_liv'), 26) nam_liv\n",
      "(('Logistyk', 'nam_liv'), 17) nam_liv\n",
      "(('R', 'nam_liv'), 16) nam_liv\n",
      "(('SSA', 'nam_liv'), 16) nam_liv\n",
      "(('N', 'nam_liv'), 16) nam_liv\n",
      "(('Anna', 'nam_liv'), 15) nam_liv\n",
      "(('-', 'nam_liv'), 15) nam_liv\n",
      "(('SSO', 'nam_liv'), 12) nam_liv\n",
      "##################\n",
      "(('Straży', 'nam_fac'), 11) nam_fac\n",
      "(('Miejskiej', 'nam_fac'), 11) nam_fac\n",
      "(('.', 'nam_fac'), 7) nam_fac\n",
      "(('Wojewódzkiego', 'nam_fac'), 4) nam_fac\n",
      "(('Szpitalu', 'nam_fac'), 4) nam_fac\n",
      "(('im', 'nam_fac'), 4) nam_fac\n",
      "(('NIP', 'nam_fac'), 4) nam_fac\n",
      "(('Szpitala', 'nam_fac'), 3) nam_fac\n",
      "(('Krajowym', 'nam_fac'), 3) nam_fac\n",
      "(('Rejestrze', 'nam_fac'), 3) nam_fac\n",
      "(('Sądowym', 'nam_fac'), 3) nam_fac\n",
      "(('M', 'nam_fac'), 3) nam_fac\n",
      "(('SSA', 'nam_fac'), 3) nam_fac\n",
      "(('KUK', 'nam_fac'), 2) nam_fac\n",
      "(('Krajowego', 'nam_fac'), 2) nam_fac\n",
      "(('Rejestru', 'nam_fac'), 2) nam_fac\n",
      "(('Sądowego', 'nam_fac'), 2) nam_fac\n",
      "(('Spółdzielni', 'nam_fac'), 2) nam_fac\n",
      "(('Mieszkaniowej', 'nam_fac'), 2) nam_fac\n",
      "(('Spółdzielnią', 'nam_fac'), 2) nam_fac\n",
      "##################\n",
      "(('Przedsiębiorstwie', 'nam_eve'), 5) nam_eve\n",
      "(('Usług', 'nam_eve'), 5) nam_eve\n",
      "(('EURO', 'nam_eve'), 2) nam_eve\n",
      "(('2012', 'nam_eve'), 2) nam_eve\n",
      "(('ZARZĄDZENIE', 'nam_eve'), 1) nam_eve\n",
      "(('X', 'nam_eve'), 1) nam_eve\n",
      "(('P', 'nam_eve'), 1) nam_eve\n",
      "(('51', 'nam_eve'), 1) nam_eve\n",
      "(('Kp', 'nam_eve'), 1) nam_eve\n",
      "(('Euro', 'nam_eve'), 1) nam_eve\n",
      "(('Mistrzostwach', 'nam_eve'), 1) nam_eve\n",
      "(('Europy', 'nam_eve'), 1) nam_eve\n",
      "##################\n",
      "(('rosyjskim', 'nam_adj'), 1) nam_adj\n",
      "(('unijnymi', 'nam_adj'), 1) nam_adj\n",
      "(('rodzicielskiego', 'nam_adj'), 1) nam_adj\n",
      "(('lekkiego', 'nam_adj'), 1) nam_adj\n",
      "(('unijnych', 'nam_adj'), 1) nam_adj\n",
      "##################\n"
     ]
    }
   ],
   "source": [
    "# Przedstaw 10 najczęstszych wyrażeń, dla każdej wysokopoziomowej (zgrubnej) klasy wyrażeń.\n",
    "idx = get_last_pickled_entity_idx()\n",
    "file_name = \"entities_dumps/\" + str(idx) + \".pickle\"\n",
    "with open(file_name, \"rb\") as file:\n",
    "    entities = pickle.load(file)\n",
    "elements = entities.items()\n",
    "\n",
    "elements_major_categories = []\n",
    "for element in elements:\n",
    "    category = element[0][1]\n",
    "    major_category = \"_\".join(category.split(\"_\")[:2])\n",
    "    word_cat_tuple = (element[0][0], major_category)\n",
    "    count = element[1]\n",
    "    elements_major_categories.append((word_cat_tuple, count))\n",
    "\n",
    "elements = elements_major_categories\n",
    "\n",
    "elements = sorted(elements, key = lambda x: x[0][1], reverse=True)\n",
    "grouped_by = itertools.groupby(elements, lambda x: x[0][1])\n",
    "for key, group in grouped_by:\n",
    "    idx = 1\n",
    "    for thing in sorted(group, key= lambda x: x[1], reverse=True):\n",
    "        if idx>20:\n",
    "                continue\n",
    "        idx+=1\n",
    "        print (thing, key)\n",
    "    print(\"##################\")"
   ]
  }
 ],
 "metadata": {
  "kernelspec": {
   "display_name": "Python 3",
   "language": "python",
   "name": "python3"
  },
  "language_info": {
   "codemirror_mode": {
    "name": "ipython",
    "version": 3
   },
   "file_extension": ".py",
   "mimetype": "text/x-python",
   "name": "python",
   "nbconvert_exporter": "python",
   "pygments_lexer": "ipython3",
   "version": "3.6.3"
  }
 },
 "nbformat": 4,
 "nbformat_minor": 2
}
