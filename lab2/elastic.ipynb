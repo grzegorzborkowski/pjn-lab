{
 "cells": [
  {
   "cell_type": "code",
   "execution_count": 76,
   "metadata": {},
   "outputs": [],
   "source": [
    "from elasticsearch_dsl import connections, Index, analyzer, DocType, Date, Text, Keyword, Search, Nested, InnerDoc\n",
    "import json\n",
    "import pprint\n",
    "import os"
   ]
  },
  {
   "cell_type": "code",
   "execution_count": 2,
   "metadata": {
    "collapsed": true
   },
   "outputs": [],
   "source": [
    "# in case of problsems with \"only allow delete api\" then:\n",
    "# curl -XPUT -H \"Content-Type: application/json\" http://localhost:9200/_all/_settings -d '{\"index.blocks.read_only_allow_delete\": null}'"
   ]
  },
  {
   "cell_type": "markdown",
   "metadata": {},
   "source": [
    "Defines a default connection that will be used globally"
   ]
  },
  {
   "cell_type": "code",
   "execution_count": 3,
   "metadata": {},
   "outputs": [
    {
     "data": {
      "text/plain": [
       "<Elasticsearch([{'host': 'localhost'}])>"
      ]
     },
     "execution_count": 3,
     "metadata": {},
     "output_type": "execute_result"
    }
   ],
   "source": [
    "connections.create_connection(hosts=['localhost'], timeout=20) "
   ]
  },
  {
   "cell_type": "markdown",
   "metadata": {},
   "source": [
    "Defines an index"
   ]
  },
  {
   "cell_type": "code",
   "execution_count": 4,
   "metadata": {
    "collapsed": true
   },
   "outputs": [],
   "source": [
    "judgments = Index(name = 'judgments')"
   ]
  },
  {
   "cell_type": "code",
   "execution_count": 130,
   "metadata": {},
   "outputs": [],
   "source": [
    "# TODO: resolve what should be datatype for judges\n",
    "class Judge(InnerDoc):\n",
    "    function = Text()\n",
    "    name = Text()\n",
    "    specialRoles = Text()\n",
    "\n",
    "\n",
    "class Judgments(DocType):\n",
    "    content = Text()\n",
    "    date = Date()\n",
    "    title = Keyword()\n",
    "    judges = Nested(Judge)\n",
    "    \n",
    "    class Meta:\n",
    "        index = 'title'\n",
    "    \n",
    "    def add_judge(self, function, name, specialRoles):\n",
    "        self.judges.append(\n",
    "            Judge(function=function, name=name, specialRoles=specialRoles))\n",
    "    "
   ]
  },
  {
   "cell_type": "code",
   "execution_count": 131,
   "metadata": {},
   "outputs": [
    {
     "data": {
      "text/plain": [
       "__main__.JudgmentsMaping"
      ]
     },
     "execution_count": 131,
     "metadata": {},
     "output_type": "execute_result"
    }
   ],
   "source": [
    "judgments.doc_type(JudgmentsMaping)"
   ]
  },
  {
   "cell_type": "code",
   "execution_count": 132,
   "metadata": {
    "collapsed": true
   },
   "outputs": [],
   "source": [
    "default_analyzer = analyzer('default_analyzer',\n",
    "                           tokenizer='standard')"
   ]
  },
  {
   "cell_type": "code",
   "execution_count": 134,
   "metadata": {
    "collapsed": true
   },
   "outputs": [],
   "source": [
    "judgments.analyzer(default_analyzer)"
   ]
  },
  {
   "cell_type": "code",
   "execution_count": 135,
   "metadata": {},
   "outputs": [],
   "source": [
    "judgments.delete(ignore=404)\n",
    "judgments.create()"
   ]
  },
  {
   "cell_type": "code",
   "execution_count": 159,
   "metadata": {},
   "outputs": [],
   "source": [
    "def read_file(file_path):\n",
    "    with open (file_path) as file:\n",
    "        json_content = json.load(file)\n",
    "        for judgment in json_content:\n",
    "            content = judgment['textContent']\n",
    "            date = judgment['judgmentDate']\n",
    "            title = judgment['courtCases'][0]['caseNumber']\n",
    "            judges  = judgment['judges']\n",
    "            # pprint.pprint(judges)\n",
    "            maping = Judgments(content=content, date=date, title=title)\n",
    "            for judge in judges:\n",
    "                maping.add_judge(function=judge['function'], \n",
    "                             name=judge['name'], \n",
    "                             specialRoles=judge['specialRoles'])\n",
    "                maping.save()\n",
    "#             if not judges:\n",
    "#                 maping.add_judge(function=\"\", name=\"\", specialRoles=\"\")\n",
    "#                 maping.save()"
   ]
  },
  {
   "cell_type": "code",
   "execution_count": 160,
   "metadata": {
    "collapsed": true
   },
   "outputs": [],
   "source": [
    "def read_all_judgments_from_2018():\n",
    "    for filename in os.listdir(\"../data_filtered/\"):\n",
    "        read_file(\"../data_filtered/\" + filename)"
   ]
  },
  {
   "cell_type": "code",
   "execution_count": 161,
   "metadata": {},
   "outputs": [],
   "source": [
    "read_all_judgments_from_2018()"
   ]
  },
  {
   "cell_type": "code",
   "execution_count": 162,
   "metadata": {},
   "outputs": [
    {
     "name": "stdout",
     "output_type": "stream",
     "text": [
      "{'query': {'match': {'date': '2018-01-02'}}}\n"
     ]
    }
   ],
   "source": [
    "query = Search().query(\"match\", date=\"2018-01-02\")\n",
    "response = query.execute()\n",
    "print (query.to_dict())\n"
   ]
  },
  {
   "cell_type": "code",
   "execution_count": 164,
   "metadata": {
    "scrolled": true
   },
   "outputs": [
    {
     "name": "stdout",
     "output_type": "stream",
     "text": [
      "<Hit(rulings/doc/eCUVBmIBslyHz7tZ21w3): {'content': '<p>Warszawa, dnia 12 grudnia 2017 r.</p>\\n    <...}>\n",
      "<Hit(rulings/doc/ViUbBmIBslyHz7tZOGBZ): {'content': '<p>Warszawa, dnia 12 grudnia 2017 r.</p>\\n    <...}>\n",
      "<Hit(rulings/doc/BSXtBWIBslyHz7tZWFwT): {'content': '<p>Sygn. akt VI GC 889/17</p>\\n    <div>\\n     ...}>\n",
      "<Hit(rulings/doc/wyUbBmIBslyHz7tZl2Nf): {'content': '<p>\\n<strong>\\n<!-- -->Sygn. akt: X C 1992/17 <...}>\n",
      "<Hit(rulings/doc/xiUbBmIBslyHz7tZl2Pv): {'content': '<p>Sygn. akt VI GC 1015/16</p>\\n    <div>\\n    ...}>\n",
      "<Hit(rulings/doc/NCUbBmIBslyHz7tZtWSu): {'content': '<p>Warszawa, dnia 12 grudnia 2017 r.</p>\\n    <...}>\n",
      "<Hit(title/doc/TDiUCWIBgI6iz7SfrsPn): {'content': '<p>Sygn. akt IV P 156/17</p>\\n    <div>\\n      ...}>\n",
      "<Hit(title/doc/TTiUCWIBgI6iz7SfrsPt): {'content': '<p>Sygn. akt I C 738/17 upr.</p>\\n    <div>\\n  ...}>\n",
      "<Hit(title/doc/TjiUCWIBgI6iz7SfrsPx): {'content': '<p>Sygn. akt I Ns 514/15</p>\\n    <div>\\n      ...}>\n",
      "<Hit(title/doc/UTiUCWIBgI6iz7Sfr8MP): {'content': '<p>Warszawa, dnia 30 listopada 2017 r.</p>\\n   ...}>\n"
     ]
    }
   ],
   "source": [
    "for hit in query:\n",
    "#     if \"judges\" in hit:\n",
    "    pprint.pprint(hit)\n",
    "#     pprint.pprint(hit.judges)"
   ]
  }
 ],
 "metadata": {
  "kernelspec": {
   "display_name": "Python 3",
   "language": "python",
   "name": "python3"
  },
  "language_info": {
   "codemirror_mode": {
    "name": "ipython",
    "version": 3
   },
   "file_extension": ".py",
   "mimetype": "text/x-python",
   "name": "python",
   "nbconvert_exporter": "python",
   "pygments_lexer": "ipython3",
   "version": "3.6.1"
  }
 },
 "nbformat": 4,
 "nbformat_minor": 2
}
