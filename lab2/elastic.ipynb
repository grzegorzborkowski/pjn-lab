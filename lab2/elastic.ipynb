{
 "cells": [
  {
   "cell_type": "code",
   "execution_count": 191,
   "metadata": {},
   "outputs": [],
   "source": [
    "from elasticsearch_dsl import connections, Index, analyzer, DocType, Date, Text, Keyword, Search, Nested, InnerDoc\n",
    "import json\n",
    "import pprint\n",
    "import os"
   ]
  },
  {
   "cell_type": "code",
   "execution_count": 2,
   "metadata": {
    "collapsed": true
   },
   "outputs": [],
   "source": [
    "# in case of problsems with \"only allow delete api\" then:\n",
    "# curl -XPUT -H \"Content-Type: application/json\" http://localhost:9200/_all/_settings -d '{\"index.blocks.read_only_allow_delete\": null}'"
   ]
  },
  {
   "cell_type": "markdown",
   "metadata": {},
   "source": [
    "Defines a default connection that will be used globally"
   ]
  },
  {
   "cell_type": "code",
   "execution_count": 3,
   "metadata": {},
   "outputs": [
    {
     "data": {
      "text/plain": [
       "<Elasticsearch([{'host': 'localhost'}])>"
      ]
     },
     "execution_count": 3,
     "metadata": {},
     "output_type": "execute_result"
    }
   ],
   "source": [
    "connections.create_connection(hosts=['localhost'], timeout=20) "
   ]
  },
  {
   "cell_type": "markdown",
   "metadata": {},
   "source": [
    "Defines an index"
   ]
  },
  {
   "cell_type": "code",
   "execution_count": 4,
   "metadata": {
    "collapsed": true
   },
   "outputs": [],
   "source": [
    "judgments = Index(name = 'judgments')"
   ]
  },
  {
   "cell_type": "code",
   "execution_count": 130,
   "metadata": {},
   "outputs": [],
   "source": [
    "# TODO: resolve what should be datatype for judges\n",
    "class Judge(InnerDoc):\n",
    "    function = Text()\n",
    "    name = Text()\n",
    "    specialRoles = Text()\n",
    "\n",
    "\n",
    "class Judgments(DocType):\n",
    "    content = Text()\n",
    "    date = Date()\n",
    "    title = Keyword()\n",
    "    judges = Nested(Judge)\n",
    "    \n",
    "    class Meta:\n",
    "        index = 'title'\n",
    "    \n",
    "    def add_judge(self, function, name, specialRoles):\n",
    "        self.judges.append(\n",
    "            Judge(function=function, name=name, specialRoles=specialRoles))\n",
    "    "
   ]
  },
  {
   "cell_type": "code",
   "execution_count": 165,
   "metadata": {},
   "outputs": [
    {
     "data": {
      "text/plain": [
       "__main__.Judgments"
      ]
     },
     "execution_count": 165,
     "metadata": {},
     "output_type": "execute_result"
    }
   ],
   "source": [
    "judgments.doc_type(Judgments)"
   ]
  },
  {
   "cell_type": "code",
   "execution_count": 166,
   "metadata": {
    "collapsed": true
   },
   "outputs": [],
   "source": [
    "default_analyzer = analyzer('default_analyzer',\n",
    "                           tokenizer='standard')"
   ]
  },
  {
   "cell_type": "code",
   "execution_count": 167,
   "metadata": {
    "collapsed": true
   },
   "outputs": [],
   "source": [
    "judgments.analyzer(default_analyzer)"
   ]
  },
  {
   "cell_type": "code",
   "execution_count": 168,
   "metadata": {},
   "outputs": [],
   "source": [
    "judgments.delete(ignore=404)\n",
    "judgments.create()"
   ]
  },
  {
   "cell_type": "code",
   "execution_count": 169,
   "metadata": {},
   "outputs": [],
   "source": [
    "def read_file(file_path):\n",
    "    with open (file_path) as file:\n",
    "        json_content = json.load(file)\n",
    "        for judgment in json_content:\n",
    "            content = judgment['textContent']\n",
    "            date = judgment['judgmentDate']\n",
    "            title = judgment['courtCases'][0]['caseNumber']\n",
    "            judges  = judgment['judges']\n",
    "            # pprint.pprint(judges)\n",
    "            maping = Judgments(content=content, date=date, title=title)\n",
    "            for judge in judges:\n",
    "                maping.add_judge(function=judge['function'], \n",
    "                             name=judge['name'], \n",
    "                             specialRoles=judge['specialRoles'])\n",
    "                maping.save()\n",
    "#             if not judges:\n",
    "#                 maping.add_judge(function=\"\", name=\"\", specialRoles=\"\")\n",
    "#                 maping.save()"
   ]
  },
  {
   "cell_type": "code",
   "execution_count": 170,
   "metadata": {
    "collapsed": true
   },
   "outputs": [],
   "source": [
    "def read_all_judgments_from_2018():\n",
    "    for filename in os.listdir(\"../data_filtered/\"):\n",
    "        read_file(\"../data_filtered/\" + filename)"
   ]
  },
  {
   "cell_type": "code",
   "execution_count": 171,
   "metadata": {},
   "outputs": [],
   "source": [
    "read_all_judgments_from_2018()"
   ]
  },
  {
   "cell_type": "code",
   "execution_count": 190,
   "metadata": {},
   "outputs": [
    {
     "name": "stdout",
     "output_type": "stream",
     "text": [
      "{'query': {'match': {'content': 'szkoda'}}}\n",
      "Liczba orzeczen w ktorych wystepuje slowo szkoda wynosi: 550\n"
     ]
    }
   ],
   "source": [
    "query = Search().query(\"match\", content=\"szkoda\")\n",
    "response = query.execute(ignore_cache=True)\n",
    "print (query.to_dict())\n",
    "print (f\"Liczba orzeczen w ktorych wystepuje slowo szkoda wynosi: {query.count()}\")"
   ]
  },
  {
   "cell_type": "code",
   "execution_count": null,
   "metadata": {
    "collapsed": true
   },
   "outputs": [],
   "source": [
    "query = Search().query(\"\").fil"
   ]
  }
 ],
 "metadata": {
  "kernelspec": {
   "display_name": "Python 3",
   "language": "python",
   "name": "python3"
  },
  "language_info": {
   "codemirror_mode": {
    "name": "ipython",
    "version": 3
   },
   "file_extension": ".py",
   "mimetype": "text/x-python",
   "name": "python",
   "nbconvert_exporter": "python",
   "pygments_lexer": "ipython3",
   "version": "3.6.1"
  }
 },
 "nbformat": 4,
 "nbformat_minor": 2
}
