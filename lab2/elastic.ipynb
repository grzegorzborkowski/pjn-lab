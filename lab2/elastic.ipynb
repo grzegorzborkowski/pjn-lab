{
 "cells": [
  {
   "cell_type": "code",
   "execution_count": 104,
   "metadata": {
    "collapsed": true
   },
   "outputs": [],
   "source": [
    "from elasticsearch_dsl import connections, A, Index, analyzer, DocType, Date, Text, Keyword, Search, Nested, InnerDoc\n",
    "from elasticsearch_dsl.analysis import TokenFilter\n",
    "import json\n",
    "import pprint\n",
    "import os\n",
    "import matplotlib.pyplot as plt\n",
    "import numpy as np"
   ]
  },
  {
   "cell_type": "code",
   "execution_count": 3,
   "metadata": {
    "collapsed": true
   },
   "outputs": [],
   "source": [
    "# in case of problsems with \"only allow delete api\" then:\n",
    "# curl -XPUT -H \"Content-Type: application/json\" http://localhost:9200/_all/_settings -d '{\"index.blocks.read_only_allow_delete\": null}'"
   ]
  },
  {
   "cell_type": "markdown",
   "metadata": {},
   "source": [
    "Defines a default connection that will be used globally"
   ]
  },
  {
   "cell_type": "code",
   "execution_count": 4,
   "metadata": {
    "collapsed": false
   },
   "outputs": [
    {
     "data": {
      "text/plain": [
       "<Elasticsearch([{'host': 'localhost'}])>"
      ]
     },
     "execution_count": 4,
     "metadata": {},
     "output_type": "execute_result"
    }
   ],
   "source": [
    "connections.create_connection(hosts=['localhost'], timeout=20) "
   ]
  },
  {
   "cell_type": "markdown",
   "metadata": {},
   "source": [
    "Defines an index"
   ]
  },
  {
   "cell_type": "code",
   "execution_count": 5,
   "metadata": {
    "collapsed": true
   },
   "outputs": [],
   "source": [
    "judgments = Index(name = 'judgments')"
   ]
  },
  {
   "cell_type": "code",
   "execution_count": 6,
   "metadata": {
    "collapsed": true
   },
   "outputs": [],
   "source": [
    "# TODO: resolve what should be datatype for judges\n",
    "class Judge(InnerDoc):\n",
    "    function = Text()\n",
    "    name = Text(fielddata=True)\n",
    "    specialRoles = Text()\n",
    "\n",
    "\n",
    "class Judgments(DocType):\n",
    "    content = Text()\n",
    "    date = Date()\n",
    "    title = Keyword()\n",
    "    judges = Nested(Judge)\n",
    "    \n",
    "    class Meta:\n",
    "        index = 'title'\n",
    "    \n",
    "    def add_judge(self, function, name, specialRoles):\n",
    "        self.judges.append(\n",
    "            Judge(function=function, name=name, specialRoles=specialRoles))\n",
    "    "
   ]
  },
  {
   "cell_type": "code",
   "execution_count": 7,
   "metadata": {
    "collapsed": false
   },
   "outputs": [
    {
     "data": {
      "text/plain": [
       "__main__.Judgments"
      ]
     },
     "execution_count": 7,
     "metadata": {},
     "output_type": "execute_result"
    }
   ],
   "source": [
    "judgments.doc_type(Judgments)"
   ]
  },
  {
   "cell_type": "code",
   "execution_count": 8,
   "metadata": {
    "collapsed": true
   },
   "outputs": [],
   "source": [
    "default_analyzer = analyzer('default_analyzer',\n",
    "                           tokenizer='standard')"
   ]
  },
  {
   "cell_type": "code",
   "execution_count": 9,
   "metadata": {
    "collapsed": true
   },
   "outputs": [],
   "source": [
    "morfologik_analyzer = analyzer('morfologik', tokenizer='standard', filter='morfologik_stem')"
   ]
  },
  {
   "cell_type": "code",
   "execution_count": 10,
   "metadata": {
    "collapsed": true
   },
   "outputs": [],
   "source": [
    "judgments.analyzer(default_analyzer)\n",
    "# judgments.analyzer(morfologik_analyzer)"
   ]
  },
  {
   "cell_type": "code",
   "execution_count": 11,
   "metadata": {
    "collapsed": false
   },
   "outputs": [],
   "source": [
    "judgments.delete(ignore=404)\n",
    "judgments.create()"
   ]
  },
  {
   "cell_type": "code",
   "execution_count": 12,
   "metadata": {
    "collapsed": true
   },
   "outputs": [],
   "source": [
    "def read_file(file_path):\n",
    "    with open (file_path) as file:\n",
    "        json_content = json.load(file)\n",
    "        for judgment in json_content:\n",
    "            content = judgment['textContent']\n",
    "            date = judgment['judgmentDate']\n",
    "            title = judgment['courtCases'][0]['caseNumber']\n",
    "            judges  = judgment['judges']\n",
    "            # pprint.pprint(judges)\n",
    "            maping = Judgments(content=content, date=date, title=title)\n",
    "            for judge in judges:\n",
    "                maping.add_judge(function=judge['function'], \n",
    "                             name=judge['name'], \n",
    "                             specialRoles=judge['specialRoles'])\n",
    "                maping.save()"
   ]
  },
  {
   "cell_type": "code",
   "execution_count": 13,
   "metadata": {
    "collapsed": true
   },
   "outputs": [],
   "source": [
    "def read_all_judgments_from_2018():\n",
    "    for filename in os.listdir(\"../data_filtered/\"):\n",
    "        read_file(\"../data_filtered/\" + filename)"
   ]
  },
  {
   "cell_type": "code",
   "execution_count": 14,
   "metadata": {
    "collapsed": true
   },
   "outputs": [],
   "source": [
    "read_all_judgments_from_2018()"
   ]
  },
  {
   "cell_type": "code",
   "execution_count": 15,
   "metadata": {
    "collapsed": false
   },
   "outputs": [
    {
     "name": "stdout",
     "output_type": "stream",
     "text": [
      "{'query': {'match': {'content': 'szkoda'}}}\n",
      "Liczba orzeczen w ktorych wystepuje slowo szkoda wynosi: 1143\n"
     ]
    }
   ],
   "source": [
    "query = Search().query(\"match\", content=\"szkoda\")\n",
    "response = query.execute(ignore_cache=True)\n",
    "print (query.to_dict())\n",
    "\n",
    "print (f\"Liczba orzeczen w ktorych wystepuje slowo szkoda wynosi: {query.count()}\")"
   ]
  },
  {
   "cell_type": "code",
   "execution_count": 16,
   "metadata": {
    "collapsed": false
   },
   "outputs": [
    {
     "data": {
      "text/plain": [
       "{'acknowledged': True, 'shards_acknowledged': True}"
      ]
     },
     "execution_count": 16,
     "metadata": {},
     "output_type": "execute_result"
    }
   ],
   "source": [
    "# https://github.com/elastic/elasticsearch-dsl-py/issues/294\n",
    "# Znajdź liczbę orzeczeń, w których występuje fraza trwały uszczerbek na zdrowiu, \n",
    "# dokładnie w tej kolejności ale w dowolnej formie fleksyjnej.\n",
    "judgments.close()\n",
    "judgments.analyzer(morfologik_analyzer)\n",
    "judgments.open()"
   ]
  },
  {
   "cell_type": "code",
   "execution_count": 17,
   "metadata": {
    "collapsed": false
   },
   "outputs": [
    {
     "name": "stdout",
     "output_type": "stream",
     "text": [
      "{'query': {'match_phrase': {'content': 'trwały uszczerbek na zdrowiu'}}}\n",
      "Liczba orzeczen w ktorych wystepuje trwały uczerbek na zdrowiu i jego odmiany fleksyjne wynosi: 123\n"
     ]
    }
   ],
   "source": [
    "query = Search().query(\"match_phrase\", content=\"trwały uszczerbek na zdrowiu\")\n",
    "response = query.execute(ignore_cache=True)\n",
    "print (query.to_dict())\n",
    "\n",
    "print (f\"Liczba orzeczen w ktorych wystepuje trwały uczerbek na zdrowiu i jego odmiany fleksyjne wynosi: {query.count()}\")"
   ]
  },
  {
   "cell_type": "code",
   "execution_count": 18,
   "metadata": {
    "collapsed": false
   },
   "outputs": [
    {
     "name": "stdout",
     "output_type": "stream",
     "text": [
      "{'query': {'match_phrase': {'content': {'query': 'trwały uszczerbek na zdrowiu', 'slop': 2}}}}\n",
      "Liczba orzeczen w ktorych wystepuje trwały uczerbek na zdrowiu (wraz z odmianami fleksyjnymi) dla slop=2: 140\n"
     ]
    }
   ],
   "source": [
    "slop = 2\n",
    "\n",
    "search = Search().from_dict({\"query\": {\n",
    "      \"match_phrase\": {\n",
    "         \"content\": {\n",
    "            \"query\": \"trwały uszczerbek na zdrowiu\",\n",
    "            \"slop\": slop\n",
    "         }\n",
    "      }\n",
    "   }})\n",
    "\n",
    "response = search.execute()\n",
    "print (search.to_dict())\n",
    "print (f\"Liczba orzeczen w ktorych wystepuje trwały uczerbek na zdrowiu (wraz z odmianami fleksyjnymi) dla slop={slop}: {search.count()}\")"
   ]
  },
  {
   "cell_type": "code",
   "execution_count": 19,
   "metadata": {
    "collapsed": false
   },
   "outputs": [
    {
     "name": "stdout",
     "output_type": "stream",
     "text": [
      "{'_shards': {'failed': 0, 'skipped': 0, 'successful': 15, 'total': 15},\n",
      " 'aggregations': {'judges_name': {'buckets': [{'doc_count': 308,\n",
      "                                               'key': 'Barbara '\n",
      "                                                      'Orechwa-Zawadzka'},\n",
      "                                              {'doc_count': 238,\n",
      "                                               'key': 'Alicja Sołowińska'},\n",
      "                                              {'doc_count': 238,\n",
      "                                               'key': 'B. Kempa'}],\n",
      "                                  'doc_count_error_upper_bound': 165,\n",
      "                                  'sum_other_doc_count': 19177}},\n",
      " 'hits': {'hits': [], 'max_score': 0.0, 'total': 15734},\n",
      " 'timed_out': False,\n",
      " 'took': 255}\n"
     ]
    }
   ],
   "source": [
    "search = Search().from_dict(\n",
    "{\n",
    "   \"size\": 0,\n",
    "       \"aggs\": {\n",
    "            \"judges_name\": {\n",
    "               \"terms\": {\n",
    "                  \"field\": \"judges.name.keyword\",\n",
    "                   \"size\": 3\n",
    "               }\n",
    "            }\n",
    "   }\n",
    "})\n",
    "response = search.execute()\n",
    "pprint.pprint (response.to_dict())"
   ]
  },
  {
   "cell_type": "code",
   "execution_count": 112,
   "metadata": {
    "collapsed": false
   },
   "outputs": [
    {
     "name": "stdout",
     "output_type": "stream",
     "text": [
      "[{'key_as_string': '2018-01-01T00:00:00.000Z', 'key': 1514764800000, 'doc_count': 14169}, {'key_as_string': '2018-02-01T00:00:00.000Z', 'key': 1517443200000, 'doc_count': 1578}]\n"
     ]
    },
    {
     "data": {
      "image/png": "[encoded data removed]",
      "text/plain": [
       "<matplotlib.figure.Figure at 0x7f74dc55b668>"
      ]
     },
     "metadata": {},
     "output_type": "display_data"
    }
   ],
   "source": [
    "search = Search().from_dict(\n",
    "{\n",
    "    \"size\": 0,\n",
    "    \"aggs\" : {\n",
    "        \"judges_over_time\" : {\n",
    "            \"date_histogram\" : {\n",
    "                \"field\" : \"date\",\n",
    "                \"interval\" : \"month\"\n",
    "            }\n",
    "        }\n",
    "    }\n",
    "})\n",
    "\n",
    "response = search.execute()\n",
    "buckets = response.aggregations.judges_over_time.buckets\n",
    "pprint.pprint (buckets)\n",
    "counts = [bucket.doc_count for bucket in buckets]\n",
    "\n",
    "dates = [bucket.key_as_string[:7] for bucket in buckets]\n",
    "\n",
    "fig, ax = plt.subplots()\n",
    "plt.bar([0,1], height=counts, width=0.2)\n",
    "\n",
    "ax.set_xticks(np.arange(0, 2))\n",
    "ax.set_xticklabels(dates)\n",
    "plt.xlabel('Miesiac')\n",
    "plt.ylabel('Liczba orzeczen')\n",
    "plt.title('Liczba orzeczen w danym miesiacu')\n",
    "plt.grid(False)\n",
    "plt.show()"
   ]
  },
  {
   "cell_type": "code",
   "execution_count": 120,
   "metadata": {
    "collapsed": false
   },
   "outputs": [
    {
     "name": "stdout",
     "output_type": "stream",
     "text": [
      "[{'key_as_string': '2018-01-01T00:00:00.000Z', 'key': 1514764800000, 'doc_count': 1908}, {'key_as_string': '2018-01-08T00:00:00.000Z', 'key': 1515369600000, 'doc_count': 4106}, {'key_as_string': '2018-01-15T00:00:00.000Z', 'key': 1515974400000, 'doc_count': 4050}, {'key_as_string': '2018-01-22T00:00:00.000Z', 'key': 1516579200000, 'doc_count': 2876}, {'key_as_string': '2018-01-29T00:00:00.000Z', 'key': 1517184000000, 'doc_count': 1727}, {'key_as_string': '2018-02-05T00:00:00.000Z', 'key': 1517788800000, 'doc_count': 698}, {'key_as_string': '2018-02-12T00:00:00.000Z', 'key': 1518393600000, 'doc_count': 309}, {'key_as_string': '2018-02-19T00:00:00.000Z', 'key': 1518998400000, 'doc_count': 73}]\n",
      "[{'key_as_string': '2018-01-01T00:00:00.000Z', 'key': 1514764800000, 'doc_count': 1908}, {'key_as_string': '2018-01-08T00:00:00.000Z', 'key': 1515369600000, 'doc_count': 4106}, {'key_as_string': '2018-01-15T00:00:00.000Z', 'key': 1515974400000, 'doc_count': 4050}, {'key_as_string': '2018-01-22T00:00:00.000Z', 'key': 1516579200000, 'doc_count': 2876}, {'key_as_string': '2018-01-29T00:00:00.000Z', 'key': 1517184000000, 'doc_count': 1727}, {'key_as_string': '2018-02-05T00:00:00.000Z', 'key': 1517788800000, 'doc_count': 698}, {'key_as_string': '2018-02-12T00:00:00.000Z', 'key': 1518393600000, 'doc_count': 309}, {'key_as_string': '2018-02-19T00:00:00.000Z', 'key': 1518998400000, 'doc_count': 73}]\n"
     ]
    },
    {
     "data": {
      "image/png": "[encoded data removed]",
      "text/plain": [
       "<matplotlib.figure.Figure at 0x7f74b4269048>"
      ]
     },
     "metadata": {},
     "output_type": "display_data"
    }
   ],
   "source": [
    "search = Search().from_dict({\n",
    "    \"size\": 0,\n",
    "    \"aggs\" : {\n",
    "        \"judges_over_time\" : {\n",
    "            \"date_histogram\" : {\n",
    "                \"field\" : \"date\",\n",
    "                \"interval\" : \"week\"\n",
    "            }\n",
    "        }\n",
    "    }\n",
    "})\n",
    "\n",
    "response = search.execute()\n",
    "buckets = response.aggregations.judges_over_time.buckets\n",
    "pprint.pprint (buckets)\n",
    "\n",
    "pprint.pprint (buckets)\n",
    "counts = [bucket.doc_count for bucket in buckets]\n",
    "\n",
    "dates = [bucket.key_as_string[:10] for bucket in buckets]\n",
    "\n",
    "fig, ax = plt.subplots()\n",
    "plt.bar(np.arange(0, len(dates)), height=counts, width=0.2)\n",
    "\n",
    "fig.set_size_inches(10, 10)\n",
    "\n",
    "ax.set_xticks(np.arange(0, len(dates)))\n",
    "ax.set_xticklabels(dates)\n",
    "plt.xscale\n",
    "plt.xlabel('Tydzien')\n",
    "plt.ylabel('Liczba orzeczen')\n",
    "plt.title('Liczba orzeczen w danym tygodniu')\n",
    "plt.grid(False)\n",
    "plt.show()"
   ]
  }
 ],
 "metadata": {
  "kernelspec": {
   "display_name": "Python 3",
   "language": "python",
   "name": "python3"
  },
  "language_info": {
   "codemirror_mode": {
    "name": "ipython",
    "version": 3
   },
   "file_extension": ".py",
   "mimetype": "text/x-python",
   "name": "python",
   "nbconvert_exporter": "python",
   "pygments_lexer": "ipython3",
   "version": "3.6.1"
  }
 },
 "nbformat": 4,
 "nbformat_minor": 2
}
