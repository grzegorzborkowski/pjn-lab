{
 "cells": [
  {
   "cell_type": "code",
   "execution_count": 34,
   "metadata": {
    "collapsed": true
   },
   "outputs": [],
   "source": [
    "import json\n",
    "import os\n",
    "from pprint import pprint"
   ]
  },
  {
   "cell_type": "code",
   "execution_count": 29,
   "metadata": {
    "collapsed": true
   },
   "outputs": [],
   "source": [
    "def filter_json_based_on_date(file_path, year='2018'):\n",
    "    with open(file_path) as json_file:\n",
    "        json_data = json.load(json_file)\n",
    "        items = json_data['items']\n",
    "        filtered = [item for item in items if item['judgmentDate'][:4] == year]\n",
    "        return filtered"
   ]
  },
  {
   "cell_type": "code",
   "execution_count": 32,
   "metadata": {
    "collapsed": true
   },
   "outputs": [],
   "source": [
    "def write_filtered_judgments(file_path):\n",
    "    file_name_suffix = file_path[10:]\n",
    "    filtered = filter_json_based_on_date(file_path, '2018')\n",
    "    if filtered:\n",
    "        with open (\"data_filtered/\" + file_name_suffix, \"w\") as output_file:\n",
    "            json.dump(filtered, output_file)"
   ]
  },
  {
   "cell_type": "code",
   "execution_count": 38,
   "metadata": {},
   "outputs": [],
   "source": [
    "for filename in os.listdir(\"data/json/\"):\n",
    "    if \"judgments\" in filename: \n",
    "        write_filtered_judgments(\"data/json/\" + filename)"
   ]
  }
 ],
 "metadata": {
  "kernelspec": {
   "display_name": "Python 3",
   "language": "python",
   "name": "python3"
  },
  "language_info": {
   "codemirror_mode": {
    "name": "ipython",
    "version": 3
   },
   "file_extension": ".py",
   "mimetype": "text/x-python",
   "name": "python",
   "nbconvert_exporter": "python",
   "pygments_lexer": "ipython3",
   "version": "3.6.1"
  }
 },
 "nbformat": 4,
 "nbformat_minor": 2
}
