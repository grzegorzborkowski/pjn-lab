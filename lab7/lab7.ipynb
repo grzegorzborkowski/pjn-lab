{
 "cells": [
  {
   "cell_type": "code",
   "execution_count": 3,
   "metadata": {
    "collapsed": true
   },
   "outputs": [],
   "source": [
    "import requests, json, pprint, string, collections, tqdm, networkx as nx, matplotlib.pyplot as plt"
   ]
  },
  {
   "cell_type": "code",
   "execution_count": 4,
   "metadata": {
    "collapsed": true
   },
   "outputs": [],
   "source": [
    "# G=nx.generators.diamond_graph()\n",
    "# nx.draw(G)\n",
    "# plt.draw()\n",
    "# plt.show()"
   ]
  },
  {
   "cell_type": "code",
   "execution_count": 4,
   "metadata": {
    "collapsed": true
   },
   "outputs": [],
   "source": [
    "API_LINK = \"http://api.slowosiec.clarin-pl.eu:80/plwordnet-api/\"\n",
    "SENSE_ID_FOR_SYNSET = \"synsets/search?lemma=\"\n",
    "SYNSET_ID_template = string.Template(\"senses/$ID/synset\")\n",
    "GET_SYNSET_GIVEN_ID = string.Template(\"synsets/$ID/cache\")\n",
    "\n",
    "#############\n",
    "\n",
    "SENSE_ID = string.Template(\"senses/search?lemma=$LEMMA&&&&&&&&&\")\n",
    "RELATIONS_FOR_SYNSET_ID = string.Template(\"synsets/$ID/relations\")\n",
    "GET_SENSE_BASED_ON_SYNSET_ID = string.Template(\"synsets/$ID/senses\")"
   ]
  },
  {
   "cell_type": "code",
   "execution_count": 5,
   "metadata": {
    "collapsed": true
   },
   "outputs": [],
   "source": [
    "def get_sense_id(word):\n",
    "    link = API_LINK + SENSE_ID_FOR_SYNSET + word + \"&&&&&&&&&\"\n",
    "    response = requests.get(link).text\n",
    "    json_content = json.loads(response)\n",
    "    senses_id = []\n",
    "    for result in json_content:\n",
    "        if result['lemma']['word'] == word:\n",
    "            sense_id = result['id']\n",
    "            senses_id.append(sense_id)\n",
    "    return senses_id\n",
    "\n",
    "def get_synset_id(sense_id):\n",
    "    link = API_LINK + SYNSET_ID_template.substitute(ID=sense_id)\n",
    "    response = requests.get(link).text\n",
    "    json_content = json.loads(response)\n",
    "    return json_content['id']\n",
    "\n",
    "def get_synset_given_id(synset_id):\n",
    "    link = API_LINK + GET_SYNSET_GIVEN_ID.substitute(ID=synset_id)\n",
    "    response = requests.get(link).text\n",
    "    json_content = json.loads(response)\n",
    "    senses = []\n",
    "    lemmas = []\n",
    "    for element in range(len(json_content)):\n",
    "        sense = json_content[element]['synset']['senses']\n",
    "        for lemma in sense.values():\n",
    "            lemmas.append(lemma)\n",
    "    return lemmas"
   ]
  },
  {
   "cell_type": "code",
   "execution_count": 6,
   "metadata": {
    "collapsed": true
   },
   "outputs": [],
   "source": [
    "relationRecord = collections.namedtuple(\n",
    "    'relationRecord', ['synset_from_id', 'synset_to_id', 'relation_type'])"
   ]
  },
  {
   "cell_type": "code",
   "execution_count": 7,
   "metadata": {
    "collapsed": true
   },
   "outputs": [],
   "source": [
    "def get_sense_id_based_on_lemma(lemma):\n",
    "    link = API_LINK + SENSE_ID.substitute(LEMMA=lemma)\n",
    "    response = requests.get(link).text\n",
    "    json_content = json.loads(response)\n",
    "    if len(json_content['content'])>0:\n",
    "        return json_content['content'][0]['id']\n",
    "    return None\n",
    "\n",
    "def get_relations_based_on_synset_id(synset_id):\n",
    "    link = API_LINK + RELATIONS_FOR_SYNSET_ID.substitute(ID=synset_id)\n",
    "    response = requests.get(link).text\n",
    "    json_content = json.loads(response)\n",
    "    return json_content\n",
    "\n",
    "def get_relations_of_given_type_based_on_synset_id(synset_id, relation_type):\n",
    "    json_content = get_relations_based_on_synset_id(synset_id)\n",
    "    response_len = len(json_content)\n",
    "    results = []\n",
    "    for idx in range(response_len):\n",
    "        relation_name = json_content[idx]['relation']['name']\n",
    "        if relation_name == relation_type:\n",
    "            synsetFrom = str(json_content[idx]['synsetFrom']['id'])\n",
    "            synsetTo = str(json_content[idx]['synsetTo']['id'])\n",
    "            relationType = str(json_content[idx]['relation']['name'])\n",
    "            relation = relationRecord(synsetFrom, synsetTo, relationType)\n",
    "            results.append(relation)\n",
    "    return results\n",
    "\n",
    "def get_sense_based_on_synset_id(synset_id):\n",
    "    link = API_LINK + GET_SENSE_BASED_ON_SYNSET_ID.substitute(ID=synset_id)\n",
    "    response = requests.get(link).text\n",
    "    json_content = json.loads(response)\n",
    "    lemmas = []\n",
    "    for element in range(len(json_content)):\n",
    "        lemmas.append(json_content[element]['lemma']['word'])\n",
    "    return lemmas"
   ]
  },
  {
   "cell_type": "code",
   "execution_count": 9,
   "metadata": {
    "scrolled": false
   },
   "outputs": [
    {
     "name": "stdout",
     "output_type": "stream",
     "text": [
      "'tęsknić'\n",
      "'tęsknić'\n",
      "'szkoda'\n",
      "'żałować'\n",
      "'żal'\n",
      "'opłakiwać'\n",
      "'płakać'\n",
      "'doświadczać negatywnego uczucia'\n",
      "'doświadczać negatywnego uczucia'\n",
      "'opłakiwać'\n",
      "'płakać'\n",
      "'commiseration'\n",
      "'pity'\n",
      "'ruth'\n",
      "'pathos'\n",
      "'commiseration'\n",
      "'pity'\n",
      "'ruth'\n",
      "'pathos'\n",
      "##################################################\n",
      "'żerowisko'\n",
      "'field'\n",
      "'pole'\n",
      "'łan'\n",
      "'niwa'\n",
      "'rola'\n",
      "'pole uprawne'\n",
      "'szkoda'\n",
      "'żerowisko'\n",
      "'field'\n",
      "'pole'\n",
      "'łan'\n",
      "'niwa'\n",
      "'rola'\n",
      "'pole uprawne'\n",
      "##################################################\n"
     ]
    }
   ],
   "source": [
    "# Znajdź wszystkie znaczenia rzeczownika szkoda oraz wymień ich synonimy (jeśli posiadają).\n",
    "senses_id = get_sense_id(\"szkoda\")\n",
    "for sense_id in senses_id:\n",
    "    synset_id = get_synset_id(sense_id)\n",
    "    lemmas = get_synset_given_id(synset_id)\n",
    "    for lemma in lemmas:\n",
    "        pprint.pprint(lemma['lemma']['word'])\n",
    "    print (\"##################################################\")"
   ]
  },
  {
   "cell_type": "code",
   "execution_count": 118,
   "metadata": {
    "collapsed": true
   },
   "outputs": [],
   "source": [
    "def get_hiperonims_for_lemma(lemma, relation='hiperonimia'):\n",
    "    sense_id = get_sense_id_based_on_lemma(lemma)\n",
    "    synset_id = get_synset_id(sense_id)\n",
    "    relationRecordResult = get_relations_of_given_type_based_on_synset_id(synset_id, relation)\n",
    "    results = []\n",
    "    for idx in range(len(relationRecordResult)):\n",
    "        results.append((\n",
    "            get_sense_based_on_synset_id(relationRecordResult[idx].synset_to_id)[0],\n",
    "             get_sense_based_on_synset_id(relationRecordResult[idx].synset_from_id)[0]))\n",
    "    return results"
   ]
  },
  {
   "cell_type": "code",
   "execution_count": 125,
   "metadata": {
    "collapsed": true
   },
   "outputs": [],
   "source": [
    "def get_hiponims_for_lemma(lemma):\n",
    "    return get_hiperonims_for_lemma(lemma, relation='hiponimia')"
   ]
  },
  {
   "cell_type": "code",
   "execution_count": 128,
   "metadata": {
    "collapsed": true
   },
   "outputs": [],
   "source": [
    "def get_transitive_closure_for_lemma(lemma, func):\n",
    "    hiperonims = []\n",
    "    res = get_hiperonims_for_lemma(lemma)\n",
    "    hiperonims.append(res[0])\n",
    "    for tmp in hiperonims:\n",
    "        print (hiperonims)\n",
    "        insertAnything = False\n",
    "        word = tmp[1]\n",
    "        results = func(word)\n",
    "        for result in results:\n",
    "            if result not in hiperonims:\n",
    "                hiperonims.append(result)\n",
    "                insertAnything = True\n",
    "        if not insertAnything:\n",
    "            return hiperonims"
   ]
  },
  {
   "cell_type": "code",
   "execution_count": 58,
   "metadata": {},
   "outputs": [
    {
     "name": "stdout",
     "output_type": "stream",
     "text": [
      "[('wypadek drogowy', 'wypadek komunikacyjny')]\n",
      "[('wypadek drogowy', 'wypadek komunikacyjny'), ('wypadek komunikacyjny', 'wypadek')]\n"
     ]
    }
   ],
   "source": [
    "print(get_hiperonims_for_lemma(\"wypadek%20drogowy\"))\n",
    "print(get_hiperonims_for_lemma(\"wypadek%20komunikacyjny\"))"
   ]
  },
  {
   "cell_type": "code",
   "execution_count": 122,
   "metadata": {
    "collapsed": true
   },
   "outputs": [],
   "source": [
    "results = get_transitive_closure_for_lemma(\"wypadek%20drogowy\", get_hiperonims_for_lemma)"
   ]
  },
  {
   "cell_type": "code",
   "execution_count": 123,
   "metadata": {},
   "outputs": [
    {
     "data": {
      "text/plain": [
       "[('wypadek drogowy', 'wypadek komunikacyjny'),\n",
       " ('wypadek komunikacyjny', 'wypadek'),\n",
       " ('zawał', 'wypadek'),\n",
       " ('tąpnięcie', 'wypadek'),\n",
       " ('katastrofa', 'wypadek'),\n",
       " ('wykolejenie', 'wypadek'),\n",
       " ('zakrztuszenie', 'wypadek'),\n",
       " ('katastrofa budowlana', 'wypadek'),\n",
       " ('wypadek', 'zdarzenie oceniane negatywnie')]"
      ]
     },
     "execution_count": 123,
     "metadata": {},
     "output_type": "execute_result"
    }
   ],
   "source": [
    "results"
   ]
  },
  {
   "cell_type": "code",
   "execution_count": 13,
   "metadata": {},
   "outputs": [
    {
     "name": "stdout",
     "output_type": "stream",
     "text": [
      "Wypadek drogowy, synet id: 3982\n",
      "Relation of : hiponimia, from sense: ['wypadek'] to sense: ['zdarzenie oceniane negatywnie']\n",
      "Relation of : hiponimia, from sense: ['zawał'] to sense: ['wypadek']\n",
      "Relation of : hiponimia, from sense: ['tąpnięcie'] to sense: ['wypadek']\n",
      "Relation of : hiponimia, from sense: ['katastrofa'] to sense: ['wypadek']\n",
      "Relation of : hiponimia, from sense: ['wykolejenie'] to sense: ['wypadek']\n",
      "Relation of : hiponimia, from sense: ['zakrztuszenie', 'zachłyśnięcie'] to sense: ['wypadek']\n",
      "Relation of : hiponimia, from sense: ['wypadek komunikacyjny'] to sense: ['wypadek']\n",
      "Relation of : hiponimia, from sense: ['katastrofa budowlana'] to sense: ['wypadek']\n"
     ]
    }
   ],
   "source": [
    "# Znajdź bezpośrednie hiponimy rzeczownika wypadek1.\n",
    "sense_id = get_sense_id_based_on_lemma(\"wypadek\")\n",
    "synset_id = get_synset_id(sense_id)\n",
    "print (\"Wypadek drogowy, synet id: {0}\".format(str(synset_id)))\n",
    "relationRecordResult = get_relations_of_given_type_based_on_synset_id(synset_id, \"hiponimia\")\n",
    "senseFrom = get_sense_based_on_synset_id(relationRecordResult[0].synset_from_id)\n",
    "\n",
    "words = []\n",
    "\n",
    "for idx in range(len(relationRecordResult)):\n",
    "    print (\"Relation of : {0}, from sense: {1} to sense: {2}\".format( \n",
    "          relationRecordResult[idx].relation_type, \n",
    "          get_sense_based_on_synset_id(relationRecordResult[idx].synset_from_id),\n",
    "          get_sense_based_on_synset_id(relationRecordResult[idx].synset_to_id)))\n",
    "    words.append(get_sense_based_on_synset_id(relationRecordResult[idx].synset_from_id))"
   ]
  },
  {
   "cell_type": "code",
   "execution_count": 136,
   "metadata": {
    "collapsed": true
   },
   "outputs": [],
   "source": [
    "res = get_hiponims_for_lemma('wypadek')"
   ]
  },
  {
   "cell_type": "code",
   "execution_count": 137,
   "metadata": {},
   "outputs": [
    {
     "name": "stdout",
     "output_type": "stream",
     "text": [
      "[('zdarzenie oceniane negatywnie', 'wypadek'), ('wypadek', 'zawał'), ('wypadek', 'tąpnięcie'), ('wypadek', 'katastrofa'), ('wypadek', 'wykolejenie'), ('wypadek', 'zakrztuszenie'), ('wypadek', 'wypadek komunikacyjny'), ('wypadek', 'katastrofa budowlana')]\n"
     ]
    }
   ],
   "source": [
    "print (res)"
   ]
  },
  {
   "cell_type": "code",
   "execution_count": 22,
   "metadata": {},
   "outputs": [
    {
     "ename": "KeyError",
     "evalue": "'id'",
     "output_type": "error",
     "traceback": [
      "\u001b[0;31m---------------------------------------------------------------------------\u001b[0m",
      "\u001b[0;31mKeyError\u001b[0m                                  Traceback (most recent call last)",
      "\u001b[0;32m<ipython-input-22-8e4cb7feaae8>\u001b[0m in \u001b[0;36m<module>\u001b[0;34m()\u001b[0m\n\u001b[1;32m     13\u001b[0m                                    \u001b[0;34m'uszczerbek'\u001b[0m\u001b[0;34m,\u001b[0m \u001b[0;34m'szkoda%20majątkowa'\u001b[0m\u001b[0;34m,\u001b[0m\u001b[0;34m\u001b[0m\u001b[0m\n\u001b[1;32m     14\u001b[0m \u001b[0;31m#                                   'uszczerbek%20%na%20zdrowiu', 'krzywda'\u001b[0m\u001b[0;34m\u001b[0m\u001b[0;34m\u001b[0m\u001b[0m\n\u001b[0;32m---> 15\u001b[0;31m                                   'niesprawiedliwość', 'nieszczęście'])\n\u001b[0m\u001b[1;32m     16\u001b[0m \u001b[0;34m\u001b[0m\u001b[0m\n\u001b[1;32m     17\u001b[0m \u001b[0;31m# sense_id = get_sense_id_based_on_lemma('szkoda')\u001b[0m\u001b[0;34m\u001b[0m\u001b[0;34m\u001b[0m\u001b[0m\n",
      "\u001b[0;32m<ipython-input-22-8e4cb7feaae8>\u001b[0m in \u001b[0;36mget_synset_id_for_list_of_lemmas\u001b[0;34m(lemmas)\u001b[0m\n\u001b[1;32m      5\u001b[0m \u001b[0;34m\u001b[0m\u001b[0m\n\u001b[1;32m      6\u001b[0m \u001b[0;32mdef\u001b[0m \u001b[0mget_synset_id_for_list_of_lemmas\u001b[0m\u001b[0;34m(\u001b[0m\u001b[0mlemmas\u001b[0m\u001b[0;34m)\u001b[0m\u001b[0;34m:\u001b[0m\u001b[0;34m\u001b[0m\u001b[0m\n\u001b[0;32m----> 7\u001b[0;31m     \u001b[0mlemmas_ids\u001b[0m \u001b[0;34m=\u001b[0m \u001b[0;34m[\u001b[0m\u001b[0;34m(\u001b[0m\u001b[0mlemma\u001b[0m\u001b[0;34m,\u001b[0m \u001b[0mget_synset_id_for_lemma\u001b[0m\u001b[0;34m(\u001b[0m\u001b[0mlemma\u001b[0m\u001b[0;34m)\u001b[0m\u001b[0;34m)\u001b[0m \u001b[0;32mfor\u001b[0m \u001b[0mlemma\u001b[0m \u001b[0;32min\u001b[0m \u001b[0mlemmas\u001b[0m\u001b[0;34m]\u001b[0m\u001b[0;34m\u001b[0m\u001b[0m\n\u001b[0m\u001b[1;32m      8\u001b[0m     \u001b[0;32mreturn\u001b[0m \u001b[0mlemmas_ids\u001b[0m\u001b[0;34m\u001b[0m\u001b[0m\n\u001b[1;32m      9\u001b[0m \u001b[0;34m\u001b[0m\u001b[0m\n",
      "\u001b[0;32m<ipython-input-22-8e4cb7feaae8>\u001b[0m in \u001b[0;36m<listcomp>\u001b[0;34m(.0)\u001b[0m\n\u001b[1;32m      5\u001b[0m \u001b[0;34m\u001b[0m\u001b[0m\n\u001b[1;32m      6\u001b[0m \u001b[0;32mdef\u001b[0m \u001b[0mget_synset_id_for_list_of_lemmas\u001b[0m\u001b[0;34m(\u001b[0m\u001b[0mlemmas\u001b[0m\u001b[0;34m)\u001b[0m\u001b[0;34m:\u001b[0m\u001b[0;34m\u001b[0m\u001b[0m\n\u001b[0;32m----> 7\u001b[0;31m     \u001b[0mlemmas_ids\u001b[0m \u001b[0;34m=\u001b[0m \u001b[0;34m[\u001b[0m\u001b[0;34m(\u001b[0m\u001b[0mlemma\u001b[0m\u001b[0;34m,\u001b[0m \u001b[0mget_synset_id_for_lemma\u001b[0m\u001b[0;34m(\u001b[0m\u001b[0mlemma\u001b[0m\u001b[0;34m)\u001b[0m\u001b[0;34m)\u001b[0m \u001b[0;32mfor\u001b[0m \u001b[0mlemma\u001b[0m \u001b[0;32min\u001b[0m \u001b[0mlemmas\u001b[0m\u001b[0;34m]\u001b[0m\u001b[0;34m\u001b[0m\u001b[0m\n\u001b[0m\u001b[1;32m      8\u001b[0m     \u001b[0;32mreturn\u001b[0m \u001b[0mlemmas_ids\u001b[0m\u001b[0;34m\u001b[0m\u001b[0m\n\u001b[1;32m      9\u001b[0m \u001b[0;34m\u001b[0m\u001b[0m\n",
      "\u001b[0;32m<ipython-input-22-8e4cb7feaae8>\u001b[0m in \u001b[0;36mget_synset_id_for_lemma\u001b[0;34m(lemma)\u001b[0m\n\u001b[1;32m      1\u001b[0m \u001b[0;32mdef\u001b[0m \u001b[0mget_synset_id_for_lemma\u001b[0m\u001b[0;34m(\u001b[0m\u001b[0mlemma\u001b[0m\u001b[0;34m)\u001b[0m\u001b[0;34m:\u001b[0m\u001b[0;34m\u001b[0m\u001b[0m\n\u001b[1;32m      2\u001b[0m     \u001b[0msense_id\u001b[0m \u001b[0;34m=\u001b[0m \u001b[0mget_sense_id_based_on_lemma\u001b[0m\u001b[0;34m(\u001b[0m\u001b[0mlemma\u001b[0m\u001b[0;34m)\u001b[0m\u001b[0;34m\u001b[0m\u001b[0m\n\u001b[0;32m----> 3\u001b[0;31m     \u001b[0msynset_id\u001b[0m \u001b[0;34m=\u001b[0m \u001b[0mget_synset_id\u001b[0m\u001b[0;34m(\u001b[0m\u001b[0msense_id\u001b[0m\u001b[0;34m)\u001b[0m\u001b[0;34m\u001b[0m\u001b[0m\n\u001b[0m\u001b[1;32m      4\u001b[0m     \u001b[0;32mreturn\u001b[0m \u001b[0msynset_id\u001b[0m\u001b[0;34m\u001b[0m\u001b[0m\n\u001b[1;32m      5\u001b[0m \u001b[0;34m\u001b[0m\u001b[0m\n",
      "\u001b[0;32m<ipython-input-5-2d60a751933c>\u001b[0m in \u001b[0;36mget_synset_id\u001b[0;34m(sense_id)\u001b[0m\n\u001b[1;32m     14\u001b[0m     \u001b[0mresponse\u001b[0m \u001b[0;34m=\u001b[0m \u001b[0mrequests\u001b[0m\u001b[0;34m.\u001b[0m\u001b[0mget\u001b[0m\u001b[0;34m(\u001b[0m\u001b[0mlink\u001b[0m\u001b[0;34m)\u001b[0m\u001b[0;34m.\u001b[0m\u001b[0mtext\u001b[0m\u001b[0;34m\u001b[0m\u001b[0m\n\u001b[1;32m     15\u001b[0m     \u001b[0mjson_content\u001b[0m \u001b[0;34m=\u001b[0m \u001b[0mjson\u001b[0m\u001b[0;34m.\u001b[0m\u001b[0mloads\u001b[0m\u001b[0;34m(\u001b[0m\u001b[0mresponse\u001b[0m\u001b[0;34m)\u001b[0m\u001b[0;34m\u001b[0m\u001b[0m\n\u001b[0;32m---> 16\u001b[0;31m     \u001b[0;32mreturn\u001b[0m \u001b[0mjson_content\u001b[0m\u001b[0;34m[\u001b[0m\u001b[0;34m'id'\u001b[0m\u001b[0;34m]\u001b[0m\u001b[0;34m\u001b[0m\u001b[0m\n\u001b[0m\u001b[1;32m     17\u001b[0m \u001b[0;34m\u001b[0m\u001b[0m\n\u001b[1;32m     18\u001b[0m \u001b[0;32mdef\u001b[0m \u001b[0mget_synset_given_id\u001b[0m\u001b[0;34m(\u001b[0m\u001b[0msynset_id\u001b[0m\u001b[0;34m)\u001b[0m\u001b[0;34m:\u001b[0m\u001b[0;34m\u001b[0m\u001b[0m\n",
      "\u001b[0;31mKeyError\u001b[0m: 'id'"
     ]
    }
   ],
   "source": [
    "def get_synset_id_for_lemma(lemma):\n",
    "    sense_id = get_sense_id_based_on_lemma(lemma)\n",
    "    synset_id = get_synset_id(sense_id)\n",
    "    return synset_id\n",
    "\n",
    "def get_synset_id_for_list_of_lemmas(lemmas):\n",
    "    lemmas_ids = [(lemma, get_synset_id_for_lemma(lemma)) for lemma in lemmas]\n",
    "    return lemmas_ids\n",
    "\n",
    "#szkoda2, strata1, uszczerbek1, \n",
    "#szkoda majątkowa1, uszczerbek na zdrowiu1, krzywda1, niesprawiedliwość1, nieszczęście2.\n",
    "get_synset_id_for_list_of_lemmas(['szkoda', 'strata', \n",
    "                                   'uszczerbek', 'szkoda%20majątkowa',\n",
    "#                                   'uszczerbek%20%na%20zdrowiu', 'krzywda'\n",
    "                                  'niesprawiedliwość', 'nieszczęście'])\n",
    "\n",
    "# sense_id = get_sense_id_based_on_lemma('szkoda')\n",
    "# synset_id = get_synset_id(sense_id)\n",
    "# relations = get_relations_based_on_synset_id(synset_id)\n",
    "# pprint.pprint (relations)"
   ]
  }
 ],
 "metadata": {
  "kernelspec": {
   "display_name": "Python 3",
   "language": "python",
   "name": "python3"
  },
  "language_info": {
   "codemirror_mode": {
    "name": "ipython",
    "version": 3
   },
   "file_extension": ".py",
   "mimetype": "text/x-python",
   "name": "python",
   "nbconvert_exporter": "python",
   "pygments_lexer": "ipython3",
   "version": "3.6.3"
  }
 },
 "nbformat": 4,
 "nbformat_minor": 2
}
