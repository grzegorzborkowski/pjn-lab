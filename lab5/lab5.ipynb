{
 "cells": [
  {
   "cell_type": "code",
   "execution_count": 2,
   "metadata": {
    "collapsed": true
   },
   "outputs": [],
   "source": [
    "import os, json, re, string, requests, pprint, nltk, operator, numpy as np, math, tqdm\n",
    "from time import gmtime, strftime\n",
    "from functools import wraps\n",
    "from time import time"
   ]
  },
  {
   "cell_type": "code",
   "execution_count": 89,
   "metadata": {
    "collapsed": true
   },
   "outputs": [],
   "source": []
  },
  {
   "cell_type": "code",
   "execution_count": 1,
   "metadata": {
    "collapsed": true
   },
   "outputs": [],
   "source": [
    "def process_judgment(judgment):\n",
    "    data_to_query = (\",\").join(judgment)\n",
    "    r = requests.post(data=data_to_query.encode(\"utf-8\"), url=\"http://localhost:9200\")\n",
    "    response_text = r.text\n",
    "    splited_response = response_text.splitlines()\n",
    "    splited_response = [\" \".join(x.replace(\"\\t\", \" \").replace(\"none\", \"\")[1:].split(\":\")[:2][:1]).replace(\" \", \":\")\n",
    "                        for x in splited_response if \":\" in x]\n",
    "    return splited_response"
   ]
  },
  {
   "cell_type": "code",
   "execution_count": 33,
   "metadata": {},
   "outputs": [
    {
     "name": "stderr",
     "output_type": "stream",
     "text": [
      "100%|██████████| 23/23 [00:00<00:00, 24628.28it/s]\n"
     ]
    }
   ],
   "source": [
    "all_words = []\n",
    "\n",
    "def read_file(file_path):\n",
    "    print (\"Processing file\" + file_path)\n",
    "    with open (file_path) as file:\n",
    "        json_content = json.load(file)\n",
    "        item_count = 0\n",
    "        for item in tqdm.tqdm(json_content):\n",
    "            judgment = []\n",
    "            item_count += 1\n",
    "            text_content = re.sub(\"<.*?>\", \"\", item[\"textContent\"])\n",
    "            text_content = text_content.replace('-\\n', '')\n",
    "            word_content = text_content.split()\n",
    "            topicSpecificPunctuation = '„”–§…«»'\n",
    "            translator = str.maketrans('', '', string.punctuation+topicSpecificPunctuation)\n",
    "            \n",
    "            for word in word_content:\n",
    "                word = word.translate(translator).lower()\n",
    "                if len(word)>0:\n",
    "                    judgment.append(word)\n",
    "            unigrams = process_judgment(judgment)\n",
    "                \n",
    "            with open(file_path + \"_results.txt\", 'a') as out_file:\n",
    "                for unigram in unigrams:\n",
    "                    out_file.write(unigram + \"\\n\")\n",
    "\n",
    "                    \n",
    "def read_all_judgments_from_2018():\n",
    "    with open(\"../data_filtered/raport.txt\", \"a\") as raport_file:\n",
    "        for filename in tqdm.tqdm(os.listdir(\"../data_filtered/\")):\n",
    "            if not filename + \"_results.txt\" in os.listdir(\"../data_filtered/\") \\\n",
    "                and not \"json_results\" in filename and not \"raport.txt\" in filename:\n",
    "                raport_file.write(str(strftime(\"%Y-%m-%d %H:%M:%S\", gmtime())) + \" \")\n",
    "                raport_file.write(\"Writing to file \" + filename + \"\\n\")\n",
    "                raport_file.flush()\n",
    "                read_file(\"../data_filtered/\" + filename)\n",
    "                raport_file.write(str(strftime(\"%Y-%m-%d %H:%M:%S\", gmtime())) + \" \")\n",
    "                raport_file.write(\"Writing to file \" + filename + \"FINISHED \\n\")\n",
    "                raport_file.flush()\n",
    "        \n",
    "read_all_judgments_from_2018()"
   ]
  },
  {
   "cell_type": "code",
   "execution_count": 11,
   "metadata": {
    "collapsed": true
   },
   "outputs": [],
   "source": [
    "def read_list_from_file(file_path):\n",
    "    with open(file_path) as file:\n",
    "        content = file.read().split(\"\\n\")\n",
    "        return content"
   ]
  },
  {
   "cell_type": "code",
   "execution_count": 12,
   "metadata": {
    "collapsed": true
   },
   "outputs": [],
   "source": [
    "content = []"
   ]
  },
  {
   "cell_type": "code",
   "execution_count": 14,
   "metadata": {},
   "outputs": [
    {
     "name": "stderr",
     "output_type": "stream",
     "text": [
      "100%|██████████| 23/23 [00:00<00:00, 85.23it/s]\n"
     ]
    }
   ],
   "source": [
    " for filename in tqdm.tqdm(os.listdir(\"../data_filtered/\")):\n",
    "        if \"json_result\" in filename:\n",
    "            content += read_list_from_file(\"../data_filtered/\" + filename)"
   ]
  },
  {
   "cell_type": "code",
   "execution_count": 17,
   "metadata": {},
   "outputs": [
    {
     "name": "stdout",
     "output_type": "stream",
     "text": [
      "['sygn:subst', 'akt:subst', 'k:subst', '11617:num', 'pr:brev', '2:adj', 'ds:brev', '5032016:adj', 'prokuratura:subst', 'rejonowy:adj']\n"
     ]
    }
   ],
   "source": []
  },
  {
   "cell_type": "code",
   "execution_count": 23,
   "metadata": {
    "collapsed": true
   },
   "outputs": [],
   "source": [
    "splited_response = content\n",
    "# splited_response = [item for sublist in splited_response for item in sublist]\n"
   ]
  },
  {
   "cell_type": "code",
   "execution_count": 25,
   "metadata": {
    "collapsed": true
   },
   "outputs": [],
   "source": [
    "bigrams = nltk.bigrams(splited_response)\n",
    "unigrams_frequency = nltk.FreqDist(splited_response)\n",
    "bigrams_frequency = nltk.FreqDist(bigrams)"
   ]
  },
  {
   "cell_type": "code",
   "execution_count": 26,
   "metadata": {},
   "outputs": [
    {
     "name": "stdout",
     "output_type": "stream",
     "text": [
      "[('w:prep', 115194),\n",
      " ('z:prep', 73018),\n",
      " ('na:prep', 42575),\n",
      " ('do:prep', 37865),\n",
      " ('dzień:subst', 26856),\n",
      " ('on:ppron3', 23873),\n",
      " ('sąd:subst', 22481),\n",
      " ('rok:brev', 19939),\n",
      " ('praca:subst', 18687),\n",
      " ('1:adj', 17945),\n",
      " ('ten:adj', 17865),\n",
      " ('od:prep', 16634),\n",
      " ('rok:subst', 16244),\n",
      " ('przez:prep', 15663),\n",
      " ('który:adj', 15464),\n",
      " ('o:prep', 14451),\n",
      " ('być:fin', 13991),\n",
      " ('art:subst', 12968),\n",
      " ('k:subst', 12259),\n",
      " ('sprawa:subst', 12159),\n",
      " ('za:prep', 11686),\n",
      " ('powód:subst', 11036),\n",
      " ('być:praet', 10590),\n",
      " ('to:subst', 10212),\n",
      " ('umowa:subst', 10083),\n",
      " ('złoty:brev', 9476),\n",
      " ('co:subst', 8824),\n",
      " ('a:subst', 8626),\n",
      " ('podstawa:subst', 8173),\n",
      " ('kwota:subst', 7898)]\n"
     ]
    }
   ],
   "source": [
    "sorted_unigrams = sorted(unigrams_frequency.items(), key=operator.itemgetter(1), reverse=True)\n",
    "pprint.pprint(sorted_unigrams[:30])"
   ]
  },
  {
   "cell_type": "code",
   "execution_count": 27,
   "metadata": {},
   "outputs": [
    {
     "name": "stdout",
     "output_type": "stream",
     "text": [
      "[(('z:prep', 'dzień:subst'), 12316),\n",
      " (('w:prep', 'dzień:subst'), 5441),\n",
      " (('w:prep', 'sprawa:subst'), 5189),\n",
      " (('na:prep', 'podstawa:subst'), 4707),\n",
      " (('w:prep', 'ten:adj'), 4162),\n",
      " (('ubezpieczenie:subst', 'społeczny:adj'), 3945),\n",
      " (('sąd:subst', 'rejonowy:adj'), 3598),\n",
      " (('zgodnie:adv', 'z:prep'), 3520),\n",
      " (('sąd:subst', 'okręgowy:adj'), 3460),\n",
      " (('praca:subst', 'w:prep'), 3061),\n",
      " (('do:prep', 'praca:subst'), 3006),\n",
      " (('na:prep', 'rzecz:subst'), 2851),\n",
      " (('od:prep', 'dzień:subst'), 2814),\n",
      " (('z:prep', 'tytuł:subst'), 2542),\n",
      " (('w:prep', 'zakres:subst'), 2441),\n",
      " (('sygn:subst', 'akt:subst'), 2405),\n",
      " (('w:prep', 'związek:subst'), 2291),\n",
      " (('związek:subst', 'z:prep'), 2281),\n",
      " (('do:prep', 'dzień:subst'), 2213),\n",
      " (('z:prep', 'art:subst'), 2202),\n",
      " (('ustęp:brev', '1:adj'), 2179),\n",
      " (('sąd:subst', 'wysoki:adj'), 2105),\n",
      " (('co:subst', 'do:prep'), 2094),\n",
      " (('prawo:subst', 'do:prep'), 2025),\n",
      " (('rok:brev', 'w:prep'), 2013),\n",
      " (('w:prep', 'okres:subst'), 2012),\n",
      " (('zeznanie:subst', 'świadek:subst'), 2011),\n",
      " (('wyrok:subst', 'sąd:subst'), 1995),\n",
      " (('organ:subst', 'rentowy:adj'), 1950),\n",
      " (('okres:subst', 'od:prep'), 1806)]\n"
     ]
    }
   ],
   "source": [
    "sorted_bigrams = sorted(bigrams_frequency.items(), key=operator.itemgetter(1), reverse=True)\n",
    "pprint.pprint(sorted_bigrams[:30])"
   ]
  },
  {
   "cell_type": "code",
   "execution_count": 28,
   "metadata": {
    "collapsed": true
   },
   "outputs": [],
   "source": [
    "TOTAL_COUNT = len(splited_response)"
   ]
  },
  {
   "cell_type": "code",
   "execution_count": 29,
   "metadata": {
    "collapsed": true
   },
   "outputs": [],
   "source": [
    "def shannon_entrophy(word_occurences, total_words):\n",
    "    sum = 0\n",
    "    for x in np.nditer(word_occurences):\n",
    "        if x!= 0:\n",
    "            sum += (x/total_words) * math.log(x/total_words)\n",
    "    return sum\n",
    "\n",
    "def H(word_occurences):\n",
    "    return shannon_entrophy(word_occurences, TOTAL_COUNT)\n",
    "\n",
    "def calculate_contingency_table(bigram, bigram_count, total_words):\n",
    "    first, second = bigram[0], bigram[1]\n",
    "    first_occurence, second_occurence = unigrams_frequency[first], unigrams_frequency[second]\n",
    "    '''\n",
    "    |------  |---------| \n",
    "    | A,B    |B,notA   |\n",
    "    |------  |---------|\n",
    "    | A,notB |notA,notB|\n",
    "    |------|---------|\n",
    "    '''\n",
    "    return np.array([\n",
    "            [bigram_count, first_occurence-bigram_count],\n",
    "            [second_occurence-bigram_count, total_words-first_occurence-second_occurence-bigram_count]])\n",
    "\n",
    "def log_likeliheood_ratio(bigram_key):\n",
    "    k = calculate_contingency_table(bigram_key, bigrams_frequency[bigram_key], TOTAL_COUNT)\n",
    "    return 2 * np.sum(k) * (H(k) - H(k.sum(axis=0)) -H(k.sum(axis=1)))"
   ]
  },
  {
   "cell_type": "code",
   "execution_count": 30,
   "metadata": {
    "collapsed": true
   },
   "outputs": [],
   "source": [
    "log_ratios = [(key, log_likeliheood_ratio(key), value) for key, value in bigrams_frequency.items()]"
   ]
  },
  {
   "cell_type": "code",
   "execution_count": 31,
   "metadata": {},
   "outputs": [
    {
     "data": {
      "text/plain": [
       "[(('z:prep', 'dzień:subst'), 98379.52094307066, 12316),\n",
       " (('ubezpieczenie:subst', 'społeczny:adj'), 60458.153498147221, 3945),\n",
       " (('sąd:subst', 'rejonowy:adj'), 46824.21055800168, 3598),\n",
       " (('na:prep', 'podstawa:subst'), 45567.584704886212, 4707),\n",
       " (('sąd:subst', 'okręgowy:adj'), 45445.108017336817, 3460),\n",
       " (('sygn:subst', 'akt:subst'), 37335.628921829331, 2405),\n",
       " (('zgodnie:adv', 'z:prep'), 36709.283042933188, 3520),\n",
       " (('w:prep', 'sprawa:subst'), 35832.227748961261, 5189),\n",
       " (('organ:subst', 'rentowy:adj'), 33349.09469609931, 1950),\n",
       " (('w:prep', 'dzień:subst'), 29346.277396943824, 5441),\n",
       " (('na:prep', 'rzecz:subst'), 29138.426530990168, 2851),\n",
       " (('zeznanie:subst', 'świadek:subst'), 28675.42770106289, 2011),\n",
       " (('ustęp:brev', '1:adj'), 25611.82295967131, 2179),\n",
       " (('materiał:subst', 'dowodowy:adj'), 25334.508679081711, 1509),\n",
       " (('wiek:brev', 'zw:brev'), 25080.793470074197, 1535),\n",
       " (('sąd:subst', 'wysoki:adj'), 24873.647127569719, 2105),\n",
       " (('w:prep', 'ten:adj'), 23498.76434379541, 4162),\n",
       " (('niniejszy:adj', 'sprawa:subst'), 22852.799847836337, 1789),\n",
       " (('związek:subst', 'z:prep'), 21935.523143027796, 2281),\n",
       " (('od:prep', 'dzień:subst'), 21660.091462760611, 2814),\n",
       " (('do:prep', 'praca:subst'), 20831.386751214784, 3006),\n",
       " (('z:prep', 'tytuł:subst'), 20543.615815424142, 2542),\n",
       " (('skarb:subst', 'państwo:subst'), 20332.096118222762, 1027),\n",
       " (('w:prep', 'związek:subst'), 19981.859002419234, 2291),\n",
       " (('2017:adj', 'rok:subst'), 19808.423258435501, 1707),\n",
       " (('2016:adj', 'rok:subst'), 18660.33851402819, 1593),\n",
       " (('wyrok:subst', 'sąd:subst'), 18168.523710309062, 1995),\n",
       " (('prawo:subst', 'do:prep'), 17137.895208087397, 2025),\n",
       " (('stan:subst', 'faktyczny:adj'), 17055.697900075509, 1194),\n",
       " (('w:prep', 'zakres:subst'), 16946.912464108398, 2441)]"
      ]
     },
     "execution_count": 31,
     "metadata": {},
     "output_type": "execute_result"
    }
   ],
   "source": [
    "sorted_by_log_ratios = sorted(log_ratios, key=operator.itemgetter(1), reverse=True)\n",
    "sorted_by_log_ratios[:30]"
   ]
  },
  {
   "cell_type": "code",
   "execution_count": 32,
   "metadata": {},
   "outputs": [
    {
     "data": {
      "text/plain": [
       "[(('ubezpieczenie:subst', 'społeczny:adj'), 60458.153498147221, 3945),\n",
       " (('sąd:subst', 'rejonowy:adj'), 46824.21055800168, 3598),\n",
       " (('sąd:subst', 'okręgowy:adj'), 45445.108017336817, 3460),\n",
       " (('sygn:subst', 'akt:subst'), 37335.628921829331, 2405),\n",
       " (('organ:subst', 'rentowy:adj'), 33349.09469609931, 1950),\n",
       " (('zeznanie:subst', 'świadek:subst'), 28675.42770106289, 2011),\n",
       " (('materiał:subst', 'dowodowy:adj'), 25334.508679081711, 1509),\n",
       " (('sąd:subst', 'wysoki:adj'), 24873.647127569719, 2105),\n",
       " (('skarb:subst', 'państwo:subst'), 20332.096118222762, 1027),\n",
       " (('wyrok:subst', 'sąd:subst'), 18168.523710309062, 1995),\n",
       " (('stan:subst', 'faktyczny:adj'), 17055.697900075509, 1194),\n",
       " (('podstawa:subst', 'art:subst'), 16694.583986694764, 1734),\n",
       " (('koszt:subst', 'proces:subst'), 15989.469213934561, 1201),\n",
       " (('zakład:subst', 'ubezpieczenie:subst'), 14494.437289815245, 1101),\n",
       " (('płatnik:subst', 'składka:subst'), 14387.135157296463, 911),\n",
       " (('działalność:subst', 'gospodarczy:adj'), 14264.546615038498, 833),\n",
       " (('ocena:subst', 'sąd:subst'), 13966.239820833531, 1466),\n",
       " (('rzeczpospolita:subst', 'polski:adj'), 12992.097253616914, 649),\n",
       " (('pozbawienie:subst', 'wolność:subst'), 12913.941997186566, 642),\n",
       " (('stosunek:subst', 'praca:subst'), 12733.682310025972, 1180),\n",
       " (('podróż:subst', 'służbowy:adj'), 12622.864370210293, 661),\n",
       " (('zastępstwo:subst', 'procesowy:adj'), 12277.087212482995, 684),\n",
       " (('podstawa:subst', 'wymiar:subst'), 11618.074819032014, 952),\n",
       " (('koszt:subst', 'zastępstwo:subst'), 11369.449006866989, 751),\n",
       " (('opinia:subst', 'biegły:subst'), 11085.973041440058, 772),\n",
       " (('przepis:subst', 'art:subst'), 10938.952723886032, 1150),\n",
       " (('czas:subst', 'praca:subst'), 10856.843541407388, 1141),\n",
       " (('sąd:subst', 'apelacyjny:adj'), 10747.476369932579, 935),\n",
       " (('styczeń:subst', '2018:adj'), 10732.798862332931, 673),\n",
       " (('zwrot:subst', 'koszt:subst'), 10726.311123251666, 832)]"
      ]
     },
     "execution_count": 32,
     "metadata": {},
     "output_type": "execute_result"
    }
   ],
   "source": [
    "filtered_by_tags = [log_ratio for log_ratio in log_ratios \n",
    "                    if \"subst\" in log_ratio[0][0] and\n",
    "                    (\"subst\" in log_ratio[0][1] or \"adj\" in log_ratio[0][1])]\n",
    "filtered_by_tags_sorted = sorted(filtered_by_tags, key=operator.itemgetter(1), reverse=True)\n",
    "filtered_by_tags_sorted[:30]"
   ]
  }
 ],
 "metadata": {
  "kernelspec": {
   "display_name": "Python 3",
   "language": "python",
   "name": "python3"
  },
  "language_info": {
   "codemirror_mode": {
    "name": "ipython",
    "version": 3
   },
   "file_extension": ".py",
   "mimetype": "text/x-python",
   "name": "python",
   "nbconvert_exporter": "python",
   "pygments_lexer": "ipython3",
   "version": "3.6.1"
  }
 },
 "nbformat": 4,
 "nbformat_minor": 2
}
