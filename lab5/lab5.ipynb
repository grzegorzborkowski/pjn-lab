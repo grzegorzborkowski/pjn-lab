{
 "cells": [
  {
   "cell_type": "code",
   "execution_count": 22,
   "metadata": {},
   "outputs": [],
   "source": [
    "import os, json, re, string, requests, pprint, nltk, operator, numpy as np, math, tqdm"
   ]
  },
  {
   "cell_type": "code",
   "execution_count": 23,
   "metadata": {
    "collapsed": true
   },
   "outputs": [],
   "source": [
    "def process_judgment(judgment):\n",
    "    data_to_query = (\",\").join(judgment)\n",
    "    r = requests.post(data=data_to_query.encode(\"utf-8\"), url=\"http://localhost:9200\")\n",
    "    response_text = r.text\n",
    "    splited_response = response_text.splitlines()\n",
    "    splited_response = [\" \".join(x.replace(\"\\t\", \" \").replace(\"none\", \"\")[1:].split(\":\")[:2][:1]).replace(\" \", \":\")\n",
    "                        for x in splited_response if \":\" in x]\n",
    "    return splited_response"
   ]
  },
  {
   "cell_type": "code",
   "execution_count": 24,
   "metadata": {},
   "outputs": [
    {
     "name": "stderr",
     "output_type": "stream",
     "text": [
      "  0%|          | 0/1 [00:00<?, ?it/s]\n",
      "  0%|          | 0/9 [00:00<?, ?it/s]\u001b[A\n",
      " 11%|█         | 1/9 [00:05<00:45,  5.64s/it]\u001b[A\n",
      " 22%|██▏       | 2/9 [00:13<00:46,  6.64s/it]\u001b[A\n",
      " 33%|███▎      | 3/9 [00:28<00:57,  9.51s/it]\u001b[A\n",
      " 44%|████▍     | 4/9 [00:46<00:57, 11.54s/it]\u001b[A\n",
      " 56%|█████▌    | 5/9 [01:15<01:00, 15.17s/it]\u001b[A\n",
      " 67%|██████▋   | 6/9 [02:32<01:16, 25.41s/it]\u001b[A\n",
      " 78%|███████▊  | 7/9 [03:51<01:06, 33.11s/it]\u001b[A\n",
      " 89%|████████▉ | 8/9 [05:44<00:43, 43.11s/it]\u001b[A\n",
      "100%|██████████| 9/9 [07:46<00:00, 51.87s/it]\u001b[A\n",
      "100%|██████████| 1/1 [07:46<00:00, 466.85s/it]"
     ]
    },
    {
     "name": "stdout",
     "output_type": "stream",
     "text": [
      "0\n"
     ]
    },
    {
     "name": "stderr",
     "output_type": "stream",
     "text": [
      "\n"
     ]
    }
   ],
   "source": [
    "all_words = []\n",
    "processed_unigrams = []\n",
    "\n",
    "def read_file(file_path):\n",
    "    with open (file_path) as file:\n",
    "        judgment = []\n",
    "        json_content = json.load(file)\n",
    "        item_count = 0\n",
    "        for item in tqdm.tqdm(json_content):\n",
    "            tqdm.\n",
    "            item_count += 1\n",
    "            text_content = re.sub(\"<.*?>\", \"\", item[\"textContent\"])\n",
    "            text_content = text_content.replace('-\\n', '')\n",
    "            word_content = text_content.split()\n",
    "            topicSpecificPunctuation = '„”–§…«»'\n",
    "            translator = str.maketrans('', '', string.punctuation+topicSpecificPunctuation)\n",
    "    \n",
    "            for word in word_content:\n",
    "                word = word.translate(translator).lower()\n",
    "                if len(word)>0:\n",
    "                    judgment.append(word)\n",
    "            unigrams = process_judgment(judgment)\n",
    "            processed_unigrams.append(unigrams)\n",
    "        \n",
    "def read_all_judgments_from_2018():\n",
    "    for filename in tqdm.tqdm(os.listdir(\"../data_filtered_2/\")):\n",
    "        read_file(\"../data_filtered_2/\" + filename)\n",
    "        \n",
    "read_all_judgments_from_2018()"
   ]
  },
  {
   "cell_type": "code",
   "execution_count": null,
   "metadata": {
    "collapsed": true
   },
   "outputs": [],
   "source": []
  },
  {
   "cell_type": "code",
   "execution_count": 30,
   "metadata": {},
   "outputs": [],
   "source": [
    "splited_response = processed_unigrams\n",
    "splited_response = [item for sublist in splited_response for item in sublist]\n"
   ]
  },
  {
   "cell_type": "code",
   "execution_count": 31,
   "metadata": {},
   "outputs": [],
   "source": [
    "bigrams = nltk.bigrams(splited_response)\n",
    "unigrams_frequency = nltk.FreqDist(splited_response)\n",
    "bigrams_frequency = nltk.FreqDist(bigrams)"
   ]
  },
  {
   "cell_type": "code",
   "execution_count": 32,
   "metadata": {},
   "outputs": [
    {
     "name": "stdout",
     "output_type": "stream",
     "text": [
      "[('w:prep', 7266),\n",
      " ('z:prep', 4807),\n",
      " ('na:prep', 2553),\n",
      " ('dzień:subst', 1825),\n",
      " ('do:prep', 1639),\n",
      " ('on:ppron3', 1415),\n",
      " ('rok:subst', 1149),\n",
      " ('ten:adj', 1088),\n",
      " ('od:prep', 1066),\n",
      " ('sąd:subst', 1045),\n",
      " ('przez:prep', 998),\n",
      " ('który:adj', 978),\n",
      " ('k:subst', 819),\n",
      " ('pozwany:subst', 819),\n",
      " ('rok:brev', 789),\n",
      " ('za:prep', 785),\n",
      " ('być:fin', 753),\n",
      " ('kwota:subst', 747),\n",
      " ('o:prep', 734),\n",
      " ('to:subst', 700),\n",
      " ('być:praet', 671),\n",
      " ('spółka:subst', 623),\n",
      " ('powód:subst', 616),\n",
      " ('koszt:subst', 594),\n",
      " ('1:adj', 587),\n",
      " ('a:subst', 586),\n",
      " ('sprawa:subst', 577),\n",
      " ('gaz:subst', 548),\n",
      " ('akt:subst', 544),\n",
      " ('co:subst', 539)]\n"
     ]
    }
   ],
   "source": [
    "sorted_unigrams = sorted(unigrams_frequency.items(), key=operator.itemgetter(1), reverse=True)\n",
    "pprint.pprint(sorted_unigrams[:30])"
   ]
  },
  {
   "cell_type": "code",
   "execution_count": 33,
   "metadata": {},
   "outputs": [
    {
     "name": "stdout",
     "output_type": "stream",
     "text": [
      "[(('z:prep', 'dzień:subst'), 868),\n",
      " (('w:prep', 'dzień:subst'), 373),\n",
      " (('z:prep', 'siedziba:subst'), 362),\n",
      " (('siedziba:subst', 'w:prep'), 362),\n",
      " (('paliwo:subst', 'gazowy:adj'), 308),\n",
      " (('w:prep', 'sprawa:subst'), 279),\n",
      " (('w:prep', 'ten:adj'), 279),\n",
      " (('biegły:adj', 'sądowy:adj'), 269),\n",
      " (('z:prep', 'tytuł:subst'), 267),\n",
      " (('w:prep', 'w:prep'), 265),\n",
      " (('na:prep', 'podstawa:subst'), 257),\n",
      " (('od:prep', 'dzień:subst'), 229),\n",
      " (('celny:adj', 'w:prep'), 216),\n",
      " (('spółka:subst', 'z:prep'), 210),\n",
      " (('w:prep', 'k:subst'), 207),\n",
      " (('w:prep', 'kwota:subst'), 199),\n",
      " (('zgodnie:adv', 'z:prep'), 196),\n",
      " (('z:prep', 'ograniczony:adj'), 195),\n",
      " (('ograniczony:adj', 'odpowiedzialność:subst'), 195),\n",
      " (('użytkowanie:subst', 'wieczysty:adj'), 192),\n",
      " (('w:prep', 'związek:subst'), 191),\n",
      " (('związek:subst', 'z:prep'), 191),\n",
      " (('działalność:subst', 'gospodarczy:adj'), 190),\n",
      " (('2017:adj', 'rok:subst'), 188),\n",
      " (('pan:brev', 'dawny:brev'), 184),\n",
      " (('w:prep', 'rok:brev'), 174),\n",
      " (('do:prep', 'dzień:subst'), 173),\n",
      " (('2011:adj', 'rok:subst'), 172),\n",
      " (('podatek:subst', 'akcyzowy:adj'), 171),\n",
      " (('2016:num', 'rok:brev'), 170)]\n"
     ]
    }
   ],
   "source": [
    "sorted_bigrams = sorted(bigrams_frequency.items(), key=operator.itemgetter(1), reverse=True)\n",
    "pprint.pprint(sorted_bigrams[:30])"
   ]
  },
  {
   "cell_type": "code",
   "execution_count": 36,
   "metadata": {
    "collapsed": true
   },
   "outputs": [],
   "source": [
    "TOTAL_COUNT = len(splited_response)"
   ]
  },
  {
   "cell_type": "code",
   "execution_count": 37,
   "metadata": {
    "collapsed": true
   },
   "outputs": [],
   "source": [
    "def shannon_entrophy(word_occurences, total_words):\n",
    "    sum = 0\n",
    "    for x in np.nditer(word_occurences):\n",
    "        if x!= 0:\n",
    "            sum += (x/total_words) * math.log(x/total_words)\n",
    "    return sum\n",
    "\n",
    "def H(word_occurences):\n",
    "    return shannon_entrophy(word_occurences, TOTAL_COUNT)\n",
    "\n",
    "def calculate_contingency_table(bigram, bigram_count, total_words):\n",
    "    first, second = bigram[0], bigram[1]\n",
    "    first_occurence, second_occurence = unigrams_frequency[first], unigrams_frequency[second]\n",
    "    '''\n",
    "    |------  |---------| \n",
    "    | A,B    |B,notA   |\n",
    "    |------  |---------|\n",
    "    | A,notB |notA,notB|\n",
    "    |------|---------|\n",
    "    '''\n",
    "    return np.array([\n",
    "            [bigram_count, first_occurence-bigram_count],\n",
    "            [second_occurence-bigram_count, total_words-first_occurence-second_occurence-bigram_count]])\n",
    "\n",
    "def log_likeliheood_ratio(bigram_key):\n",
    "    k = calculate_contingency_table(bigram_key, bigrams_frequency[bigram_key], TOTAL_COUNT)\n",
    "    return 2 * np.sum(k) * (H(k) - H(k.sum(axis=0)) -H(k.sum(axis=1)))"
   ]
  },
  {
   "cell_type": "code",
   "execution_count": 38,
   "metadata": {},
   "outputs": [],
   "source": [
    "log_ratios = [(key, log_likeliheood_ratio(key), value) for key, value in bigrams_frequency.items()]"
   ]
  },
  {
   "cell_type": "code",
   "execution_count": 39,
   "metadata": {},
   "outputs": [
    {
     "data": {
      "text/plain": [
       "[(('z:prep', 'dzień:subst'), 6742.6835657872416, 868),\n",
       " (('paliwo:subst', 'gazowy:adj'), 4409.1315460450342, 308),\n",
       " (('biegły:adj', 'sądowy:adj'), 4281.310807247859, 269),\n",
       " (('z:prep', 'siedziba:subst'), 3827.9175570259545, 362),\n",
       " (('siedziba:subst', 'w:prep'), 3520.9100890910713, 362),\n",
       " (('użytkowanie:subst', 'wieczysty:adj'), 3455.7404899895778, 192),\n",
       " (('działalność:subst', 'gospodarczy:adj'), 3139.9426001196921, 190),\n",
       " (('ograniczony:adj', 'odpowiedzialność:subst'), 3121.2863244819296, 195),\n",
       " (('podatek:subst', 'akcyzowy:adj'), 2992.070813832207, 171),\n",
       " (('na:prep', 'podstawa:subst'), 2556.8456726167569, 257),\n",
       " (('dyrektor:subst', 'izba:subst'), 2521.9410538014563, 135),\n",
       " (('pan:brev', 'dawny:brev'), 2503.6773713017114, 184),\n",
       " (('izba:subst', 'celny:adj'), 2503.2557741605419, 144),\n",
       " (('2017:adj', 'rok:subst'), 2443.7347870398135, 188),\n",
       " (('naczelnik:subst', 'urząd:subst'), 2439.7619870152616, 135),\n",
       " (('pas:subst', 'przejazdowy:adj'), 2343.2636739385011, 130),\n",
       " (('2016:num', 'rok:brev'), 2287.6953345090687, 170),\n",
       " (('z:prep', 'tytuł:subst'), 2245.3643466661688, 267),\n",
       " (('stan:subst', 'faktyczny:adj'), 2166.2989783491535, 131),\n",
       " (('nielegalny:adj', 'pobór:subst'), 2087.8150280353061, 136),\n",
       " (('z:prep', 'ograniczony:adj'), 2062.6068623420506, 195),\n",
       " (('spółka:subst', 'akcyjny:adj'), 2051.6526597908751, 138),\n",
       " (('skarb:subst', 'państwo:subst'), 2049.5819640130494, 104),\n",
       " (('2011:adj', 'rok:subst'), 2044.4677049479251, 172),\n",
       " (('wiek:brev', 'zw:brev'), 2026.2641397558891, 120),\n",
       " (('sąd:subst', 'rejonowy:adj'), 2019.8200393229481, 147),\n",
       " (('zeznanie:subst', 'świadek:subst'), 2003.3754950911671, 136),\n",
       " (('zgodnie:adv', 'z:prep'), 1988.2713123132332, 196),\n",
       " (('celny:adj', 'w:prep'), 1978.9390521828973, 216),\n",
       " (('dzień:subst', '6:adj'), 1976.3857334600857, 168)]"
      ]
     },
     "execution_count": 39,
     "metadata": {},
     "output_type": "execute_result"
    }
   ],
   "source": [
    "sorted_by_log_ratios = sorted(log_ratios, key=operator.itemgetter(1), reverse=True)\n",
    "sorted_by_log_ratios[:30]"
   ]
  },
  {
   "cell_type": "code",
   "execution_count": 40,
   "metadata": {},
   "outputs": [
    {
     "data": {
      "text/plain": [
       "[(('paliwo:subst', 'gazowy:adj'), 4409.1315460450342, 308),\n",
       " (('użytkowanie:subst', 'wieczysty:adj'), 3455.7404899895778, 192),\n",
       " (('działalność:subst', 'gospodarczy:adj'), 3139.9426001196921, 190),\n",
       " (('podatek:subst', 'akcyzowy:adj'), 2992.070813832207, 171),\n",
       " (('dyrektor:subst', 'izba:subst'), 2521.9410538014563, 135),\n",
       " (('izba:subst', 'celny:adj'), 2503.2557741605419, 144),\n",
       " (('naczelnik:subst', 'urząd:subst'), 2439.7619870152616, 135),\n",
       " (('pas:subst', 'przejazdowy:adj'), 2343.2636739385011, 130),\n",
       " (('stan:subst', 'faktyczny:adj'), 2166.2989783491535, 131),\n",
       " (('spółka:subst', 'akcyjny:adj'), 2051.6526597908751, 138),\n",
       " (('skarb:subst', 'państwo:subst'), 2049.5819640130494, 104),\n",
       " (('sąd:subst', 'rejonowy:adj'), 2019.8200393229481, 147),\n",
       " (('zeznanie:subst', 'świadek:subst'), 2003.3754950911671, 136),\n",
       " (('dzień:subst', '6:adj'), 1976.3857334600857, 168),\n",
       " (('koszt:subst', 'proces:subst'), 1933.4189082188527, 142),\n",
       " (('stacja:subst', 'redukcyjny:adj'), 1824.1471856608084, 96),\n",
       " (('wkład:subst', 'pieniężny:adj'), 1581.5472842485037, 90),\n",
       " (('pobór:subst', 'gaz:subst'), 1573.8363159880048, 128),\n",
       " (('tytuł:subst', 'zwrot:subst'), 1524.8569858487961, 121),\n",
       " (('maj:subst', 'wrzesień:subst'), 1504.6442690267663, 90),\n",
       " (('sygn:subst', 'akt:subst'), 1443.9501126655614, 103),\n",
       " (('obraz:subst', 'dźwięk:subst'), 1439.8199546762919, 70),\n",
       " (('zastępstwo:subst', 'procesowy:adj'), 1411.232764708511, 75),\n",
       " (('opinia:subst', 'biegły:adj'), 1405.3870896294409, 107),\n",
       " (('egzekucja:subst', 'administracyjny:adj'), 1403.1107643493458, 99),\n",
       " (('zapis:subst', 'obraz:subst'), 1366.979499964682, 70),\n",
       " (('olej:subst', 'opałowy:adj'), 1356.4411501332083, 64),\n",
       " (('koszt:subst', 'egzekucyjny:adj'), 1350.7771504423056, 117),\n",
       " (('urząd:subst', 'skarbowy:adj'), 1350.1538792433323, 81),\n",
       " (('kwiecień:subst', 'maj:subst'), 1338.4234664687879, 90)]"
      ]
     },
     "execution_count": 40,
     "metadata": {},
     "output_type": "execute_result"
    }
   ],
   "source": [
    "filtered_by_tags = [log_ratio for log_ratio in log_ratios \n",
    "                    if \"subst\" in log_ratio[0][0] and\n",
    "                    (\"subst\" in log_ratio[0][1] or \"adj\" in log_ratio[0][1])]\n",
    "filtered_by_tags_sorted = sorted(filtered_by_tags, key=operator.itemgetter(1), reverse=True)\n",
    "filtered_by_tags_sorted[:30]"
   ]
  }
 ],
 "metadata": {
  "kernelspec": {
   "display_name": "Python 3",
   "language": "python",
   "name": "python3"
  },
  "language_info": {
   "codemirror_mode": {
    "name": "ipython",
    "version": 3
   },
   "file_extension": ".py",
   "mimetype": "text/x-python",
   "name": "python",
   "nbconvert_exporter": "python",
   "pygments_lexer": "ipython3",
   "version": "3.6.1"
  }
 },
 "nbformat": 4,
 "nbformat_minor": 2
}
