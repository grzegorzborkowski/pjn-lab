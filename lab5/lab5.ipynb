{
 "cells": [
  {
   "cell_type": "code",
   "execution_count": 172,
   "metadata": {
    "collapsed": false
   },
   "outputs": [],
   "source": [
    "import os, json, re, string, requests, pprint, nltk, operator, numpy as np, math"
   ]
  },
  {
   "cell_type": "code",
   "execution_count": 153,
   "metadata": {
    "collapsed": false
   },
   "outputs": [
    {
     "name": "stdout",
     "output_type": "stream",
     "text": [
      "2530124\n"
     ]
    }
   ],
   "source": [
    "all_words = []\n",
    "\n",
    "def read_file(file_path):\n",
    "    with open (file_path) as file:\n",
    "        json_content = json.load(file)\n",
    "        item_count = 0\n",
    "        for item in json_content:\n",
    "            item_count += 1\n",
    "            text_content = re.sub(\"<.*?>\", \"\", item[\"textContent\"])\n",
    "            text_content = text_content.replace('-\\n', '')\n",
    "            word_content = text_content.split()\n",
    "            topicSpecificPunctuation = '„”–§…«»'\n",
    "            translator = str.maketrans('', '', string.punctuation+topicSpecificPunctuation)\n",
    "            \n",
    "            for word in word_content:\n",
    "                word = word.translate(translator).lower()\n",
    "                if len(word)>0:\n",
    "                    all_words.append(word)\n",
    "                \n",
    "#         print(item_count)\n",
    "        \n",
    "def read_all_judgments_from_2018():\n",
    "    for filename in os.listdir(\"../data_filtered/\"):\n",
    "#         print(filename)\n",
    "        read_file(\"../data_filtered/\" + filename)\n",
    "        \n",
    "read_all_judgments_from_2018()\n",
    "print(len(all_words))\n",
    "TOTAL_COUNT = len(all_words)"
   ]
  },
  {
   "cell_type": "code",
   "execution_count": 138,
   "metadata": {
    "collapsed": false
   },
   "outputs": [],
   "source": [
    "data_to_query = (\",\").join(all_words[:1000])\n",
    "r = requests.post(data=data_to_query.encode(\"utf-8\"), url=\"http://localhost:9200\")\n",
    "response_text = r.text\n",
    "splited_response = response_text.splitlines()\n",
    "splited_response = [\" \".join(x.replace(\"\\t\", \" \").replace(\"none\", \"\")[1:].split(\":\")[:2][:1]).replace(\" \", \":\")\n",
    "                    for x in splited_response if \":\" in x]"
   ]
  },
  {
   "cell_type": "code",
   "execution_count": 141,
   "metadata": {
    "collapsed": false
   },
   "outputs": [],
   "source": [
    "bigrams = nltk.bigrams(splited_response)\n",
    "unigrams_frequency = nltk.FreqDist(splited_response)\n",
    "bigrams_frequency = nltk.FreqDist(bigrams)"
   ]
  },
  {
   "cell_type": "code",
   "execution_count": 148,
   "metadata": {
    "collapsed": false
   },
   "outputs": [
    {
     "name": "stdout",
     "output_type": "stream",
     "text": [
      "[('w:prep', 96),\n",
      " ('z:prep', 48),\n",
      " ('rok:brev', 30),\n",
      " ('dzień:subst', 28),\n",
      " ('celny:adj', 16),\n",
      " ('październik:subst', 15),\n",
      " ('na:prep', 14),\n",
      " ('koszt:subst', 13),\n",
      " ('tytuł:subst', 12),\n",
      " ('kwota:subst', 12),\n",
      " ('podatek:subst', 11),\n",
      " ('luty:adj', 11),\n",
      " ('kwiecień:subst', 11),\n",
      " ('urząd:subst', 11),\n",
      " ('dyrektor:subst', 11),\n",
      " ('izba:subst', 11),\n",
      " ('koło:brev', 10),\n",
      " ('akcyzowy:adj', 10),\n",
      " ('6:adj', 10),\n",
      " ('2:num', 10),\n",
      " ('wierzytelność:subst', 9),\n",
      " ('decyzja:subst', 9),\n",
      " ('naczelnik:subst', 9),\n",
      " ('to:subst', 9),\n",
      " ('administracyjny:adj', 8),\n",
      " ('marzec:subst', 8),\n",
      " ('maj:subst', 8),\n",
      " ('złoty:brev', 8),\n",
      " ('egzekucja:subst', 7),\n",
      " ('wrzesień:subst', 7)]\n"
     ]
    }
   ],
   "source": [
    "sorted_unigrams = sorted(unigrams_frequency.items(), key=operator.itemgetter(1), reverse=True)\n",
    "pprint.pprint(sorted_unigrams[:30])"
   ]
  },
  {
   "cell_type": "code",
   "execution_count": 149,
   "metadata": {
    "collapsed": false
   },
   "outputs": [
    {
     "name": "stdout",
     "output_type": "stream",
     "text": [
      "[(('z:prep', 'dzień:subst'), 21),\n",
      " (('celny:adj', 'w:prep'), 16),\n",
      " (('izba:subst', 'celny:adj'), 11),\n",
      " (('podatek:subst', 'akcyzowy:adj'), 10),\n",
      " (('dzień:subst', '6:adj'), 10),\n",
      " (('dyrektor:subst', 'izba:subst'), 10),\n",
      " (('w:prep', 'rok:brev'), 10),\n",
      " (('naczelnik:subst', 'urząd:subst'), 9),\n",
      " (('w:prep', 'koło:brev'), 8),\n",
      " (('z:prep', 'tytuł:subst'), 7),\n",
      " (('luty:adj', 'marzec:subst'), 7),\n",
      " (('marzec:subst', 'kwiecień:subst'), 7),\n",
      " (('kwiecień:subst', 'maj:subst'), 7),\n",
      " (('maj:subst', 'wrzesień:subst'), 7),\n",
      " (('wrzesień:subst', 'październik:subst'), 7),\n",
      " (('w:prep', 'z:prep'), 7),\n",
      " (('skarbowy:adj', 'w:prep'), 7),\n",
      " (('w:prep', 'postać:subst'), 6),\n",
      " (('nienależnie:adv', 'pobrać:ppas'), 6),\n",
      " (('pobrać:ppas', 'podatek:subst'), 6),\n",
      " (('urząd:subst', 'skarbowy:adj'), 6),\n",
      " (('koło:brev', '2:num'), 6),\n",
      " (('rok:brev', 'w:prep'), 6),\n",
      " (('akcyzowy:adj', 'za:prep'), 5),\n",
      " (('październik:subst', '2011:adj'), 5),\n",
      " (('2011:adj', 'rok:brev'), 5),\n",
      " (('urząd:subst', 'celny:adj'), 5),\n",
      " (('egzekucyjny:adj', 'w:prep'), 5),\n",
      " (('w:prep', 'kwota:subst'), 5),\n",
      " (('w:prep', 'dzień:subst'), 5)]\n"
     ]
    }
   ],
   "source": [
    "sorted_bigrams = sorted(bigrams_frequency.items(), key=operator.itemgetter(1), reverse=True)\n",
    "pprint.pprint(sorted_bigrams[:30])"
   ]
  },
  {
   "cell_type": "code",
   "execution_count": 176,
   "metadata": {
    "collapsed": true
   },
   "outputs": [],
   "source": [
    "def shannon_entrophy(word_occurences, total_words):\n",
    "    sum = 0\n",
    "    for x in np.nditer(word_occurences):\n",
    "        if x!= 0:\n",
    "            sum += (x/total_words) * math.log(x/total_words)\n",
    "    return sum\n",
    "\n",
    "def H(word_occurences):\n",
    "    return shannon_entrophy(word_occurences, TOTAL_COUNT)\n",
    "\n",
    "def calculate_contingency_table(bigram, bigram_count, total_words):\n",
    "    first, second = bigram[0], bigram[1]\n",
    "    first_occurence, second_occurence = unigrams_frequency[first], unigrams_frequency[second]\n",
    "    '''\n",
    "    |------  |---------| \n",
    "    | A,B    |B,notA   |\n",
    "    |------  |---------|\n",
    "    | A,notB |notA,notB|\n",
    "    |------|---------|\n",
    "    '''\n",
    "    return np.array([\n",
    "            [bigram_count, first_occurence-bigram_count],\n",
    "            [second_occurence-bigram_count, total_words-first_occurence-second_occurence-bigram_count]])\n",
    "\n",
    "def log_likeliheood_ratio(bigram_key):\n",
    "    k = calculate_contingency_table(bigram_key, bigrams_frequency[bigram_key], TOTAL_COUNT)\n",
    "    return 2 * np.sum(k) * (H(k) - H(k.sum(axis=0)) -H(k.sum(axis=1)))"
   ]
  },
  {
   "cell_type": "code",
   "execution_count": 181,
   "metadata": {
    "collapsed": false
   },
   "outputs": [],
   "source": [
    "log_ratios = [(key, log_likeliheood_ratio(key), value) for key, value in bigrams_frequency.items()]"
   ]
  },
  {
   "cell_type": "code",
   "execution_count": 186,
   "metadata": {
    "collapsed": false
   },
   "outputs": [
    {
     "data": {
      "text/plain": [
       "[(('z:prep', 'dzień:subst'), 520.07778548639874, 21),\n",
       " (('celny:adj', 'w:prep'), 392.5644569745964, 16),\n",
       " (('izba:subst', 'celny:adj'), 317.73148199571244, 11),\n",
       " (('podatek:subst', 'akcyzowy:adj'), 302.1191375150101, 10),\n",
       " (('dyrektor:subst', 'izba:subst'), 295.41719714139975, 10),\n",
       " (('dzień:subst', '6:adj'), 272.32299976393369, 10),\n",
       " (('naczelnik:subst', 'urząd:subst'), 269.40470764313113, 9),\n",
       " (('maj:subst', 'wrzesień:subst'), 215.14047478312713, 7),\n",
       " (('w:prep', 'rok:brev'), 206.47698130782291, 10),\n",
       " (('luty:adj', 'marzec:subst'), 200.71995871307902, 7),\n",
       " (('marzec:subst', 'kwiecień:subst'), 200.71995871307902, 7),\n",
       " (('kwiecień:subst', 'maj:subst'), 200.71995871307902, 7),\n",
       " (('wrzesień:subst', 'październik:subst'), 200.4411794202536, 7),\n",
       " (('nienależnie:adv', 'pobrać:ppas'), 191.42319687215652, 6),\n",
       " (('w:prep', 'koło:brev'), 185.54757815430102, 8),\n",
       " (('pobrać:ppas', 'podatek:subst'), 176.26506551876258, 6),\n",
       " (('skarbowy:adj', 'w:prep'), 171.03420455620736, 7),\n",
       " (('urząd:subst', 'skarbowy:adj'), 170.52346824680001, 6),\n",
       " (('z:prep', 'tytuł:subst'), 164.98895304525206, 7),\n",
       " (('koło:brev', '2:num'), 164.50287051974959, 6),\n",
       " (('akcyzowy:adj', 'za:prep'), 147.47979415160276, 5),\n",
       " (('w:prep', 'postać:subst'), 146.53541129758455, 6),\n",
       " (('październik:subst', '2011:adj'), 142.24733339468855, 5),\n",
       " (('2011:adj', 'rok:brev'), 134.30911728648914, 5),\n",
       " (('w:prep', 'z:prep'), 131.15766425833655, 7),\n",
       " (('urząd:subst', 'celny:adj'), 126.30990637406356, 5),\n",
       " (('2016:adj', 'rok:brev'), 125.93341567454364, 5),\n",
       " (('za:prep', 'miesiąc:subst'), 125.85539698897421, 4),\n",
       " (('w:prep', 'k:subst'), 122.05879478511584, 5),\n",
       " (('rok:brev', 'w:prep'), 116.51311575460301, 6)]"
      ]
     },
     "execution_count": 186,
     "metadata": {},
     "output_type": "execute_result"
    }
   ],
   "source": [
    "sorted_by_log_ratios = sorted(log_ratios, key=operator.itemgetter(1), reverse=True)\n",
    "sorted_by_log_ratios[:30]"
   ]
  },
  {
   "cell_type": "code",
   "execution_count": 210,
   "metadata": {
    "collapsed": false
   },
   "outputs": [
    {
     "data": {
      "text/plain": [
       "[(('izba:subst', 'celny:adj'), 317.73148199571244, 11),\n",
       " (('podatek:subst', 'akcyzowy:adj'), 302.1191375150101, 10),\n",
       " (('dyrektor:subst', 'izba:subst'), 295.41719714139975, 10),\n",
       " (('dzień:subst', '6:adj'), 272.32299976393369, 10),\n",
       " (('naczelnik:subst', 'urząd:subst'), 269.40470764313113, 9),\n",
       " (('maj:subst', 'wrzesień:subst'), 215.14047478312713, 7),\n",
       " (('marzec:subst', 'kwiecień:subst'), 200.71995871307902, 7),\n",
       " (('kwiecień:subst', 'maj:subst'), 200.71995871307902, 7),\n",
       " (('wrzesień:subst', 'październik:subst'), 200.4411794202536, 7),\n",
       " (('urząd:subst', 'skarbowy:adj'), 170.52346824680001, 6),\n",
       " (('październik:subst', '2011:adj'), 142.24733339468855, 5),\n",
       " (('urząd:subst', 'celny:adj'), 126.30990637406356, 5),\n",
       " (('miesiąc:subst', 'luty:adj'), 116.43885197279674, 4),\n",
       " (('dzień:subst', '8:adj'), 107.89296419580768, 4),\n",
       " (('decyzja:subst', 'naczelnik:subst'), 106.12888660232015, 4),\n",
       " (('koszt:subst', 'egzekucyjny:adj'), 105.25050823935115, 4),\n",
       " (('zwrot:subst', 'koszt:subst'), 105.25050823935115, 4),\n",
       " (('październik:subst', '2016:adj'), 103.90134811805335, 4),\n",
       " (('zastępstwo:subst', 'procesowy:adj'), 99.870730645216653, 3),\n",
       " (('koszt:subst', 'proces:subst'), 85.825456250503905, 3),\n",
       " (('koszt:subst', 'zastępstwo:subst'), 85.825456250503905, 3),\n",
       " (('sąd:subst', 'administracyjny:adj'), 82.555651130900969, 3),\n",
       " (('lipiec:subst', '2016:adj'), 81.992302895894667, 3),\n",
       " (('egzekucja:subst', 'administracyjny:adj'), 79.72506895251324, 3),\n",
       " (('postać:subst', 'koszt:subst'), 77.507733523087325, 3),\n",
       " (('tytuł:subst', 'zwrot:subst'), 76.814056842583156, 3),\n",
       " (('prawo:subst', 'majątkowy:adj'), 68.202404709970565, 2),\n",
       " (('skarb:subst', 'państwo:subst'), 68.202404709970565, 2),\n",
       " (('rachunek:subst', 'bankowy:adj'), 64.383325737984805, 2),\n",
       " (('zobowiązanie:subst', 'podatkowy:adj'), 62.657236032140297, 2)]"
      ]
     },
     "execution_count": 210,
     "metadata": {},
     "output_type": "execute_result"
    }
   ],
   "source": [
    "filtered_by_tags = [log_ratio for log_ratio in log_ratios \n",
    "                    if \"subst\" in log_ratio[0][0] and\n",
    "                    (\"subst\" in log_ratio[0][1] or \"adj\" in log_ratio[0][1])]\n",
    "filtered_by_tags_sorted = sorted(filtered_by_tags, key=operator.itemgetter(1), reverse=True)\n",
    "filtered_by_tags_sorted[:30]"
   ]
  }
 ],
 "metadata": {
  "kernelspec": {
   "display_name": "Python 3",
   "language": "python",
   "name": "python3"
  },
  "language_info": {
   "codemirror_mode": {
    "name": "ipython",
    "version": 3
   },
   "file_extension": ".py",
   "mimetype": "text/x-python",
   "name": "python",
   "nbconvert_exporter": "python",
   "pygments_lexer": "ipython3",
   "version": "3.6.1"
  }
 },
 "nbformat": 4,
 "nbformat_minor": 2
}
